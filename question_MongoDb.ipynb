{
 "cells": [
  {
   "cell_type": "code",
   "execution_count": null,
   "id": "841f913e-7c45-4219-a55f-95fe8fa18fde",
   "metadata": {},
   "outputs": [],
   "source": [
    "\n",
    "Write a pythan program to perform following operations. on MongoDB\n",
    "Database. [5]\n",
    "i) Create collection “EMP” with fields:\n",
    "Emp-name, Emp- mobile, Emp, sal, Age\n",
    "ii) Insert 5 documents.\n",
    "iii) Find the employees getting salary between 5000 to 10000.\n",
    "iv) Update mobile number for the employee named as “Riddhi”\n",
    "v) Display all employees in the order of “Age”"
   ]
  },
  {
   "cell_type": "code",
   "execution_count": 4,
   "id": "682d2eac-da42-434d-b729-db987161f0e2",
   "metadata": {},
   "outputs": [
    {
     "name": "stdout",
     "output_type": "stream",
     "text": [
      "Requirement already satisfied: pymongo in c:\\program files\\python311\\lib\\site-packages (4.4.0)\n",
      "Requirement already satisfied: dnspython<3.0.0,>=1.16.0 in c:\\program files\\python311\\lib\\site-packages (from pymongo) (2.3.0)\n"
     ]
    },
    {
     "name": "stderr",
     "output_type": "stream",
     "text": [
      "\n",
      "[notice] A new release of pip available: 22.3.1 -> 23.1.2\n",
      "[notice] To update, run: python.exe -m pip install --upgrade pip\n"
     ]
    }
   ],
   "source": [
    "!pip install pymongo"
   ]
  },
  {
   "cell_type": "code",
   "execution_count": 6,
   "id": "066925c6-8738-405c-966b-1b2811ef5ed7",
   "metadata": {},
   "outputs": [
    {
     "data": {
      "text/plain": [
       "'Age_1'"
      ]
     },
     "execution_count": 6,
     "metadata": {},
     "output_type": "execute_result"
    }
   ],
   "source": [
    "#i\n",
    "from pymongo import *\n",
    "client = MongoClient(host=\"mongodb://localhost:27017\")\n",
    "collection = client[\"yash\"][\"EMP\"]\n",
    "\n",
    "# v\n",
    "collection.create_index(\"Age\")"
   ]
  },
  {
   "cell_type": "code",
   "execution_count": 7,
   "id": "0e0a7910-6249-475c-a94e-04c645082e12",
   "metadata": {},
   "outputs": [
    {
     "name": "stdout",
     "output_type": "stream",
     "text": [
      "{'_id': ObjectId('64b2decc83c69a5670db3713'), 'Name': 'AAA', 'Mobile': 123, 'Salary': 5000, 'ID': 1, 'Age': 21}\n",
      "{'_id': ObjectId('64b2decc83c69a5670db3714'), 'Name': 'BBB', 'Mobile': 124, 'Salary': 6000, 'ID': 2, 'Age': 22}\n",
      "{'_id': ObjectId('64b2decc83c69a5670db3715'), 'Name': 'Siddhi', 'Mobile': 125, 'Salary': 7000, 'ID': 3, 'Age': 23}\n",
      "{'_id': ObjectId('64b2decc83c69a5670db3716'), 'Name': 'DDD', 'Mobile': 126, 'Salary': 8000, 'ID': 4, 'Age': 25}\n",
      "{'_id': ObjectId('64b2decc83c69a5670db3717'), 'Name': 'EEE', 'Mobile': 127, 'Salary': 11000, 'ID': 5, 'Age': 25}\n"
     ]
    }
   ],
   "source": [
    "#ii\n",
    "query = (\n",
    "    {\"Name\":\"AAA\",     \"Mobile\":123 ,  \"Salary\":5000,  \"ID\":1, \"Age\":21},\n",
    "    {\"Name\":\"BBB\",     \"Mobile\":124 ,  \"Salary\":6000,  \"ID\":2, \"Age\":22},\n",
    "    {\"Name\":\"Siddhi\",  \"Mobile\":125 ,  \"Salary\":7000,  \"ID\":3, \"Age\":23},\n",
    "    {\"Name\":\"DDD\" ,    \"Mobile\":126 ,  \"Salary\":8000,  \"ID\":4, \"Age\":25},\n",
    "    {\"Name\":\"EEE\",     \"Mobile\":127 ,  \"Salary\":11000, \"ID\":5, \"Age\":25}\n",
    ")\n",
    "\n",
    "insert = collection.insert_many(query)\n",
    "\n",
    "for record in collection.find():\n",
    "    print(record)\n",
    "    "
   ]
  },
  {
   "cell_type": "code",
   "execution_count": 12,
   "id": "16c4c175-8ab3-4173-814b-6b7123870c71",
   "metadata": {},
   "outputs": [
    {
     "name": "stdout",
     "output_type": "stream",
     "text": [
      "{'_id': ObjectId('64b2decc83c69a5670db3713'), 'Name': 'AAA', 'Mobile': 123, 'Salary': 5000, 'ID': 1, 'Age': 21}\n",
      "{'_id': ObjectId('64b2decc83c69a5670db3714'), 'Name': 'BBB', 'Mobile': 124, 'Salary': 6000, 'ID': 2, 'Age': 22}\n",
      "{'_id': ObjectId('64b2decc83c69a5670db3715'), 'Name': 'Siddhi', 'Mobile': 125, 'Salary': 7000, 'ID': 3, 'Age': 23}\n",
      "{'_id': ObjectId('64b2decc83c69a5670db3716'), 'Name': 'DDD', 'Mobile': 126, 'Salary': 8000, 'ID': 4, 'Age': 25}\n"
     ]
    }
   ],
   "source": [
    "\n",
    "#iii\n",
    "query = {\"Salary\":{\"$gte\":5000, \"$lte\":10000}}\n",
    "                  \n",
    "for record in collection.find(query):\n",
    "    print(record)"
   ]
  },
  {
   "cell_type": "code",
   "execution_count": 18,
   "id": "06ef079e-7f90-4a92-ac1f-6912a8ca31ac",
   "metadata": {},
   "outputs": [
    {
     "name": "stdout",
     "output_type": "stream",
     "text": [
      "{'_id': ObjectId('64b2decc83c69a5670db3713'), 'Name': 'AAA', 'Mobile': 123, 'Salary': 5000, 'ID': 1, 'Age': 21}\n",
      "{'_id': ObjectId('64b2decc83c69a5670db3714'), 'Name': 'BBB', 'Mobile': 124, 'Salary': 6000, 'ID': 2, 'Age': 22}\n",
      "{'_id': ObjectId('64b2decc83c69a5670db3715'), 'Name': 'Siddhi', 'Mobile': 999, 'Salary': 7000, 'ID': 3, 'Age': 23}\n",
      "{'_id': ObjectId('64b2decc83c69a5670db3716'), 'Name': 'DDD', 'Mobile': 126, 'Salary': 8000, 'ID': 4, 'Age': 25}\n",
      "{'_id': ObjectId('64b2decc83c69a5670db3717'), 'Name': 'EEE', 'Mobile': 127, 'Salary': 11000, 'ID': 5, 'Age': 25}\n"
     ]
    }
   ],
   "source": [
    "#iv\n",
    "query = {\"$set\":{\"Mobile\":999}}\n",
    "\n",
    "record = collection.update_one({\"Name\":\"Siddhi\"},query)\n",
    "for record in collection.find():\n",
    "    print(record)"
   ]
  },
  {
   "cell_type": "code",
   "execution_count": null,
   "id": "c6337db7-3dc7-4d68-a74d-c2ba632ea96a",
   "metadata": {},
   "outputs": [],
   "source": []
  },
  {
   "cell_type": "code",
   "execution_count": null,
   "id": "1fc0f2d2-c091-4f86-a518-ac6d5145542e",
   "metadata": {},
   "outputs": [],
   "source": []
  },
  {
   "cell_type": "code",
   "execution_count": null,
   "id": "5106909f-f986-472a-9b13-93182158172b",
   "metadata": {},
   "outputs": [],
   "source": []
  },
  {
   "cell_type": "code",
   "execution_count": null,
   "id": "eab5c971-c509-47d9-ab30-fbc877fa4b69",
   "metadata": {},
   "outputs": [],
   "source": []
  },
  {
   "cell_type": "code",
   "execution_count": 18,
   "id": "17bb56a2-c571-465f-9989-17dc26b6ad78",
   "metadata": {},
   "outputs": [
    {
     "name": "stdout",
     "output_type": "stream",
     "text": [
      "Original 5x5 array:\n",
      "[[ 3 73 90 91 53]\n",
      " [11 90  6 50 63]\n",
      " [56 90 49 64 74]\n",
      " [98 16 61 40 63]\n",
      " [65 49 90 20  6]]\n",
      "\n",
      "Top-left 2x2 array:\n",
      "[[91 53]\n",
      " [50 63]]\n"
     ]
    }
   ],
   "source": [
    "import numpy as np\n",
    "array_5x5 = np.random.randint(1,100, size=(5,5))\n",
    "top_left_2x2 = array_5x5[:2, 3:]\n",
    "\n",
    "print(\"Original 5x5 array:\")\n",
    "print(array_5x5)\n",
    "\n",
    "print(\"\\nTop-left 2x2 array:\")\n",
    "print(top_left_2x2)\n"
   ]
  }
 ],
 "metadata": {
  "kernelspec": {
   "display_name": "Python 3 (ipykernel)",
   "language": "python",
   "name": "python3"
  },
  "language_info": {
   "codemirror_mode": {
    "name": "ipython",
    "version": 3
   },
   "file_extension": ".py",
   "mimetype": "text/x-python",
   "name": "python",
   "nbconvert_exporter": "python",
   "pygments_lexer": "ipython3",
   "version": "3.11.2"
  }
 },
 "nbformat": 4,
 "nbformat_minor": 5
}
