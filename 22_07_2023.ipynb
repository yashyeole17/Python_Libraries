{
 "cells": [
  {
   "cell_type": "code",
   "execution_count": 2,
   "id": "db657097-4891-4ed9-9351-452fce9e1066",
   "metadata": {},
   "outputs": [],
   "source": [
    "import numpy as np\n",
    "import sys"
   ]
  },
  {
   "cell_type": "code",
   "execution_count": 13,
   "id": "b7a901d3-98db-4156-afe0-e18df6e8408a",
   "metadata": {},
   "outputs": [
    {
     "name": "stdout",
     "output_type": "stream",
     "text": [
      "[[1 2 3 4 5]\n",
      " [6 7 8 9 0]]\n",
      "Type int32\n",
      "Dimension: 2\n",
      "Size:  4\n",
      "Shape:  (2, 5)\n"
     ]
    }
   ],
   "source": [
    "d2 = np.array([  [1,2,3,4,5],[6,7,8,9,0]  ])\n",
    "print(d2)\n",
    "print(\"Type\",d2.dtype)\n",
    "print(\"Dimension:\",d2.ndim)\n",
    "print(\"Size: \",d2.itemsize)\n",
    "print(\"Shape: \",d2.shape)"
   ]
  },
  {
   "cell_type": "code",
   "execution_count": 62,
   "id": "b487e3c7-4f3e-42cb-b46d-d773038f945f",
   "metadata": {},
   "outputs": [
    {
     "name": "stdout",
     "output_type": "stream",
     "text": [
      "[[ 1  2  3  4  5  6  7]\n",
      " [ 8  9 10 11 12 13 14]]\n",
      "Dimensionn ;  2\n",
      "shape (2, 7)\n",
      "Size 4\n",
      "DataType:  int32\n"
     ]
    }
   ],
   "source": [
    "c = np.array([ [1,2,3,4,5,6,7], [8,9,10,11,12,13,14]  ])\n",
    "print(c)\n",
    "print(\"Dimensionn ; \",c.ndim)\n",
    "print(\"shape\",c.shape)\n",
    "print(\"Size\",c.itemsize)\n",
    "print(\"DataType: \",c.dtype)\n"
   ]
  },
  {
   "cell_type": "code",
   "execution_count": 63,
   "id": "b31e59d7-8339-47eb-ae10-99122223d663",
   "metadata": {},
   "outputs": [
    {
     "name": "stdout",
     "output_type": "stream",
     "text": [
      "4\n",
      "9\n",
      "12\n"
     ]
    }
   ],
   "source": [
    "print(c[-2,3])\n",
    "print(c[1,1])\n",
    "print(c[1,4])"
   ]
  },
  {
   "cell_type": "code",
   "execution_count": 64,
   "id": "250d9b9c-6f2d-41d7-a1ce-2f9711744ac4",
   "metadata": {},
   "outputs": [
    {
     "name": "stdout",
     "output_type": "stream",
     "text": [
      "ROW:  [1 2 3 4 5 6 7]\n",
      "COLOMN 2:  [2 9]\n",
      "Colomn 5:  [ 6 13]\n"
     ]
    }
   ],
   "source": [
    "print(\"ROW: \",c[0,:])\n",
    "print(\"COLOMN 2: \",c[:,1])\n",
    "print(\"Colomn 5: \",c[:, 5])"
   ]
  },
  {
   "cell_type": "code",
   "execution_count": 65,
   "id": "f45c4130-52be-4402-a451-0e54ce585714",
   "metadata": {},
   "outputs": [
    {
     "name": "stdout",
     "output_type": "stream",
     "text": [
      "F row: [1 3 5]\n",
      "s row:  [ 9 13]\n"
     ]
    }
   ],
   "source": [
    "print(\"F row:\",c[0,0:-1:2] )\n",
    "print(\"s row: \",c[1,1:8:4])"
   ]
  },
  {
   "cell_type": "code",
   "execution_count": 66,
   "id": "077600b0-3d30-4c42-a93c-3672b476275f",
   "metadata": {},
   "outputs": [
    {
     "data": {
      "text/plain": [
       "array([[  1,   2,   3,   4,   5,   6,   7],\n",
       "       [  8,   9,  10, 100,  12,  13,  14]])"
      ]
     },
     "execution_count": 66,
     "metadata": {},
     "output_type": "execute_result"
    }
   ],
   "source": [
    "c[1,3] = 100\n",
    "c   # 11 - 100"
   ]
  },
  {
   "cell_type": "code",
   "execution_count": 67,
   "id": "db2bbe90-b1c7-4091-ace7-b0a6ef8a7312",
   "metadata": {},
   "outputs": [
    {
     "data": {
      "text/plain": [
       "array([[  1,   2,   3,   4,   5, 999,   7],\n",
       "       [  8,   9,  10, 100,  12, 888,  14]])"
      ]
     },
     "execution_count": 67,
     "metadata": {},
     "output_type": "execute_result"
    }
   ],
   "source": [
    "c[:,5]=999,888\n",
    "c"
   ]
  },
  {
   "cell_type": "code",
   "execution_count": 73,
   "id": "4b1c1692-d4c3-4608-a67b-b2df0fdb360c",
   "metadata": {},
   "outputs": [
    {
     "data": {
      "text/plain": [
       "array([[[1, 2],\n",
       "        [3, 4]],\n",
       "\n",
       "       [[5, 6],\n",
       "        [7, 8]]])"
      ]
     },
     "execution_count": 73,
     "metadata": {},
     "output_type": "execute_result"
    }
   ],
   "source": [
    "d3 = np.array([ [[1,2],[3,4]], [[5,6],[7,8]] ])\n",
    "d3"
   ]
  },
  {
   "cell_type": "code",
   "execution_count": 78,
   "id": "aef3fee2-3de0-45d3-b593-d695965e9c24",
   "metadata": {},
   "outputs": [
    {
     "data": {
      "text/plain": [
       "array([[[1, 2],\n",
       "        [8, 8]],\n",
       "\n",
       "       [[5, 6],\n",
       "        [9, 9]]])"
      ]
     },
     "execution_count": 78,
     "metadata": {},
     "output_type": "execute_result"
    }
   ],
   "source": [
    "d3[:,1,:]=[[8,8],[9,9]]\n",
    "d3"
   ]
  },
  {
   "cell_type": "code",
   "execution_count": 80,
   "id": "101167e0-f99a-459b-bc9e-65c1d889ff30",
   "metadata": {},
   "outputs": [
    {
     "data": {
      "text/plain": [
       "array([[0., 0., 0.],\n",
       "       [0., 0., 0.]])"
      ]
     },
     "execution_count": 80,
     "metadata": {},
     "output_type": "execute_result"
    }
   ],
   "source": [
    "zero = np.zeros([2,3])\n",
    "zero"
   ]
  },
  {
   "cell_type": "code",
   "execution_count": 83,
   "id": "b4a1458c-d4ae-41ab-bbb9-07d1c58844a0",
   "metadata": {},
   "outputs": [
    {
     "data": {
      "text/plain": [
       "array([[1., 1., 1.],\n",
       "       [1., 1., 1.]])"
      ]
     },
     "execution_count": 83,
     "metadata": {},
     "output_type": "execute_result"
    }
   ],
   "source": [
    "one = np.ones([2,3])\n",
    "one"
   ]
  },
  {
   "cell_type": "code",
   "execution_count": 84,
   "id": "543f8eb8-5698-4dc9-b7e7-7261a83c5d2e",
   "metadata": {},
   "outputs": [
    {
     "data": {
      "text/plain": [
       "array([1., 1., 1., 1., 1.])"
      ]
     },
     "execution_count": 84,
     "metadata": {},
     "output_type": "execute_result"
    }
   ],
   "source": [
    "one = np.ones([5])\n",
    "one"
   ]
  },
  {
   "cell_type": "code",
   "execution_count": 86,
   "id": "6a8a7258-fb52-40ed-a6c0-466df3ce52fc",
   "metadata": {},
   "outputs": [
    {
     "name": "stdout",
     "output_type": "stream",
     "text": [
      "[[5 5 5]\n",
      " [5 5 5]]\n"
     ]
    }
   ],
   "source": [
    "full = np.full([2,3], 5)\n",
    "print(full)"
   ]
  },
  {
   "cell_type": "code",
   "execution_count": 89,
   "id": "cd532ecf-4d26-4abe-bacd-20698ea790c6",
   "metadata": {},
   "outputs": [
    {
     "data": {
      "text/plain": [
       "array([[0.46057084, 0.35894276],\n",
       "       [0.14546815, 0.39730357],\n",
       "       [0.56573437, 0.52871184]])"
      ]
     },
     "execution_count": 89,
     "metadata": {},
     "output_type": "execute_result"
    }
   ],
   "source": [
    "random = np.random.rand(3,2)\n",
    "random"
   ]
  },
  {
   "cell_type": "code",
   "execution_count": 103,
   "id": "5ac04200-38cb-4a38-a505-5f19a88f3cee",
   "metadata": {},
   "outputs": [
    {
     "data": {
      "text/plain": [
       "array([[6, 6, 6, 7],\n",
       "       [5, 8, 6, 5],\n",
       "       [8, 6, 9, 5]])"
      ]
     },
     "execution_count": 103,
     "metadata": {},
     "output_type": "execute_result"
    }
   ],
   "source": [
    "random1 = np.random.randint(5,10, size=[3,4])\n",
    "random1"
   ]
  },
  {
   "cell_type": "code",
   "execution_count": 104,
   "id": "cb50a701-2aee-44a3-9309-870a00010c35",
   "metadata": {},
   "outputs": [
    {
     "data": {
      "text/plain": [
       "array([[8, 9, 5, 6],\n",
       "       [7, 9, 6, 6],\n",
       "       [8, 5, 9, 5]])"
      ]
     },
     "execution_count": 104,
     "metadata": {},
     "output_type": "execute_result"
    }
   ],
   "source": [
    "random2 = np.random.randint(5,10, size=[3,4])\n",
    "random2"
   ]
  },
  {
   "cell_type": "code",
   "execution_count": 106,
   "id": "bb0c01ed-ef43-48ce-8451-4beb2b3df754",
   "metadata": {},
   "outputs": [
    {
     "data": {
      "text/plain": [
       "array([[1., 0., 0.],\n",
       "       [0., 1., 0.],\n",
       "       [0., 0., 1.]])"
      ]
     },
     "execution_count": 106,
     "metadata": {},
     "output_type": "execute_result"
    }
   ],
   "source": [
    "identity = np.identity(3)\n",
    "identity"
   ]
  },
  {
   "cell_type": "code",
   "execution_count": 112,
   "id": "6b7cc952-5396-49aa-9bb2-7fac5d669eb4",
   "metadata": {},
   "outputs": [
    {
     "name": "stdout",
     "output_type": "stream",
     "text": [
      "[1 1 1 2 2 2 3 3 3]\n"
     ]
    }
   ],
   "source": [
    "arr = np.array([1,2,3])\n",
    "repeat = np.repeat(arr, 3)\n",
    "print(repeat)"
   ]
  },
  {
   "cell_type": "code",
   "execution_count": 118,
   "id": "64a0b572-129e-4a6c-a754-7aa0742a36f1",
   "metadata": {},
   "outputs": [
    {
     "data": {
      "text/plain": [
       "array([0, 1, 2, 3, 4, 5, 6, 7, 8, 9])"
      ]
     },
     "execution_count": 118,
     "metadata": {},
     "output_type": "execute_result"
    }
   ],
   "source": [
    "arange = np.arange(10)\n",
    "arange"
   ]
  },
  {
   "cell_type": "code",
   "execution_count": 130,
   "id": "079f2902-2f75-41a7-a489-cb5144fbdcfe",
   "metadata": {},
   "outputs": [
    {
     "name": "stdout",
     "output_type": "stream",
     "text": [
      "[1 2 3 4]\n",
      "[  1   2 999   4]\n"
     ]
    }
   ],
   "source": [
    "arr1 = np.array([1,2,3,4])\n",
    "arr2 = arr1.copy()\n",
    "arr2[2] = 999\n",
    "print(arr1)\n",
    "print(arr2)"
   ]
  },
  {
   "cell_type": "code",
   "execution_count": 132,
   "id": "fc87895c-4b4f-426d-8593-cd10dce50814",
   "metadata": {},
   "outputs": [
    {
     "name": "stdout",
     "output_type": "stream",
     "text": [
      "add:  [3 4 5 6]\n",
      "Sub:  [-1  0  1  2]\n",
      "Mul: :  [2 4 6 8]\n",
      "Div:  [0.5 1.  1.5 2. ]\n",
      "Pow :  [ 1  4  9 16]\n"
     ]
    }
   ],
   "source": [
    "a = np.array([1,2,3,4])\n",
    "print(\"add: \",a+2)\n",
    "print(\"Sub: \",a-2)\n",
    "print(\"Mul: : \",a*2)\n",
    "print(\"Div: \",a/2)\n",
    "print(\"Pow : \",a**2)"
   ]
  },
  {
   "cell_type": "code",
   "execution_count": 134,
   "id": "62f21832-d843-4555-a3b6-07243c72c3d5",
   "metadata": {},
   "outputs": [
    {
     "name": "stdout",
     "output_type": "stream",
     "text": [
      "[ 0.84147098  0.90929743  0.14112001 -0.7568025 ]\n",
      "[ 0.54030231 -0.41614684 -0.9899925  -0.65364362]\n"
     ]
    }
   ],
   "source": [
    "print(np.sin(a))\n",
    "print(np.cos(a))"
   ]
  },
  {
   "cell_type": "code",
   "execution_count": 139,
   "id": "9e393aff-7603-4129-9407-cad0c2b61959",
   "metadata": {},
   "outputs": [
    {
     "name": "stdout",
     "output_type": "stream",
     "text": [
      "[[1 2 3]\n",
      " [4 5 6]]\n",
      "Add:   21\n",
      "min:   1\n",
      "Max:   6\n"
     ]
    }
   ],
   "source": [
    "d2 = np.array([  [1,2,3],[4,5,6] ])\n",
    "print(d2)\n",
    "print(\"Add:  \",np.sum(d2))\n",
    "print(\"min:  \",np.min(d2))\n",
    "print(\"Max:  \",np.max(d2))"
   ]
  },
  {
   "cell_type": "code",
   "execution_count": 147,
   "id": "0ccfb730-7510-4835-938d-d88a8924136b",
   "metadata": {},
   "outputs": [
    {
     "name": "stdout",
     "output_type": "stream",
     "text": [
      "[[1]\n",
      " [2]\n",
      " [3]\n",
      " [4]\n",
      " [5]\n",
      " [6]]\n",
      "\n",
      "[[1 2]\n",
      " [3 4]\n",
      " [5 6]]\n",
      "\n",
      "[[1 2 3 4 5 6]]\n"
     ]
    }
   ],
   "source": [
    "print(d2.reshape(6,1))\n",
    "print()\n",
    "print(d2.reshape(3,2))\n",
    "print()\n",
    "print(d2.reshape(1,6))"
   ]
  },
  {
   "cell_type": "code",
   "execution_count": 162,
   "id": "9876964f-6005-4b72-a844-dec18737a2ed",
   "metadata": {},
   "outputs": [
    {
     "name": "stdout",
     "output_type": "stream",
     "text": [
      "[[23. 23. 26. 41. 12. 41.  2. 24. 34. 26.  2.]\n",
      " [21. 43. 22. 43. 41.  7. 28. 32.  9. 33. 38.]\n",
      " [ 4. 32.  9. 46. 31. 35. 42.  4. 20. 28. 33.]]\n"
     ]
    }
   ],
   "source": [
    "file = np.genfromtxt(\"data.txt\",delimiter=',')\n",
    "print(file)"
   ]
  },
  {
   "cell_type": "code",
   "execution_count": null,
   "id": "f0d09f5b-7d17-4df9-88af-c3720a212b1a",
   "metadata": {},
   "outputs": [],
   "source": []
  },
  {
   "cell_type": "code",
   "execution_count": null,
   "id": "a3711769-7bb1-4219-87d3-6ef48b214c57",
   "metadata": {},
   "outputs": [],
   "source": []
  },
  {
   "cell_type": "code",
   "execution_count": null,
   "id": "8c78118a-6678-402d-90c5-c3067a1044ce",
   "metadata": {},
   "outputs": [],
   "source": []
  },
  {
   "cell_type": "code",
   "execution_count": 173,
   "id": "1a7831f4-ecf7-4bd0-a571-4e9e84177252",
   "metadata": {},
   "outputs": [],
   "source": [
    "import pandas as pd\n",
    "import numpy as np"
   ]
  },
  {
   "cell_type": "code",
   "execution_count": 176,
   "id": "5ae18721-eb02-48a3-8113-298e57a3b4a7",
   "metadata": {},
   "outputs": [
    {
     "data": {
      "text/plain": [
       "A    1\n",
       "B    2\n",
       "C    3\n",
       "D    4\n",
       "E    5\n",
       "dtype: int64"
      ]
     },
     "execution_count": 176,
     "metadata": {},
     "output_type": "execute_result"
    }
   ],
   "source": [
    "a = pd.Series([1,2,3,4,5] , index=['A','B','C','D','E'])\n",
    "a"
   ]
  },
  {
   "cell_type": "code",
   "execution_count": 201,
   "id": "8b014765-e5e0-40a5-8f5b-c377c7efd8b0",
   "metadata": {},
   "outputs": [
    {
     "name": "stdout",
     "output_type": "stream",
     "text": [
      "0    0.390346\n",
      "1    0.413572\n",
      "2    0.220091\n",
      "3    0.509317\n",
      "4    0.336729\n",
      "5    0.421449\n",
      "6    0.529031\n",
      "7    0.874393\n",
      "8    0.387739\n",
      "9    0.319783\n",
      "dtype: float64\n",
      "\n",
      "float64\n",
      "\n",
      "<class 'pandas.core.series.Series'>\n",
      "\n",
      "1\n",
      "\n",
      "10\n"
     ]
    }
   ],
   "source": [
    "s = pd.Series(np.random.rand(10))\n",
    "print(s)\n",
    "print()\n",
    "print(s.dtype)\n",
    "print()\n",
    "print(type(s))\n",
    "print()\n",
    "\n",
    "print(s.ndim)\n",
    "print()\n",
    "print(s.size)"
   ]
  },
  {
   "cell_type": "code",
   "execution_count": 189,
   "id": "20a69e11-efc5-466d-b3d9-cd79db3497e8",
   "metadata": {},
   "outputs": [
    {
     "data": {
      "text/plain": [
       "0    0.803959\n",
       "1    0.483715\n",
       "2    0.388886\n",
       "3    0.314655\n",
       "4    0.007349\n",
       "dtype: float64"
      ]
     },
     "execution_count": 189,
     "metadata": {},
     "output_type": "execute_result"
    }
   ],
   "source": [
    "s.head()"
   ]
  },
  {
   "cell_type": "code",
   "execution_count": 190,
   "id": "d793a507-ecdd-4702-beb9-a80ca816c11d",
   "metadata": {},
   "outputs": [
    {
     "data": {
      "text/plain": [
       "5    0.528057\n",
       "6    0.571152\n",
       "7    0.548475\n",
       "8    0.737198\n",
       "9    0.048601\n",
       "dtype: float64"
      ]
     },
     "execution_count": 190,
     "metadata": {},
     "output_type": "execute_result"
    }
   ],
   "source": [
    "s.tail()"
   ]
  },
  {
   "cell_type": "code",
   "execution_count": 197,
   "id": "eabeec85-c68a-4524-850e-286676158ee4",
   "metadata": {},
   "outputs": [
    {
     "data": {
      "text/html": [
       "<div>\n",
       "<style scoped>\n",
       "    .dataframe tbody tr th:only-of-type {\n",
       "        vertical-align: middle;\n",
       "    }\n",
       "\n",
       "    .dataframe tbody tr th {\n",
       "        vertical-align: top;\n",
       "    }\n",
       "\n",
       "    .dataframe thead th {\n",
       "        text-align: right;\n",
       "    }\n",
       "</style>\n",
       "<table border=\"1\" class=\"dataframe\">\n",
       "  <thead>\n",
       "    <tr style=\"text-align: right;\">\n",
       "      <th></th>\n",
       "      <th>0</th>\n",
       "      <th>1</th>\n",
       "      <th>2</th>\n",
       "      <th>3</th>\n",
       "      <th>4</th>\n",
       "      <th>5</th>\n",
       "      <th>6</th>\n",
       "      <th>7</th>\n",
       "    </tr>\n",
       "  </thead>\n",
       "  <tbody>\n",
       "    <tr>\n",
       "      <th>0</th>\n",
       "      <td>0.894014</td>\n",
       "      <td>0.081399</td>\n",
       "      <td>0.169717</td>\n",
       "      <td>0.095980</td>\n",
       "      <td>0.789408</td>\n",
       "      <td>0.489312</td>\n",
       "      <td>0.240917</td>\n",
       "      <td>0.047295</td>\n",
       "    </tr>\n",
       "    <tr>\n",
       "      <th>1</th>\n",
       "      <td>0.246724</td>\n",
       "      <td>0.181505</td>\n",
       "      <td>0.535771</td>\n",
       "      <td>0.378349</td>\n",
       "      <td>0.555784</td>\n",
       "      <td>0.762910</td>\n",
       "      <td>0.671358</td>\n",
       "      <td>0.726876</td>\n",
       "    </tr>\n",
       "    <tr>\n",
       "      <th>2</th>\n",
       "      <td>0.235020</td>\n",
       "      <td>0.639338</td>\n",
       "      <td>0.480102</td>\n",
       "      <td>0.188145</td>\n",
       "      <td>0.481286</td>\n",
       "      <td>0.733612</td>\n",
       "      <td>0.096468</td>\n",
       "      <td>0.617926</td>\n",
       "    </tr>\n",
       "    <tr>\n",
       "      <th>3</th>\n",
       "      <td>0.143668</td>\n",
       "      <td>0.190730</td>\n",
       "      <td>0.358294</td>\n",
       "      <td>0.621458</td>\n",
       "      <td>0.443876</td>\n",
       "      <td>0.445161</td>\n",
       "      <td>0.782817</td>\n",
       "      <td>0.959945</td>\n",
       "    </tr>\n",
       "    <tr>\n",
       "      <th>4</th>\n",
       "      <td>0.966900</td>\n",
       "      <td>0.652539</td>\n",
       "      <td>0.027155</td>\n",
       "      <td>0.127262</td>\n",
       "      <td>0.749085</td>\n",
       "      <td>0.144885</td>\n",
       "      <td>0.116189</td>\n",
       "      <td>0.869492</td>\n",
       "    </tr>\n",
       "    <tr>\n",
       "      <th>...</th>\n",
       "      <td>...</td>\n",
       "      <td>...</td>\n",
       "      <td>...</td>\n",
       "      <td>...</td>\n",
       "      <td>...</td>\n",
       "      <td>...</td>\n",
       "      <td>...</td>\n",
       "      <td>...</td>\n",
       "    </tr>\n",
       "    <tr>\n",
       "      <th>495</th>\n",
       "      <td>0.300927</td>\n",
       "      <td>0.017242</td>\n",
       "      <td>0.797593</td>\n",
       "      <td>0.867120</td>\n",
       "      <td>0.199986</td>\n",
       "      <td>0.384323</td>\n",
       "      <td>0.375722</td>\n",
       "      <td>0.111186</td>\n",
       "    </tr>\n",
       "    <tr>\n",
       "      <th>496</th>\n",
       "      <td>0.045063</td>\n",
       "      <td>0.360538</td>\n",
       "      <td>0.466233</td>\n",
       "      <td>0.539983</td>\n",
       "      <td>0.532125</td>\n",
       "      <td>0.155407</td>\n",
       "      <td>0.300705</td>\n",
       "      <td>0.970768</td>\n",
       "    </tr>\n",
       "    <tr>\n",
       "      <th>497</th>\n",
       "      <td>0.739372</td>\n",
       "      <td>0.819813</td>\n",
       "      <td>0.994285</td>\n",
       "      <td>0.027276</td>\n",
       "      <td>0.216943</td>\n",
       "      <td>0.914140</td>\n",
       "      <td>0.436838</td>\n",
       "      <td>0.149990</td>\n",
       "    </tr>\n",
       "    <tr>\n",
       "      <th>498</th>\n",
       "      <td>0.053763</td>\n",
       "      <td>0.181004</td>\n",
       "      <td>0.839171</td>\n",
       "      <td>0.402482</td>\n",
       "      <td>0.337462</td>\n",
       "      <td>0.158613</td>\n",
       "      <td>0.003219</td>\n",
       "      <td>0.116901</td>\n",
       "    </tr>\n",
       "    <tr>\n",
       "      <th>499</th>\n",
       "      <td>0.006770</td>\n",
       "      <td>0.137433</td>\n",
       "      <td>0.975602</td>\n",
       "      <td>0.595814</td>\n",
       "      <td>0.584544</td>\n",
       "      <td>0.712831</td>\n",
       "      <td>0.791675</td>\n",
       "      <td>0.370559</td>\n",
       "    </tr>\n",
       "  </tbody>\n",
       "</table>\n",
       "<p>500 rows × 8 columns</p>\n",
       "</div>"
      ],
      "text/plain": [
       "            0         1         2         3         4         5         6  \\\n",
       "0    0.894014  0.081399  0.169717  0.095980  0.789408  0.489312  0.240917   \n",
       "1    0.246724  0.181505  0.535771  0.378349  0.555784  0.762910  0.671358   \n",
       "2    0.235020  0.639338  0.480102  0.188145  0.481286  0.733612  0.096468   \n",
       "3    0.143668  0.190730  0.358294  0.621458  0.443876  0.445161  0.782817   \n",
       "4    0.966900  0.652539  0.027155  0.127262  0.749085  0.144885  0.116189   \n",
       "..        ...       ...       ...       ...       ...       ...       ...   \n",
       "495  0.300927  0.017242  0.797593  0.867120  0.199986  0.384323  0.375722   \n",
       "496  0.045063  0.360538  0.466233  0.539983  0.532125  0.155407  0.300705   \n",
       "497  0.739372  0.819813  0.994285  0.027276  0.216943  0.914140  0.436838   \n",
       "498  0.053763  0.181004  0.839171  0.402482  0.337462  0.158613  0.003219   \n",
       "499  0.006770  0.137433  0.975602  0.595814  0.584544  0.712831  0.791675   \n",
       "\n",
       "            7  \n",
       "0    0.047295  \n",
       "1    0.726876  \n",
       "2    0.617926  \n",
       "3    0.959945  \n",
       "4    0.869492  \n",
       "..        ...  \n",
       "495  0.111186  \n",
       "496  0.970768  \n",
       "497  0.149990  \n",
       "498  0.116901  \n",
       "499  0.370559  \n",
       "\n",
       "[500 rows x 8 columns]"
      ]
     },
     "execution_count": 197,
     "metadata": {},
     "output_type": "execute_result"
    }
   ],
   "source": [
    "df = pd.DataFrame(np.random.rand(500, 8), index= np.arange(500))\n",
    "df"
   ]
  },
  {
   "cell_type": "code",
   "execution_count": 199,
   "id": "cf3798a3-ac8d-4bf2-802a-76808bd7dcfc",
   "metadata": {},
   "outputs": [
    {
     "data": {
      "text/plain": [
       "pandas.core.frame.DataFrame"
      ]
     },
     "execution_count": 199,
     "metadata": {},
     "output_type": "execute_result"
    }
   ],
   "source": [
    "type(df)"
   ]
  },
  {
   "cell_type": "code",
   "execution_count": 202,
   "id": "c78b4c26-1957-43ef-9564-39d65aee139a",
   "metadata": {},
   "outputs": [
    {
     "data": {
      "text/html": [
       "<div>\n",
       "<style scoped>\n",
       "    .dataframe tbody tr th:only-of-type {\n",
       "        vertical-align: middle;\n",
       "    }\n",
       "\n",
       "    .dataframe tbody tr th {\n",
       "        vertical-align: top;\n",
       "    }\n",
       "\n",
       "    .dataframe thead th {\n",
       "        text-align: right;\n",
       "    }\n",
       "</style>\n",
       "<table border=\"1\" class=\"dataframe\">\n",
       "  <thead>\n",
       "    <tr style=\"text-align: right;\">\n",
       "      <th></th>\n",
       "      <th>0</th>\n",
       "      <th>1</th>\n",
       "      <th>2</th>\n",
       "      <th>3</th>\n",
       "      <th>4</th>\n",
       "      <th>5</th>\n",
       "      <th>6</th>\n",
       "      <th>7</th>\n",
       "    </tr>\n",
       "  </thead>\n",
       "  <tbody>\n",
       "    <tr>\n",
       "      <th>0</th>\n",
       "      <td>0.894014</td>\n",
       "      <td>0.081399</td>\n",
       "      <td>0.169717</td>\n",
       "      <td>0.095980</td>\n",
       "      <td>0.789408</td>\n",
       "      <td>0.489312</td>\n",
       "      <td>0.240917</td>\n",
       "      <td>0.047295</td>\n",
       "    </tr>\n",
       "    <tr>\n",
       "      <th>1</th>\n",
       "      <td>0.246724</td>\n",
       "      <td>0.181505</td>\n",
       "      <td>0.535771</td>\n",
       "      <td>0.378349</td>\n",
       "      <td>0.555784</td>\n",
       "      <td>0.762910</td>\n",
       "      <td>0.671358</td>\n",
       "      <td>0.726876</td>\n",
       "    </tr>\n",
       "    <tr>\n",
       "      <th>2</th>\n",
       "      <td>0.235020</td>\n",
       "      <td>0.639338</td>\n",
       "      <td>0.480102</td>\n",
       "      <td>0.188145</td>\n",
       "      <td>0.481286</td>\n",
       "      <td>0.733612</td>\n",
       "      <td>0.096468</td>\n",
       "      <td>0.617926</td>\n",
       "    </tr>\n",
       "    <tr>\n",
       "      <th>3</th>\n",
       "      <td>0.143668</td>\n",
       "      <td>0.190730</td>\n",
       "      <td>0.358294</td>\n",
       "      <td>0.621458</td>\n",
       "      <td>0.443876</td>\n",
       "      <td>0.445161</td>\n",
       "      <td>0.782817</td>\n",
       "      <td>0.959945</td>\n",
       "    </tr>\n",
       "    <tr>\n",
       "      <th>4</th>\n",
       "      <td>0.966900</td>\n",
       "      <td>0.652539</td>\n",
       "      <td>0.027155</td>\n",
       "      <td>0.127262</td>\n",
       "      <td>0.749085</td>\n",
       "      <td>0.144885</td>\n",
       "      <td>0.116189</td>\n",
       "      <td>0.869492</td>\n",
       "    </tr>\n",
       "  </tbody>\n",
       "</table>\n",
       "</div>"
      ],
      "text/plain": [
       "          0         1         2         3         4         5         6  \\\n",
       "0  0.894014  0.081399  0.169717  0.095980  0.789408  0.489312  0.240917   \n",
       "1  0.246724  0.181505  0.535771  0.378349  0.555784  0.762910  0.671358   \n",
       "2  0.235020  0.639338  0.480102  0.188145  0.481286  0.733612  0.096468   \n",
       "3  0.143668  0.190730  0.358294  0.621458  0.443876  0.445161  0.782817   \n",
       "4  0.966900  0.652539  0.027155  0.127262  0.749085  0.144885  0.116189   \n",
       "\n",
       "          7  \n",
       "0  0.047295  \n",
       "1  0.726876  \n",
       "2  0.617926  \n",
       "3  0.959945  \n",
       "4  0.869492  "
      ]
     },
     "execution_count": 202,
     "metadata": {},
     "output_type": "execute_result"
    }
   ],
   "source": [
    "df.head()"
   ]
  },
  {
   "cell_type": "code",
   "execution_count": 209,
   "id": "03767842-6951-447f-bb67-3163f920506f",
   "metadata": {},
   "outputs": [
    {
     "data": {
      "text/html": [
       "<div>\n",
       "<style scoped>\n",
       "    .dataframe tbody tr th:only-of-type {\n",
       "        vertical-align: middle;\n",
       "    }\n",
       "\n",
       "    .dataframe tbody tr th {\n",
       "        vertical-align: top;\n",
       "    }\n",
       "\n",
       "    .dataframe thead th {\n",
       "        text-align: right;\n",
       "    }\n",
       "</style>\n",
       "<table border=\"1\" class=\"dataframe\">\n",
       "  <thead>\n",
       "    <tr style=\"text-align: right;\">\n",
       "      <th></th>\n",
       "      <th>0</th>\n",
       "      <th>1</th>\n",
       "      <th>2</th>\n",
       "      <th>3</th>\n",
       "      <th>4</th>\n",
       "      <th>5</th>\n",
       "      <th>6</th>\n",
       "      <th>7</th>\n",
       "    </tr>\n",
       "  </thead>\n",
       "  <tbody>\n",
       "    <tr>\n",
       "      <th>495</th>\n",
       "      <td>0.300927</td>\n",
       "      <td>0.017242</td>\n",
       "      <td>0.797593</td>\n",
       "      <td>0.867120</td>\n",
       "      <td>0.199986</td>\n",
       "      <td>0.384323</td>\n",
       "      <td>0.375722</td>\n",
       "      <td>0.111186</td>\n",
       "    </tr>\n",
       "    <tr>\n",
       "      <th>496</th>\n",
       "      <td>0.045063</td>\n",
       "      <td>0.360538</td>\n",
       "      <td>0.466233</td>\n",
       "      <td>0.539983</td>\n",
       "      <td>0.532125</td>\n",
       "      <td>0.155407</td>\n",
       "      <td>0.300705</td>\n",
       "      <td>0.970768</td>\n",
       "    </tr>\n",
       "    <tr>\n",
       "      <th>497</th>\n",
       "      <td>0.739372</td>\n",
       "      <td>0.819813</td>\n",
       "      <td>0.994285</td>\n",
       "      <td>0.027276</td>\n",
       "      <td>0.216943</td>\n",
       "      <td>0.914140</td>\n",
       "      <td>0.436838</td>\n",
       "      <td>0.149990</td>\n",
       "    </tr>\n",
       "    <tr>\n",
       "      <th>498</th>\n",
       "      <td>0.053763</td>\n",
       "      <td>0.181004</td>\n",
       "      <td>0.839171</td>\n",
       "      <td>0.402482</td>\n",
       "      <td>0.337462</td>\n",
       "      <td>0.158613</td>\n",
       "      <td>0.003219</td>\n",
       "      <td>0.116901</td>\n",
       "    </tr>\n",
       "    <tr>\n",
       "      <th>499</th>\n",
       "      <td>0.006770</td>\n",
       "      <td>0.137433</td>\n",
       "      <td>0.975602</td>\n",
       "      <td>0.595814</td>\n",
       "      <td>0.584544</td>\n",
       "      <td>0.712831</td>\n",
       "      <td>0.791675</td>\n",
       "      <td>0.370559</td>\n",
       "    </tr>\n",
       "  </tbody>\n",
       "</table>\n",
       "</div>"
      ],
      "text/plain": [
       "            0         1         2         3         4         5         6  \\\n",
       "495  0.300927  0.017242  0.797593  0.867120  0.199986  0.384323  0.375722   \n",
       "496  0.045063  0.360538  0.466233  0.539983  0.532125  0.155407  0.300705   \n",
       "497  0.739372  0.819813  0.994285  0.027276  0.216943  0.914140  0.436838   \n",
       "498  0.053763  0.181004  0.839171  0.402482  0.337462  0.158613  0.003219   \n",
       "499  0.006770  0.137433  0.975602  0.595814  0.584544  0.712831  0.791675   \n",
       "\n",
       "            7  \n",
       "495  0.111186  \n",
       "496  0.970768  \n",
       "497  0.149990  \n",
       "498  0.116901  \n",
       "499  0.370559  "
      ]
     },
     "execution_count": 209,
     "metadata": {},
     "output_type": "execute_result"
    }
   ],
   "source": [
    "df.tail(5)"
   ]
  },
  {
   "cell_type": "code",
   "execution_count": 204,
   "id": "6739988a-9fb5-4426-953b-e0f270fdbd6f",
   "metadata": {},
   "outputs": [
    {
     "data": {
      "text/plain": [
       "RangeIndex(start=0, stop=8, step=1)"
      ]
     },
     "execution_count": 204,
     "metadata": {},
     "output_type": "execute_result"
    }
   ],
   "source": [
    "df.columns"
   ]
  },
  {
   "cell_type": "code",
   "execution_count": 211,
   "id": "039553c6-f103-4e9f-b159-424b69b6929a",
   "metadata": {},
   "outputs": [
    {
     "data": {
      "text/plain": [
       "array([[0.89401355, 0.08139861, 0.16971745, ..., 0.48931182, 0.24091737,\n",
       "        0.0472951 ],\n",
       "       [0.24672358, 0.18150535, 0.53577133, ..., 0.76290996, 0.67135758,\n",
       "        0.72687583],\n",
       "       [0.23502004, 0.63933833, 0.48010218, ..., 0.73361238, 0.09646757,\n",
       "        0.61792595],\n",
       "       ...,\n",
       "       [0.73937192, 0.81981334, 0.99428537, ..., 0.91413969, 0.43683827,\n",
       "        0.14998978],\n",
       "       [0.05376301, 0.18100397, 0.83917098, ..., 0.15861334, 0.00321945,\n",
       "        0.11690138],\n",
       "       [0.00677028, 0.13743316, 0.97560154, ..., 0.71283126, 0.79167489,\n",
       "        0.37055862]])"
      ]
     },
     "execution_count": 211,
     "metadata": {},
     "output_type": "execute_result"
    }
   ],
   "source": [
    "df.to_numpy()"
   ]
  },
  {
   "cell_type": "code",
   "execution_count": 257,
   "id": "262c06d3-8975-4d51-aedd-1dc5b936fea9",
   "metadata": {},
   "outputs": [],
   "source": [
    "df.to_csv(\"timepass.csv\")"
   ]
  },
  {
   "cell_type": "code",
   "execution_count": 258,
   "id": "98b7bd38-c9a6-4f99-8731-b4dcc621fb45",
   "metadata": {},
   "outputs": [
    {
     "data": {
      "text/html": [
       "<div>\n",
       "<style scoped>\n",
       "    .dataframe tbody tr th:only-of-type {\n",
       "        vertical-align: middle;\n",
       "    }\n",
       "\n",
       "    .dataframe tbody tr th {\n",
       "        vertical-align: top;\n",
       "    }\n",
       "\n",
       "    .dataframe thead th {\n",
       "        text-align: right;\n",
       "    }\n",
       "</style>\n",
       "<table border=\"1\" class=\"dataframe\">\n",
       "  <thead>\n",
       "    <tr style=\"text-align: right;\">\n",
       "      <th></th>\n",
       "      <th>Unnamed: 0</th>\n",
       "      <th>a</th>\n",
       "      <th>b</th>\n",
       "      <th>c</th>\n",
       "      <th>d</th>\n",
       "      <th>e</th>\n",
       "      <th>f</th>\n",
       "      <th>g</th>\n",
       "      <th>h</th>\n",
       "    </tr>\n",
       "  </thead>\n",
       "  <tbody>\n",
       "    <tr>\n",
       "      <th>0</th>\n",
       "      <td>0</td>\n",
       "      <td>0.894014</td>\n",
       "      <td>0.081399</td>\n",
       "      <td>0.169717</td>\n",
       "      <td>0.095980</td>\n",
       "      <td>0.789408</td>\n",
       "      <td>0.489312</td>\n",
       "      <td>0.240917</td>\n",
       "      <td>0.047295</td>\n",
       "    </tr>\n",
       "    <tr>\n",
       "      <th>1</th>\n",
       "      <td>1</td>\n",
       "      <td>0.246724</td>\n",
       "      <td>0.181505</td>\n",
       "      <td>0.535771</td>\n",
       "      <td>0.378349</td>\n",
       "      <td>0.555784</td>\n",
       "      <td>0.762910</td>\n",
       "      <td>0.671358</td>\n",
       "      <td>0.726876</td>\n",
       "    </tr>\n",
       "    <tr>\n",
       "      <th>2</th>\n",
       "      <td>2</td>\n",
       "      <td>0.235020</td>\n",
       "      <td>0.639338</td>\n",
       "      <td>0.480102</td>\n",
       "      <td>0.188145</td>\n",
       "      <td>0.481286</td>\n",
       "      <td>0.733612</td>\n",
       "      <td>0.096468</td>\n",
       "      <td>0.617926</td>\n",
       "    </tr>\n",
       "    <tr>\n",
       "      <th>3</th>\n",
       "      <td>3</td>\n",
       "      <td>0.143668</td>\n",
       "      <td>0.190730</td>\n",
       "      <td>0.358294</td>\n",
       "      <td>0.621458</td>\n",
       "      <td>0.443876</td>\n",
       "      <td>0.445161</td>\n",
       "      <td>0.782817</td>\n",
       "      <td>0.959945</td>\n",
       "    </tr>\n",
       "    <tr>\n",
       "      <th>4</th>\n",
       "      <td>4</td>\n",
       "      <td>0.966900</td>\n",
       "      <td>0.652539</td>\n",
       "      <td>0.027155</td>\n",
       "      <td>0.127262</td>\n",
       "      <td>0.749085</td>\n",
       "      <td>0.144885</td>\n",
       "      <td>0.116189</td>\n",
       "      <td>0.869492</td>\n",
       "    </tr>\n",
       "    <tr>\n",
       "      <th>...</th>\n",
       "      <td>...</td>\n",
       "      <td>...</td>\n",
       "      <td>...</td>\n",
       "      <td>...</td>\n",
       "      <td>...</td>\n",
       "      <td>...</td>\n",
       "      <td>...</td>\n",
       "      <td>...</td>\n",
       "      <td>...</td>\n",
       "    </tr>\n",
       "    <tr>\n",
       "      <th>495</th>\n",
       "      <td>495</td>\n",
       "      <td>0.300927</td>\n",
       "      <td>0.017242</td>\n",
       "      <td>0.797593</td>\n",
       "      <td>0.867120</td>\n",
       "      <td>0.199986</td>\n",
       "      <td>0.384323</td>\n",
       "      <td>0.375722</td>\n",
       "      <td>0.111186</td>\n",
       "    </tr>\n",
       "    <tr>\n",
       "      <th>496</th>\n",
       "      <td>496</td>\n",
       "      <td>0.045063</td>\n",
       "      <td>0.360538</td>\n",
       "      <td>0.466233</td>\n",
       "      <td>0.539983</td>\n",
       "      <td>0.532125</td>\n",
       "      <td>0.155407</td>\n",
       "      <td>0.300705</td>\n",
       "      <td>0.970768</td>\n",
       "    </tr>\n",
       "    <tr>\n",
       "      <th>497</th>\n",
       "      <td>497</td>\n",
       "      <td>0.739372</td>\n",
       "      <td>0.819813</td>\n",
       "      <td>0.994285</td>\n",
       "      <td>0.027276</td>\n",
       "      <td>0.216943</td>\n",
       "      <td>0.914140</td>\n",
       "      <td>0.436838</td>\n",
       "      <td>0.149990</td>\n",
       "    </tr>\n",
       "    <tr>\n",
       "      <th>498</th>\n",
       "      <td>498</td>\n",
       "      <td>0.053763</td>\n",
       "      <td>0.181004</td>\n",
       "      <td>0.839171</td>\n",
       "      <td>0.402482</td>\n",
       "      <td>0.337462</td>\n",
       "      <td>0.158613</td>\n",
       "      <td>0.003219</td>\n",
       "      <td>0.116901</td>\n",
       "    </tr>\n",
       "    <tr>\n",
       "      <th>499</th>\n",
       "      <td>499</td>\n",
       "      <td>0.006770</td>\n",
       "      <td>0.137433</td>\n",
       "      <td>0.975602</td>\n",
       "      <td>0.595814</td>\n",
       "      <td>0.584544</td>\n",
       "      <td>0.712831</td>\n",
       "      <td>0.791675</td>\n",
       "      <td>0.370559</td>\n",
       "    </tr>\n",
       "  </tbody>\n",
       "</table>\n",
       "<p>500 rows × 9 columns</p>\n",
       "</div>"
      ],
      "text/plain": [
       "     Unnamed: 0         a         b         c         d         e         f  \\\n",
       "0             0  0.894014  0.081399  0.169717  0.095980  0.789408  0.489312   \n",
       "1             1  0.246724  0.181505  0.535771  0.378349  0.555784  0.762910   \n",
       "2             2  0.235020  0.639338  0.480102  0.188145  0.481286  0.733612   \n",
       "3             3  0.143668  0.190730  0.358294  0.621458  0.443876  0.445161   \n",
       "4             4  0.966900  0.652539  0.027155  0.127262  0.749085  0.144885   \n",
       "..          ...       ...       ...       ...       ...       ...       ...   \n",
       "495         495  0.300927  0.017242  0.797593  0.867120  0.199986  0.384323   \n",
       "496         496  0.045063  0.360538  0.466233  0.539983  0.532125  0.155407   \n",
       "497         497  0.739372  0.819813  0.994285  0.027276  0.216943  0.914140   \n",
       "498         498  0.053763  0.181004  0.839171  0.402482  0.337462  0.158613   \n",
       "499         499  0.006770  0.137433  0.975602  0.595814  0.584544  0.712831   \n",
       "\n",
       "            g         h  \n",
       "0    0.240917  0.047295  \n",
       "1    0.671358  0.726876  \n",
       "2    0.096468  0.617926  \n",
       "3    0.782817  0.959945  \n",
       "4    0.116189  0.869492  \n",
       "..        ...       ...  \n",
       "495  0.375722  0.111186  \n",
       "496  0.300705  0.970768  \n",
       "497  0.436838  0.149990  \n",
       "498  0.003219  0.116901  \n",
       "499  0.791675  0.370559  \n",
       "\n",
       "[500 rows x 9 columns]"
      ]
     },
     "execution_count": 258,
     "metadata": {},
     "output_type": "execute_result"
    }
   ],
   "source": [
    "read = pd.read_csv(\"timepass.csv\")\n",
    "read"
   ]
  },
  {
   "cell_type": "code",
   "execution_count": 259,
   "id": "57a56ae4-40f0-4aa7-aecd-c87214e7d26b",
   "metadata": {},
   "outputs": [],
   "source": [
    "df.to_csv(\"Index_timepass.csv\", index=False)"
   ]
  },
  {
   "cell_type": "code",
   "execution_count": 260,
   "id": "5f305df4-5648-4cc2-bebc-25538c947325",
   "metadata": {},
   "outputs": [
    {
     "data": {
      "text/html": [
       "<div>\n",
       "<style scoped>\n",
       "    .dataframe tbody tr th:only-of-type {\n",
       "        vertical-align: middle;\n",
       "    }\n",
       "\n",
       "    .dataframe tbody tr th {\n",
       "        vertical-align: top;\n",
       "    }\n",
       "\n",
       "    .dataframe thead th {\n",
       "        text-align: right;\n",
       "    }\n",
       "</style>\n",
       "<table border=\"1\" class=\"dataframe\">\n",
       "  <thead>\n",
       "    <tr style=\"text-align: right;\">\n",
       "      <th></th>\n",
       "      <th>a</th>\n",
       "      <th>b</th>\n",
       "      <th>c</th>\n",
       "      <th>d</th>\n",
       "      <th>e</th>\n",
       "      <th>f</th>\n",
       "      <th>g</th>\n",
       "      <th>h</th>\n",
       "    </tr>\n",
       "  </thead>\n",
       "  <tbody>\n",
       "    <tr>\n",
       "      <th>0</th>\n",
       "      <td>0.894014</td>\n",
       "      <td>0.081399</td>\n",
       "      <td>0.169717</td>\n",
       "      <td>0.095980</td>\n",
       "      <td>0.789408</td>\n",
       "      <td>0.489312</td>\n",
       "      <td>0.240917</td>\n",
       "      <td>0.047295</td>\n",
       "    </tr>\n",
       "    <tr>\n",
       "      <th>1</th>\n",
       "      <td>0.246724</td>\n",
       "      <td>0.181505</td>\n",
       "      <td>0.535771</td>\n",
       "      <td>0.378349</td>\n",
       "      <td>0.555784</td>\n",
       "      <td>0.762910</td>\n",
       "      <td>0.671358</td>\n",
       "      <td>0.726876</td>\n",
       "    </tr>\n",
       "    <tr>\n",
       "      <th>2</th>\n",
       "      <td>0.235020</td>\n",
       "      <td>0.639338</td>\n",
       "      <td>0.480102</td>\n",
       "      <td>0.188145</td>\n",
       "      <td>0.481286</td>\n",
       "      <td>0.733612</td>\n",
       "      <td>0.096468</td>\n",
       "      <td>0.617926</td>\n",
       "    </tr>\n",
       "    <tr>\n",
       "      <th>3</th>\n",
       "      <td>0.143668</td>\n",
       "      <td>0.190730</td>\n",
       "      <td>0.358294</td>\n",
       "      <td>0.621458</td>\n",
       "      <td>0.443876</td>\n",
       "      <td>0.445161</td>\n",
       "      <td>0.782817</td>\n",
       "      <td>0.959945</td>\n",
       "    </tr>\n",
       "    <tr>\n",
       "      <th>4</th>\n",
       "      <td>0.966900</td>\n",
       "      <td>0.652539</td>\n",
       "      <td>0.027155</td>\n",
       "      <td>0.127262</td>\n",
       "      <td>0.749085</td>\n",
       "      <td>0.144885</td>\n",
       "      <td>0.116189</td>\n",
       "      <td>0.869492</td>\n",
       "    </tr>\n",
       "    <tr>\n",
       "      <th>...</th>\n",
       "      <td>...</td>\n",
       "      <td>...</td>\n",
       "      <td>...</td>\n",
       "      <td>...</td>\n",
       "      <td>...</td>\n",
       "      <td>...</td>\n",
       "      <td>...</td>\n",
       "      <td>...</td>\n",
       "    </tr>\n",
       "    <tr>\n",
       "      <th>495</th>\n",
       "      <td>0.300927</td>\n",
       "      <td>0.017242</td>\n",
       "      <td>0.797593</td>\n",
       "      <td>0.867120</td>\n",
       "      <td>0.199986</td>\n",
       "      <td>0.384323</td>\n",
       "      <td>0.375722</td>\n",
       "      <td>0.111186</td>\n",
       "    </tr>\n",
       "    <tr>\n",
       "      <th>496</th>\n",
       "      <td>0.045063</td>\n",
       "      <td>0.360538</td>\n",
       "      <td>0.466233</td>\n",
       "      <td>0.539983</td>\n",
       "      <td>0.532125</td>\n",
       "      <td>0.155407</td>\n",
       "      <td>0.300705</td>\n",
       "      <td>0.970768</td>\n",
       "    </tr>\n",
       "    <tr>\n",
       "      <th>497</th>\n",
       "      <td>0.739372</td>\n",
       "      <td>0.819813</td>\n",
       "      <td>0.994285</td>\n",
       "      <td>0.027276</td>\n",
       "      <td>0.216943</td>\n",
       "      <td>0.914140</td>\n",
       "      <td>0.436838</td>\n",
       "      <td>0.149990</td>\n",
       "    </tr>\n",
       "    <tr>\n",
       "      <th>498</th>\n",
       "      <td>0.053763</td>\n",
       "      <td>0.181004</td>\n",
       "      <td>0.839171</td>\n",
       "      <td>0.402482</td>\n",
       "      <td>0.337462</td>\n",
       "      <td>0.158613</td>\n",
       "      <td>0.003219</td>\n",
       "      <td>0.116901</td>\n",
       "    </tr>\n",
       "    <tr>\n",
       "      <th>499</th>\n",
       "      <td>0.006770</td>\n",
       "      <td>0.137433</td>\n",
       "      <td>0.975602</td>\n",
       "      <td>0.595814</td>\n",
       "      <td>0.584544</td>\n",
       "      <td>0.712831</td>\n",
       "      <td>0.791675</td>\n",
       "      <td>0.370559</td>\n",
       "    </tr>\n",
       "  </tbody>\n",
       "</table>\n",
       "<p>500 rows × 8 columns</p>\n",
       "</div>"
      ],
      "text/plain": [
       "            a         b         c         d         e         f         g  \\\n",
       "0    0.894014  0.081399  0.169717  0.095980  0.789408  0.489312  0.240917   \n",
       "1    0.246724  0.181505  0.535771  0.378349  0.555784  0.762910  0.671358   \n",
       "2    0.235020  0.639338  0.480102  0.188145  0.481286  0.733612  0.096468   \n",
       "3    0.143668  0.190730  0.358294  0.621458  0.443876  0.445161  0.782817   \n",
       "4    0.966900  0.652539  0.027155  0.127262  0.749085  0.144885  0.116189   \n",
       "..        ...       ...       ...       ...       ...       ...       ...   \n",
       "495  0.300927  0.017242  0.797593  0.867120  0.199986  0.384323  0.375722   \n",
       "496  0.045063  0.360538  0.466233  0.539983  0.532125  0.155407  0.300705   \n",
       "497  0.739372  0.819813  0.994285  0.027276  0.216943  0.914140  0.436838   \n",
       "498  0.053763  0.181004  0.839171  0.402482  0.337462  0.158613  0.003219   \n",
       "499  0.006770  0.137433  0.975602  0.595814  0.584544  0.712831  0.791675   \n",
       "\n",
       "            h  \n",
       "0    0.047295  \n",
       "1    0.726876  \n",
       "2    0.617926  \n",
       "3    0.959945  \n",
       "4    0.869492  \n",
       "..        ...  \n",
       "495  0.111186  \n",
       "496  0.970768  \n",
       "497  0.149990  \n",
       "498  0.116901  \n",
       "499  0.370559  \n",
       "\n",
       "[500 rows x 8 columns]"
      ]
     },
     "execution_count": 260,
     "metadata": {},
     "output_type": "execute_result"
    }
   ],
   "source": [
    "readIndex = pd.read_csv(\"Index_timepass.csv\")\n",
    "readIndex"
   ]
  },
  {
   "cell_type": "code",
   "execution_count": 261,
   "id": "760d1939-7f83-4789-9ac0-73dca4f5f925",
   "metadata": {},
   "outputs": [
    {
     "data": {
      "text/html": [
       "<div>\n",
       "<style scoped>\n",
       "    .dataframe tbody tr th:only-of-type {\n",
       "        vertical-align: middle;\n",
       "    }\n",
       "\n",
       "    .dataframe tbody tr th {\n",
       "        vertical-align: top;\n",
       "    }\n",
       "\n",
       "    .dataframe thead th {\n",
       "        text-align: right;\n",
       "    }\n",
       "</style>\n",
       "<table border=\"1\" class=\"dataframe\">\n",
       "  <thead>\n",
       "    <tr style=\"text-align: right;\">\n",
       "      <th></th>\n",
       "      <th>Unnamed: 0</th>\n",
       "      <th>a</th>\n",
       "      <th>b</th>\n",
       "      <th>c</th>\n",
       "      <th>d</th>\n",
       "      <th>e</th>\n",
       "      <th>f</th>\n",
       "      <th>g</th>\n",
       "      <th>h</th>\n",
       "    </tr>\n",
       "  </thead>\n",
       "  <tbody>\n",
       "    <tr>\n",
       "      <th>0</th>\n",
       "      <td>0</td>\n",
       "      <td>0.894014</td>\n",
       "      <td>0.081399</td>\n",
       "      <td>0.169717</td>\n",
       "      <td>0.095980</td>\n",
       "      <td>0.789408</td>\n",
       "      <td>0.489312</td>\n",
       "      <td>0.240917</td>\n",
       "      <td>0.047295</td>\n",
       "    </tr>\n",
       "    <tr>\n",
       "      <th>1</th>\n",
       "      <td>1</td>\n",
       "      <td>0.246724</td>\n",
       "      <td>0.181505</td>\n",
       "      <td>0.535771</td>\n",
       "      <td>0.378349</td>\n",
       "      <td>0.555784</td>\n",
       "      <td>0.762910</td>\n",
       "      <td>0.671358</td>\n",
       "      <td>0.726876</td>\n",
       "    </tr>\n",
       "    <tr>\n",
       "      <th>2</th>\n",
       "      <td>2</td>\n",
       "      <td>0.235020</td>\n",
       "      <td>0.639338</td>\n",
       "      <td>0.480102</td>\n",
       "      <td>0.188145</td>\n",
       "      <td>0.481286</td>\n",
       "      <td>0.733612</td>\n",
       "      <td>0.096468</td>\n",
       "      <td>0.617926</td>\n",
       "    </tr>\n",
       "    <tr>\n",
       "      <th>3</th>\n",
       "      <td>3</td>\n",
       "      <td>0.143668</td>\n",
       "      <td>0.190730</td>\n",
       "      <td>0.358294</td>\n",
       "      <td>0.621458</td>\n",
       "      <td>0.443876</td>\n",
       "      <td>0.445161</td>\n",
       "      <td>0.782817</td>\n",
       "      <td>0.959945</td>\n",
       "    </tr>\n",
       "    <tr>\n",
       "      <th>4</th>\n",
       "      <td>4</td>\n",
       "      <td>0.966900</td>\n",
       "      <td>0.652539</td>\n",
       "      <td>0.027155</td>\n",
       "      <td>0.127262</td>\n",
       "      <td>0.749085</td>\n",
       "      <td>0.144885</td>\n",
       "      <td>0.116189</td>\n",
       "      <td>0.869492</td>\n",
       "    </tr>\n",
       "    <tr>\n",
       "      <th>...</th>\n",
       "      <td>...</td>\n",
       "      <td>...</td>\n",
       "      <td>...</td>\n",
       "      <td>...</td>\n",
       "      <td>...</td>\n",
       "      <td>...</td>\n",
       "      <td>...</td>\n",
       "      <td>...</td>\n",
       "      <td>...</td>\n",
       "    </tr>\n",
       "    <tr>\n",
       "      <th>495</th>\n",
       "      <td>495</td>\n",
       "      <td>0.300927</td>\n",
       "      <td>0.017242</td>\n",
       "      <td>0.797593</td>\n",
       "      <td>0.867120</td>\n",
       "      <td>0.199986</td>\n",
       "      <td>0.384323</td>\n",
       "      <td>0.375722</td>\n",
       "      <td>0.111186</td>\n",
       "    </tr>\n",
       "    <tr>\n",
       "      <th>496</th>\n",
       "      <td>496</td>\n",
       "      <td>0.045063</td>\n",
       "      <td>0.360538</td>\n",
       "      <td>0.466233</td>\n",
       "      <td>0.539983</td>\n",
       "      <td>0.532125</td>\n",
       "      <td>0.155407</td>\n",
       "      <td>0.300705</td>\n",
       "      <td>0.970768</td>\n",
       "    </tr>\n",
       "    <tr>\n",
       "      <th>497</th>\n",
       "      <td>497</td>\n",
       "      <td>0.739372</td>\n",
       "      <td>0.819813</td>\n",
       "      <td>0.994285</td>\n",
       "      <td>0.027276</td>\n",
       "      <td>0.216943</td>\n",
       "      <td>0.914140</td>\n",
       "      <td>0.436838</td>\n",
       "      <td>0.149990</td>\n",
       "    </tr>\n",
       "    <tr>\n",
       "      <th>498</th>\n",
       "      <td>498</td>\n",
       "      <td>0.053763</td>\n",
       "      <td>0.181004</td>\n",
       "      <td>0.839171</td>\n",
       "      <td>0.402482</td>\n",
       "      <td>0.337462</td>\n",
       "      <td>0.158613</td>\n",
       "      <td>0.003219</td>\n",
       "      <td>0.116901</td>\n",
       "    </tr>\n",
       "    <tr>\n",
       "      <th>499</th>\n",
       "      <td>499</td>\n",
       "      <td>0.006770</td>\n",
       "      <td>0.137433</td>\n",
       "      <td>0.975602</td>\n",
       "      <td>0.595814</td>\n",
       "      <td>0.584544</td>\n",
       "      <td>0.712831</td>\n",
       "      <td>0.791675</td>\n",
       "      <td>0.370559</td>\n",
       "    </tr>\n",
       "  </tbody>\n",
       "</table>\n",
       "<p>500 rows × 9 columns</p>\n",
       "</div>"
      ],
      "text/plain": [
       "     Unnamed: 0         a         b         c         d         e         f  \\\n",
       "0             0  0.894014  0.081399  0.169717  0.095980  0.789408  0.489312   \n",
       "1             1  0.246724  0.181505  0.535771  0.378349  0.555784  0.762910   \n",
       "2             2  0.235020  0.639338  0.480102  0.188145  0.481286  0.733612   \n",
       "3             3  0.143668  0.190730  0.358294  0.621458  0.443876  0.445161   \n",
       "4             4  0.966900  0.652539  0.027155  0.127262  0.749085  0.144885   \n",
       "..          ...       ...       ...       ...       ...       ...       ...   \n",
       "495         495  0.300927  0.017242  0.797593  0.867120  0.199986  0.384323   \n",
       "496         496  0.045063  0.360538  0.466233  0.539983  0.532125  0.155407   \n",
       "497         497  0.739372  0.819813  0.994285  0.027276  0.216943  0.914140   \n",
       "498         498  0.053763  0.181004  0.839171  0.402482  0.337462  0.158613   \n",
       "499         499  0.006770  0.137433  0.975602  0.595814  0.584544  0.712831   \n",
       "\n",
       "            g         h  \n",
       "0    0.240917  0.047295  \n",
       "1    0.671358  0.726876  \n",
       "2    0.096468  0.617926  \n",
       "3    0.782817  0.959945  \n",
       "4    0.116189  0.869492  \n",
       "..        ...       ...  \n",
       "495  0.375722  0.111186  \n",
       "496  0.300705  0.970768  \n",
       "497  0.436838  0.149990  \n",
       "498  0.003219  0.116901  \n",
       "499  0.791675  0.370559  \n",
       "\n",
       "[500 rows x 9 columns]"
      ]
     },
     "execution_count": 261,
     "metadata": {},
     "output_type": "execute_result"
    }
   ],
   "source": [
    "read = pd.read_csv(\"timepass.csv\")\n",
    "read"
   ]
  },
  {
   "cell_type": "code",
   "execution_count": 262,
   "id": "3bf4b42d-2a40-4804-8fce-c000ea9157f3",
   "metadata": {},
   "outputs": [
    {
     "data": {
      "text/plain": [
       "['Unnamed: 0', 'a', 'b', 'c', 'd', 'e', 'f', 'g', 'h']"
      ]
     },
     "execution_count": 262,
     "metadata": {},
     "output_type": "execute_result"
    }
   ],
   "source": [
    "read.columns.to_list()"
   ]
  },
  {
   "cell_type": "code",
   "execution_count": null,
   "id": "9f826200-b8bc-4154-ad24-57c24291a9b9",
   "metadata": {},
   "outputs": [],
   "source": []
  },
  {
   "cell_type": "code",
   "execution_count": 263,
   "id": "dd14a712-6cb1-43f7-931f-87a7e2815c58",
   "metadata": {},
   "outputs": [
    {
     "data": {
      "text/html": [
       "<div>\n",
       "<style scoped>\n",
       "    .dataframe tbody tr th:only-of-type {\n",
       "        vertical-align: middle;\n",
       "    }\n",
       "\n",
       "    .dataframe tbody tr th {\n",
       "        vertical-align: top;\n",
       "    }\n",
       "\n",
       "    .dataframe thead th {\n",
       "        text-align: right;\n",
       "    }\n",
       "</style>\n",
       "<table border=\"1\" class=\"dataframe\">\n",
       "  <thead>\n",
       "    <tr style=\"text-align: right;\">\n",
       "      <th></th>\n",
       "      <th>a</th>\n",
       "      <th>b</th>\n",
       "      <th>c</th>\n",
       "      <th>d</th>\n",
       "      <th>e</th>\n",
       "      <th>f</th>\n",
       "      <th>g</th>\n",
       "      <th>h</th>\n",
       "    </tr>\n",
       "  </thead>\n",
       "  <tbody>\n",
       "    <tr>\n",
       "      <th>0</th>\n",
       "      <td>0.894014</td>\n",
       "      <td>0.081399</td>\n",
       "      <td>0.169717</td>\n",
       "      <td>0.095980</td>\n",
       "      <td>0.789408</td>\n",
       "      <td>0.489312</td>\n",
       "      <td>0.240917</td>\n",
       "      <td>0.047295</td>\n",
       "    </tr>\n",
       "    <tr>\n",
       "      <th>1</th>\n",
       "      <td>0.246724</td>\n",
       "      <td>0.181505</td>\n",
       "      <td>0.535771</td>\n",
       "      <td>0.378349</td>\n",
       "      <td>0.555784</td>\n",
       "      <td>0.762910</td>\n",
       "      <td>0.671358</td>\n",
       "      <td>0.726876</td>\n",
       "    </tr>\n",
       "    <tr>\n",
       "      <th>2</th>\n",
       "      <td>0.235020</td>\n",
       "      <td>0.639338</td>\n",
       "      <td>0.480102</td>\n",
       "      <td>0.188145</td>\n",
       "      <td>0.481286</td>\n",
       "      <td>0.733612</td>\n",
       "      <td>0.096468</td>\n",
       "      <td>0.617926</td>\n",
       "    </tr>\n",
       "    <tr>\n",
       "      <th>3</th>\n",
       "      <td>0.143668</td>\n",
       "      <td>0.190730</td>\n",
       "      <td>0.358294</td>\n",
       "      <td>0.621458</td>\n",
       "      <td>0.443876</td>\n",
       "      <td>0.445161</td>\n",
       "      <td>0.782817</td>\n",
       "      <td>0.959945</td>\n",
       "    </tr>\n",
       "    <tr>\n",
       "      <th>4</th>\n",
       "      <td>0.966900</td>\n",
       "      <td>0.652539</td>\n",
       "      <td>0.027155</td>\n",
       "      <td>0.127262</td>\n",
       "      <td>0.749085</td>\n",
       "      <td>0.144885</td>\n",
       "      <td>0.116189</td>\n",
       "      <td>0.869492</td>\n",
       "    </tr>\n",
       "  </tbody>\n",
       "</table>\n",
       "</div>"
      ],
      "text/plain": [
       "          a         b         c         d         e         f         g  \\\n",
       "0  0.894014  0.081399  0.169717  0.095980  0.789408  0.489312  0.240917   \n",
       "1  0.246724  0.181505  0.535771  0.378349  0.555784  0.762910  0.671358   \n",
       "2  0.235020  0.639338  0.480102  0.188145  0.481286  0.733612  0.096468   \n",
       "3  0.143668  0.190730  0.358294  0.621458  0.443876  0.445161  0.782817   \n",
       "4  0.966900  0.652539  0.027155  0.127262  0.749085  0.144885  0.116189   \n",
       "\n",
       "          h  \n",
       "0  0.047295  \n",
       "1  0.726876  \n",
       "2  0.617926  \n",
       "3  0.959945  \n",
       "4  0.869492  "
      ]
     },
     "execution_count": 263,
     "metadata": {},
     "output_type": "execute_result"
    }
   ],
   "source": [
    "df.head()"
   ]
  },
  {
   "cell_type": "code",
   "execution_count": 264,
   "id": "451c1f4d-da39-4595-9041-cde704b8b8aa",
   "metadata": {},
   "outputs": [
    {
     "data": {
      "text/html": [
       "<div>\n",
       "<style scoped>\n",
       "    .dataframe tbody tr th:only-of-type {\n",
       "        vertical-align: middle;\n",
       "    }\n",
       "\n",
       "    .dataframe tbody tr th {\n",
       "        vertical-align: top;\n",
       "    }\n",
       "\n",
       "    .dataframe thead th {\n",
       "        text-align: right;\n",
       "    }\n",
       "</style>\n",
       "<table border=\"1\" class=\"dataframe\">\n",
       "  <thead>\n",
       "    <tr style=\"text-align: right;\">\n",
       "      <th></th>\n",
       "      <th>a</th>\n",
       "      <th>b</th>\n",
       "      <th>c</th>\n",
       "      <th>d</th>\n",
       "      <th>e</th>\n",
       "      <th>f</th>\n",
       "      <th>g</th>\n",
       "      <th>h</th>\n",
       "    </tr>\n",
       "  </thead>\n",
       "  <tbody>\n",
       "    <tr>\n",
       "      <th>495</th>\n",
       "      <td>0.300927</td>\n",
       "      <td>0.017242</td>\n",
       "      <td>0.797593</td>\n",
       "      <td>0.867120</td>\n",
       "      <td>0.199986</td>\n",
       "      <td>0.384323</td>\n",
       "      <td>0.375722</td>\n",
       "      <td>0.111186</td>\n",
       "    </tr>\n",
       "    <tr>\n",
       "      <th>496</th>\n",
       "      <td>0.045063</td>\n",
       "      <td>0.360538</td>\n",
       "      <td>0.466233</td>\n",
       "      <td>0.539983</td>\n",
       "      <td>0.532125</td>\n",
       "      <td>0.155407</td>\n",
       "      <td>0.300705</td>\n",
       "      <td>0.970768</td>\n",
       "    </tr>\n",
       "    <tr>\n",
       "      <th>497</th>\n",
       "      <td>0.739372</td>\n",
       "      <td>0.819813</td>\n",
       "      <td>0.994285</td>\n",
       "      <td>0.027276</td>\n",
       "      <td>0.216943</td>\n",
       "      <td>0.914140</td>\n",
       "      <td>0.436838</td>\n",
       "      <td>0.149990</td>\n",
       "    </tr>\n",
       "    <tr>\n",
       "      <th>498</th>\n",
       "      <td>0.053763</td>\n",
       "      <td>0.181004</td>\n",
       "      <td>0.839171</td>\n",
       "      <td>0.402482</td>\n",
       "      <td>0.337462</td>\n",
       "      <td>0.158613</td>\n",
       "      <td>0.003219</td>\n",
       "      <td>0.116901</td>\n",
       "    </tr>\n",
       "    <tr>\n",
       "      <th>499</th>\n",
       "      <td>0.006770</td>\n",
       "      <td>0.137433</td>\n",
       "      <td>0.975602</td>\n",
       "      <td>0.595814</td>\n",
       "      <td>0.584544</td>\n",
       "      <td>0.712831</td>\n",
       "      <td>0.791675</td>\n",
       "      <td>0.370559</td>\n",
       "    </tr>\n",
       "  </tbody>\n",
       "</table>\n",
       "</div>"
      ],
      "text/plain": [
       "            a         b         c         d         e         f         g  \\\n",
       "495  0.300927  0.017242  0.797593  0.867120  0.199986  0.384323  0.375722   \n",
       "496  0.045063  0.360538  0.466233  0.539983  0.532125  0.155407  0.300705   \n",
       "497  0.739372  0.819813  0.994285  0.027276  0.216943  0.914140  0.436838   \n",
       "498  0.053763  0.181004  0.839171  0.402482  0.337462  0.158613  0.003219   \n",
       "499  0.006770  0.137433  0.975602  0.595814  0.584544  0.712831  0.791675   \n",
       "\n",
       "            h  \n",
       "495  0.111186  \n",
       "496  0.970768  \n",
       "497  0.149990  \n",
       "498  0.116901  \n",
       "499  0.370559  "
      ]
     },
     "execution_count": 264,
     "metadata": {},
     "output_type": "execute_result"
    }
   ],
   "source": [
    "df.tail()"
   ]
  },
  {
   "cell_type": "code",
   "execution_count": 265,
   "id": "0f5e7e31-0787-4bf7-9f80-beaefe571328",
   "metadata": {},
   "outputs": [
    {
     "data": {
      "text/html": [
       "<div>\n",
       "<style scoped>\n",
       "    .dataframe tbody tr th:only-of-type {\n",
       "        vertical-align: middle;\n",
       "    }\n",
       "\n",
       "    .dataframe tbody tr th {\n",
       "        vertical-align: top;\n",
       "    }\n",
       "\n",
       "    .dataframe thead th {\n",
       "        text-align: right;\n",
       "    }\n",
       "</style>\n",
       "<table border=\"1\" class=\"dataframe\">\n",
       "  <thead>\n",
       "    <tr style=\"text-align: right;\">\n",
       "      <th></th>\n",
       "      <th>a</th>\n",
       "      <th>b</th>\n",
       "      <th>c</th>\n",
       "      <th>d</th>\n",
       "      <th>e</th>\n",
       "      <th>f</th>\n",
       "      <th>g</th>\n",
       "      <th>h</th>\n",
       "    </tr>\n",
       "  </thead>\n",
       "  <tbody>\n",
       "    <tr>\n",
       "      <th>count</th>\n",
       "      <td>500.000000</td>\n",
       "      <td>500.000000</td>\n",
       "      <td>500.000000</td>\n",
       "      <td>500.000000</td>\n",
       "      <td>500.000000</td>\n",
       "      <td>500.000000</td>\n",
       "      <td>500.000000</td>\n",
       "      <td>500.000000</td>\n",
       "    </tr>\n",
       "    <tr>\n",
       "      <th>mean</th>\n",
       "      <td>0.499472</td>\n",
       "      <td>0.474134</td>\n",
       "      <td>0.520927</td>\n",
       "      <td>0.476294</td>\n",
       "      <td>0.494478</td>\n",
       "      <td>0.518283</td>\n",
       "      <td>0.498255</td>\n",
       "      <td>0.493785</td>\n",
       "    </tr>\n",
       "    <tr>\n",
       "      <th>std</th>\n",
       "      <td>0.291347</td>\n",
       "      <td>0.291524</td>\n",
       "      <td>0.289818</td>\n",
       "      <td>0.283074</td>\n",
       "      <td>0.288471</td>\n",
       "      <td>0.279741</td>\n",
       "      <td>0.290572</td>\n",
       "      <td>0.297988</td>\n",
       "    </tr>\n",
       "    <tr>\n",
       "      <th>min</th>\n",
       "      <td>0.000254</td>\n",
       "      <td>0.000408</td>\n",
       "      <td>0.001121</td>\n",
       "      <td>0.000612</td>\n",
       "      <td>0.000571</td>\n",
       "      <td>0.000270</td>\n",
       "      <td>0.003219</td>\n",
       "      <td>0.000986</td>\n",
       "    </tr>\n",
       "    <tr>\n",
       "      <th>25%</th>\n",
       "      <td>0.234812</td>\n",
       "      <td>0.210978</td>\n",
       "      <td>0.270037</td>\n",
       "      <td>0.248810</td>\n",
       "      <td>0.253592</td>\n",
       "      <td>0.279977</td>\n",
       "      <td>0.250512</td>\n",
       "      <td>0.211000</td>\n",
       "    </tr>\n",
       "    <tr>\n",
       "      <th>50%</th>\n",
       "      <td>0.508785</td>\n",
       "      <td>0.476862</td>\n",
       "      <td>0.536926</td>\n",
       "      <td>0.453163</td>\n",
       "      <td>0.461003</td>\n",
       "      <td>0.531939</td>\n",
       "      <td>0.483291</td>\n",
       "      <td>0.493787</td>\n",
       "    </tr>\n",
       "    <tr>\n",
       "      <th>75%</th>\n",
       "      <td>0.749668</td>\n",
       "      <td>0.722907</td>\n",
       "      <td>0.772139</td>\n",
       "      <td>0.712691</td>\n",
       "      <td>0.748561</td>\n",
       "      <td>0.753982</td>\n",
       "      <td>0.762813</td>\n",
       "      <td>0.751129</td>\n",
       "    </tr>\n",
       "    <tr>\n",
       "      <th>max</th>\n",
       "      <td>0.996422</td>\n",
       "      <td>0.997542</td>\n",
       "      <td>0.998182</td>\n",
       "      <td>0.995633</td>\n",
       "      <td>0.999556</td>\n",
       "      <td>0.998743</td>\n",
       "      <td>0.998830</td>\n",
       "      <td>0.999434</td>\n",
       "    </tr>\n",
       "  </tbody>\n",
       "</table>\n",
       "</div>"
      ],
      "text/plain": [
       "                a           b           c           d           e           f  \\\n",
       "count  500.000000  500.000000  500.000000  500.000000  500.000000  500.000000   \n",
       "mean     0.499472    0.474134    0.520927    0.476294    0.494478    0.518283   \n",
       "std      0.291347    0.291524    0.289818    0.283074    0.288471    0.279741   \n",
       "min      0.000254    0.000408    0.001121    0.000612    0.000571    0.000270   \n",
       "25%      0.234812    0.210978    0.270037    0.248810    0.253592    0.279977   \n",
       "50%      0.508785    0.476862    0.536926    0.453163    0.461003    0.531939   \n",
       "75%      0.749668    0.722907    0.772139    0.712691    0.748561    0.753982   \n",
       "max      0.996422    0.997542    0.998182    0.995633    0.999556    0.998743   \n",
       "\n",
       "                g           h  \n",
       "count  500.000000  500.000000  \n",
       "mean     0.498255    0.493785  \n",
       "std      0.290572    0.297988  \n",
       "min      0.003219    0.000986  \n",
       "25%      0.250512    0.211000  \n",
       "50%      0.483291    0.493787  \n",
       "75%      0.762813    0.751129  \n",
       "max      0.998830    0.999434  "
      ]
     },
     "execution_count": 265,
     "metadata": {},
     "output_type": "execute_result"
    }
   ],
   "source": [
    "df.describe()"
   ]
  },
  {
   "cell_type": "code",
   "execution_count": 228,
   "id": "6818b704-be89-460b-a240-c2e4f5f3c4a8",
   "metadata": {},
   "outputs": [
    {
     "data": {
      "text/plain": [
       "0    0.000254\n",
       "1    0.000408\n",
       "2    0.001121\n",
       "3    0.000612\n",
       "4    0.000571\n",
       "5    0.000270\n",
       "6    0.003219\n",
       "7    0.000986\n",
       "dtype: float64"
      ]
     },
     "execution_count": 228,
     "metadata": {},
     "output_type": "execute_result"
    }
   ],
   "source": [
    "df.min()"
   ]
  },
  {
   "cell_type": "code",
   "execution_count": 266,
   "id": "3ce53326-6951-476b-b0c2-09f52bf1ce0f",
   "metadata": {},
   "outputs": [
    {
     "data": {
      "text/plain": [
       "a    500\n",
       "b    500\n",
       "c    500\n",
       "d    500\n",
       "e    500\n",
       "f    500\n",
       "g    500\n",
       "h    500\n",
       "dtype: int64"
      ]
     },
     "execution_count": 266,
     "metadata": {},
     "output_type": "execute_result"
    }
   ],
   "source": [
    "df.count()"
   ]
  },
  {
   "cell_type": "code",
   "execution_count": 267,
   "id": "b5d7f215-02a9-4303-9399-d6c689e71293",
   "metadata": {},
   "outputs": [
    {
     "data": {
      "text/plain": [
       "a    0.996422\n",
       "b    0.997542\n",
       "c    0.998182\n",
       "d    0.995633\n",
       "e    0.999556\n",
       "f    0.998743\n",
       "g    0.998830\n",
       "h    0.999434\n",
       "dtype: float64"
      ]
     },
     "execution_count": 267,
     "metadata": {},
     "output_type": "execute_result"
    }
   ],
   "source": [
    "df.max()"
   ]
  },
  {
   "cell_type": "code",
   "execution_count": 268,
   "id": "95190bfa-37cb-468b-92bd-170888ccfa52",
   "metadata": {},
   "outputs": [
    {
     "data": {
      "text/html": [
       "<div>\n",
       "<style scoped>\n",
       "    .dataframe tbody tr th:only-of-type {\n",
       "        vertical-align: middle;\n",
       "    }\n",
       "\n",
       "    .dataframe tbody tr th {\n",
       "        vertical-align: top;\n",
       "    }\n",
       "\n",
       "    .dataframe thead th {\n",
       "        text-align: right;\n",
       "    }\n",
       "</style>\n",
       "<table border=\"1\" class=\"dataframe\">\n",
       "  <thead>\n",
       "    <tr style=\"text-align: right;\">\n",
       "      <th></th>\n",
       "      <th>a</th>\n",
       "      <th>b</th>\n",
       "      <th>c</th>\n",
       "      <th>d</th>\n",
       "      <th>e</th>\n",
       "      <th>f</th>\n",
       "      <th>g</th>\n",
       "      <th>h</th>\n",
       "    </tr>\n",
       "  </thead>\n",
       "  <tbody>\n",
       "    <tr>\n",
       "      <th>0</th>\n",
       "      <td>0.894014</td>\n",
       "      <td>0.081399</td>\n",
       "      <td>0.169717</td>\n",
       "      <td>0.095980</td>\n",
       "      <td>0.789408</td>\n",
       "      <td>0.489312</td>\n",
       "      <td>0.240917</td>\n",
       "      <td>0.047295</td>\n",
       "    </tr>\n",
       "    <tr>\n",
       "      <th>1</th>\n",
       "      <td>0.246724</td>\n",
       "      <td>0.181505</td>\n",
       "      <td>0.535771</td>\n",
       "      <td>0.378349</td>\n",
       "      <td>0.555784</td>\n",
       "      <td>0.762910</td>\n",
       "      <td>0.671358</td>\n",
       "      <td>0.726876</td>\n",
       "    </tr>\n",
       "    <tr>\n",
       "      <th>2</th>\n",
       "      <td>0.235020</td>\n",
       "      <td>0.639338</td>\n",
       "      <td>0.480102</td>\n",
       "      <td>0.188145</td>\n",
       "      <td>0.481286</td>\n",
       "      <td>0.733612</td>\n",
       "      <td>0.096468</td>\n",
       "      <td>0.617926</td>\n",
       "    </tr>\n",
       "    <tr>\n",
       "      <th>3</th>\n",
       "      <td>0.143668</td>\n",
       "      <td>0.190730</td>\n",
       "      <td>0.358294</td>\n",
       "      <td>0.621458</td>\n",
       "      <td>0.443876</td>\n",
       "      <td>0.445161</td>\n",
       "      <td>0.782817</td>\n",
       "      <td>0.959945</td>\n",
       "    </tr>\n",
       "    <tr>\n",
       "      <th>4</th>\n",
       "      <td>0.966900</td>\n",
       "      <td>0.652539</td>\n",
       "      <td>0.027155</td>\n",
       "      <td>0.127262</td>\n",
       "      <td>0.749085</td>\n",
       "      <td>0.144885</td>\n",
       "      <td>0.116189</td>\n",
       "      <td>0.869492</td>\n",
       "    </tr>\n",
       "    <tr>\n",
       "      <th>...</th>\n",
       "      <td>...</td>\n",
       "      <td>...</td>\n",
       "      <td>...</td>\n",
       "      <td>...</td>\n",
       "      <td>...</td>\n",
       "      <td>...</td>\n",
       "      <td>...</td>\n",
       "      <td>...</td>\n",
       "    </tr>\n",
       "    <tr>\n",
       "      <th>495</th>\n",
       "      <td>0.300927</td>\n",
       "      <td>0.017242</td>\n",
       "      <td>0.797593</td>\n",
       "      <td>0.867120</td>\n",
       "      <td>0.199986</td>\n",
       "      <td>0.384323</td>\n",
       "      <td>0.375722</td>\n",
       "      <td>0.111186</td>\n",
       "    </tr>\n",
       "    <tr>\n",
       "      <th>496</th>\n",
       "      <td>0.045063</td>\n",
       "      <td>0.360538</td>\n",
       "      <td>0.466233</td>\n",
       "      <td>0.539983</td>\n",
       "      <td>0.532125</td>\n",
       "      <td>0.155407</td>\n",
       "      <td>0.300705</td>\n",
       "      <td>0.970768</td>\n",
       "    </tr>\n",
       "    <tr>\n",
       "      <th>497</th>\n",
       "      <td>0.739372</td>\n",
       "      <td>0.819813</td>\n",
       "      <td>0.994285</td>\n",
       "      <td>0.027276</td>\n",
       "      <td>0.216943</td>\n",
       "      <td>0.914140</td>\n",
       "      <td>0.436838</td>\n",
       "      <td>0.149990</td>\n",
       "    </tr>\n",
       "    <tr>\n",
       "      <th>498</th>\n",
       "      <td>0.053763</td>\n",
       "      <td>0.181004</td>\n",
       "      <td>0.839171</td>\n",
       "      <td>0.402482</td>\n",
       "      <td>0.337462</td>\n",
       "      <td>0.158613</td>\n",
       "      <td>0.003219</td>\n",
       "      <td>0.116901</td>\n",
       "    </tr>\n",
       "    <tr>\n",
       "      <th>499</th>\n",
       "      <td>0.006770</td>\n",
       "      <td>0.137433</td>\n",
       "      <td>0.975602</td>\n",
       "      <td>0.595814</td>\n",
       "      <td>0.584544</td>\n",
       "      <td>0.712831</td>\n",
       "      <td>0.791675</td>\n",
       "      <td>0.370559</td>\n",
       "    </tr>\n",
       "  </tbody>\n",
       "</table>\n",
       "<p>500 rows × 8 columns</p>\n",
       "</div>"
      ],
      "text/plain": [
       "            a         b         c         d         e         f         g  \\\n",
       "0    0.894014  0.081399  0.169717  0.095980  0.789408  0.489312  0.240917   \n",
       "1    0.246724  0.181505  0.535771  0.378349  0.555784  0.762910  0.671358   \n",
       "2    0.235020  0.639338  0.480102  0.188145  0.481286  0.733612  0.096468   \n",
       "3    0.143668  0.190730  0.358294  0.621458  0.443876  0.445161  0.782817   \n",
       "4    0.966900  0.652539  0.027155  0.127262  0.749085  0.144885  0.116189   \n",
       "..        ...       ...       ...       ...       ...       ...       ...   \n",
       "495  0.300927  0.017242  0.797593  0.867120  0.199986  0.384323  0.375722   \n",
       "496  0.045063  0.360538  0.466233  0.539983  0.532125  0.155407  0.300705   \n",
       "497  0.739372  0.819813  0.994285  0.027276  0.216943  0.914140  0.436838   \n",
       "498  0.053763  0.181004  0.839171  0.402482  0.337462  0.158613  0.003219   \n",
       "499  0.006770  0.137433  0.975602  0.595814  0.584544  0.712831  0.791675   \n",
       "\n",
       "            h  \n",
       "0    0.047295  \n",
       "1    0.726876  \n",
       "2    0.617926  \n",
       "3    0.959945  \n",
       "4    0.869492  \n",
       "..        ...  \n",
       "495  0.111186  \n",
       "496  0.970768  \n",
       "497  0.149990  \n",
       "498  0.116901  \n",
       "499  0.370559  \n",
       "\n",
       "[500 rows x 8 columns]"
      ]
     },
     "execution_count": 268,
     "metadata": {},
     "output_type": "execute_result"
    }
   ],
   "source": [
    "pd.read_csv(\"Index_timepass.csv\")"
   ]
  },
  {
   "cell_type": "code",
   "execution_count": 270,
   "id": "ecb99dc4-2b5d-48db-bc42-9c75076fa920",
   "metadata": {},
   "outputs": [
    {
     "data": {
      "text/plain": [
       "0.8940135531183038"
      ]
     },
     "execution_count": 270,
     "metadata": {},
     "output_type": "execute_result"
    }
   ],
   "source": [
    "df.loc[0,'a']  #first"
   ]
  },
  {
   "cell_type": "code",
   "execution_count": 271,
   "id": "e298d02d-771f-4c59-ade2-2ed212f179de",
   "metadata": {},
   "outputs": [
    {
     "data": {
      "text/plain": [
       "0.15861333684543466"
      ]
     },
     "execution_count": 271,
     "metadata": {},
     "output_type": "execute_result"
    }
   ],
   "source": [
    "df.loc[498,'f'] #last"
   ]
  },
  {
   "cell_type": "code",
   "execution_count": 272,
   "id": "1bc2086c-8207-4c1c-9769-76c79c84c89d",
   "metadata": {},
   "outputs": [
    {
     "data": {
      "text/plain": [
       "0.1907295927528977"
      ]
     },
     "execution_count": 272,
     "metadata": {},
     "output_type": "execute_result"
    }
   ],
   "source": [
    "df.loc[3,'b']"
   ]
  },
  {
   "cell_type": "code",
   "execution_count": 246,
   "id": "55f49b9d-4a44-46d3-80dd-529006667548",
   "metadata": {},
   "outputs": [
    {
     "data": {
      "text/html": [
       "<div>\n",
       "<style scoped>\n",
       "    .dataframe tbody tr th:only-of-type {\n",
       "        vertical-align: middle;\n",
       "    }\n",
       "\n",
       "    .dataframe tbody tr th {\n",
       "        vertical-align: top;\n",
       "    }\n",
       "\n",
       "    .dataframe thead th {\n",
       "        text-align: right;\n",
       "    }\n",
       "</style>\n",
       "<table border=\"1\" class=\"dataframe\">\n",
       "  <thead>\n",
       "    <tr style=\"text-align: right;\">\n",
       "      <th></th>\n",
       "      <th>a</th>\n",
       "      <th>b</th>\n",
       "      <th>c</th>\n",
       "      <th>d</th>\n",
       "      <th>e</th>\n",
       "      <th>f</th>\n",
       "      <th>g</th>\n",
       "      <th>h</th>\n",
       "    </tr>\n",
       "  </thead>\n",
       "  <tbody>\n",
       "    <tr>\n",
       "      <th>0</th>\n",
       "      <td>0.894014</td>\n",
       "      <td>0.081399</td>\n",
       "      <td>0.169717</td>\n",
       "      <td>0.095980</td>\n",
       "      <td>0.789408</td>\n",
       "      <td>0.489312</td>\n",
       "      <td>0.240917</td>\n",
       "      <td>0.047295</td>\n",
       "    </tr>\n",
       "    <tr>\n",
       "      <th>1</th>\n",
       "      <td>0.246724</td>\n",
       "      <td>0.181505</td>\n",
       "      <td>0.535771</td>\n",
       "      <td>0.378349</td>\n",
       "      <td>0.555784</td>\n",
       "      <td>0.762910</td>\n",
       "      <td>0.671358</td>\n",
       "      <td>0.726876</td>\n",
       "    </tr>\n",
       "    <tr>\n",
       "      <th>2</th>\n",
       "      <td>0.235020</td>\n",
       "      <td>0.639338</td>\n",
       "      <td>0.480102</td>\n",
       "      <td>0.188145</td>\n",
       "      <td>0.481286</td>\n",
       "      <td>0.733612</td>\n",
       "      <td>0.096468</td>\n",
       "      <td>0.617926</td>\n",
       "    </tr>\n",
       "    <tr>\n",
       "      <th>3</th>\n",
       "      <td>0.143668</td>\n",
       "      <td>0.190730</td>\n",
       "      <td>0.358294</td>\n",
       "      <td>0.621458</td>\n",
       "      <td>0.443876</td>\n",
       "      <td>0.445161</td>\n",
       "      <td>0.782817</td>\n",
       "      <td>0.959945</td>\n",
       "    </tr>\n",
       "    <tr>\n",
       "      <th>4</th>\n",
       "      <td>0.966900</td>\n",
       "      <td>0.652539</td>\n",
       "      <td>0.027155</td>\n",
       "      <td>0.127262</td>\n",
       "      <td>0.749085</td>\n",
       "      <td>0.144885</td>\n",
       "      <td>0.116189</td>\n",
       "      <td>0.869492</td>\n",
       "    </tr>\n",
       "    <tr>\n",
       "      <th>...</th>\n",
       "      <td>...</td>\n",
       "      <td>...</td>\n",
       "      <td>...</td>\n",
       "      <td>...</td>\n",
       "      <td>...</td>\n",
       "      <td>...</td>\n",
       "      <td>...</td>\n",
       "      <td>...</td>\n",
       "    </tr>\n",
       "    <tr>\n",
       "      <th>495</th>\n",
       "      <td>0.300927</td>\n",
       "      <td>0.017242</td>\n",
       "      <td>0.797593</td>\n",
       "      <td>0.867120</td>\n",
       "      <td>0.199986</td>\n",
       "      <td>0.384323</td>\n",
       "      <td>0.375722</td>\n",
       "      <td>0.111186</td>\n",
       "    </tr>\n",
       "    <tr>\n",
       "      <th>496</th>\n",
       "      <td>0.045063</td>\n",
       "      <td>0.360538</td>\n",
       "      <td>0.466233</td>\n",
       "      <td>0.539983</td>\n",
       "      <td>0.532125</td>\n",
       "      <td>0.155407</td>\n",
       "      <td>0.300705</td>\n",
       "      <td>0.970768</td>\n",
       "    </tr>\n",
       "    <tr>\n",
       "      <th>497</th>\n",
       "      <td>0.739372</td>\n",
       "      <td>0.819813</td>\n",
       "      <td>0.994285</td>\n",
       "      <td>0.027276</td>\n",
       "      <td>0.216943</td>\n",
       "      <td>0.914140</td>\n",
       "      <td>0.436838</td>\n",
       "      <td>0.149990</td>\n",
       "    </tr>\n",
       "    <tr>\n",
       "      <th>498</th>\n",
       "      <td>0.053763</td>\n",
       "      <td>0.181004</td>\n",
       "      <td>0.839171</td>\n",
       "      <td>0.402482</td>\n",
       "      <td>0.337462</td>\n",
       "      <td>0.158613</td>\n",
       "      <td>0.003219</td>\n",
       "      <td>0.116901</td>\n",
       "    </tr>\n",
       "    <tr>\n",
       "      <th>499</th>\n",
       "      <td>0.006770</td>\n",
       "      <td>0.137433</td>\n",
       "      <td>0.975602</td>\n",
       "      <td>0.595814</td>\n",
       "      <td>0.584544</td>\n",
       "      <td>0.712831</td>\n",
       "      <td>0.791675</td>\n",
       "      <td>0.370559</td>\n",
       "    </tr>\n",
       "  </tbody>\n",
       "</table>\n",
       "<p>500 rows × 8 columns</p>\n",
       "</div>"
      ],
      "text/plain": [
       "            a         b         c         d         e         f         g  \\\n",
       "0    0.894014  0.081399  0.169717  0.095980  0.789408  0.489312  0.240917   \n",
       "1    0.246724  0.181505  0.535771  0.378349  0.555784  0.762910  0.671358   \n",
       "2    0.235020  0.639338  0.480102  0.188145  0.481286  0.733612  0.096468   \n",
       "3    0.143668  0.190730  0.358294  0.621458  0.443876  0.445161  0.782817   \n",
       "4    0.966900  0.652539  0.027155  0.127262  0.749085  0.144885  0.116189   \n",
       "..        ...       ...       ...       ...       ...       ...       ...   \n",
       "495  0.300927  0.017242  0.797593  0.867120  0.199986  0.384323  0.375722   \n",
       "496  0.045063  0.360538  0.466233  0.539983  0.532125  0.155407  0.300705   \n",
       "497  0.739372  0.819813  0.994285  0.027276  0.216943  0.914140  0.436838   \n",
       "498  0.053763  0.181004  0.839171  0.402482  0.337462  0.158613  0.003219   \n",
       "499  0.006770  0.137433  0.975602  0.595814  0.584544  0.712831  0.791675   \n",
       "\n",
       "            h  \n",
       "0    0.047295  \n",
       "1    0.726876  \n",
       "2    0.617926  \n",
       "3    0.959945  \n",
       "4    0.869492  \n",
       "..        ...  \n",
       "495  0.111186  \n",
       "496  0.970768  \n",
       "497  0.149990  \n",
       "498  0.116901  \n",
       "499  0.370559  \n",
       "\n",
       "[500 rows x 8 columns]"
      ]
     },
     "execution_count": 246,
     "metadata": {},
     "output_type": "execute_result"
    }
   ],
   "source": [
    "df.columns =list('abcdefgh')\n",
    "df"
   ]
  },
  {
   "cell_type": "code",
   "execution_count": 273,
   "id": "fc4f00c5-48a0-401b-be72-377aee6b885c",
   "metadata": {},
   "outputs": [
    {
     "data": {
      "text/html": [
       "<div>\n",
       "<style scoped>\n",
       "    .dataframe tbody tr th:only-of-type {\n",
       "        vertical-align: middle;\n",
       "    }\n",
       "\n",
       "    .dataframe tbody tr th {\n",
       "        vertical-align: top;\n",
       "    }\n",
       "\n",
       "    .dataframe thead th {\n",
       "        text-align: right;\n",
       "    }\n",
       "</style>\n",
       "<table border=\"1\" class=\"dataframe\">\n",
       "  <thead>\n",
       "    <tr style=\"text-align: right;\">\n",
       "      <th></th>\n",
       "      <th>a</th>\n",
       "      <th>b</th>\n",
       "      <th>c</th>\n",
       "      <th>d</th>\n",
       "      <th>e</th>\n",
       "      <th>f</th>\n",
       "      <th>g</th>\n",
       "      <th>h</th>\n",
       "    </tr>\n",
       "  </thead>\n",
       "  <tbody>\n",
       "    <tr>\n",
       "      <th>0</th>\n",
       "      <td>0.894014</td>\n",
       "      <td>0.081399</td>\n",
       "      <td>0.169717</td>\n",
       "      <td>0.095980</td>\n",
       "      <td>0.789408</td>\n",
       "      <td>0.489312</td>\n",
       "      <td>0.240917</td>\n",
       "      <td>0.047295</td>\n",
       "    </tr>\n",
       "    <tr>\n",
       "      <th>1</th>\n",
       "      <td>0.246724</td>\n",
       "      <td>0.181505</td>\n",
       "      <td>0.535771</td>\n",
       "      <td>0.378349</td>\n",
       "      <td>0.555784</td>\n",
       "      <td>0.762910</td>\n",
       "      <td>0.671358</td>\n",
       "      <td>0.726876</td>\n",
       "    </tr>\n",
       "    <tr>\n",
       "      <th>2</th>\n",
       "      <td>0.235020</td>\n",
       "      <td>0.639338</td>\n",
       "      <td>0.480102</td>\n",
       "      <td>0.188145</td>\n",
       "      <td>0.481286</td>\n",
       "      <td>0.733612</td>\n",
       "      <td>0.096468</td>\n",
       "      <td>0.617926</td>\n",
       "    </tr>\n",
       "    <tr>\n",
       "      <th>3</th>\n",
       "      <td>0.143668</td>\n",
       "      <td>0.190730</td>\n",
       "      <td>0.358294</td>\n",
       "      <td>0.621458</td>\n",
       "      <td>0.443876</td>\n",
       "      <td>0.445161</td>\n",
       "      <td>0.782817</td>\n",
       "      <td>0.959945</td>\n",
       "    </tr>\n",
       "    <tr>\n",
       "      <th>4</th>\n",
       "      <td>0.966900</td>\n",
       "      <td>0.652539</td>\n",
       "      <td>0.027155</td>\n",
       "      <td>0.127262</td>\n",
       "      <td>0.749085</td>\n",
       "      <td>0.144885</td>\n",
       "      <td>0.116189</td>\n",
       "      <td>0.869492</td>\n",
       "    </tr>\n",
       "    <tr>\n",
       "      <th>...</th>\n",
       "      <td>...</td>\n",
       "      <td>...</td>\n",
       "      <td>...</td>\n",
       "      <td>...</td>\n",
       "      <td>...</td>\n",
       "      <td>...</td>\n",
       "      <td>...</td>\n",
       "      <td>...</td>\n",
       "    </tr>\n",
       "    <tr>\n",
       "      <th>495</th>\n",
       "      <td>0.300927</td>\n",
       "      <td>0.017242</td>\n",
       "      <td>0.797593</td>\n",
       "      <td>0.867120</td>\n",
       "      <td>0.199986</td>\n",
       "      <td>0.384323</td>\n",
       "      <td>0.375722</td>\n",
       "      <td>0.111186</td>\n",
       "    </tr>\n",
       "    <tr>\n",
       "      <th>496</th>\n",
       "      <td>0.045063</td>\n",
       "      <td>0.360538</td>\n",
       "      <td>0.466233</td>\n",
       "      <td>0.539983</td>\n",
       "      <td>0.532125</td>\n",
       "      <td>0.155407</td>\n",
       "      <td>0.300705</td>\n",
       "      <td>0.970768</td>\n",
       "    </tr>\n",
       "    <tr>\n",
       "      <th>497</th>\n",
       "      <td>0.739372</td>\n",
       "      <td>0.819813</td>\n",
       "      <td>0.994285</td>\n",
       "      <td>0.027276</td>\n",
       "      <td>0.216943</td>\n",
       "      <td>0.914140</td>\n",
       "      <td>0.436838</td>\n",
       "      <td>0.149990</td>\n",
       "    </tr>\n",
       "    <tr>\n",
       "      <th>498</th>\n",
       "      <td>0.053763</td>\n",
       "      <td>0.181004</td>\n",
       "      <td>0.839171</td>\n",
       "      <td>0.402482</td>\n",
       "      <td>0.337462</td>\n",
       "      <td>0.158613</td>\n",
       "      <td>0.003219</td>\n",
       "      <td>0.116901</td>\n",
       "    </tr>\n",
       "    <tr>\n",
       "      <th>499</th>\n",
       "      <td>0.006770</td>\n",
       "      <td>0.137433</td>\n",
       "      <td>0.975602</td>\n",
       "      <td>0.595814</td>\n",
       "      <td>0.584544</td>\n",
       "      <td>0.712831</td>\n",
       "      <td>0.791675</td>\n",
       "      <td>0.370559</td>\n",
       "    </tr>\n",
       "  </tbody>\n",
       "</table>\n",
       "<p>500 rows × 8 columns</p>\n",
       "</div>"
      ],
      "text/plain": [
       "            a         b         c         d         e         f         g  \\\n",
       "0    0.894014  0.081399  0.169717  0.095980  0.789408  0.489312  0.240917   \n",
       "1    0.246724  0.181505  0.535771  0.378349  0.555784  0.762910  0.671358   \n",
       "2    0.235020  0.639338  0.480102  0.188145  0.481286  0.733612  0.096468   \n",
       "3    0.143668  0.190730  0.358294  0.621458  0.443876  0.445161  0.782817   \n",
       "4    0.966900  0.652539  0.027155  0.127262  0.749085  0.144885  0.116189   \n",
       "..        ...       ...       ...       ...       ...       ...       ...   \n",
       "495  0.300927  0.017242  0.797593  0.867120  0.199986  0.384323  0.375722   \n",
       "496  0.045063  0.360538  0.466233  0.539983  0.532125  0.155407  0.300705   \n",
       "497  0.739372  0.819813  0.994285  0.027276  0.216943  0.914140  0.436838   \n",
       "498  0.053763  0.181004  0.839171  0.402482  0.337462  0.158613  0.003219   \n",
       "499  0.006770  0.137433  0.975602  0.595814  0.584544  0.712831  0.791675   \n",
       "\n",
       "            h  \n",
       "0    0.047295  \n",
       "1    0.726876  \n",
       "2    0.617926  \n",
       "3    0.959945  \n",
       "4    0.869492  \n",
       "..        ...  \n",
       "495  0.111186  \n",
       "496  0.970768  \n",
       "497  0.149990  \n",
       "498  0.116901  \n",
       "499  0.370559  \n",
       "\n",
       "[500 rows x 8 columns]"
      ]
     },
     "execution_count": 273,
     "metadata": {},
     "output_type": "execute_result"
    }
   ],
   "source": [
    "pd.read_csv(\"Index_timepass.csv\")"
   ]
  },
  {
   "cell_type": "code",
   "execution_count": 248,
   "id": "e794a42c-2fcc-489b-bc47-5ad8e4b7e107",
   "metadata": {},
   "outputs": [
    {
     "data": {
      "text/plain": [
       "0.6393383297239328"
      ]
     },
     "execution_count": 248,
     "metadata": {},
     "output_type": "execute_result"
    }
   ],
   "source": [
    "df.loc[2,'b']"
   ]
  },
  {
   "cell_type": "code",
   "execution_count": 274,
   "id": "61d36700-265b-45db-b240-cae5ba14ceea",
   "metadata": {},
   "outputs": [
    {
     "data": {
      "text/html": [
       "<div>\n",
       "<style scoped>\n",
       "    .dataframe tbody tr th:only-of-type {\n",
       "        vertical-align: middle;\n",
       "    }\n",
       "\n",
       "    .dataframe tbody tr th {\n",
       "        vertical-align: top;\n",
       "    }\n",
       "\n",
       "    .dataframe thead th {\n",
       "        text-align: right;\n",
       "    }\n",
       "</style>\n",
       "<table border=\"1\" class=\"dataframe\">\n",
       "  <thead>\n",
       "    <tr style=\"text-align: right;\">\n",
       "      <th></th>\n",
       "      <th>a</th>\n",
       "      <th>c</th>\n",
       "      <th>d</th>\n",
       "      <th>e</th>\n",
       "      <th>f</th>\n",
       "      <th>g</th>\n",
       "      <th>h</th>\n",
       "    </tr>\n",
       "  </thead>\n",
       "  <tbody>\n",
       "    <tr>\n",
       "      <th>0</th>\n",
       "      <td>0.894014</td>\n",
       "      <td>0.169717</td>\n",
       "      <td>0.095980</td>\n",
       "      <td>0.789408</td>\n",
       "      <td>0.489312</td>\n",
       "      <td>0.240917</td>\n",
       "      <td>0.047295</td>\n",
       "    </tr>\n",
       "    <tr>\n",
       "      <th>1</th>\n",
       "      <td>0.246724</td>\n",
       "      <td>0.535771</td>\n",
       "      <td>0.378349</td>\n",
       "      <td>0.555784</td>\n",
       "      <td>0.762910</td>\n",
       "      <td>0.671358</td>\n",
       "      <td>0.726876</td>\n",
       "    </tr>\n",
       "    <tr>\n",
       "      <th>2</th>\n",
       "      <td>0.235020</td>\n",
       "      <td>0.480102</td>\n",
       "      <td>0.188145</td>\n",
       "      <td>0.481286</td>\n",
       "      <td>0.733612</td>\n",
       "      <td>0.096468</td>\n",
       "      <td>0.617926</td>\n",
       "    </tr>\n",
       "    <tr>\n",
       "      <th>3</th>\n",
       "      <td>0.143668</td>\n",
       "      <td>0.358294</td>\n",
       "      <td>0.621458</td>\n",
       "      <td>0.443876</td>\n",
       "      <td>0.445161</td>\n",
       "      <td>0.782817</td>\n",
       "      <td>0.959945</td>\n",
       "    </tr>\n",
       "    <tr>\n",
       "      <th>4</th>\n",
       "      <td>0.966900</td>\n",
       "      <td>0.027155</td>\n",
       "      <td>0.127262</td>\n",
       "      <td>0.749085</td>\n",
       "      <td>0.144885</td>\n",
       "      <td>0.116189</td>\n",
       "      <td>0.869492</td>\n",
       "    </tr>\n",
       "    <tr>\n",
       "      <th>...</th>\n",
       "      <td>...</td>\n",
       "      <td>...</td>\n",
       "      <td>...</td>\n",
       "      <td>...</td>\n",
       "      <td>...</td>\n",
       "      <td>...</td>\n",
       "      <td>...</td>\n",
       "    </tr>\n",
       "    <tr>\n",
       "      <th>495</th>\n",
       "      <td>0.300927</td>\n",
       "      <td>0.797593</td>\n",
       "      <td>0.867120</td>\n",
       "      <td>0.199986</td>\n",
       "      <td>0.384323</td>\n",
       "      <td>0.375722</td>\n",
       "      <td>0.111186</td>\n",
       "    </tr>\n",
       "    <tr>\n",
       "      <th>496</th>\n",
       "      <td>0.045063</td>\n",
       "      <td>0.466233</td>\n",
       "      <td>0.539983</td>\n",
       "      <td>0.532125</td>\n",
       "      <td>0.155407</td>\n",
       "      <td>0.300705</td>\n",
       "      <td>0.970768</td>\n",
       "    </tr>\n",
       "    <tr>\n",
       "      <th>497</th>\n",
       "      <td>0.739372</td>\n",
       "      <td>0.994285</td>\n",
       "      <td>0.027276</td>\n",
       "      <td>0.216943</td>\n",
       "      <td>0.914140</td>\n",
       "      <td>0.436838</td>\n",
       "      <td>0.149990</td>\n",
       "    </tr>\n",
       "    <tr>\n",
       "      <th>498</th>\n",
       "      <td>0.053763</td>\n",
       "      <td>0.839171</td>\n",
       "      <td>0.402482</td>\n",
       "      <td>0.337462</td>\n",
       "      <td>0.158613</td>\n",
       "      <td>0.003219</td>\n",
       "      <td>0.116901</td>\n",
       "    </tr>\n",
       "    <tr>\n",
       "      <th>499</th>\n",
       "      <td>0.006770</td>\n",
       "      <td>0.975602</td>\n",
       "      <td>0.595814</td>\n",
       "      <td>0.584544</td>\n",
       "      <td>0.712831</td>\n",
       "      <td>0.791675</td>\n",
       "      <td>0.370559</td>\n",
       "    </tr>\n",
       "  </tbody>\n",
       "</table>\n",
       "<p>500 rows × 7 columns</p>\n",
       "</div>"
      ],
      "text/plain": [
       "            a         c         d         e         f         g         h\n",
       "0    0.894014  0.169717  0.095980  0.789408  0.489312  0.240917  0.047295\n",
       "1    0.246724  0.535771  0.378349  0.555784  0.762910  0.671358  0.726876\n",
       "2    0.235020  0.480102  0.188145  0.481286  0.733612  0.096468  0.617926\n",
       "3    0.143668  0.358294  0.621458  0.443876  0.445161  0.782817  0.959945\n",
       "4    0.966900  0.027155  0.127262  0.749085  0.144885  0.116189  0.869492\n",
       "..        ...       ...       ...       ...       ...       ...       ...\n",
       "495  0.300927  0.797593  0.867120  0.199986  0.384323  0.375722  0.111186\n",
       "496  0.045063  0.466233  0.539983  0.532125  0.155407  0.300705  0.970768\n",
       "497  0.739372  0.994285  0.027276  0.216943  0.914140  0.436838  0.149990\n",
       "498  0.053763  0.839171  0.402482  0.337462  0.158613  0.003219  0.116901\n",
       "499  0.006770  0.975602  0.595814  0.584544  0.712831  0.791675  0.370559\n",
       "\n",
       "[500 rows x 7 columns]"
      ]
     },
     "execution_count": 274,
     "metadata": {},
     "output_type": "execute_result"
    }
   ],
   "source": [
    "df.drop(\"b\", axis=1)"
   ]
  },
  {
   "cell_type": "code",
   "execution_count": 279,
   "id": "a404ae85-3df4-4c09-b60a-ad915d683309",
   "metadata": {},
   "outputs": [
    {
     "data": {
      "text/plain": [
       "0.79167488591866"
      ]
     },
     "execution_count": 279,
     "metadata": {},
     "output_type": "execute_result"
    }
   ],
   "source": [
    "df.iloc[499,6]"
   ]
  },
  {
   "cell_type": "code",
   "execution_count": 285,
   "id": "02034884-8026-47e0-886b-12cbe0b92b3a",
   "metadata": {},
   "outputs": [
    {
     "name": "stderr",
     "output_type": "stream",
     "text": [
      "C:\\Users\\Lenovo\\AppData\\Local\\Temp\\ipykernel_9308\\1565044152.py:1: SettingWithCopyWarning: \n",
      "A value is trying to be set on a copy of a slice from a DataFrame\n",
      "\n",
      "See the caveats in the documentation: https://pandas.pydata.org/pandas-docs/stable/user_guide/indexing.html#returning-a-view-versus-a-copy\n",
      "  df['c'][2]=\"tt\"\n"
     ]
    },
    {
     "data": {
      "text/html": [
       "<div>\n",
       "<style scoped>\n",
       "    .dataframe tbody tr th:only-of-type {\n",
       "        vertical-align: middle;\n",
       "    }\n",
       "\n",
       "    .dataframe tbody tr th {\n",
       "        vertical-align: top;\n",
       "    }\n",
       "\n",
       "    .dataframe thead th {\n",
       "        text-align: right;\n",
       "    }\n",
       "</style>\n",
       "<table border=\"1\" class=\"dataframe\">\n",
       "  <thead>\n",
       "    <tr style=\"text-align: right;\">\n",
       "      <th></th>\n",
       "      <th>a</th>\n",
       "      <th>b</th>\n",
       "      <th>c</th>\n",
       "      <th>d</th>\n",
       "      <th>e</th>\n",
       "      <th>f</th>\n",
       "      <th>g</th>\n",
       "      <th>h</th>\n",
       "    </tr>\n",
       "  </thead>\n",
       "  <tbody>\n",
       "    <tr>\n",
       "      <th>0</th>\n",
       "      <td>0.894014</td>\n",
       "      <td>0.081399</td>\n",
       "      <td>rrr</td>\n",
       "      <td>0.095980</td>\n",
       "      <td>0.789408</td>\n",
       "      <td>0.489312</td>\n",
       "      <td>0.240917</td>\n",
       "      <td>0.047295</td>\n",
       "    </tr>\n",
       "    <tr>\n",
       "      <th>1</th>\n",
       "      <td>0.246724</td>\n",
       "      <td>0.181505</td>\n",
       "      <td>rrr</td>\n",
       "      <td>0.378349</td>\n",
       "      <td>0.555784</td>\n",
       "      <td>0.762910</td>\n",
       "      <td>0.671358</td>\n",
       "      <td>0.726876</td>\n",
       "    </tr>\n",
       "    <tr>\n",
       "      <th>2</th>\n",
       "      <td>0.235020</td>\n",
       "      <td>0.639338</td>\n",
       "      <td>tt</td>\n",
       "      <td>0.188145</td>\n",
       "      <td>0.481286</td>\n",
       "      <td>0.733612</td>\n",
       "      <td>0.096468</td>\n",
       "      <td>0.617926</td>\n",
       "    </tr>\n",
       "    <tr>\n",
       "      <th>3</th>\n",
       "      <td>0.143668</td>\n",
       "      <td>0.190730</td>\n",
       "      <td>rrr</td>\n",
       "      <td>0.621458</td>\n",
       "      <td>0.443876</td>\n",
       "      <td>0.445161</td>\n",
       "      <td>0.782817</td>\n",
       "      <td>0.959945</td>\n",
       "    </tr>\n",
       "    <tr>\n",
       "      <th>4</th>\n",
       "      <td>0.966900</td>\n",
       "      <td>0.652539</td>\n",
       "      <td>rrr</td>\n",
       "      <td>0.127262</td>\n",
       "      <td>0.749085</td>\n",
       "      <td>0.144885</td>\n",
       "      <td>0.116189</td>\n",
       "      <td>0.869492</td>\n",
       "    </tr>\n",
       "    <tr>\n",
       "      <th>...</th>\n",
       "      <td>...</td>\n",
       "      <td>...</td>\n",
       "      <td>...</td>\n",
       "      <td>...</td>\n",
       "      <td>...</td>\n",
       "      <td>...</td>\n",
       "      <td>...</td>\n",
       "      <td>...</td>\n",
       "    </tr>\n",
       "    <tr>\n",
       "      <th>495</th>\n",
       "      <td>0.300927</td>\n",
       "      <td>0.017242</td>\n",
       "      <td>rrr</td>\n",
       "      <td>0.867120</td>\n",
       "      <td>0.199986</td>\n",
       "      <td>0.384323</td>\n",
       "      <td>0.375722</td>\n",
       "      <td>0.111186</td>\n",
       "    </tr>\n",
       "    <tr>\n",
       "      <th>496</th>\n",
       "      <td>0.045063</td>\n",
       "      <td>0.360538</td>\n",
       "      <td>rrr</td>\n",
       "      <td>0.539983</td>\n",
       "      <td>0.532125</td>\n",
       "      <td>0.155407</td>\n",
       "      <td>0.300705</td>\n",
       "      <td>0.970768</td>\n",
       "    </tr>\n",
       "    <tr>\n",
       "      <th>497</th>\n",
       "      <td>0.739372</td>\n",
       "      <td>0.819813</td>\n",
       "      <td>rrr</td>\n",
       "      <td>0.027276</td>\n",
       "      <td>0.216943</td>\n",
       "      <td>0.914140</td>\n",
       "      <td>0.436838</td>\n",
       "      <td>0.149990</td>\n",
       "    </tr>\n",
       "    <tr>\n",
       "      <th>498</th>\n",
       "      <td>0.053763</td>\n",
       "      <td>0.181004</td>\n",
       "      <td>rrr</td>\n",
       "      <td>0.402482</td>\n",
       "      <td>0.337462</td>\n",
       "      <td>0.158613</td>\n",
       "      <td>0.003219</td>\n",
       "      <td>0.116901</td>\n",
       "    </tr>\n",
       "    <tr>\n",
       "      <th>499</th>\n",
       "      <td>0.006770</td>\n",
       "      <td>0.137433</td>\n",
       "      <td>rrr</td>\n",
       "      <td>0.595814</td>\n",
       "      <td>0.584544</td>\n",
       "      <td>0.712831</td>\n",
       "      <td>0.791675</td>\n",
       "      <td>0.370559</td>\n",
       "    </tr>\n",
       "  </tbody>\n",
       "</table>\n",
       "<p>500 rows × 8 columns</p>\n",
       "</div>"
      ],
      "text/plain": [
       "            a         b    c         d         e         f         g         h\n",
       "0    0.894014  0.081399  rrr  0.095980  0.789408  0.489312  0.240917  0.047295\n",
       "1    0.246724  0.181505  rrr  0.378349  0.555784  0.762910  0.671358  0.726876\n",
       "2    0.235020  0.639338   tt  0.188145  0.481286  0.733612  0.096468  0.617926\n",
       "3    0.143668  0.190730  rrr  0.621458  0.443876  0.445161  0.782817  0.959945\n",
       "4    0.966900  0.652539  rrr  0.127262  0.749085  0.144885  0.116189  0.869492\n",
       "..        ...       ...  ...       ...       ...       ...       ...       ...\n",
       "495  0.300927  0.017242  rrr  0.867120  0.199986  0.384323  0.375722  0.111186\n",
       "496  0.045063  0.360538  rrr  0.539983  0.532125  0.155407  0.300705  0.970768\n",
       "497  0.739372  0.819813  rrr  0.027276  0.216943  0.914140  0.436838  0.149990\n",
       "498  0.053763  0.181004  rrr  0.402482  0.337462  0.158613  0.003219  0.116901\n",
       "499  0.006770  0.137433  rrr  0.595814  0.584544  0.712831  0.791675  0.370559\n",
       "\n",
       "[500 rows x 8 columns]"
      ]
     },
     "execution_count": 285,
     "metadata": {},
     "output_type": "execute_result"
    }
   ],
   "source": [
    "df['c'][2]=\"tt\"\n",
    "df"
   ]
  },
  {
   "cell_type": "code",
   "execution_count": 291,
   "id": "39af9b60-edb1-4063-b4a3-9e6e42570ba0",
   "metadata": {},
   "outputs": [
    {
     "data": {
      "text/html": [
       "<div>\n",
       "<style scoped>\n",
       "    .dataframe tbody tr th:only-of-type {\n",
       "        vertical-align: middle;\n",
       "    }\n",
       "\n",
       "    .dataframe tbody tr th {\n",
       "        vertical-align: top;\n",
       "    }\n",
       "\n",
       "    .dataframe thead th {\n",
       "        text-align: right;\n",
       "    }\n",
       "</style>\n",
       "<table border=\"1\" class=\"dataframe\">\n",
       "  <thead>\n",
       "    <tr style=\"text-align: right;\">\n",
       "      <th></th>\n",
       "      <th>a</th>\n",
       "      <th>b</th>\n",
       "      <th>d</th>\n",
       "      <th>e</th>\n",
       "      <th>f</th>\n",
       "      <th>g</th>\n",
       "      <th>h</th>\n",
       "    </tr>\n",
       "  </thead>\n",
       "  <tbody>\n",
       "    <tr>\n",
       "      <th>0</th>\n",
       "      <td>0.894014</td>\n",
       "      <td>0.081399</td>\n",
       "      <td>0.095980</td>\n",
       "      <td>0.789408</td>\n",
       "      <td>0.489312</td>\n",
       "      <td>0.240917</td>\n",
       "      <td>0.047295</td>\n",
       "    </tr>\n",
       "    <tr>\n",
       "      <th>1</th>\n",
       "      <td>0.246724</td>\n",
       "      <td>0.181505</td>\n",
       "      <td>0.378349</td>\n",
       "      <td>0.555784</td>\n",
       "      <td>0.762910</td>\n",
       "      <td>0.671358</td>\n",
       "      <td>0.726876</td>\n",
       "    </tr>\n",
       "    <tr>\n",
       "      <th>2</th>\n",
       "      <td>0.235020</td>\n",
       "      <td>0.639338</td>\n",
       "      <td>0.188145</td>\n",
       "      <td>0.481286</td>\n",
       "      <td>0.733612</td>\n",
       "      <td>0.096468</td>\n",
       "      <td>0.617926</td>\n",
       "    </tr>\n",
       "    <tr>\n",
       "      <th>3</th>\n",
       "      <td>0.143668</td>\n",
       "      <td>0.190730</td>\n",
       "      <td>0.621458</td>\n",
       "      <td>0.443876</td>\n",
       "      <td>0.445161</td>\n",
       "      <td>0.782817</td>\n",
       "      <td>0.959945</td>\n",
       "    </tr>\n",
       "    <tr>\n",
       "      <th>4</th>\n",
       "      <td>0.966900</td>\n",
       "      <td>0.652539</td>\n",
       "      <td>0.127262</td>\n",
       "      <td>0.749085</td>\n",
       "      <td>0.144885</td>\n",
       "      <td>0.116189</td>\n",
       "      <td>0.869492</td>\n",
       "    </tr>\n",
       "    <tr>\n",
       "      <th>...</th>\n",
       "      <td>...</td>\n",
       "      <td>...</td>\n",
       "      <td>...</td>\n",
       "      <td>...</td>\n",
       "      <td>...</td>\n",
       "      <td>...</td>\n",
       "      <td>...</td>\n",
       "    </tr>\n",
       "    <tr>\n",
       "      <th>495</th>\n",
       "      <td>0.300927</td>\n",
       "      <td>0.017242</td>\n",
       "      <td>0.867120</td>\n",
       "      <td>0.199986</td>\n",
       "      <td>0.384323</td>\n",
       "      <td>0.375722</td>\n",
       "      <td>0.111186</td>\n",
       "    </tr>\n",
       "    <tr>\n",
       "      <th>496</th>\n",
       "      <td>0.045063</td>\n",
       "      <td>0.360538</td>\n",
       "      <td>0.539983</td>\n",
       "      <td>0.532125</td>\n",
       "      <td>0.155407</td>\n",
       "      <td>0.300705</td>\n",
       "      <td>0.970768</td>\n",
       "    </tr>\n",
       "    <tr>\n",
       "      <th>497</th>\n",
       "      <td>0.739372</td>\n",
       "      <td>0.819813</td>\n",
       "      <td>0.027276</td>\n",
       "      <td>0.216943</td>\n",
       "      <td>0.914140</td>\n",
       "      <td>0.436838</td>\n",
       "      <td>0.149990</td>\n",
       "    </tr>\n",
       "    <tr>\n",
       "      <th>498</th>\n",
       "      <td>0.053763</td>\n",
       "      <td>0.181004</td>\n",
       "      <td>0.402482</td>\n",
       "      <td>0.337462</td>\n",
       "      <td>0.158613</td>\n",
       "      <td>0.003219</td>\n",
       "      <td>0.116901</td>\n",
       "    </tr>\n",
       "    <tr>\n",
       "      <th>499</th>\n",
       "      <td>0.006770</td>\n",
       "      <td>0.137433</td>\n",
       "      <td>0.595814</td>\n",
       "      <td>0.584544</td>\n",
       "      <td>0.712831</td>\n",
       "      <td>0.791675</td>\n",
       "      <td>0.370559</td>\n",
       "    </tr>\n",
       "  </tbody>\n",
       "</table>\n",
       "<p>500 rows × 7 columns</p>\n",
       "</div>"
      ],
      "text/plain": [
       "            a         b         d         e         f         g         h\n",
       "0    0.894014  0.081399  0.095980  0.789408  0.489312  0.240917  0.047295\n",
       "1    0.246724  0.181505  0.378349  0.555784  0.762910  0.671358  0.726876\n",
       "2    0.235020  0.639338  0.188145  0.481286  0.733612  0.096468  0.617926\n",
       "3    0.143668  0.190730  0.621458  0.443876  0.445161  0.782817  0.959945\n",
       "4    0.966900  0.652539  0.127262  0.749085  0.144885  0.116189  0.869492\n",
       "..        ...       ...       ...       ...       ...       ...       ...\n",
       "495  0.300927  0.017242  0.867120  0.199986  0.384323  0.375722  0.111186\n",
       "496  0.045063  0.360538  0.539983  0.532125  0.155407  0.300705  0.970768\n",
       "497  0.739372  0.819813  0.027276  0.216943  0.914140  0.436838  0.149990\n",
       "498  0.053763  0.181004  0.402482  0.337462  0.158613  0.003219  0.116901\n",
       "499  0.006770  0.137433  0.595814  0.584544  0.712831  0.791675  0.370559\n",
       "\n",
       "[500 rows x 7 columns]"
      ]
     },
     "execution_count": 291,
     "metadata": {},
     "output_type": "execute_result"
    }
   ],
   "source": [
    "v= df.drop('c', axis=1)\n",
    "v"
   ]
  },
  {
   "cell_type": "code",
   "execution_count": 293,
   "id": "b0a197cb-dec6-4b49-b9b9-54fe5a375ac8",
   "metadata": {},
   "outputs": [
    {
     "data": {
      "text/html": [
       "<div>\n",
       "<style scoped>\n",
       "    .dataframe tbody tr th:only-of-type {\n",
       "        vertical-align: middle;\n",
       "    }\n",
       "\n",
       "    .dataframe tbody tr th {\n",
       "        vertical-align: top;\n",
       "    }\n",
       "\n",
       "    .dataframe thead th {\n",
       "        text-align: right;\n",
       "    }\n",
       "</style>\n",
       "<table border=\"1\" class=\"dataframe\">\n",
       "  <thead>\n",
       "    <tr style=\"text-align: right;\">\n",
       "      <th></th>\n",
       "      <th>a</th>\n",
       "      <th>b</th>\n",
       "      <th>c</th>\n",
       "      <th>d</th>\n",
       "      <th>e</th>\n",
       "      <th>f</th>\n",
       "      <th>g</th>\n",
       "      <th>h</th>\n",
       "    </tr>\n",
       "  </thead>\n",
       "  <tbody>\n",
       "    <tr>\n",
       "      <th>0</th>\n",
       "      <td>0.894014</td>\n",
       "      <td>0.081399</td>\n",
       "      <td>rrr</td>\n",
       "      <td>0.095980</td>\n",
       "      <td>0.789408</td>\n",
       "      <td>0.489312</td>\n",
       "      <td>0.240917</td>\n",
       "      <td>0.047295</td>\n",
       "    </tr>\n",
       "    <tr>\n",
       "      <th>1</th>\n",
       "      <td>0.246724</td>\n",
       "      <td>0.181505</td>\n",
       "      <td>rrr</td>\n",
       "      <td>0.378349</td>\n",
       "      <td>0.555784</td>\n",
       "      <td>0.762910</td>\n",
       "      <td>0.671358</td>\n",
       "      <td>0.726876</td>\n",
       "    </tr>\n",
       "    <tr>\n",
       "      <th>2</th>\n",
       "      <td>0.235020</td>\n",
       "      <td>0.639338</td>\n",
       "      <td>tt</td>\n",
       "      <td>0.188145</td>\n",
       "      <td>0.481286</td>\n",
       "      <td>0.733612</td>\n",
       "      <td>0.096468</td>\n",
       "      <td>0.617926</td>\n",
       "    </tr>\n",
       "    <tr>\n",
       "      <th>3</th>\n",
       "      <td>0.143668</td>\n",
       "      <td>0.190730</td>\n",
       "      <td>rrr</td>\n",
       "      <td>0.621458</td>\n",
       "      <td>0.443876</td>\n",
       "      <td>0.445161</td>\n",
       "      <td>0.782817</td>\n",
       "      <td>0.959945</td>\n",
       "    </tr>\n",
       "    <tr>\n",
       "      <th>4</th>\n",
       "      <td>0.966900</td>\n",
       "      <td>0.652539</td>\n",
       "      <td>rrr</td>\n",
       "      <td>0.127262</td>\n",
       "      <td>0.749085</td>\n",
       "      <td>0.144885</td>\n",
       "      <td>0.116189</td>\n",
       "      <td>0.869492</td>\n",
       "    </tr>\n",
       "    <tr>\n",
       "      <th>...</th>\n",
       "      <td>...</td>\n",
       "      <td>...</td>\n",
       "      <td>...</td>\n",
       "      <td>...</td>\n",
       "      <td>...</td>\n",
       "      <td>...</td>\n",
       "      <td>...</td>\n",
       "      <td>...</td>\n",
       "    </tr>\n",
       "    <tr>\n",
       "      <th>495</th>\n",
       "      <td>0.300927</td>\n",
       "      <td>0.017242</td>\n",
       "      <td>rrr</td>\n",
       "      <td>0.867120</td>\n",
       "      <td>0.199986</td>\n",
       "      <td>0.384323</td>\n",
       "      <td>0.375722</td>\n",
       "      <td>0.111186</td>\n",
       "    </tr>\n",
       "    <tr>\n",
       "      <th>496</th>\n",
       "      <td>0.045063</td>\n",
       "      <td>0.360538</td>\n",
       "      <td>rrr</td>\n",
       "      <td>0.539983</td>\n",
       "      <td>0.532125</td>\n",
       "      <td>0.155407</td>\n",
       "      <td>0.300705</td>\n",
       "      <td>0.970768</td>\n",
       "    </tr>\n",
       "    <tr>\n",
       "      <th>497</th>\n",
       "      <td>0.739372</td>\n",
       "      <td>0.819813</td>\n",
       "      <td>rrr</td>\n",
       "      <td>0.027276</td>\n",
       "      <td>0.216943</td>\n",
       "      <td>0.914140</td>\n",
       "      <td>0.436838</td>\n",
       "      <td>0.149990</td>\n",
       "    </tr>\n",
       "    <tr>\n",
       "      <th>498</th>\n",
       "      <td>0.053763</td>\n",
       "      <td>0.181004</td>\n",
       "      <td>rrr</td>\n",
       "      <td>0.402482</td>\n",
       "      <td>0.337462</td>\n",
       "      <td>0.158613</td>\n",
       "      <td>0.003219</td>\n",
       "      <td>0.116901</td>\n",
       "    </tr>\n",
       "    <tr>\n",
       "      <th>499</th>\n",
       "      <td>0.006770</td>\n",
       "      <td>0.137433</td>\n",
       "      <td>rrr</td>\n",
       "      <td>0.595814</td>\n",
       "      <td>0.584544</td>\n",
       "      <td>0.712831</td>\n",
       "      <td>0.791675</td>\n",
       "      <td>0.370559</td>\n",
       "    </tr>\n",
       "  </tbody>\n",
       "</table>\n",
       "<p>500 rows × 8 columns</p>\n",
       "</div>"
      ],
      "text/plain": [
       "            a         b    c         d         e         f         g         h\n",
       "0    0.894014  0.081399  rrr  0.095980  0.789408  0.489312  0.240917  0.047295\n",
       "1    0.246724  0.181505  rrr  0.378349  0.555784  0.762910  0.671358  0.726876\n",
       "2    0.235020  0.639338   tt  0.188145  0.481286  0.733612  0.096468  0.617926\n",
       "3    0.143668  0.190730  rrr  0.621458  0.443876  0.445161  0.782817  0.959945\n",
       "4    0.966900  0.652539  rrr  0.127262  0.749085  0.144885  0.116189  0.869492\n",
       "..        ...       ...  ...       ...       ...       ...       ...       ...\n",
       "495  0.300927  0.017242  rrr  0.867120  0.199986  0.384323  0.375722  0.111186\n",
       "496  0.045063  0.360538  rrr  0.539983  0.532125  0.155407  0.300705  0.970768\n",
       "497  0.739372  0.819813  rrr  0.027276  0.216943  0.914140  0.436838  0.149990\n",
       "498  0.053763  0.181004  rrr  0.402482  0.337462  0.158613  0.003219  0.116901\n",
       "499  0.006770  0.137433  rrr  0.595814  0.584544  0.712831  0.791675  0.370559\n",
       "\n",
       "[500 rows x 8 columns]"
      ]
     },
     "execution_count": 293,
     "metadata": {},
     "output_type": "execute_result"
    }
   ],
   "source": [
    "df"
   ]
  },
  {
   "cell_type": "code",
   "execution_count": 294,
   "id": "c4cd8495-ed4e-4c81-9477-80cb90f78a4d",
   "metadata": {},
   "outputs": [
    {
     "data": {
      "text/html": [
       "<div>\n",
       "<style scoped>\n",
       "    .dataframe tbody tr th:only-of-type {\n",
       "        vertical-align: middle;\n",
       "    }\n",
       "\n",
       "    .dataframe tbody tr th {\n",
       "        vertical-align: top;\n",
       "    }\n",
       "\n",
       "    .dataframe thead th {\n",
       "        text-align: right;\n",
       "    }\n",
       "</style>\n",
       "<table border=\"1\" class=\"dataframe\">\n",
       "  <thead>\n",
       "    <tr style=\"text-align: right;\">\n",
       "      <th></th>\n",
       "      <th>a</th>\n",
       "      <th>b</th>\n",
       "      <th>c</th>\n",
       "      <th>d</th>\n",
       "      <th>e</th>\n",
       "      <th>f</th>\n",
       "      <th>g</th>\n",
       "      <th>h</th>\n",
       "    </tr>\n",
       "  </thead>\n",
       "  <tbody>\n",
       "    <tr>\n",
       "      <th>0</th>\n",
       "      <td>False</td>\n",
       "      <td>False</td>\n",
       "      <td>False</td>\n",
       "      <td>False</td>\n",
       "      <td>False</td>\n",
       "      <td>False</td>\n",
       "      <td>False</td>\n",
       "      <td>False</td>\n",
       "    </tr>\n",
       "    <tr>\n",
       "      <th>1</th>\n",
       "      <td>False</td>\n",
       "      <td>False</td>\n",
       "      <td>False</td>\n",
       "      <td>False</td>\n",
       "      <td>False</td>\n",
       "      <td>False</td>\n",
       "      <td>False</td>\n",
       "      <td>False</td>\n",
       "    </tr>\n",
       "    <tr>\n",
       "      <th>2</th>\n",
       "      <td>False</td>\n",
       "      <td>False</td>\n",
       "      <td>False</td>\n",
       "      <td>False</td>\n",
       "      <td>False</td>\n",
       "      <td>False</td>\n",
       "      <td>False</td>\n",
       "      <td>False</td>\n",
       "    </tr>\n",
       "    <tr>\n",
       "      <th>3</th>\n",
       "      <td>False</td>\n",
       "      <td>False</td>\n",
       "      <td>False</td>\n",
       "      <td>False</td>\n",
       "      <td>False</td>\n",
       "      <td>False</td>\n",
       "      <td>False</td>\n",
       "      <td>False</td>\n",
       "    </tr>\n",
       "    <tr>\n",
       "      <th>4</th>\n",
       "      <td>False</td>\n",
       "      <td>False</td>\n",
       "      <td>False</td>\n",
       "      <td>False</td>\n",
       "      <td>False</td>\n",
       "      <td>False</td>\n",
       "      <td>False</td>\n",
       "      <td>False</td>\n",
       "    </tr>\n",
       "    <tr>\n",
       "      <th>...</th>\n",
       "      <td>...</td>\n",
       "      <td>...</td>\n",
       "      <td>...</td>\n",
       "      <td>...</td>\n",
       "      <td>...</td>\n",
       "      <td>...</td>\n",
       "      <td>...</td>\n",
       "      <td>...</td>\n",
       "    </tr>\n",
       "    <tr>\n",
       "      <th>495</th>\n",
       "      <td>False</td>\n",
       "      <td>False</td>\n",
       "      <td>False</td>\n",
       "      <td>False</td>\n",
       "      <td>False</td>\n",
       "      <td>False</td>\n",
       "      <td>False</td>\n",
       "      <td>False</td>\n",
       "    </tr>\n",
       "    <tr>\n",
       "      <th>496</th>\n",
       "      <td>False</td>\n",
       "      <td>False</td>\n",
       "      <td>False</td>\n",
       "      <td>False</td>\n",
       "      <td>False</td>\n",
       "      <td>False</td>\n",
       "      <td>False</td>\n",
       "      <td>False</td>\n",
       "    </tr>\n",
       "    <tr>\n",
       "      <th>497</th>\n",
       "      <td>False</td>\n",
       "      <td>False</td>\n",
       "      <td>False</td>\n",
       "      <td>False</td>\n",
       "      <td>False</td>\n",
       "      <td>False</td>\n",
       "      <td>False</td>\n",
       "      <td>False</td>\n",
       "    </tr>\n",
       "    <tr>\n",
       "      <th>498</th>\n",
       "      <td>False</td>\n",
       "      <td>False</td>\n",
       "      <td>False</td>\n",
       "      <td>False</td>\n",
       "      <td>False</td>\n",
       "      <td>False</td>\n",
       "      <td>False</td>\n",
       "      <td>False</td>\n",
       "    </tr>\n",
       "    <tr>\n",
       "      <th>499</th>\n",
       "      <td>False</td>\n",
       "      <td>False</td>\n",
       "      <td>False</td>\n",
       "      <td>False</td>\n",
       "      <td>False</td>\n",
       "      <td>False</td>\n",
       "      <td>False</td>\n",
       "      <td>False</td>\n",
       "    </tr>\n",
       "  </tbody>\n",
       "</table>\n",
       "<p>500 rows × 8 columns</p>\n",
       "</div>"
      ],
      "text/plain": [
       "         a      b      c      d      e      f      g      h\n",
       "0    False  False  False  False  False  False  False  False\n",
       "1    False  False  False  False  False  False  False  False\n",
       "2    False  False  False  False  False  False  False  False\n",
       "3    False  False  False  False  False  False  False  False\n",
       "4    False  False  False  False  False  False  False  False\n",
       "..     ...    ...    ...    ...    ...    ...    ...    ...\n",
       "495  False  False  False  False  False  False  False  False\n",
       "496  False  False  False  False  False  False  False  False\n",
       "497  False  False  False  False  False  False  False  False\n",
       "498  False  False  False  False  False  False  False  False\n",
       "499  False  False  False  False  False  False  False  False\n",
       "\n",
       "[500 rows x 8 columns]"
      ]
     },
     "execution_count": 294,
     "metadata": {},
     "output_type": "execute_result"
    }
   ],
   "source": [
    "df.isnull()"
   ]
  },
  {
   "cell_type": "code",
   "execution_count": null,
   "id": "8c5cf6df-bea3-4587-92cf-e7c33f743561",
   "metadata": {},
   "outputs": [],
   "source": []
  },
  {
   "cell_type": "code",
   "execution_count": 302,
   "id": "34e30a02-834f-4a88-9e6b-5afc5151fbef",
   "metadata": {},
   "outputs": [
    {
     "data": {
      "text/html": [
       "<div>\n",
       "<style scoped>\n",
       "    .dataframe tbody tr th:only-of-type {\n",
       "        vertical-align: middle;\n",
       "    }\n",
       "\n",
       "    .dataframe tbody tr th {\n",
       "        vertical-align: top;\n",
       "    }\n",
       "\n",
       "    .dataframe thead th {\n",
       "        text-align: right;\n",
       "    }\n",
       "</style>\n",
       "<table border=\"1\" class=\"dataframe\">\n",
       "  <thead>\n",
       "    <tr style=\"text-align: right;\">\n",
       "      <th></th>\n",
       "      <th>Name</th>\n",
       "      <th>Age</th>\n",
       "      <th>Height</th>\n",
       "    </tr>\n",
       "  </thead>\n",
       "  <tbody>\n",
       "    <tr>\n",
       "      <th>0</th>\n",
       "      <td>AA</td>\n",
       "      <td>10</td>\n",
       "      <td>11.1</td>\n",
       "    </tr>\n",
       "    <tr>\n",
       "      <th>1</th>\n",
       "      <td>BB</td>\n",
       "      <td>20</td>\n",
       "      <td>22.2</td>\n",
       "    </tr>\n",
       "    <tr>\n",
       "      <th>2</th>\n",
       "      <td>CC</td>\n",
       "      <td>30</td>\n",
       "      <td>33.3</td>\n",
       "    </tr>\n",
       "  </tbody>\n",
       "</table>\n",
       "</div>"
      ],
      "text/plain": [
       "  Name  Age  Height\n",
       "0   AA   10    11.1\n",
       "1   BB   20    22.2\n",
       "2   CC   30    33.3"
      ]
     },
     "execution_count": 302,
     "metadata": {},
     "output_type": "execute_result"
    }
   ],
   "source": [
    "dict = { \n",
    "            \"Name\" : [\"AA\", \"BB\", \"CC\"] ,\n",
    "            \"Age\":[10,20,30],\n",
    "            \"Height\":[11.1, 22.2, 33.3]\n",
    "       }\n",
    "school = pd.DataFrame(dict)\n",
    "school"
   ]
  },
  {
   "cell_type": "code",
   "execution_count": 303,
   "id": "f1f5d8ac-5bf6-45ec-9682-f9ff37886970",
   "metadata": {},
   "outputs": [],
   "source": [
    "school.to_csv(\"timepass_school.csv\")"
   ]
  },
  {
   "cell_type": "code",
   "execution_count": 304,
   "id": "831420f6-241c-4841-8f47-02d50b489788",
   "metadata": {},
   "outputs": [],
   "source": [
    "a = school.to_csv(\"Yash.csv\", index=False)"
   ]
  },
  {
   "cell_type": "code",
   "execution_count": 336,
   "id": "655c044e-c141-485a-9975-719fbacbbf06",
   "metadata": {},
   "outputs": [
    {
     "data": {
      "text/plain": [
       "3"
      ]
     },
     "execution_count": 336,
     "metadata": {},
     "output_type": "execute_result"
    }
   ],
   "source": [
    "school.shape[0]"
   ]
  },
  {
   "cell_type": "code",
   "execution_count": null,
   "id": "027ae53c-dcde-4741-93fb-862545cfb22a",
   "metadata": {},
   "outputs": [],
   "source": []
  },
  {
   "cell_type": "code",
   "execution_count": null,
   "id": "62331878-dfa8-4038-9b3d-6be251eaae9a",
   "metadata": {},
   "outputs": [],
   "source": []
  },
  {
   "cell_type": "code",
   "execution_count": null,
   "id": "0c7dcf5c-5aa9-475a-a52b-37962e6f9e12",
   "metadata": {},
   "outputs": [],
   "source": []
  },
  {
   "cell_type": "code",
   "execution_count": null,
   "id": "bbf8d793-a8f6-4cde-95a5-c5174b98f148",
   "metadata": {},
   "outputs": [],
   "source": []
  },
  {
   "cell_type": "code",
   "execution_count": null,
   "id": "aaa60a6f-9204-441f-8c2d-6e9cccce9698",
   "metadata": {},
   "outputs": [],
   "source": []
  },
  {
   "cell_type": "code",
   "execution_count": null,
   "id": "e5de0d4b-d8d2-47da-9067-9ccaa97d9307",
   "metadata": {},
   "outputs": [],
   "source": []
  },
  {
   "cell_type": "code",
   "execution_count": null,
   "id": "c1296706-4e00-4d26-bef7-1e91fc20d976",
   "metadata": {},
   "outputs": [],
   "source": []
  },
  {
   "cell_type": "code",
   "execution_count": null,
   "id": "c249edae-1889-4e4d-9b5a-127c442f59e8",
   "metadata": {},
   "outputs": [],
   "source": []
  },
  {
   "cell_type": "code",
   "execution_count": 309,
   "id": "adcf692d-75af-4571-866a-d1ca0957fc14",
   "metadata": {},
   "outputs": [],
   "source": [
    "from pymongo import * "
   ]
  },
  {
   "cell_type": "code",
   "execution_count": 313,
   "id": "90eff20d-a81e-45d6-aa49-5126b63015f9",
   "metadata": {},
   "outputs": [],
   "source": [
    "client = MongoClient(host=\"mongodb://localhost:27017\")\n",
    "collection = client[\"mydb\"][\"EMP\"]"
   ]
  },
  {
   "cell_type": "code",
   "execution_count": 312,
   "id": "63fd6742-578e-4db5-9a6e-8554d7758c5b",
   "metadata": {},
   "outputs": [
    {
     "data": {
      "text/plain": [
       "'Age_1'"
      ]
     },
     "execution_count": 312,
     "metadata": {},
     "output_type": "execute_result"
    }
   ],
   "source": [
    "collection.create_index(\"Age\")"
   ]
  },
  {
   "cell_type": "code",
   "execution_count": 314,
   "id": "be80c9db-6827-4585-a82a-0a56c6c32c24",
   "metadata": {},
   "outputs": [
    {
     "data": {
      "text/plain": [
       "<pymongo.results.InsertOneResult at 0x21ac497eb90>"
      ]
     },
     "execution_count": 314,
     "metadata": {},
     "output_type": "execute_result"
    }
   ],
   "source": [
    "query= (\n",
    "    {\"Name\":\"AA\", \"Mob\":111, \"Sal\":11111, \"Id\":\"a\", \"Age\":11}\n",
    ")\n",
    "collection.insert_one(query)"
   ]
  },
  {
   "cell_type": "code",
   "execution_count": 316,
   "id": "b741da41-575f-4327-90ee-ea4130cc9abd",
   "metadata": {},
   "outputs": [
    {
     "name": "stdout",
     "output_type": "stream",
     "text": [
      "<pymongo.results.InsertManyResult object at 0x0000021AC4F71990>\n"
     ]
    }
   ],
   "source": [
    "query2 = (\n",
    "    {\"Name\":\"BB\", \"Mob\":222, \"Sal\":22222, \"Id\":\"b\", \"Age\":9},\n",
    "    {\"Name\":\"CC\", \"Mob\":333, \"Sal\":33333, \"Id\":\"c\", \"Age\":34},\n",
    "    {\"Name\":\"DD\", \"Mob\":444, \"Sal\":4444, \"Id\":\"d\", \"Age\":1},\n",
    "    {\"Name\":\"EE\", \"Mob\":555, \"Sal\":55555, \"Id\":\"e\", \"Age\":111}\n",
    ")\n",
    "insert = collection.insert_many(query2)\n",
    "print(insert)"
   ]
  },
  {
   "cell_type": "code",
   "execution_count": 321,
   "id": "ec6a1d49-212f-47d2-b555-fb2b1119c9fc",
   "metadata": {},
   "outputs": [
    {
     "name": "stdout",
     "output_type": "stream",
     "text": [
      "{'_id': ObjectId('64bc1f03ed53aff6f0dae4b8'), 'Name': 'AA', 'Mob': 111, 'Sal': 11111, 'Id': 'a', 'Age': 11}\n",
      "{'_id': ObjectId('64bc1fe8ed53aff6f0dae4b9'), 'Name': 'BB', 'Mob': 222, 'Sal': 22222, 'Id': 'b', 'Age': 9}\n",
      "{'_id': ObjectId('64bc1fe8ed53aff6f0dae4ba'), 'Name': 'CC', 'Mob': 333, 'Sal': 33333, 'Id': 'c', 'Age': 34}\n",
      "{'_id': ObjectId('64bc1fe8ed53aff6f0dae4bb'), 'Name': 'DD', 'Mob': 444, 'Sal': 4444, 'Id': 'd', 'Age': 1}\n",
      "{'_id': ObjectId('64bc1fe8ed53aff6f0dae4bc'), 'Name': 'EE', 'Mob': 555, 'Sal': 55555, 'Id': 'e', 'Age': 111}\n"
     ]
    }
   ],
   "source": [
    "for i in collection.find():\n",
    "    print(i)"
   ]
  },
  {
   "cell_type": "code",
   "execution_count": 333,
   "id": "23d88774-a105-4ebb-bfee-a14ef7142cbe",
   "metadata": {},
   "outputs": [
    {
     "name": "stdout",
     "output_type": "stream",
     "text": [
      "A\n",
      "g\n",
      "e\n",
      "_\n",
      "1\n"
     ]
    }
   ],
   "source": [
    "\n",
    "for i in collection.create_index(\"Age\"):\n",
    "    print(i)"
   ]
  },
  {
   "cell_type": "code",
   "execution_count": 330,
   "id": "b91da8ae-2bd8-4a43-a22b-f5caff105fcf",
   "metadata": {},
   "outputs": [
    {
     "name": "stdout",
     "output_type": "stream",
     "text": [
      "{'_id': ObjectId('64bc1f03ed53aff6f0dae4b8'), 'Name': 'AA', 'Mob': 111, 'Sal': 11111, 'Id': 'a', 'Age': 11}\n",
      "{'_id': ObjectId('64bc1fe8ed53aff6f0dae4b9'), 'Name': 'BB', 'Mob': 222, 'Sal': 22222, 'Id': 'b', 'Age': 9}\n",
      "{'_id': ObjectId('64bc1fe8ed53aff6f0dae4ba'), 'Name': 'CC', 'Mob': 333, 'Sal': 33333, 'Id': 'c', 'Age': 34}\n",
      "{'_id': ObjectId('64bc1fe8ed53aff6f0dae4bb'), 'Name': 'DD', 'Mob': 23234324233, 'Sal': 4444, 'Id': 'd', 'Age': 1}\n",
      "{'_id': ObjectId('64bc1fe8ed53aff6f0dae4bc'), 'Name': 'EE', 'Mob': 555, 'Sal': 55555, 'Id': 'e', 'Age': 111}\n"
     ]
    }
   ],
   "source": [
    "query = {\"$set\":{\"Mob\":23234324233}}\n",
    "r = collection.update_one({\"Name\":\"DD\"},query)\n",
    "for i in collection.find():\n",
    "    print(i)"
   ]
  },
  {
   "cell_type": "code",
   "execution_count": null,
   "id": "d51ac465-7324-420f-bfa1-c7c2269077ad",
   "metadata": {},
   "outputs": [],
   "source": [
    "collection.delete_one(\")"
   ]
  },
  {
   "cell_type": "code",
   "execution_count": null,
   "id": "ebba215d-8bc1-4d08-ac7f-99ab5dbd0e7a",
   "metadata": {},
   "outputs": [],
   "source": []
  },
  {
   "cell_type": "code",
   "execution_count": 337,
   "id": "a847495f-2801-4989-bb9c-9104ee849cea",
   "metadata": {},
   "outputs": [
    {
     "name": "stdout",
     "output_type": "stream",
     "text": [
      "[10, 10, 10]\n",
      "[10, 10, 10]\n",
      "[10, 10, 10]\n"
     ]
    }
   ],
   "source": [
    "a = [ [1,2,3], [4,5,6], [7,8,9] ]\n",
    "b = [ [9,8,7], [6,5,4], [3,2,1] ]\n",
    "ans = [ [0,0,0], [0,0,0], [0,0,0] ]\n",
    "for i in range(len(a)):\n",
    "    for j in range(len(a[0])):\n",
    "        ans[i][j] = a[i][j] + b[i][j]\n",
    "for i in ans:\n",
    "    print(i)"
   ]
  },
  {
   "cell_type": "code",
   "execution_count": 342,
   "id": "1ee1d7c3-779e-46b1-a7c5-6d498f2f4d02",
   "metadata": {},
   "outputs": [
    {
     "data": {
      "text/plain": [
       "{'Name': 'Yash', 'Age': 23}"
      ]
     },
     "execution_count": 342,
     "metadata": {},
     "output_type": "execute_result"
    }
   ],
   "source": [
    "dict = {\"Name\":\"Yash\", \"Age\":23}\n",
    "dict"
   ]
  },
  {
   "cell_type": "code",
   "execution_count": 350,
   "id": "4e6875b5-8fb2-49ba-8254-14d54165877f",
   "metadata": {},
   "outputs": [
    {
     "name": "stdout",
     "output_type": "stream",
     "text": [
      "20\n",
      "10\n"
     ]
    }
   ],
   "source": [
    "def fun(a, b):\n",
    "    return a+b\n",
    "print(fun(a=10,b=10))\n",
    "print(fun(a=4, b=6))"
   ]
  },
  {
   "cell_type": "code",
   "execution_count": 358,
   "id": "1a287518-c79c-4c92-ad3c-4955dd18ae7a",
   "metadata": {},
   "outputs": [
    {
     "name": "stdout",
     "output_type": "stream",
     "text": [
      "60\n"
     ]
    }
   ],
   "source": [
    "def fun(*args):\n",
    "    add =0 \n",
    "    for i in args:\n",
    "        add= add+i\n",
    "    return add\n",
    "print(fun(10,20,30))"
   ]
  },
  {
   "cell_type": "code",
   "execution_count": 362,
   "id": "d65e6901-2064-431b-b871-ffeb3f3bd5d4",
   "metadata": {},
   "outputs": [
    {
     "name": "stdout",
     "output_type": "stream",
     "text": [
      "a   10\n",
      "b   20\n",
      "c   30\n",
      "60\n"
     ]
    }
   ],
   "source": [
    "def fun(**kwargs):\n",
    "    add =0 \n",
    "    for i in kwargs:\n",
    "        print(i,\" \",kwargs[i])\n",
    "        add= add+ kwargs[i]\n",
    "    return add\n",
    "print(fun(a=10,b=20,c=30))"
   ]
  },
  {
   "cell_type": "code",
   "execution_count": 381,
   "id": "ba25be9f-f903-4791-b5a5-6b7d6f69982f",
   "metadata": {},
   "outputs": [
    {
     "name": "stdout",
     "output_type": "stream",
     "text": [
      "0  1  1  2  3  5  8  13  21  34  "
     ]
    }
   ],
   "source": [
    "def fibo(n):\n",
    "    a = 0\n",
    "    b = 1\n",
    "    if n == 0:\n",
    "        return 0\n",
    "    elif n == 1:\n",
    "        return 1\n",
    "    else:\n",
    "        for i in range(1, n+1):\n",
    "            print(a, end=(\"  \"))\n",
    "            a , b = b, a+b\n",
    "n = 10\n",
    "fibo(n)"
   ]
  },
  {
   "cell_type": "code",
   "execution_count": 384,
   "id": "16fa2a37-e4ed-417c-99de-1298171219b1",
   "metadata": {},
   "outputs": [
    {
     "name": "stdout",
     "output_type": "stream",
     "text": [
      "24\n"
     ]
    }
   ],
   "source": [
    "def fact(n):\n",
    "    \n",
    "    if n == 0:\n",
    "        return 0\n",
    "    elif n == 1:\n",
    "        return 1\n",
    "    else:\n",
    "        ans = n * fact(n-1)\n",
    "    return ans\n",
    "n = 4\n",
    "print(fact(n))"
   ]
  },
  {
   "cell_type": "code",
   "execution_count": 385,
   "id": "30db1406-6888-40ba-9e9e-f3124994400d",
   "metadata": {},
   "outputs": [
    {
     "name": "stdout",
     "output_type": "stream",
     "text": [
      "10\n"
     ]
    }
   ],
   "source": [
    "f = lambda a:a*2\n",
    "print(f(5))"
   ]
  },
  {
   "cell_type": "code",
   "execution_count": 386,
   "id": "9d071304-a6d3-4a30-9390-129906361f6d",
   "metadata": {},
   "outputs": [
    {
     "name": "stdout",
     "output_type": "stream",
     "text": [
      "[2, 4, 6, 8]\n"
     ]
    }
   ],
   "source": [
    "list1 = [1,2,3,4,5,6,7,8]\n",
    "f = list(filter(lambda n:n%2==0, list1))\n",
    "print(f)"
   ]
  },
  {
   "cell_type": "code",
   "execution_count": 390,
   "id": "f3ca5c43-c71c-47ff-a9c3-16573dd99d45",
   "metadata": {},
   "outputs": [
    {
     "name": "stdout",
     "output_type": "stream",
     "text": [
      "[1, 3, 5, 7, 9]\n"
     ]
    }
   ],
   "source": [
    "list2 =[1,2,3,4,5,6,7,8,9]\n",
    "f = list(filter(lambda n:n % 2 != 0, list2))\n",
    "print(f)"
   ]
  },
  {
   "cell_type": "code",
   "execution_count": 392,
   "id": "74d0041c-bd60-4296-96de-56886f998add",
   "metadata": {},
   "outputs": [
    {
     "name": "stdout",
     "output_type": "stream",
     "text": [
      "[True, False, True, False, True, False, True, False]\n"
     ]
    }
   ],
   "source": [
    "list3 = [1,2,3,4,5,6,7,8]\n",
    "f = list(map(lambda n:n % 2 != 0, list1))\n",
    "print(f)"
   ]
  },
  {
   "cell_type": "code",
   "execution_count": 404,
   "id": "ecbdedb9-b75c-471c-87a7-834ae06f6f25",
   "metadata": {},
   "outputs": [
    {
     "name": "stdout",
     "output_type": "stream",
     "text": [
      "2\n"
     ]
    }
   ],
   "source": [
    "def smart_div(func):\n",
    "    def inner(a,b):\n",
    "        if a < b:\n",
    "            a, b = b, a\n",
    "        return func(a,b)\n",
    "    return inner \n",
    "@smart_div\n",
    "def div(a,b):\n",
    "    return a // b\n",
    "\n",
    "\n",
    "print(div(4, 8))\n"
   ]
  },
  {
   "cell_type": "code",
   "execution_count": 409,
   "id": "a21ec1ed-6700-42ba-ba79-68e3c36a5ac2",
   "metadata": {},
   "outputs": [
    {
     "name": "stdout",
     "output_type": "stream",
     "text": [
      "add:  9\n",
      "mult:  20\n"
     ]
    }
   ],
   "source": [
    "from calci import *\n",
    "print(\"add: \",add(4,5))\n",
    "print(\"mult: \",mul(4,5))"
   ]
  },
  {
   "cell_type": "code",
   "execution_count": 417,
   "id": "afc922cc-0ae5-4d5d-9078-3250a310f9cf",
   "metadata": {},
   "outputs": [
    {
     "name": "stdout",
     "output_type": "stream",
     "text": [
      "Yash    21\n",
      "Yash\n",
      "21\n"
     ]
    }
   ],
   "source": [
    "class Yash:\n",
    "    def __init__(self, name , age):\n",
    "        self.name = name\n",
    "        self.age = age\n",
    "    def printing(self):\n",
    "        print(self.name, \"  \", self.age)\n",
    "y1 = Yash(\"Yash\", 21)\n",
    "y1.printing()\n",
    "print(y1.name)\n",
    "print(y1.age)"
   ]
  },
  {
   "cell_type": "code",
   "execution_count": 431,
   "id": "4bd7dc9d-5659-41c2-b5be-d8d70db5717d",
   "metadata": {},
   "outputs": [
    {
     "name": "stdout",
     "output_type": "stream",
     "text": [
      "15\n",
      "10\n",
      "100\n"
     ]
    }
   ],
   "source": [
    "class Student:\n",
    "    def __init__(self,  m1, m2):\n",
    "        self.m1 = m1\n",
    "        self.m2 = m2             # instance method   ###### Accessor and mutator method          \n",
    "    def avg(self):\n",
    "        return self.m1 + self.m1 //2\n",
    "\n",
    "    def get(self):\n",
    "        return self.m1\n",
    "\n",
    "    def set(self, value):\n",
    "        self.m1 = value\n",
    "s1 = Student(10, 20)\n",
    "print(s1.avg())\n",
    "print(s1.get())\n",
    "s1.set(100)\n",
    "print(s1.get())"
   ]
  },
  {
   "cell_type": "code",
   "execution_count": 450,
   "id": "36d7390b-0429-4046-bd64-c335b494fe3a",
   "metadata": {},
   "outputs": [
    {
     "name": "stdout",
     "output_type": "stream",
     "text": [
      "IICMR\n"
     ]
    }
   ],
   "source": [
    "class Stud1:    # class method\n",
    "    schol= \"IICMR\"\n",
    "    @classmethod\n",
    "    def i(cls):\n",
    "        return cls.schol\n",
    "print(Stud1.i())"
   ]
  },
  {
   "cell_type": "code",
   "execution_count": 459,
   "id": "298a9d69-6cab-4133-96af-febded204ccd",
   "metadata": {},
   "outputs": [
    {
     "name": "stdout",
     "output_type": "stream",
     "text": [
      "Outer class\n",
      "OUT\n",
      "Inner obj\n",
      "Inner\n"
     ]
    }
   ],
   "source": [
    "class out:           #nested class\n",
    "    def __init__(self, m1):\n",
    "        self.m1 = m1\n",
    "    def omethod(self):\n",
    "        print(\"OUT\")\n",
    "\n",
    "    class Inner:\n",
    "        def __init__(self, n1):\n",
    "            self.n1 = n1\n",
    "        def imethod(self):\n",
    "            print(\"Inner\")\n",
    "\n",
    "o1 = out(\"Outer class\")\n",
    "print(o1.m1)\n",
    "o1.omethod()\n",
    "\n",
    "i1 = o1.Inner(\"Inner obj\")\n",
    "print(i1.n1)\n",
    "i1.imethod()"
   ]
  },
  {
   "cell_type": "code",
   "execution_count": 1,
   "id": "ffa0a3e3-e265-468f-932d-bbbad752533a",
   "metadata": {},
   "outputs": [
    {
     "name": "stdout",
     "output_type": "stream",
     "text": [
      "20\n"
     ]
    }
   ],
   "source": [
    "num = 10\n",
    "res = num.__add__(10)\n",
    "print(res)"
   ]
  },
  {
   "cell_type": "code",
   "execution_count": 8,
   "id": "c55f57f5-ed37-4ea3-a46b-7b3d98405897",
   "metadata": {},
   "outputs": [
    {
     "data": {
      "text/plain": [
       "30"
      ]
     },
     "execution_count": 8,
     "metadata": {},
     "output_type": "execute_result"
    }
   ],
   "source": [
    "class Exa:\n",
    "    def __init__(self,x,y):\n",
    "        self.x = x\n",
    "        self.y = y\n",
    "    def __add__(self):\n",
    "        return self.x + self.y\n",
    "e1 = Exa(10, 20)\n",
    "result = e1.__add__()\n",
    "result"
   ]
  },
  {
   "cell_type": "code",
   "execution_count": 14,
   "id": "778aab95-75f0-422e-9c75-f8b92fbfc5f4",
   "metadata": {},
   "outputs": [
    {
     "name": "stdout",
     "output_type": "stream",
     "text": [
      "True\n"
     ]
    }
   ],
   "source": [
    "class UU:\n",
    "    def __init__(self, x, y):\n",
    "        self.x = x\n",
    "        self.y = y\n",
    "\n",
    "    def __gt__(self):\n",
    "        if self.x > self.y:\n",
    "            return True\n",
    "        else:\n",
    "            return False\n",
    "u1 = UU(y=100,x=200)\n",
    "print(u1.__gt__())"
   ]
  },
  {
   "cell_type": "code",
   "execution_count": 25,
   "id": "a837cbd1-15ae-40df-9d90-52e8760133b7",
   "metadata": {},
   "outputs": [
    {
     "name": "stdout",
     "output_type": "stream",
     "text": [
      "60\n",
      "30\n",
      "10\n"
     ]
    }
   ],
   "source": [
    "def sum( a= None, b= None, c=None):\n",
    "    s = 0\n",
    "    if a != None and b != None and c!= None:\n",
    "        s = a+b+c\n",
    "    elif a != None and b != None:\n",
    "        s = a+b\n",
    "    else:\n",
    "        s = a\n",
    "    return s\n",
    "print(sum(10,20,30))\n",
    "print(sum(10,20))\n",
    "print(sum(10))"
   ]
  },
  {
   "cell_type": "code",
   "execution_count": 32,
   "id": "0489b937-7b38-4c3f-af39-8fa4771f3248",
   "metadata": {},
   "outputs": [
    {
     "name": "stdout",
     "output_type": "stream",
     "text": [
      "child\n",
      "Concreate\n"
     ]
    }
   ],
   "source": [
    "from abc import ABC, abstractmethod\n",
    "\n",
    "class AB(ABC):\n",
    "    @abstractmethod\n",
    "    def abm(self):\n",
    "        pass\n",
    "    def conm(self):\n",
    "        print(\"Concreate\")\n",
    "class sub(AB):\n",
    "    \n",
    "    def abm(self):\n",
    "        print(\"child\")\n",
    "a1 = sub()\n",
    "a1.abm()\n",
    "a1.conm()\n",
    "\n"
   ]
  },
  {
   "cell_type": "code",
   "execution_count": 46,
   "id": "b5a60390-05da-472c-b2c1-b65525a35b12",
   "metadata": {},
   "outputs": [
    {
     "name": "stdout",
     "output_type": "stream",
     "text": [
      "1\n",
      "2\n",
      "3\n",
      "4\n"
     ]
    }
   ],
   "source": [
    "class TopTen:\n",
    "    def __init__(self, num):\n",
    "        self.n = 1\n",
    "        self.num = num\n",
    "        \n",
    "    def __iter__(self):\n",
    "        return self\n",
    "        \n",
    "    def __next__(self):\n",
    "        if self.n <= self.num:\n",
    "            value = self.n\n",
    "            self.n += 1\n",
    "            return value\n",
    "        else:\n",
    "            raise StopException\n",
    "\n",
    "t1 = TopTen(10)\n",
    "print(next(t1))  # Output: 1\n",
    "print(next(t1))  # Output: 2\n",
    "print(next(t1))  # Output: 3\n",
    "print(next(t1))  # Output: 4        "
   ]
  },
  {
   "cell_type": "code",
   "execution_count": 65,
   "id": "1b3cd1d9-ecb2-4e9a-b5c1-5ce1f8156668",
   "metadata": {},
   "outputs": [
    {
     "name": "stdout",
     "output_type": "stream",
     "text": [
      "1 2 3 4 5 6 7 8 9 10 11 12 13 14 15 "
     ]
    }
   ],
   "source": [
    "class Top:\n",
    "    def __init__(self, n, num):\n",
    "        self.n = n\n",
    "        self.num = num\n",
    "        \n",
    "    def __iter__(self):\n",
    "        return self\n",
    "        \n",
    "    def __next__(self):\n",
    "        if self.n <= self.num:\n",
    "            value = self.n\n",
    "            self.n += 1\n",
    "            return value\n",
    "        else:\n",
    "            raise StopIteration\n",
    "            \n",
    "c1 = Top(1, 15)\n",
    "for i in c1:\n",
    "    print(i, end=\" \")"
   ]
  },
  {
   "cell_type": "code",
   "execution_count": 70,
   "id": "e16774ff-f023-4cf7-87a2-cae5e04a49b9",
   "metadata": {},
   "outputs": [
    {
     "name": "stdout",
     "output_type": "stream",
     "text": [
      "1 2 3 4 5 6 7 8 9 10 "
     ]
    }
   ],
   "source": [
    "def stop(n):\n",
    "    value = 1\n",
    "    while value <= n:\n",
    "        yield value\n",
    "        value += 1\n",
    "r= stop(10)\n",
    "for i in r:\n",
    "    print(i, end= \" \")"
   ]
  },
  {
   "cell_type": "code",
   "execution_count": 72,
   "id": "05385dfb-ab35-4314-9716-398ae2b3e3fe",
   "metadata": {},
   "outputs": [
    {
     "name": "stdout",
     "output_type": "stream",
     "text": [
      "0\n",
      "1\n",
      "2\n",
      "3\n",
      "4\n",
      "5\n",
      "6\n",
      "7\n",
      "8\n",
      "9\n"
     ]
    }
   ],
   "source": [
    "def Top():\n",
    "    value = 1\n",
    "    num = 10\n",
    "    for value in range(10):\n",
    "        yield value\n",
    "        value += 1\n",
    "ans = Top()\n",
    "for i in ans:\n",
    "    print(i)"
   ]
  },
  {
   "cell_type": "code",
   "execution_count": 80,
   "id": "6e8b9b45-161f-4bec-ba8d-597ea4a65218",
   "metadata": {},
   "outputs": [
    {
     "name": "stdout",
     "output_type": "stream",
     "text": [
      "Zero Division\n",
      "Done\n"
     ]
    }
   ],
   "source": [
    "n1 = 2\n",
    "n2 = 0\n",
    "try:\n",
    "    ans = n1 // n2\n",
    "except ZeroDivisionError:\n",
    "    print(\"Zero Division\")\n",
    "else:\n",
    "    print(\"Ans: \",ans)\n",
    "finally:\n",
    "    print(\"Done\")"
   ]
  },
  {
   "cell_type": "code",
   "execution_count": 86,
   "id": "b7ddbe04-95f8-4055-b4db-2358b740bad6",
   "metadata": {},
   "outputs": [
    {
     "name": "stdin",
     "output_type": "stream",
     "text": [
      "Enter Age:  -4\n"
     ]
    },
    {
     "name": "stdout",
     "output_type": "stream",
     "text": [
      "Age is less\n"
     ]
    }
   ],
   "source": [
    "age = int(input(\"Enter Age: \"))\n",
    "try:\n",
    "    if age < 18:\n",
    "        raise Exception(\"Age is less\")\n",
    "    else:\n",
    "        print(\"Eligible\")\n",
    "except Exception as e:\n",
    "    print(e)"
   ]
  },
  {
   "cell_type": "code",
   "execution_count": 116,
   "id": "64cbf059-844b-4a90-ac8d-46c9f6073a77",
   "metadata": {},
   "outputs": [
    {
     "name": "stdout",
     "output_type": "stream",
     "text": [
      "Push:  10\n",
      "Push:  20\n",
      "Push:  30\n",
      "Stack:  [10, 20, 30]\n",
      "30\n",
      "Stack:  [10, 20]\n"
     ]
    }
   ],
   "source": [
    "class Stack:\n",
    "    def __init__(self):\n",
    "        self.stack = []\n",
    "\n",
    "    def empty(self):\n",
    "        return len(self.stack) == 0\n",
    "\n",
    "    def push(self, item):\n",
    "        self.stack.append(item)\n",
    "        print(\"Push: \",item)\n",
    "\n",
    "    def pop(self):\n",
    "        if self.empty():\n",
    "            print(\"Empty\")\n",
    "        else:\n",
    "            val = self.stack.pop()\n",
    "            print(val)\n",
    "\n",
    "    def display(self):\n",
    "        print(\"Stack: \",self.stack)\n",
    "\n",
    "\n",
    "c1 = Stack()\n",
    "c1.push(10)\n",
    "c1.push(20)\n",
    "c1.push(30)\n",
    "c1.display()\n",
    "c1.pop()\n",
    "c1.display()"
   ]
  },
  {
   "cell_type": "code",
   "execution_count": 123,
   "id": "e34576f4-53c0-4b00-923e-194de8ea4c8c",
   "metadata": {},
   "outputs": [
    {
     "name": "stdout",
     "output_type": "stream",
     "text": [
      "Push:  10\n",
      "Push:  20\n",
      "Push:  30\n",
      "Stack:  [10, 20, 30]\n",
      "30\n",
      "Stack:  [10, 20]\n"
     ]
    }
   ],
   "source": [
    "class Stack:\n",
    "    def __init__(self):\n",
    "        self.stack = []\n",
    "        \n",
    "    def empty(self):\n",
    "        return len(self.stack) == 0\n",
    "\n",
    "    def push(self, item):\n",
    "        self.stack.append(item)\n",
    "        print(\"Push: \",item)\n",
    "    \n",
    "    def pop(self):\n",
    "        if self.empty():\n",
    "            print(\"Empty\")\n",
    "        else:\n",
    "            val = self.stack.pop()\n",
    "            print(val)\n",
    "            \n",
    "    def display(self):\n",
    "        print(\"Stack: \",self.stack)\n",
    "\n",
    "    def pop(self):\n",
    "        if self.empty():\n",
    "            print(\"Empty\")\n",
    "        else:\n",
    "            val = self.stack.pop()\n",
    "            print(val)\n",
    "\n",
    "c1 = Stack()\n",
    "c1.push(10) \n",
    "c1.push(20) \n",
    "c1.push(30)\n",
    "c1.display()\n",
    "c1.pop()\n",
    "c1.display()"
   ]
  },
  {
   "cell_type": "code",
   "execution_count": 130,
   "id": "5f3bb0d1-fda0-49d4-9baf-5d8cd032238e",
   "metadata": {},
   "outputs": [
    {
     "name": "stdout",
     "output_type": "stream",
     "text": [
      "10\n",
      "20\n",
      "30\n",
      "Queue:  [10, 20, 30]\n",
      "30\n",
      "Queue:  [10, 20]\n"
     ]
    }
   ],
   "source": [
    "class Queue:\n",
    "    def __init__(self):\n",
    "        self.queue = []\n",
    "        \n",
    "    def is_empty(self):\n",
    "        return len(self.queue) == 0\n",
    "\n",
    "    def enqueue(self, item):\n",
    "        self.queue.append(item)\n",
    "        print(item)\n",
    "\n",
    "    def dequeue(self):\n",
    "        if self.is_empty():\n",
    "            print(\"EMpty\")\n",
    "        else:\n",
    "            val = self.queue.pop()\n",
    "            print(val)\n",
    "\n",
    "    def display(self):\n",
    "        print(\"Queue: \",self.queue)\n",
    "\n",
    "c1 = Queue()\n",
    "c1.enqueue(10)\n",
    "c1.enqueue(20)\n",
    "c1.enqueue(30)\n",
    "c1.display()\n",
    "c1.dequeue()\n",
    "c1.display()"
   ]
  },
  {
   "cell_type": "code",
   "execution_count": 133,
   "id": "9c6b47c4-56f1-424a-b3ee-971a89000c39",
   "metadata": {},
   "outputs": [
    {
     "name": "stdout",
     "output_type": "stream",
     "text": [
      "0 1 2 3 4 5 6 7 8 9 Bye\n"
     ]
    }
   ],
   "source": [
    "from threading import Thread\n",
    "from time import sleep\n",
    "def fun(n):\n",
    "    for i in range(n):\n",
    "        print(i, end=\" \")\n",
    "        sleep(1)\n",
    "n=10\n",
    "t1 = Thread(target = fun, args = (n,))\n",
    "t1.start()\n",
    "t1.join()\n",
    "print(\"Bye\")\n",
    "    "
   ]
  },
  {
   "cell_type": "code",
   "execution_count": 136,
   "id": "c4df2aa4-f47d-4641-84d9-88fd7e9db4cc",
   "metadata": {},
   "outputs": [
    {
     "name": "stdout",
     "output_type": "stream",
     "text": [
      "1 2 3 4 5 Bye\n"
     ]
    }
   ],
   "source": [
    "from threading import Thread\n",
    "from time import sleep\n",
    "class Fun(Thread):\n",
    "    def run(self):\n",
    "        for i in range(1, 6):\n",
    "            print(i, end=\" \")\n",
    "            sleep(0.5)\n",
    "c1 = Fun()\n",
    "c1.start()\n",
    "c1.join()\n",
    "print(\"Bye\")  "
   ]
  },
  {
   "cell_type": "code",
   "execution_count": 142,
   "id": "95b4c78f-5bb6-4f72-b1c1-7a63ca086acb",
   "metadata": {},
   "outputs": [
    {
     "name": "stdout",
     "output_type": "stream",
     "text": [
      "1 2 3 4 5 Bye\n"
     ]
    }
   ],
   "source": [
    "from threading import Thread\n",
    "from time import sleep\n",
    "class Fun:\n",
    "    def display(self):\n",
    "        for i in range(1,6):\n",
    "            print(i , end=\" \")\n",
    "            sleep(0.5)\n",
    "c = Fun()\n",
    "c1 = Thread(target= c.display)\n",
    "c1.start()\n",
    "c1.join()\n",
    "print(\"Bye\")"
   ]
  },
  {
   "cell_type": "code",
   "execution_count": 148,
   "id": "61b15b8f-1706-420f-9ca9-bca27bb64977",
   "metadata": {},
   "outputs": [
    {
     "name": "stderr",
     "output_type": "stream",
     "text": [
      "C:\\Users\\Lenovo\\AppData\\Local\\Temp\\ipykernel_10664\\3724523340.py:10: DeprecationWarning: setDaemon() is deprecated, set the daemon attribute instead\n",
      "  t.setDaemon(True)  # Set the thread as a daemon thread\n"
     ]
    },
    {
     "name": "stdout",
     "output_type": "stream",
     "text": [
      "1 2 3 4 Bye\n"
     ]
    }
   ],
   "source": [
    "from threading import Thread\n",
    "from time import sleep\n",
    "\n",
    "def display():\n",
    "    for i in range(1, 5):\n",
    "        print(i, end=\" \")\n",
    "        sleep(1)\n",
    "\n",
    "t = Thread(target=display)\n",
    "t.setDaemon(True)  # Set the thread as a daemon thread\n",
    "t.start()\n",
    "t.join()\n",
    "print(\"Bye\")\n"
   ]
  },
  {
   "cell_type": "code",
   "execution_count": 168,
   "id": "6dee2f94-9168-4885-a142-24cfbf0203df",
   "metadata": {},
   "outputs": [
    {
     "name": "stdout",
     "output_type": "stream",
     "text": [
      "Factorial:  24\n",
      "BYE\n",
      "Time:   0.4083869457244873\n"
     ]
    }
   ],
   "source": [
    "from threading import Thread , Lock\n",
    "import time \n",
    "I = Lock()\n",
    "def factorial(n):\n",
    "    I.acquire()\n",
    "    fact = 1\n",
    "    for i in range(1,n+1):\n",
    "        fact = fact * i\n",
    "        sleep(0.1)\n",
    "    I.release()\n",
    "    print(\"Factorial: \",fact)\n",
    "\n",
    "n = 4\n",
    "start = time.time()\n",
    "t1 = Thread(target = factorial, args = (n,))\n",
    "t1.start()\n",
    "t1.join()\n",
    "\n",
    "print(\"BYE\")\n",
    "end = time.time()\n",
    "print(\"Time:  \", end - start)"
   ]
  },
  {
   "cell_type": "code",
   "execution_count": 9,
   "id": "b35511a5-cc68-4784-94de-c79812933585",
   "metadata": {},
   "outputs": [
    {
     "name": "stdout",
     "output_type": "stream",
     "text": [
      "24\n",
      "16\n",
      "BYE\n",
      "Time:  0.01449131965637207\n"
     ]
    }
   ],
   "source": [
    "from threading import Thread, RLock\n",
    "import time\n",
    "II = RLock()\n",
    "\n",
    "def fact(n):\n",
    "    II.acquire()\n",
    "    fact= 1\n",
    "    for i in range(1, n+1):\n",
    "        fact =fact*i\n",
    "    return fact\n",
    "    II.release()\n",
    "    \n",
    "def square(n):\n",
    "    II.acquire()\n",
    "    return n**2\n",
    "    II.release()\n",
    "\n",
    "def ans(n):\n",
    "    print(fact(n))\n",
    "    print(square(n))\n",
    "start = time.time()\n",
    "n = 4\n",
    "t1 = Thread(target = ans, args = (n,))\n",
    "t1.start()\n",
    "t1.join()\n",
    "print(\"BYE\")\n",
    "end = time.time()\n",
    "print(\"Time: \",end-start)"
   ]
  },
  {
   "cell_type": "code",
   "execution_count": 7,
   "id": "9abb57b8-e240-4a27-8ae3-3de57274bcb3",
   "metadata": {},
   "outputs": [
    {
     "name": "stdout",
     "output_type": "stream",
     "text": [
      "12\n",
      "2\n",
      "2\n",
      "2\n",
      "2\n",
      "\n",
      "1\n",
      "1\n",
      "1\n",
      "1\n",
      "3\n",
      "3\n",
      "3\n",
      "3\n",
      "3\n",
      "4\n",
      "4\n",
      "4\n",
      "4\n",
      "4\n",
      "5\n",
      "5\n",
      "5\n",
      "5\n",
      "5\n"
     ]
    }
   ],
   "source": [
    "from threading import Thread, Semaphore\n",
    "import time\n",
    "III = Semaphore(2)\n",
    "\n",
    "def fun(name):\n",
    "    III.acquire()\n",
    "    for i in range(1,6):\n",
    "        print(name)\n",
    "    III.release()\n",
    "\n",
    "t1 = Thread(target = fun, args = (\"1\",) )\n",
    "t2 = Thread(target = fun, args = (\"2\",) )\n",
    "t3 = Thread(target = fun, args = (\"3\",) )\n",
    "t4 = Thread(target = fun, args = (\"4\",) )\n",
    "t5 = Thread(target = fun, args = (\"5\",) )\n",
    "t1.start()\n",
    "t2.start()\n",
    "t3.start()\n",
    "t4.start()\n",
    "t5.start()"
   ]
  },
  {
   "cell_type": "code",
   "execution_count": 15,
   "id": "6d04d065-f271-4ed3-8056-7b0dffb3de1c",
   "metadata": {},
   "outputs": [
    {
     "name": "stdout",
     "output_type": "stream",
     "text": [
      "True\n"
     ]
    }
   ],
   "source": [
    "import re\n",
    "def valid_pass(password):\n",
    "    if len(password)<8 or len(password)>16:\n",
    "        return False\n",
    "    if not re.search(r'[a-z]', password):\n",
    "        return False\n",
    "    if not re.search(r'[A-Z]', password):\n",
    "        return False\n",
    "    if not re.search(r'\\d', password):\n",
    "        return False\n",
    "    if not re.search(f'[@#$%^&*]', password):\n",
    "        return False\n",
    "    return True\n",
    "\n",
    "password = \"Welcome@123\"\n",
    "if valid_pass(password):\n",
    "    print(\"True\")\n",
    "else:\n",
    "    print(\"NOT\")"
   ]
  },
  {
   "cell_type": "code",
   "execution_count": 23,
   "id": "ab5371c4-547e-462c-b566-ea137e76fd4f",
   "metadata": {},
   "outputs": [
    {
     "name": "stdout",
     "output_type": "stream",
     "text": [
      "YY\n"
     ]
    }
   ],
   "source": [
    "import re\n",
    "date = \"14-02-2999 yash\"\n",
    "pattern = r'\\b(\\d{2})-(\\d{2})-(\\d{4})\\b'\n",
    "ans = re.findall(pattern, date)\n",
    "if ans:\n",
    "    print(\"YY\")\n",
    "else:\n",
    "    print(\"NOO\")"
   ]
  },
  {
   "cell_type": "code",
   "execution_count": 30,
   "id": "9b538a82-051d-4dbd-b095-3fabaebd18ba",
   "metadata": {},
   "outputs": [
    {
     "name": "stdout",
     "output_type": "stream",
     "text": [
      "333\n",
      "777\n"
     ]
    }
   ],
   "source": [
    "import re\n",
    "text = \"hi i am yash 333 and 7777 777\"\n",
    "pattern = r'\\b\\d{3}\\b'\n",
    "ans = re.findall(pattern, text)\n",
    "for i in ans:\n",
    "    print(i)"
   ]
  },
  {
   "cell_type": "code",
   "execution_count": 31,
   "id": "621bf58e-e840-4437-8bcc-7d7258bc2365",
   "metadata": {},
   "outputs": [
    {
     "name": "stdout",
     "output_type": "stream",
     "text": [
      "5\n"
     ]
    }
   ],
   "source": [
    "import re\n",
    "text = \"hI i Am ySsh 33H3 anMd 7777 777\"\n",
    "pattern = r'[A-Z]'\n",
    "ans = re.findall(pattern, text)\n",
    "sum = 0\n",
    "for i in ans:\n",
    "    sum +=1\n",
    "print(sum)"
   ]
  },
  {
   "cell_type": "code",
   "execution_count": null,
   "id": "90090a63-0ed7-46e8-8a43-b7c34767fdbb",
   "metadata": {},
   "outputs": [],
   "source": []
  },
  {
   "cell_type": "code",
   "execution_count": 41,
   "id": "941a84c7-6bab-4b1a-ba96-65ec5e55b10e",
   "metadata": {},
   "outputs": [
    {
     "name": "stdout",
     "output_type": "stream",
     "text": [
      "2\n"
     ]
    }
   ],
   "source": [
    "import re\n",
    "\n",
    "text = \"Appple Banana Cat Ele\"\n",
    "pattern = r'\\b[aeiouAEIOU]\\w+\\b'\n",
    "ans = re.findall(pattern, text)\n",
    "sum = 0\n",
    "for i in ans:\n",
    "    sum += 1\n",
    "print(sum)"
   ]
  },
  {
   "cell_type": "code",
   "execution_count": 53,
   "id": "8ebbd652-918b-47a6-90da-71b0caccbc4a",
   "metadata": {},
   "outputs": [
    {
     "name": "stdout",
     "output_type": "stream",
     "text": [
      "yy\n"
     ]
    }
   ],
   "source": [
    "import re\n",
    "ip = \"198.12.123\"\n",
    "pattern = r'\\b(\\d{1,3}).(\\d{1,3}).(\\d{1,3})\\b'\n",
    "ans = re.match(pattern, ip)\n",
    "if ans:\n",
    "    print(\"yy\")\n",
    "else:\n",
    "    print(\"NO\")"
   ]
  },
  {
   "cell_type": "code",
   "execution_count": 74,
   "id": "de348e73-7052-47f2-81ab-c4f77a347a3c",
   "metadata": {},
   "outputs": [
    {
     "name": "stdout",
     "output_type": "stream",
     "text": [
      "Yes\n"
     ]
    }
   ],
   "source": [
    "import re\n",
    "def valid_email(mail):\n",
    "    pattern = r'^(\\w+)+@+[\\w+]+\\.+[\\w]+'\n",
    "    ans = (re.match(pattern, mail))\n",
    "    if ans:\n",
    "        print(\"Yes\")\n",
    "    \n",
    "mail = \"Examp23le@gma89il.com\"\n",
    "valid_email(mail)"
   ]
  },
  {
   "cell_type": "code",
   "execution_count": 80,
   "id": "377a78ae-59c4-4594-af5c-d2e50ca3fd3b",
   "metadata": {},
   "outputs": [
    {
     "name": "stdout",
     "output_type": "stream",
     "text": [
      "Balance:  1000\n",
      "500 : added\n",
      "Balance:  1500\n",
      "1000 : Subtract\n",
      "Balance:  500\n"
     ]
    }
   ],
   "source": [
    "class Bank:\n",
    "    def __init__(self, initial_bal = 0):\n",
    "        self.balance = initial_bal\n",
    "\n",
    "    def deposite(self, value):\n",
    "        self.balance += value\n",
    "        print(f\"{value} : added\")\n",
    "        \n",
    "    def withdrawn(self, value):\n",
    "        if value < self.balance:\n",
    "            self.balance -= value\n",
    "            print(f\"{value} : Subtract\")\n",
    "        else:\n",
    "            print(\"Balance is less\")\n",
    "        \n",
    "    def display(self):\n",
    "        print(\"Balance: \", self.balance)\n",
    "\n",
    "c1 = Bank(1000)\n",
    "c1.display()\n",
    "c1.deposite(500)\n",
    "c1.display()\n",
    "c1.withdrawn(1000)\n",
    "c1.display()"
   ]
  },
  {
   "cell_type": "code",
   "execution_count": null,
   "id": "98599641-b2b0-4c0c-a377-277cabc01071",
   "metadata": {},
   "outputs": [],
   "source": []
  },
  {
   "cell_type": "code",
   "execution_count": 85,
   "id": "78a0dccb-d715-4c16-ad0f-5d3263f849b6",
   "metadata": {},
   "outputs": [],
   "source": [
    "f = open(\"faltu.txt\", 'w')\n",
    "text =  \"i a am yash\"\n",
    "f.write(text)\n",
    "f.close()"
   ]
  },
  {
   "cell_type": "code",
   "execution_count": 92,
   "id": "7415eaf9-3f9d-4760-a142-129171660015",
   "metadata": {},
   "outputs": [
    {
     "name": "stdout",
     "output_type": "stream",
     "text": [
      "name:  faltu.txt\n",
      "Data:  uu asdfdf sdf gd dsa dgdgdg adg gd a\n",
      "adsf e\n",
      "asdfasdf asfeijieoet\n",
      "asdffadf \n",
      "asdf kkd sreoi\n",
      "asffwenj dsggnk sndjkn sdjnsn sjnjsk\n",
      "asdfasffadsfadsff\n",
      "Mode:  r\n",
      "Close:  <built-in method close of _io.TextIOWrapper object at 0x000001C9CB289970>\n"
     ]
    }
   ],
   "source": [
    "f = open(\"faltu.txt\", 'r')\n",
    "line = f.read()\n",
    "print(\"name: \",  f.name)\n",
    "print(\"Data: \", line)\n",
    "print(\"Mode: \",f.mode)\n",
    "print(\"Close: \",f.close)"
   ]
  },
  {
   "cell_type": "code",
   "execution_count": 112,
   "id": "b29a2f03-f441-4baf-b18f-a3b84994adf3",
   "metadata": {},
   "outputs": [
    {
     "data": {
      "text/plain": [
       "dict_keys(['Yash', 'RRR'])"
      ]
     },
     "execution_count": 112,
     "metadata": {},
     "output_type": "execute_result"
    }
   ],
   "source": [
    "dict = {\"Yash\":11, \"RRR\":22}\n",
    "dict\n",
    "dict.items()\n",
    "dict.values()\n",
    "dict.keys()"
   ]
  },
  {
   "cell_type": "code",
   "execution_count": 111,
   "id": "d96ac22d-3a2a-4724-8825-b7389828a191",
   "metadata": {},
   "outputs": [
    {
     "data": {
      "text/plain": [
       "['lion', 'tiger', 'lion', 'tiger']"
      ]
     },
     "execution_count": 111,
     "metadata": {},
     "output_type": "execute_result"
    }
   ],
   "source": [
    "zoo = [\"lion\",\"tiger\"]\n",
    "zoo*2"
   ]
  },
  {
   "cell_type": "code",
   "execution_count": null,
   "id": "a71581f2-ec59-493b-83b3-f6b756198759",
   "metadata": {},
   "outputs": [],
   "source": []
  },
  {
   "cell_type": "code",
   "execution_count": null,
   "id": "190cd705-a9c9-4568-8a25-ad8fa351946d",
   "metadata": {},
   "outputs": [],
   "source": []
  },
  {
   "cell_type": "code",
   "execution_count": 114,
   "id": "54a52cd8-9952-42f7-8c4e-2e18c577abc0",
   "metadata": {},
   "outputs": [],
   "source": [
    "from pymongo import *\n",
    "client = MongoClient(host=\"mongodb://localhost:27017\")\n",
    "collection = client[\"yash\"][\"rrrr\"]"
   ]
  },
  {
   "cell_type": "code",
   "execution_count": 115,
   "id": "9c742337-bcba-48d9-8ba7-aba1e98a34a4",
   "metadata": {},
   "outputs": [
    {
     "name": "stdout",
     "output_type": "stream",
     "text": [
      "{'_id': ObjectId('64bd56fa94a6391c8f1af0c4'), 'Name': 'AAA', 'Age': 22, 'Mobile': 12345, 'Salary': 35000}\n"
     ]
    }
   ],
   "source": [
    "query = (\n",
    "    {\"Name\":\"AAA\", \"Age\":22, \"Mobile\":12345, \"Salary\":35000}\n",
    ")\n",
    "collection.insert_one(query)\n",
    "for i in collection.find():\n",
    "    print(i)"
   ]
  },
  {
   "cell_type": "code",
   "execution_count": 116,
   "id": "320b58ca-8e3d-41e2-a645-bc8a23348936",
   "metadata": {},
   "outputs": [
    {
     "name": "stdout",
     "output_type": "stream",
     "text": [
      "{'_id': ObjectId('64bd56fa94a6391c8f1af0c4'), 'Name': 'AAA', 'Age': 22, 'Mobile': 12345, 'Salary': 35000}\n",
      "{'_id': ObjectId('64bd57bb94a6391c8f1af0c5'), 'Name': 'BBB', 'Age': 24, 'Mobile': 12346, 'Salary': 40000}\n",
      "{'_id': ObjectId('64bd57bb94a6391c8f1af0c6'), 'Name': 'CCC', 'Age': 25, 'Mobile': 12347, 'Salary': 45000}\n",
      "{'_id': ObjectId('64bd57bb94a6391c8f1af0c7'), 'Name': 'DDD', 'Age': 26, 'Mobile': 12348, 'Salary': 50000}\n",
      "{'_id': ObjectId('64bd57bb94a6391c8f1af0c8'), 'Name': 'EEE', 'Age': 27, 'Mobile': 12349, 'Salary': 55000}\n"
     ]
    }
   ],
   "source": [
    "query = (\n",
    "    {\"Name\":\"BBB\",\"Age\":24, \"Mobile\":12346, \"Salary\":40000},\n",
    "    {\"Name\":\"CCC\",\"Age\":25, \"Mobile\":12347, \"Salary\":45000},\n",
    "    {\"Name\":\"DDD\",\"Age\":26, \"Mobile\":12348, \"Salary\":50000},\n",
    "    {\"Name\":\"EEE\",\"Age\":27, \"Mobile\":12349, \"Salary\":55000}\n",
    ")\n",
    "collection.insert_many(query)\n",
    "for i in collection.find():\n",
    "    print(i)"
   ]
  },
  {
   "cell_type": "code",
   "execution_count": 118,
   "id": "23861bae-9bb5-4082-828d-99fb81940992",
   "metadata": {},
   "outputs": [
    {
     "name": "stdout",
     "output_type": "stream",
     "text": [
      "{'_id': ObjectId('64bd56fa94a6391c8f1af0c4'), 'Name': 'YYYYYYY', 'Age': 22, 'Mobile': 12345, 'Salary': 35000}\n",
      "{'_id': ObjectId('64bd57bb94a6391c8f1af0c5'), 'Name': 'BBB', 'Age': 24, 'Mobile': 12346, 'Salary': 40000}\n",
      "{'_id': ObjectId('64bd57bb94a6391c8f1af0c6'), 'Name': 'CCC', 'Age': 25, 'Mobile': 12347, 'Salary': 45000}\n",
      "{'_id': ObjectId('64bd57bb94a6391c8f1af0c7'), 'Name': 'DDD', 'Age': 26, 'Mobile': 12348, 'Salary': 50000}\n",
      "{'_id': ObjectId('64bd57bb94a6391c8f1af0c8'), 'Name': 'EEE', 'Age': 27, 'Mobile': 12349, 'Salary': 55000}\n"
     ]
    }
   ],
   "source": [
    "query = { \"$set\": {\"Name\":\"YYYYYYY\"} }\n",
    "collection.update_one({\"Name\":\"AAA\"},query)\n",
    "for i in collection.find():\n",
    "    print(i)"
   ]
  },
  {
   "cell_type": "code",
   "execution_count": 120,
   "id": "fed6c3a2-d7cc-42dc-8729-60e5ff210ced",
   "metadata": {},
   "outputs": [
    {
     "name": "stdout",
     "output_type": "stream",
     "text": [
      "{'_id': ObjectId('64bd56fa94a6391c8f1af0c4'), 'Name': 'YYYYYYY', 'Age': 22, 'Mobile': 12345, 'Salary': 35000}\n",
      "{'_id': ObjectId('64bd57bb94a6391c8f1af0c6'), 'Name': 'CCC', 'Age': 25, 'Mobile': 12347, 'Salary': 45000}\n",
      "{'_id': ObjectId('64bd57bb94a6391c8f1af0c7'), 'Name': 'DDD', 'Age': 26, 'Mobile': 12348, 'Salary': 50000}\n",
      "{'_id': ObjectId('64bd57bb94a6391c8f1af0c8'), 'Name': 'EEE', 'Age': 27, 'Mobile': 12349, 'Salary': 55000}\n"
     ]
    }
   ],
   "source": [
    "collection.delete_one({\"Name\":\"BBB\"})\n",
    "for i in collection.find():\n",
    "    print(i)"
   ]
  },
  {
   "cell_type": "code",
   "execution_count": 126,
   "id": "5b45f9aa-8a7d-4747-a566-d7c713b57f8c",
   "metadata": {},
   "outputs": [
    {
     "name": "stdout",
     "output_type": "stream",
     "text": [
      "{'_id': ObjectId('64bd57bb94a6391c8f1af0c6'), 'Name': 'CCC', 'Age': 25, 'Mobile': 12347, 'Salary': 45000}\n",
      "{'_id': ObjectId('64bd57bb94a6391c8f1af0c7'), 'Name': 'DDD', 'Age': 26, 'Mobile': 12348, 'Salary': 50000}\n"
     ]
    }
   ],
   "source": [
    "query = {\"Salary\":{\"$gte\":36000  , \"$lte\":51000}}\n",
    "for i in collection.find(query):\n",
    "    print(i)"
   ]
  },
  {
   "cell_type": "code",
   "execution_count": null,
   "id": "e3f463ef-e6b4-4247-aaeb-356d27df4828",
   "metadata": {},
   "outputs": [],
   "source": []
  },
  {
   "cell_type": "code",
   "execution_count": null,
   "id": "5cdac55c-882d-43c4-a241-1224a29b6a46",
   "metadata": {},
   "outputs": [],
   "source": []
  },
  {
   "cell_type": "code",
   "execution_count": null,
   "id": "49bfbdd8-b3c2-4065-99c0-8eb9c2a9db1d",
   "metadata": {},
   "outputs": [],
   "source": []
  },
  {
   "cell_type": "code",
   "execution_count": null,
   "id": "34dc8a11-6348-49e2-bddc-5ff8e8919366",
   "metadata": {},
   "outputs": [],
   "source": []
  },
  {
   "cell_type": "code",
   "execution_count": null,
   "id": "1df83771-1abb-4794-8bfb-acb5d733e678",
   "metadata": {},
   "outputs": [],
   "source": []
  },
  {
   "cell_type": "code",
   "execution_count": 139,
   "id": "9a162d52-6e71-4ccc-9f4b-ca6d48dca4b1",
   "metadata": {},
   "outputs": [
    {
     "data": {
      "image/png": "[encoded data removed]",
      "text/plain": [
       "<Figure size 640x480 with 1 Axes>"
      ]
     },
     "metadata": {},
     "output_type": "display_data"
    }
   ],
   "source": [
    "from matplotlib import pyplot as plt\n",
    "x1 = [1,2,3,4,5]\n",
    "y1 = [1,2,3,4,5]\n",
    "x2 = [2,3,4,5,6]\n",
    "y2 = [2,3,4,5,6]\n",
    "plt.xlabel(\"X AXIS\")\n",
    "plt.ylabel(\"Y AXIS\")\n",
    "plt.bar(x1,y1, color=\"g\")\n",
    "plt.bar(x2,y2, color=\"b\")\n",
    "plt.title(\"Ploting\")\n",
    "plt.grid()\n",
    "plt.show()"
   ]
  },
  {
   "cell_type": "code",
   "execution_count": null,
   "id": "0ffe3694-d2c3-4354-b6cb-ddda31730010",
   "metadata": {},
   "outputs": [],
   "source": []
  },
  {
   "cell_type": "code",
   "execution_count": null,
   "id": "f6a227d2-cb6e-4243-b350-0429a73609bb",
   "metadata": {},
   "outputs": [],
   "source": []
  },
  {
   "cell_type": "code",
   "execution_count": 145,
   "id": "3797a30f-1fe0-479e-9a4f-ef9c2f137cc4",
   "metadata": {},
   "outputs": [
    {
     "data": {
      "image/png": "[encoded data removed]",
      "text/plain": [
       "<Figure size 640x480 with 1 Axes>"
      ]
     },
     "metadata": {},
     "output_type": "display_data"
    }
   ],
   "source": [
    "from matplotlib import pyplot as plt\n",
    "\n",
    "x1 = [1, 2, 3, 4, 5]\n",
    "y1 = [10, 8, 6, 4, 2]\n",
    "\n",
    "# Data for the second bar\n",
    "x2 = [1.5, 2.5, 3.5, 4.5, 5.5]  # Slightly offset x-coordinates for the second bar\n",
    "y2 = [5, 4, 3, 2, 1]  \n",
    "\n",
    "plt.xlabel(\"X AXIS\")\n",
    "plt.ylabel(\"Y AXIS\")\n",
    "plt.bar(x1, y1, color=\"g\", label=\"Bar 1\")  # Use label to differentiate the bars\n",
    "plt.bar(x2, y2, color=\"b\", label=\"Bar 2\")  # Use label to differentiate the bars\n",
    "plt.title(\"Plotting\")\n",
    "plt.grid()\n",
    "plt.legend()  # Show the legend for the bars\n",
    "plt.show()\n"
   ]
  },
  {
   "cell_type": "code",
   "execution_count": null,
   "id": "3c080d2e-479a-4956-90fa-5e50ccbdcbd6",
   "metadata": {},
   "outputs": [],
   "source": []
  },
  {
   "cell_type": "code",
   "execution_count": 141,
   "id": "4a90d2e1-4dd7-476e-b53a-d089d6a1771f",
   "metadata": {},
   "outputs": [
    {
     "data": {
      "image/png": "[encoded data removed]",
      "text/plain": [
       "<Figure size 640x480 with 1 Axes>"
      ]
     },
     "metadata": {},
     "output_type": "display_data"
    }
   ],
   "source": [
    "from matplotlib import pyplot as plt\n",
    "\n",
    "x1 = [1, 2, 3, 4, 5]\n",
    "y1 = [1, 2, 3, 4, 5]\n",
    "x2 = [2, 3, 4, 5, 6]\n",
    "y2 = [2, 3, 4, 5, 6]\n",
    "\n",
    "plt.xlabel(\"X AXIS\")\n",
    "plt.ylabel(\"Y AXIS\")\n",
    "plt.bar(x1, y1, color=\"g\", label=\"Bar 1\")\n",
    "plt.bar(x2, y2, color=\"b\", label=\"Bar 2\")\n",
    "plt.title(\"Plotting\")\n",
    "plt.grid()\n",
    "plt.legend()\n",
    "plt.show()\n"
   ]
  },
  {
   "cell_type": "code",
   "execution_count": null,
   "id": "4b207663-6818-4f3c-8be9-5dfa5a8d187c",
   "metadata": {},
   "outputs": [],
   "source": []
  },
  {
   "cell_type": "code",
   "execution_count": null,
   "id": "025432a2-97f0-42b0-9e9a-63bc27ecf541",
   "metadata": {},
   "outputs": [],
   "source": []
  },
  {
   "cell_type": "code",
   "execution_count": 128,
   "id": "a61a0c64-b3e2-4229-949f-02e7ab001a59",
   "metadata": {},
   "outputs": [
    {
     "name": "stdout",
     "output_type": "stream",
     "text": [
      "Number of lines: 10\n",
      "Number of characters: 146\n",
      "Number of special symbols: 27\n"
     ]
    }
   ],
   "source": [
    "import re\n",
    "def count_file_statistics(file_path):\n",
    "    lines_count = 0\n",
    "    characters_count = 0\n",
    "    special_symbols_count = 0\n",
    "\n",
    "    with open(file_path, 'r') as file:\n",
    "        content = file.read()\n",
    "        lines_count = content.count('\\n') + 1\n",
    "        characters_count = len(content)\n",
    "        special_symbols_count = len(re.findall(r'[^\\w\\n\\s]', content))\n",
    "\n",
    "    return lines_count, characters_count, special_symbols_count\n",
    "\n",
    "if __name__ == \"__main__\":\n",
    "    file_path = \"CALCULATOR.py\"  # Replace with the path to your file\n",
    "    lines_count, characters_count, special_symbols_count = count_file_statistics(file_path)\n",
    "\n",
    "    print(\"Number of lines:\", lines_count)\n",
    "    print(\"Number of characters:\", characters_count)\n",
    "    print(\"Number of special symbols:\", special_symbols_count)\n"
   ]
  },
  {
   "cell_type": "code",
   "execution_count": 129,
   "id": "049307cd-7aa0-4481-8d8b-f9caabed3900",
   "metadata": {},
   "outputs": [
    {
     "name": "stdout",
     "output_type": "stream",
     "text": [
      "Number of lines: 10\n",
      "Number of characters: 10\n",
      "Number of special symbols: 3\n"
     ]
    }
   ],
   "source": [
    "import re\n",
    "def filling(path):\n",
    "    Lcount, Ccount, symbol = 0,0,0\n",
    "    with open(path, \"r\") as file:\n",
    "        content = file.read()\n",
    "        Lcount = content.count(\"\\n\") + 1\n",
    "        Ccount = len(content)\n",
    "        symbol = len(re.findall(r'[*]', content))\n",
    "    return Lcount, Lcount, symbol\n",
    "\n",
    "if __name__ == \"__main__\":\n",
    "    path = \"CALCULATOR.py\"\n",
    "    Lcount, Ccount, symbol = filling(path)\n",
    "\n",
    "    print(\"Number of lines:\", Lcount)\n",
    "    print(\"Number of characters:\", Ccount)\n",
    "    print(\"Number of special symbols:\", symbol)"
   ]
  },
  {
   "cell_type": "code",
   "execution_count": 151,
   "id": "a9077dca-5e08-4411-8434-155572984927",
   "metadata": {},
   "outputs": [
    {
     "name": "stdout",
     "output_type": "stream",
     "text": [
      "Account No:  11\n",
      "Name:  IICMR\n",
      "Balance:  2000.0\n",
      "\n",
      "2000.0 have ROI is 1000.0\n",
      "\n",
      "Account No:11 , Name:IICMR, Balance:2000.0, ROI:1000.0\n"
     ]
    }
   ],
   "source": [
    "class AccountHolder:\n",
    "    def __init__(self,ac_no, bal,name):\n",
    "        self.ac_no = ac_no\n",
    "        self.name = name\n",
    "        self.bal = bal\n",
    "\n",
    "    def getData(self):\n",
    "        print(\"Account No: \", self.ac_no)\n",
    "        print(\"Name: \",self.name)\n",
    "        print(\"Balance: \",self.bal)\n",
    "\n",
    "    def display(self):\n",
    "        print(f\"Account No:{self.ac_no} , Name:{self.name}, Balance:{self.bal}, ROI:{self.ROI}\")\n",
    "\n",
    "    def calROI(self, r, y):\n",
    "        self.ROI = self.bal * r * y //100\n",
    "        print(f\"{self.bal} have ROI is {self.ROI}\")\n",
    "    \n",
    "c1 = AccountHolder(11, 2000.00, \"IICMR\")\n",
    "c1.getData()\n",
    "print()\n",
    "c1.calROI(r=5, y = 10)\n",
    "print()\n",
    "c1.display()\n"
   ]
  },
  {
   "cell_type": "code",
   "execution_count": null,
   "id": "f653cb17-91c6-4036-a695-bd5627ba5d1a",
   "metadata": {},
   "outputs": [],
   "source": []
  },
  {
   "cell_type": "code",
   "execution_count": null,
   "id": "d2e1de43-5141-448c-9d8d-5e0948b47b2b",
   "metadata": {},
   "outputs": [],
   "source": [
    "class AccountHolder:\n",
    "    def __init__(self, ac_no, bal, name):\n",
    "        self.ac_no = ac_no\n",
    "        self.name = name\n",
    "        self.bal = bal\n",
    "        self.roi = 0  # Initialize ROI to 0\n",
    "\n",
    "    def getData(self):\n",
    "        print(\"Account No: \", self.ac_no)\n",
    "        print(\"Name: \", self.name)\n",
    "        print(\"Balance: \", self.bal)\n",
    "\n",
    "    def display(self):\n",
    "        print(f\"Account No: {self.ac_no}, Name: {self.name}, Balance: {self.bal}, ROI: {self.roi}\")\n",
    "\n",
    "    def calROI(self, r, y):\n",
    "        self.roi = self.bal * r * y // 100\n",
    "\n",
    "c1 = AccountHolder(11, 2000.00, \"IICMR\")\n",
    "c1.getData()\n",
    "print()\n",
    "c1.calROI(r=5, y=10)\n",
    "print()\n",
    "c1.display()\n"
   ]
  },
  {
   "cell_type": "code",
   "execution_count": null,
   "id": "f18b7fea-3764-4c60-8a04-8339d26e68f4",
   "metadata": {},
   "outputs": [],
   "source": []
  },
  {
   "cell_type": "code",
   "execution_count": null,
   "id": "d18ab492-6b4e-4e8e-9e84-8d1bae01ea37",
   "metadata": {},
   "outputs": [],
   "source": []
  },
  {
   "cell_type": "code",
   "execution_count": null,
   "id": "cf09a75e-4efb-432e-9d37-0efa0b645b6f",
   "metadata": {},
   "outputs": [],
   "source": []
  },
  {
   "cell_type": "code",
   "execution_count": null,
   "id": "80381a7b-a1c2-4183-9292-bdb830b5d147",
   "metadata": {},
   "outputs": [],
   "source": []
  },
  {
   "cell_type": "code",
   "execution_count": null,
   "id": "2a2fea1d-1ba7-47d9-8768-36935815dd4b",
   "metadata": {},
   "outputs": [],
   "source": [
    "\n",
    "def fileH(path):\n",
    "    try:\n",
    "        with open(path,'r')as file:\n",
    "            count_line, character , symbol = 0,0,0\n",
    "            content = file.readlines()\n",
    "            count_line = len(content)\n",
    "            character = sum(len(i) for i in content)\n",
    "            symbol = sum(i.count('%') + i.count('#') + i.count('$') for i in content)\n",
    "\n",
    "\n",
    "        print(\"Lines: \",count_line)\n",
    "        print(\"Characters: \",character)\n",
    "        print(\"symbol: \",symbol)\n",
    "\n",
    "\n",
    "    except FileNotFoundError:\n",
    "        print(\"File Not Found\")  \n",
    "    \n",
    "    except Exception as e:\n",
    "        print(\"Error: \",e)\n",
    "    \n",
    "if __name__==\"__main__\":\n",
    "    path = 'yash.txt'\n",
    "    fileH(path)\n",
    "    \n"
   ]
  },
  {
   "cell_type": "code",
   "execution_count": 3,
   "id": "efa6e6c2-1dd2-4906-9fa5-12e70ac3b5b8",
   "metadata": {},
   "outputs": [
    {
     "data": {
      "image/png": "[encoded data removed]",
      "text/plain": [
       "<Figure size 640x480 with 1 Axes>"
      ]
     },
     "metadata": {},
     "output_type": "display_data"
    }
   ],
   "source": [
    "from matplotlib import pyplot as plt\n",
    "x = [1,2,3,4,5]\n",
    "y = [1,2,3,4,5]\n",
    "plt.hist(x,y, color=\"g\", label=\"Yash\")\n",
    "plt.xlabel(\"X-axis\")\n",
    "plt.ylabel(\"Y-axis\")\n",
    "plt.legend()\n",
    "plt.grid()\n",
    "plt.show()"
   ]
  },
  {
   "cell_type": "code",
   "execution_count": 155,
   "id": "41016c95-ad45-498c-9deb-ab37f5ac86d4",
   "metadata": {},
   "outputs": [
    {
     "name": "stdout",
     "output_type": "stream",
     "text": [
      "5x5 Array:\n",
      "[[ 1  2  3  4  5]\n",
      " [ 6  7  8  9 10]\n",
      " [11 12 13 14 15]\n",
      " [16 17 18 19 20]\n",
      " [21 22 23 24 25]]\n",
      "\n",
      "Column-wise Mean:\n",
      "[11. 12. 13. 14. 15.]\n"
     ]
    }
   ],
   "source": [
    "import numpy as np\n",
    "\n",
    "# Create a 5x5 NumPy array with predefined values\n",
    "array_5x5 = np.array([[1, 2, 3, 4, 5],\n",
    "                      [6, 7, 8, 9, 10],\n",
    "                      [11, 12, 13, 14, 15],\n",
    "                      [16, 17, 18, 19, 20],\n",
    "                      [21, 22, 23, 24, 25]])\n",
    "\n",
    "# Calculate the column-wise mean\n",
    "column_means = np.mean(array_5x5, axis=0)\n",
    "\n",
    "print(\"5x5 Array:\")\n",
    "print(array_5x5)\n",
    "print(\"\\nColumn-wise Mean:\")\n",
    "print(column_means)\n"
   ]
  },
  {
   "cell_type": "code",
   "execution_count": 152,
   "id": "aedaca93-3dca-4807-bf54-e1993145633f",
   "metadata": {},
   "outputs": [
    {
     "name": "stdout",
     "output_type": "stream",
     "text": [
      "5x5 Array:\n",
      "[[ 1  2  3  4  5]\n",
      " [ 6  7  8  9 10]\n",
      " [11 12 13 14 15]\n",
      " [16 17 18 19 20]\n",
      " [21 22 23 24 25]]\n",
      "\n",
      "Column-wise Mean:\n",
      "[ 3.  8. 13. 18. 23.]\n"
     ]
    }
   ],
   "source": [
    "import numpy as np\n",
    "\n",
    "# Create a 5x5 NumPy array with predefined values\n",
    "array_5x5 = np.array([[1, 2, 3, 4, 5],\n",
    "                      [6, 7, 8, 9, 10],\n",
    "                      [11, 12, 13, 14, 15],\n",
    "                      [16, 17, 18, 19, 20],\n",
    "                      [21, 22, 23, 24, 25]])\n",
    "\n",
    "# Calculate the column-wise mean\n",
    "column_means = np.mean(array_5x5, axis=0)\n",
    "\n",
    "print(\"5x5 Array:\")\n",
    "print(array_5x5)\n",
    "print(\"\\nColumn-wise Mean:\")\n",
    "print(column_means)\n"
   ]
  },
  {
   "cell_type": "code",
   "execution_count": 158,
   "id": "5b3b7527-f26f-497f-8a95-15ada5f0d11b",
   "metadata": {},
   "outputs": [
    {
     "name": "stdout",
     "output_type": "stream",
     "text": [
      "1D Array:\n",
      "[1 2 3 4 5]\n",
      "[1 2]\n"
     ]
    }
   ],
   "source": [
    "import numpy as np\n",
    "\n",
    "# Create a 1D array (vector)\n",
    "arr_1d = np.array([1, 2, 3, 4, 5])\n",
    "\n",
    "print(\"1D Array:\")\n",
    "print(arr_1d)\n",
    "print(arr_1d[0:2])"
   ]
  },
  {
   "cell_type": "code",
   "execution_count": 161,
   "id": "818da8fc-4931-44bc-8f27-2a4f96dabae2",
   "metadata": {},
   "outputs": [
    {
     "data": {
      "text/plain": [
       "array([2, 3, 4, 5, 6, 7, 8, 9])"
      ]
     },
     "execution_count": 161,
     "metadata": {},
     "output_type": "execute_result"
    }
   ],
   "source": [
    "import numpy as np\n",
    "np.eye(4)\n",
    "np.arange(2,10)\n"
   ]
  },
  {
   "cell_type": "code",
   "execution_count": 174,
   "id": "30ea00b7-2bf7-400d-ab13-e48c951b18a0",
   "metadata": {},
   "outputs": [
    {
     "data": {
      "text/plain": [
       "(2, 3)"
      ]
     },
     "execution_count": 174,
     "metadata": {},
     "output_type": "execute_result"
    }
   ],
   "source": [
    "import numpy as np\n",
    "a = np.array([[1,2,3],[4,5,6]])\n",
    "np.ravel(a)\n",
    "a.shape"
   ]
  },
  {
   "cell_type": "code",
   "execution_count": 177,
   "id": "e3219ac8-1d1b-4197-a9e1-76b18336c2c2",
   "metadata": {},
   "outputs": [
    {
     "name": "stdin",
     "output_type": "stream",
     "text": [
      "Enter a string:   for char in input_string if char not\n"
     ]
    },
    {
     "name": "stdout",
     "output_type": "stream",
     "text": [
      "String after removing vowels:   f r   c h r   n   n p t _ s t r n g   f   c h r   n t\n"
     ]
    }
   ],
   "source": [
    "def remove_vowels(input_string):\n",
    "    vowels = \"AEIOUaeiou\"\n",
    "    return \"\".join(char for char in input_string if char not in vowels)\n",
    "\n",
    "def main():\n",
    "    user_input = input(\"Enter a string: \")\n",
    "    result = remove_vowels(user_input)\n",
    "    print(\"String after removing vowels:\", result)\n",
    "\n",
    "if __name__ == \"__main__\":\n",
    "    main()\n"
   ]
  },
  {
   "cell_type": "code",
   "execution_count": 4,
   "id": "5fca78bc-b665-45f3-ba9a-d2c812bd751d",
   "metadata": {},
   "outputs": [
    {
     "name": "stdout",
     "output_type": "stream",
     "text": [
      "\n",
      "Array B:\n",
      "[  0  25  50  75 100]\n"
     ]
    }
   ],
   "source": [
    "import numpy as np\n",
    "array_b = np.linspace(0, 100, num=5, dtype=int)\n",
    "print(\"\\nArray B:\")\n",
    "print(array_b)"
   ]
  },
  {
   "cell_type": "code",
   "execution_count": 5,
   "id": "a11632ca-6116-4058-873d-36fa7b0b3df9",
   "metadata": {},
   "outputs": [
    {
     "name": "stdout",
     "output_type": "stream",
     "text": [
      "\n",
      "Horizontal Stack:\n",
      "[1 2 3 4 5 6]\n",
      "\n",
      "Vertical Stack:\n",
      "[[1 2 3]\n",
      " [4 5 6]]\n"
     ]
    }
   ],
   "source": [
    "array_e1 = np.array([1, 2, 3])\n",
    "array_e2 = np.array([4, 5, 6])\n",
    "horizontal_stack = np.hstack((array_e1, array_e2))\n",
    "vertical_stack = np.vstack((array_e1, array_e2))\n",
    "print(\"\\nHorizontal Stack:\")\n",
    "print(horizontal_stack)\n",
    "print(\"\\nVertical Stack:\")\n",
    "print(vertical_stack)"
   ]
  },
  {
   "cell_type": "code",
   "execution_count": null,
   "id": "e197a955-ebef-493e-a0b6-1f924ee93616",
   "metadata": {},
   "outputs": [],
   "source": [
    "def is_palindrome(input_str):\n",
    "    cleaned_input = ''.join(char.lower() for char in str(input_str) if char.isalnum())\n",
    "    \n",
    "    # Check if the cleaned input is equal to its reverse\n",
    "    return cleaned_input == cleaned_input[::-1]\n",
    "\n",
    "if __name__ == \"__main__\":\n",
    "    user_input = input(\"Enter a string or number: \")\n",
    "    if is_palindrome(user_input):\n",
    "        print(\"It is a palindrome!\")\n",
    "    else:\n",
    "        print(\"It is not a palindrome!\")\n"
   ]
  },
  {
   "cell_type": "code",
   "execution_count": null,
   "id": "30f04bd7-b204-4ef7-bff2-028f3cd73b87",
   "metadata": {},
   "outputs": [],
   "source": []
  }
 ],
 "metadata": {
  "kernelspec": {
   "display_name": "Python 3 (ipykernel)",
   "language": "python",
   "name": "python3"
  },
  "language_info": {
   "codemirror_mode": {
    "name": "ipython",
    "version": 3
   },
   "file_extension": ".py",
   "mimetype": "text/x-python",
   "name": "python",
   "nbconvert_exporter": "python",
   "pygments_lexer": "ipython3",
   "version": "3.11.2"
  }
 },
 "nbformat": 4,
 "nbformat_minor": 5
}
