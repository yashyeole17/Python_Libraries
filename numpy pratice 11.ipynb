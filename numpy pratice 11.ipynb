{
 "cells": [
  {
   "cell_type": "code",
   "execution_count": 1,
   "id": "cf5b2030-ad57-41ef-baa7-2ae62f02e214",
   "metadata": {},
   "outputs": [],
   "source": [
    "import numpy as np\n",
    "import sys"
   ]
  },
  {
   "cell_type": "code",
   "execution_count": 2,
   "id": "c9554e47-c43a-4603-85b4-9fdfa2cf60ed",
   "metadata": {},
   "outputs": [
    {
     "name": "stdout",
     "output_type": "stream",
     "text": [
      "[[1 2 3 4 5]\n",
      " [6 7 8 9 0]]\n",
      "Type of elements:  int32\n",
      "size of each element:  4\n",
      "shape of d2:  (2, 5)\n",
      "dimension of d2:  2\n"
     ]
    }
   ],
   "source": [
    "d2 = np.array([ [1,2,3,4,5] , [6,7,8,9,0] ])\n",
    "print(d2)\n",
    "print(\"Type of elements: \",d2.dtype)\n",
    "print(\"size of each element: \",d2.itemsize)\n",
    "print(\"shape of d2: \",d2.shape)\n",
    "print(\"dimension of d2: \",d2.ndim )"
   ]
  },
  {
   "cell_type": "code",
   "execution_count": 6,
   "id": "e1744724-79f3-4afe-b237-3cbb985002a6",
   "metadata": {},
   "outputs": [
    {
     "name": "stdout",
     "output_type": "stream",
     "text": [
      "[[ 1  2  3  4  5  6  7]\n",
      " [ 8  9 10 11 12 13 14]]\n",
      "Shape :  (2, 7)\n",
      "Dimension:   2\n"
     ]
    }
   ],
   "source": [
    "c = np.array([ [1,2,3,4,5,6,7],[8,9,10,11,12,13,14] ])\n",
    "print(c)\n",
    "print(\"Shape : \",c.shape)\n",
    "print(\"Dimension:  \",c.ndim)"
   ]
  },
  {
   "cell_type": "code",
   "execution_count": 7,
   "id": "6a2becaa-87a0-4c67-a1e9-0e9a71cacb99",
   "metadata": {},
   "outputs": [
    {
     "name": "stdout",
     "output_type": "stream",
     "text": [
      "6\n",
      "13\n"
     ]
    }
   ],
   "source": [
    "#get specific element [r, c]\n",
    "print(c[0,-2])\n",
    "print(c[1,-2])"
   ]
  },
  {
   "cell_type": "code",
   "execution_count": 63,
   "id": "e5594f2d-e8d3-4238-b676-7f26357201ab",
   "metadata": {},
   "outputs": [
    {
     "name": "stdout",
     "output_type": "stream",
     "text": [
      "[1 2 3 4 5 6 7]\n",
      "[ 8  9 10 11 12 13 14]\n"
     ]
    }
   ],
   "source": [
    "# get a specific row\n",
    "print(c[0,:])\n",
    "print(c[1,:])"
   ]
  },
  {
   "cell_type": "code",
   "execution_count": 66,
   "id": "f2088ae0-6927-44af-ac3d-333faf60440c",
   "metadata": {},
   "outputs": [
    {
     "name": "stdout",
     "output_type": "stream",
     "text": [
      "[ 3 10]\n",
      "[ 5 12]\n"
     ]
    }
   ],
   "source": [
    "# get a specific column\n",
    "print(c[:, 2])\n",
    "print(c[:, 4])"
   ]
  },
  {
   "cell_type": "code",
   "execution_count": 77,
   "id": "7f3c1c28-b865-432f-95e0-985ed6f86562",
   "metadata": {},
   "outputs": [
    {
     "name": "stdout",
     "output_type": "stream",
     "text": [
      "First Row:  [2 4 6]\n",
      "Second Row: [ 9 11 13]\n"
     ]
    }
   ],
   "source": [
    "#get specific indexes   [start : end : stepsize]\n",
    "print(\"First Row: \",c[0, 1:-1:2])     \n",
    "print(\"Second Row:\",c[1, -6:-1:2])   "
   ]
  },
  {
   "cell_type": "code",
   "execution_count": 79,
   "id": "70793691-6ed2-41d4-b303-f5bd82ac9a1f",
   "metadata": {},
   "outputs": [
    {
     "name": "stdout",
     "output_type": "stream",
     "text": [
      "[[  1   2   3   4   5   6   7]\n",
      " [  8   9  10  11  12 100  14]]\n"
     ]
    }
   ],
   "source": [
    "# changing value  by index\n",
    "c[1,5] = 100  \n",
    "print(c)"
   ]
  },
  {
   "cell_type": "code",
   "execution_count": 83,
   "id": "13cd1747-aa2a-4ad8-b987-9d5d3baf514f",
   "metadata": {},
   "outputs": [
    {
     "name": "stdout",
     "output_type": "stream",
     "text": [
      "[[  1   2 444   4   5   6   7]\n",
      " [  8   9 555  11  12 100  14]]\n"
     ]
    }
   ],
   "source": [
    "# changing value column wise\n",
    "c[:, 2] = [444, 555]\n",
    "print(c)"
   ]
  },
  {
   "cell_type": "code",
   "execution_count": null,
   "id": "1e77240b-1888-43b9-aa02-355147823d5a",
   "metadata": {},
   "outputs": [],
   "source": [
    "# 3D #-dimensional "
   ]
  },
  {
   "cell_type": "code",
   "execution_count": 95,
   "id": "534c80f0-3008-4451-ad5f-40eb7e2d5e7d",
   "metadata": {},
   "outputs": [
    {
     "name": "stdout",
     "output_type": "stream",
     "text": [
      "[[[1 2]\n",
      "  [3 4]]\n",
      "\n",
      " [[5 6]\n",
      "  [7 8]]]\n"
     ]
    }
   ],
   "source": [
    "d = np.array([ [[1,2], [3,4]] , [[5,6],[7,8]]  ])\n",
    "print(d)"
   ]
  },
  {
   "cell_type": "code",
   "execution_count": 104,
   "id": "b4dad311-1539-4c00-802a-4514bf2f2ab0",
   "metadata": {},
   "outputs": [
    {
     "data": {
      "text/plain": [
       "4"
      ]
     },
     "execution_count": 104,
     "metadata": {},
     "output_type": "execute_result"
    }
   ],
   "source": [
    "#get specific element (Work outside in)\n",
    "d[0,1,1]"
   ]
  },
  {
   "cell_type": "code",
   "execution_count": 113,
   "id": "f48f1e6b-f08b-4ce8-a7a1-6811ce855322",
   "metadata": {},
   "outputs": [
    {
     "name": "stdout",
     "output_type": "stream",
     "text": [
      "[[[1 2]\n",
      "  [9 9]]\n",
      "\n",
      " [[5 6]\n",
      "  [8 8]]]\n"
     ]
    }
   ],
   "source": [
    "#replace   \n",
    "d[:,1,:] = [[9,9],[8,8]]        # 1 = per array 1 index \n",
    "print(d)"
   ]
  },
  {
   "cell_type": "code",
   "execution_count": 197,
   "id": "3a99e6bf-4a5f-42c3-8822-477b5aa8e37d",
   "metadata": {},
   "outputs": [
    {
     "name": "stdout",
     "output_type": "stream",
     "text": [
      "0's matrix\n",
      "[[0. 0. 0.]\n",
      " [0. 0. 0.]]\n",
      "\n",
      "1's matrix\n",
      "[1. 1. 1. 1. 1.]\n",
      "\n",
      "1's matrix with dimension\n",
      "[[1. 1. 1.]\n",
      " [1. 1. 1.]]\n"
     ]
    }
   ],
   "source": [
    "print(\"0's matrix\")\n",
    "print(np.zeros([2,3]))\n",
    "print()\n",
    "\n",
    "print(\"1's matrix\")\n",
    "print(np.ones([5]))\n",
    "print()\n",
    "\n",
    "print(\"1's matrix with dimension\")\n",
    "print(np.ones([2,3]))"
   ]
  },
  {
   "cell_type": "code",
   "execution_count": 196,
   "id": "ed8e36cd-a1f7-4b72-bdda-68cc883f99d4",
   "metadata": {},
   "outputs": [
    {
     "data": {
      "text/plain": [
       "array([[0, 0, 0],\n",
       "       [0, 0, 0]])"
      ]
     },
     "execution_count": 196,
     "metadata": {},
     "output_type": "execute_result"
    }
   ],
   "source": [
    "# for any other numberss\n",
    "np.full((2,3),0)"
   ]
  },
  {
   "cell_type": "code",
   "execution_count": 128,
   "id": "3adb9a8b-6ec2-429d-954b-2f1d5af9e446",
   "metadata": {},
   "outputs": [
    {
     "data": {
      "text/plain": [
       "array([[33, 33, 33],\n",
       "       [33, 33, 33]])"
      ]
     },
     "execution_count": 128,
     "metadata": {},
     "output_type": "execute_result"
    }
   ],
   "source": [
    "np.full((2,3),33)"
   ]
  },
  {
   "cell_type": "code",
   "execution_count": 130,
   "id": "533418f9-9ddf-4774-8dd4-5257e6b276b5",
   "metadata": {},
   "outputs": [
    {
     "data": {
      "text/plain": [
       "array([4])"
      ]
     },
     "execution_count": 130,
     "metadata": {},
     "output_type": "execute_result"
    }
   ],
   "source": [
    "# any other no full_like\n",
    "np.full_like(a.shape,4)"
   ]
  },
  {
   "cell_type": "code",
   "execution_count": 198,
   "id": "59a71dc5-b6e1-492f-a746-40eaf7e88e03",
   "metadata": {},
   "outputs": [
    {
     "data": {
      "text/plain": [
       "array([[0.90817247, 0.94200981],\n",
       "       [0.18505025, 0.35467079],\n",
       "       [0.50742177, 0.20546034],\n",
       "       [0.71543022, 0.74451068]])"
      ]
     },
     "execution_count": 198,
     "metadata": {},
     "output_type": "execute_result"
    }
   ],
   "source": [
    "#Random function\n",
    "np.random.rand(4,2)"
   ]
  },
  {
   "cell_type": "code",
   "execution_count": 9,
   "id": "bf425a12-d801-4627-af33-71fc2e8422d8",
   "metadata": {},
   "outputs": [
    {
     "data": {
      "text/plain": [
       "array([[0, 8, 4, 6],\n",
       "       [2, 2, 4, 4],\n",
       "       [0, 2, 9, 0]])"
      ]
     },
     "execution_count": 9,
     "metadata": {},
     "output_type": "execute_result"
    }
   ],
   "source": [
    "#random Integer value\n",
    "np.random.randint(10, size=(3,4))"
   ]
  },
  {
   "cell_type": "code",
   "execution_count": 146,
   "id": "45853d99-9217-435d-8604-a3497d4fa88a",
   "metadata": {},
   "outputs": [
    {
     "data": {
      "text/plain": [
       "array([[ 2, -5, -1, -8],\n",
       "       [ 0, -3,  6, -2],\n",
       "       [-9,  6, -2,  5]])"
      ]
     },
     "execution_count": 146,
     "metadata": {},
     "output_type": "execute_result"
    }
   ],
   "source": [
    "# Start to end (-9, 10)\n",
    "np.random.randint(-9, 10, size=(3,4))"
   ]
  },
  {
   "cell_type": "code",
   "execution_count": 149,
   "id": "3660744a-0651-4d7b-a8ee-f14815dff098",
   "metadata": {},
   "outputs": [
    {
     "data": {
      "text/plain": [
       "array([[1., 0., 0.],\n",
       "       [0., 1., 0.],\n",
       "       [0., 0., 1.]])"
      ]
     },
     "execution_count": 149,
     "metadata": {},
     "output_type": "execute_result"
    }
   ],
   "source": [
    "# identity matrix\n",
    "np.identity(3)"
   ]
  },
  {
   "cell_type": "code",
   "execution_count": 158,
   "id": "5c1661b7-5bbf-4d76-911f-24dec7b527f2",
   "metadata": {},
   "outputs": [
    {
     "name": "stdout",
     "output_type": "stream",
     "text": [
      "[1 1 1 1 2 2 2 2 3 3 3 3]\n"
     ]
    }
   ],
   "source": [
    "# repeatd numbers\n",
    "arr = np.array([1,2,3])\n",
    "r1 = np.repeat(arr,4,axis=0)\n",
    "print(r1)"
   ]
  },
  {
   "cell_type": "code",
   "execution_count": 167,
   "id": "5e755fe1-4850-4621-8b46-7373969de2d3",
   "metadata": {},
   "outputs": [
    {
     "name": "stdout",
     "output_type": "stream",
     "text": [
      "B: [  1 100   3   4]\n",
      "A: [1 2 3 4]\n"
     ]
    }
   ],
   "source": [
    "# copying array\n",
    "a = np.array([1,2,3,4])\n",
    "b = a.copy()\n",
    "b[1] = 100\n",
    "print(\"B:\",b)\n",
    "print(\"A:\",a)"
   ]
  },
  {
   "cell_type": "code",
   "execution_count": 176,
   "id": "9a88fb17-84ea-4538-ac98-26606979782d",
   "metadata": {},
   "outputs": [
    {
     "name": "stdout",
     "output_type": "stream",
     "text": [
      "Addition:  [3 4 5 6]\n",
      "Subtration:  [-1  0  1  2]\n",
      "Multiplication;  [2 4 6 8]\n",
      "Division:  [0 1 1 2]\n",
      "Power 2:  [ 1  4  9 16]\n"
     ]
    }
   ],
   "source": [
    "#Arithmatic opearations with each row element\n",
    "print(\"Addition: \",a+2)\n",
    "print(\"Subtration: \",a-2)\n",
    "print(\"Multiplication; \",a*2)\n",
    "print(\"Division: \",a//2)\n",
    "print(\"Power 2: \",a**2)"
   ]
  },
  {
   "cell_type": "code",
   "execution_count": 184,
   "id": "c981777a-3e3a-48f1-af5e-acd950d9340f",
   "metadata": {},
   "outputs": [
    {
     "name": "stdout",
     "output_type": "stream",
     "text": [
      "[ 0.84147098  0.90929743  0.14112001 -0.7568025 ]\n",
      "[ 0.54030231 -0.41614684 -0.9899925  -0.65364362]\n",
      "[ 1.55740772 -2.18503986 -0.14254654  1.15782128]\n"
     ]
    }
   ],
   "source": [
    "# Geometrical values of each element\n",
    "print(np.sin(a))\n",
    "print(np.cos(a))\n",
    "print(np.tan(a))"
   ]
  },
  {
   "cell_type": "code",
   "execution_count": 186,
   "id": "72237695-31ed-414f-8c01-38d599d53220",
   "metadata": {},
   "outputs": [
    {
     "name": "stdout",
     "output_type": "stream",
     "text": [
      "Sum:  21\n",
      "min:  1\n",
      "max:  6\n"
     ]
    }
   ],
   "source": [
    "# Statistic function\n",
    "S = ([ [1,2,3],[4,5,6]  ])\n",
    "print(\"Sum: \",np.sum(S))\n",
    "print(\"min: \",np.min(S))\n",
    "print(\"max: \",np.max(S))"
   ]
  },
  {
   "cell_type": "code",
   "execution_count": 11,
   "id": "2a573a20-3af4-4407-b212-400c071616fa",
   "metadata": {},
   "outputs": [
    {
     "name": "stdout",
     "output_type": "stream",
     "text": [
      "[[1 2 3 4]\n",
      " [5 6 7 8]]\n",
      "\n",
      "[[1 2]\n",
      " [3 4]\n",
      " [5 6]\n",
      " [7 8]]\n"
     ]
    }
   ],
   "source": [
    "#reshape the array\n",
    "before = np.array([ [1,2,3,4] ,[5,6,7,8] ])\n",
    "print(before)\n",
    "print()\n",
    "after = before.reshape(4,2)\n",
    "print(after)"
   ]
  },
  {
   "cell_type": "code",
   "execution_count": null,
   "id": "90dd0041-4fb0-4494-9ea7-52e5468dc63c",
   "metadata": {},
   "outputs": [],
   "source": [
    "before = np.array([ [1,2,3,4] ,[5,6,7,8] ])\n",
    "print(before)\n",
    "print()\n",
    "after = before.reshape(4,2)\n",
    "print(after)"
   ]
  },
  {
   "cell_type": "code",
   "execution_count": 211,
   "id": "76936a35-fc5c-42db-9544-bc8be0ac5c59",
   "metadata": {},
   "outputs": [
    {
     "name": "stdout",
     "output_type": "stream",
     "text": [
      "[[23. 23. 26. 41. 12. 41.  2. 24. 34. 26.  2.]\n",
      " [21. 43. 22. 43. 41.  7. 28. 32.  9. 33. 38.]\n",
      " [ 4. 32.  9. 46. 31. 35. 42.  4. 20. 28. 33.]]\n"
     ]
    }
   ],
   "source": [
    "filedata = np.genfromtxt('data.txt', delimiter=',')\n",
    "print(filedata)"
   ]
  },
  {
   "cell_type": "code",
   "execution_count": 239,
   "id": "7b548b56-c956-45b4-a9a1-20aff9d8021a",
   "metadata": {},
   "outputs": [
    {
     "name": "stdout",
     "output_type": "stream",
     "text": [
      "[41. 41. 43. 43. 41. 46. 42.]\n",
      "\n",
      "[[False False False  True False  True False False False False False]\n",
      " [False  True False  True  True False False False False False False]\n",
      " [False False False  True False False  True False False False False]]\n",
      "\n"
     ]
    },
    {
     "data": {
      "text/plain": [
       "array([[False, False, False,  True, False,  True, False, False, False,\n",
       "        False, False],\n",
       "       [False,  True, False,  True,  True, False, False, False, False,\n",
       "        False, False],\n",
       "       [False, False, False, False, False, False,  True, False, False,\n",
       "        False, False]])"
      ]
     },
     "execution_count": 239,
     "metadata": {},
     "output_type": "execute_result"
    }
   ],
   "source": [
    "print(filedata[filedata>40])\n",
    "print()\n",
    "print(filedata>40)\n",
    "print()\n",
    "(filedata>40) & (filedata<45)"
   ]
  }
 ],
 "metadata": {
  "kernelspec": {
   "display_name": "Python 3 (ipykernel)",
   "language": "python",
   "name": "python3"
  },
  "language_info": {
   "codemirror_mode": {
    "name": "ipython",
    "version": 3
   },
   "file_extension": ".py",
   "mimetype": "text/x-python",
   "name": "python",
   "nbconvert_exporter": "python",
   "pygments_lexer": "ipython3",
   "version": "3.11.2"
  }
 },
 "nbformat": 4,
 "nbformat_minor": 5
}
