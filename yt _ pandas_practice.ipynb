{
 "cells": [
  {
   "cell_type": "code",
   "execution_count": 29,
   "id": "c7329bd8-3786-4298-99a7-a69aa30c5bf4",
   "metadata": {},
   "outputs": [
    {
     "data": {
      "text/plain": [
       "'\\nPandas Have two type \\n1]  Series  (Single type of data)\\n2]  DataFrame ( Multyple lines (type) of data store)\\n\\nCSV : Comma Seperated Values\\n'"
      ]
     },
     "execution_count": 29,
     "metadata": {},
     "output_type": "execute_result"
    }
   ],
   "source": [
    "\"\"\"\n",
    "Pandas Have two type \n",
    "1]  Series  (Single type of data)\n",
    "2]  DataFrame ( Multyple lines (type) of data store)\n",
    "\n",
    "CSV : Comma Seperated Values\n",
    "\"\"\""
   ]
  },
  {
   "cell_type": "code",
   "execution_count": null,
   "id": "e4661ca5-08e0-45aa-a856-057f9b1b5116",
   "metadata": {},
   "outputs": [],
   "source": []
  },
  {
   "cell_type": "code",
   "execution_count": 2,
   "id": "0929d8ec-f38c-493d-bab2-3c12303d3302",
   "metadata": {},
   "outputs": [],
   "source": [
    "import pandas as pd\n",
    "import numpy as np"
   ]
  },
  {
   "cell_type": "code",
   "execution_count": 66,
   "id": "9a18f7b5-9a51-4db8-b0d5-d05bd90106e6",
   "metadata": {},
   "outputs": [],
   "source": [
    "###################### Series opeartions #######################################"
   ]
  },
  {
   "cell_type": "code",
   "execution_count": 12,
   "id": "365fa54e-a4a3-4754-b1b0-de672348222c",
   "metadata": {},
   "outputs": [
    {
     "data": {
      "text/plain": [
       "0    1\n",
       "1    2\n",
       "2    3\n",
       "3    4\n",
       "4    5\n",
       "5    6\n",
       "6    7\n",
       "7    8\n",
       "dtype: int64"
      ]
     },
     "execution_count": 12,
     "metadata": {},
     "output_type": "execute_result"
    }
   ],
   "source": [
    "s = pd.Series([1,2,3,4,5,6,7,8])     #random function from numpy\n",
    "s"
   ]
  },
  {
   "cell_type": "code",
   "execution_count": 23,
   "id": "b0992b1c-5e91-494d-8769-b0b838c47a74",
   "metadata": {},
   "outputs": [
    {
     "data": {
      "text/plain": [
       "0     0.119278\n",
       "1     0.630998\n",
       "2     0.742210\n",
       "3     0.141133\n",
       "4     0.695410\n",
       "5     0.001661\n",
       "6     0.527432\n",
       "7     0.783673\n",
       "8     0.977581\n",
       "9     0.144455\n",
       "10    0.676432\n",
       "11    0.939033\n",
       "12    0.897424\n",
       "13    0.501614\n",
       "14    0.579828\n",
       "15    0.068998\n",
       "16    0.767263\n",
       "17    0.306568\n",
       "18    0.682755\n",
       "19    0.397882\n",
       "20    0.958523\n",
       "21    0.373815\n",
       "22    0.085606\n",
       "23    0.732486\n",
       "24    0.388236\n",
       "25    0.479057\n",
       "26    0.889586\n",
       "27    0.908119\n",
       "28    0.939875\n",
       "29    0.130903\n",
       "30    0.905235\n",
       "31    0.341319\n",
       "32    0.137791\n",
       "33    0.911946\n",
       "34    0.011574\n",
       "35    0.963887\n",
       "36    0.098001\n",
       "37    0.141299\n",
       "38    0.109665\n",
       "39    0.528103\n",
       "40    0.927866\n",
       "41    0.717342\n",
       "42    0.950433\n",
       "43    0.192617\n",
       "44    0.137462\n",
       "45    0.169363\n",
       "46    0.137714\n",
       "47    0.011633\n",
       "48    0.640588\n",
       "49    0.634336\n",
       "dtype: float64"
      ]
     },
     "execution_count": 23,
     "metadata": {},
     "output_type": "execute_result"
    }
   ],
   "source": [
    "s = pd.Series(np.random.rand(50))\n",
    "s"
   ]
  },
  {
   "cell_type": "code",
   "execution_count": 21,
   "id": "084d96ac-b126-4cdb-ae66-2f286db388d5",
   "metadata": {},
   "outputs": [
    {
     "data": {
      "text/plain": [
       "pandas.core.series.Series"
      ]
     },
     "execution_count": 21,
     "metadata": {},
     "output_type": "execute_result"
    }
   ],
   "source": [
    "# Knowing type of series s\n",
    "type(s)"
   ]
  },
  {
   "cell_type": "code",
   "execution_count": 13,
   "id": "b4834ad8-f34c-4f94-917f-84e69a499924",
   "metadata": {},
   "outputs": [
    {
     "data": {
      "text/plain": [
       "RangeIndex(start=0, stop=8, step=1)"
      ]
     },
     "execution_count": 13,
     "metadata": {},
     "output_type": "execute_result"
    }
   ],
   "source": [
    "# for knowing index of series s\n",
    "s.index"
   ]
  },
  {
   "cell_type": "code",
   "execution_count": 4,
   "id": "3f7af40c-1811-4ad2-87dc-a3fcb320416d",
   "metadata": {},
   "outputs": [
    {
     "data": {
      "text/plain": [
       "a    1\n",
       "b    2\n",
       "c    3\n",
       "d    4\n",
       "e    5\n",
       "f    6\n",
       "g    7\n",
       "dtype: int64"
      ]
     },
     "execution_count": 4,
     "metadata": {},
     "output_type": "execute_result"
    }
   ],
   "source": [
    "y = pd.Series([1,2,3,4,5,6,7], index=['a','b','c','d','e','f','g'])\n",
    "y"
   ]
  },
  {
   "cell_type": "code",
   "execution_count": 6,
   "id": "e024253a-8c1f-4a09-89a8-ba53441845a0",
   "metadata": {},
   "outputs": [
    {
     "data": {
      "text/plain": [
       "0    0.363612\n",
       "1    0.332348\n",
       "2    0.652825\n",
       "3    0.015434\n",
       "4    0.568065\n",
       "5    0.742684\n",
       "6    0.492173\n",
       "7    0.222273\n",
       "8    0.573766\n",
       "9    0.914262\n",
       "dtype: float64"
      ]
     },
     "execution_count": 6,
     "metadata": {},
     "output_type": "execute_result"
    }
   ],
   "source": [
    "u = pd.Series(np.random.rand(10))\n",
    "u"
   ]
  },
  {
   "cell_type": "code",
   "execution_count": 7,
   "id": "78d8d97b-a68f-4e2b-87ed-1b11f7c6aede",
   "metadata": {},
   "outputs": [
    {
     "data": {
      "text/plain": [
       "0    0.363612\n",
       "1    0.332348\n",
       "2    0.652825\n",
       "3    0.015434\n",
       "4    0.568065\n",
       "dtype: float64"
      ]
     },
     "execution_count": 7,
     "metadata": {},
     "output_type": "execute_result"
    }
   ],
   "source": [
    "u.head()"
   ]
  },
  {
   "cell_type": "code",
   "execution_count": 8,
   "id": "c31eee96-8336-43e6-b885-da72f1487409",
   "metadata": {},
   "outputs": [
    {
     "data": {
      "text/plain": [
       "5    0.742684\n",
       "6    0.492173\n",
       "7    0.222273\n",
       "8    0.573766\n",
       "9    0.914262\n",
       "dtype: float64"
      ]
     },
     "execution_count": 8,
     "metadata": {},
     "output_type": "execute_result"
    }
   ],
   "source": [
    "u.tail()"
   ]
  },
  {
   "cell_type": "code",
   "execution_count": 26,
   "id": "bd956e5d-1870-48d8-84e5-da198fb10837",
   "metadata": {},
   "outputs": [
    {
     "data": {
      "text/plain": [
       "dtype('float64')"
      ]
     },
     "execution_count": 26,
     "metadata": {},
     "output_type": "execute_result"
    }
   ],
   "source": [
    "#knowing data type of series s \n",
    "s.dtype"
   ]
  },
  {
   "cell_type": "code",
   "execution_count": 32,
   "id": "9186856f-f693-4bd5-91ed-cff12f0146fc",
   "metadata": {},
   "outputs": [
    {
     "data": {
      "text/plain": [
       "0    0.119278\n",
       "1    0.630998\n",
       "2    0.742210\n",
       "3    0.141133\n",
       "4    0.695410\n",
       "dtype: float64"
      ]
     },
     "execution_count": 32,
     "metadata": {},
     "output_type": "execute_result"
    }
   ],
   "source": [
    "#knowing staring vales\n",
    "s.head(5)"
   ]
  },
  {
   "cell_type": "code",
   "execution_count": 35,
   "id": "65c53940-57f2-418f-9b16-bb44b7483a95",
   "metadata": {},
   "outputs": [
    {
     "data": {
      "text/plain": [
       "45    0.169363\n",
       "46    0.137714\n",
       "47    0.011633\n",
       "48    0.640588\n",
       "49    0.634336\n",
       "dtype: float64"
      ]
     },
     "execution_count": 35,
     "metadata": {},
     "output_type": "execute_result"
    }
   ],
   "source": [
    "#knowing ending vales\n",
    "s.tail(5)"
   ]
  },
  {
   "cell_type": "code",
   "execution_count": null,
   "id": "ea3c5b34-6c76-4634-9283-5700a32c2c3c",
   "metadata": {},
   "outputs": [],
   "source": [
    "####################  DATAFRAME OPERAIONS  ##################################################### "
   ]
  },
  {
   "cell_type": "code",
   "execution_count": 10,
   "id": "75bb5734-ae84-44dc-bc8d-07f7cb25ed35",
   "metadata": {},
   "outputs": [
    {
     "name": "stdout",
     "output_type": "stream",
     "text": [
      "            0         1         2         3         4         5         6  \\\n",
      "0    0.691377  0.972627  0.094751  0.629467  0.146482  0.165586  0.960872   \n",
      "1    0.716082  0.850242  0.581858  0.689139  0.692555  0.409566  0.032144   \n",
      "2    0.084476  0.537100  0.634081  0.524633  0.192324  0.223171  0.354584   \n",
      "3    0.650647  0.715999  0.619989  0.903909  0.121408  0.442122  0.630260   \n",
      "4    0.066250  0.505865  0.209367  0.575493  0.933394  0.406034  0.029335   \n",
      "..        ...       ...       ...       ...       ...       ...       ...   \n",
      "495  0.657047  0.568388  0.074012  0.884156  0.295222  0.775737  0.760547   \n",
      "496  0.672685  0.960998  0.259951  0.420887  0.343231  0.442643  0.931794   \n",
      "497  0.825426  0.007865  0.108225  0.156785  0.002131  0.342978  0.142886   \n",
      "498  0.536184  0.015134  0.716763  0.880477  0.710049  0.352243  0.558337   \n",
      "499  0.907714  0.118593  0.995704  0.563118  0.785990  0.773329  0.671302   \n",
      "\n",
      "            7  \n",
      "0    0.184095  \n",
      "1    0.294636  \n",
      "2    0.977796  \n",
      "3    0.578826  \n",
      "4    0.873142  \n",
      "..        ...  \n",
      "495  0.767060  \n",
      "496  0.497480  \n",
      "497  0.089465  \n",
      "498  0.651053  \n",
      "499  0.608030  \n",
      "\n",
      "[500 rows x 8 columns]\n"
     ]
    }
   ],
   "source": [
    "# CREATING DATAFRAME FRAME RANDOM FUNCTION IN NUMPY LIBRARY\n",
    "\n",
    "df = pd.DataFrame(np.random.rand(500,8), index=np.arange(500))\n",
    "print(df)"
   ]
  },
  {
   "cell_type": "code",
   "execution_count": 13,
   "id": "366ddad7-207e-431a-a897-1a409d914ec1",
   "metadata": {},
   "outputs": [
    {
     "data": {
      "text/plain": [
       "8"
      ]
     },
     "execution_count": 13,
     "metadata": {},
     "output_type": "execute_result"
    }
   ],
   "source": [
    "df.shape[1]"
   ]
  },
  {
   "cell_type": "code",
   "execution_count": 15,
   "id": "a4b85385-aebb-4567-8357-c43ef634a5b8",
   "metadata": {},
   "outputs": [
    {
     "name": "stdout",
     "output_type": "stream",
     "text": [
      "['23, 23, 26, 41, 12, 41,  2, 24, 34, 26,  2\\n', '21, 43, 22, 43, 41,  7, 28, 32,  9, 33, 38\\n', '4, 32,  9, 46, 31, 35, 42,  4, 20, 28, 33\\n']\n"
     ]
    }
   ],
   "source": [
    "f = open (\"data.txt\", 'r')\n",
    "line = f.readlines()\n",
    "print(line)"
   ]
  },
  {
   "cell_type": "code",
   "execution_count": 10,
   "id": "c01e03f5-9221-4bcb-af10-efc3e9616fe2",
   "metadata": {},
   "outputs": [
    {
     "data": {
      "text/plain": [
       "pandas.core.frame.DataFrame"
      ]
     },
     "execution_count": 10,
     "metadata": {},
     "output_type": "execute_result"
    }
   ],
   "source": [
    "# type of FRAME (DataFrame)\n",
    "type(df)"
   ]
  },
  {
   "cell_type": "code",
   "execution_count": 11,
   "id": "8d21dc67-74d4-454d-bee4-01a57812222f",
   "metadata": {},
   "outputs": [
    {
     "data": {
      "text/plain": [
       "RangeIndex(start=0, stop=8, step=1)"
      ]
     },
     "execution_count": 11,
     "metadata": {},
     "output_type": "execute_result"
    }
   ],
   "source": [
    "# NO OF  columns\n",
    "df.columns"
   ]
  },
  {
   "cell_type": "code",
   "execution_count": 12,
   "id": "419611e5-8860-4353-90a9-528a4b5c9a43",
   "metadata": {},
   "outputs": [
    {
     "data": {
      "text/html": [
       "<div>\n",
       "<style scoped>\n",
       "    .dataframe tbody tr th:only-of-type {\n",
       "        vertical-align: middle;\n",
       "    }\n",
       "\n",
       "    .dataframe tbody tr th {\n",
       "        vertical-align: top;\n",
       "    }\n",
       "\n",
       "    .dataframe thead th {\n",
       "        text-align: right;\n",
       "    }\n",
       "</style>\n",
       "<table border=\"1\" class=\"dataframe\">\n",
       "  <thead>\n",
       "    <tr style=\"text-align: right;\">\n",
       "      <th></th>\n",
       "      <th>0</th>\n",
       "      <th>1</th>\n",
       "      <th>2</th>\n",
       "      <th>3</th>\n",
       "      <th>4</th>\n",
       "      <th>5</th>\n",
       "      <th>6</th>\n",
       "      <th>7</th>\n",
       "    </tr>\n",
       "  </thead>\n",
       "  <tbody>\n",
       "    <tr>\n",
       "      <th>0</th>\n",
       "      <td>0.186388</td>\n",
       "      <td>0.072542</td>\n",
       "      <td>0.508395</td>\n",
       "      <td>0.248751</td>\n",
       "      <td>0.453066</td>\n",
       "      <td>0.972811</td>\n",
       "      <td>0.587282</td>\n",
       "      <td>0.795188</td>\n",
       "    </tr>\n",
       "    <tr>\n",
       "      <th>1</th>\n",
       "      <td>0.757759</td>\n",
       "      <td>0.189676</td>\n",
       "      <td>0.755264</td>\n",
       "      <td>0.913767</td>\n",
       "      <td>0.843432</td>\n",
       "      <td>0.176062</td>\n",
       "      <td>0.359734</td>\n",
       "      <td>0.174944</td>\n",
       "    </tr>\n",
       "    <tr>\n",
       "      <th>2</th>\n",
       "      <td>0.800266</td>\n",
       "      <td>0.537549</td>\n",
       "      <td>0.535974</td>\n",
       "      <td>0.412281</td>\n",
       "      <td>0.701729</td>\n",
       "      <td>0.923787</td>\n",
       "      <td>0.162526</td>\n",
       "      <td>0.226832</td>\n",
       "    </tr>\n",
       "    <tr>\n",
       "      <th>3</th>\n",
       "      <td>0.953312</td>\n",
       "      <td>0.520340</td>\n",
       "      <td>0.996949</td>\n",
       "      <td>0.753651</td>\n",
       "      <td>0.105032</td>\n",
       "      <td>0.930880</td>\n",
       "      <td>0.126200</td>\n",
       "      <td>0.569155</td>\n",
       "    </tr>\n",
       "    <tr>\n",
       "      <th>4</th>\n",
       "      <td>0.535535</td>\n",
       "      <td>0.505252</td>\n",
       "      <td>0.481864</td>\n",
       "      <td>0.356323</td>\n",
       "      <td>0.619453</td>\n",
       "      <td>0.157490</td>\n",
       "      <td>0.013272</td>\n",
       "      <td>0.508839</td>\n",
       "    </tr>\n",
       "  </tbody>\n",
       "</table>\n",
       "</div>"
      ],
      "text/plain": [
       "          0         1         2         3         4         5         6  \\\n",
       "0  0.186388  0.072542  0.508395  0.248751  0.453066  0.972811  0.587282   \n",
       "1  0.757759  0.189676  0.755264  0.913767  0.843432  0.176062  0.359734   \n",
       "2  0.800266  0.537549  0.535974  0.412281  0.701729  0.923787  0.162526   \n",
       "3  0.953312  0.520340  0.996949  0.753651  0.105032  0.930880  0.126200   \n",
       "4  0.535535  0.505252  0.481864  0.356323  0.619453  0.157490  0.013272   \n",
       "\n",
       "          7  \n",
       "0  0.795188  \n",
       "1  0.174944  \n",
       "2  0.226832  \n",
       "3  0.569155  \n",
       "4  0.508839  "
      ]
     },
     "execution_count": 12,
     "metadata": {},
     "output_type": "execute_result"
    }
   ],
   "source": [
    "# First 5 rows in Dataframe \n",
    "df.head(5) "
   ]
  },
  {
   "cell_type": "code",
   "execution_count": 13,
   "id": "6911f97a-39fc-4b17-b3e0-772441bd1b5a",
   "metadata": {},
   "outputs": [
    {
     "data": {
      "text/html": [
       "<div>\n",
       "<style scoped>\n",
       "    .dataframe tbody tr th:only-of-type {\n",
       "        vertical-align: middle;\n",
       "    }\n",
       "\n",
       "    .dataframe tbody tr th {\n",
       "        vertical-align: top;\n",
       "    }\n",
       "\n",
       "    .dataframe thead th {\n",
       "        text-align: right;\n",
       "    }\n",
       "</style>\n",
       "<table border=\"1\" class=\"dataframe\">\n",
       "  <thead>\n",
       "    <tr style=\"text-align: right;\">\n",
       "      <th></th>\n",
       "      <th>0</th>\n",
       "      <th>1</th>\n",
       "      <th>2</th>\n",
       "      <th>3</th>\n",
       "      <th>4</th>\n",
       "      <th>5</th>\n",
       "      <th>6</th>\n",
       "      <th>7</th>\n",
       "    </tr>\n",
       "  </thead>\n",
       "  <tbody>\n",
       "    <tr>\n",
       "      <th>495</th>\n",
       "      <td>0.942872</td>\n",
       "      <td>0.980669</td>\n",
       "      <td>0.804930</td>\n",
       "      <td>0.573362</td>\n",
       "      <td>0.338152</td>\n",
       "      <td>0.394541</td>\n",
       "      <td>0.101196</td>\n",
       "      <td>0.006889</td>\n",
       "    </tr>\n",
       "    <tr>\n",
       "      <th>496</th>\n",
       "      <td>0.471898</td>\n",
       "      <td>0.988865</td>\n",
       "      <td>0.514593</td>\n",
       "      <td>0.876103</td>\n",
       "      <td>0.599964</td>\n",
       "      <td>0.806398</td>\n",
       "      <td>0.211088</td>\n",
       "      <td>0.812206</td>\n",
       "    </tr>\n",
       "    <tr>\n",
       "      <th>497</th>\n",
       "      <td>0.650099</td>\n",
       "      <td>0.503640</td>\n",
       "      <td>0.838419</td>\n",
       "      <td>0.648366</td>\n",
       "      <td>0.514813</td>\n",
       "      <td>0.392711</td>\n",
       "      <td>0.833177</td>\n",
       "      <td>0.913291</td>\n",
       "    </tr>\n",
       "    <tr>\n",
       "      <th>498</th>\n",
       "      <td>0.954955</td>\n",
       "      <td>0.081132</td>\n",
       "      <td>0.823338</td>\n",
       "      <td>0.432674</td>\n",
       "      <td>0.847944</td>\n",
       "      <td>0.492256</td>\n",
       "      <td>0.997388</td>\n",
       "      <td>0.666557</td>\n",
       "    </tr>\n",
       "    <tr>\n",
       "      <th>499</th>\n",
       "      <td>0.750043</td>\n",
       "      <td>0.656345</td>\n",
       "      <td>0.395120</td>\n",
       "      <td>0.501938</td>\n",
       "      <td>0.972571</td>\n",
       "      <td>0.298997</td>\n",
       "      <td>0.738612</td>\n",
       "      <td>0.699188</td>\n",
       "    </tr>\n",
       "  </tbody>\n",
       "</table>\n",
       "</div>"
      ],
      "text/plain": [
       "            0         1         2         3         4         5         6  \\\n",
       "495  0.942872  0.980669  0.804930  0.573362  0.338152  0.394541  0.101196   \n",
       "496  0.471898  0.988865  0.514593  0.876103  0.599964  0.806398  0.211088   \n",
       "497  0.650099  0.503640  0.838419  0.648366  0.514813  0.392711  0.833177   \n",
       "498  0.954955  0.081132  0.823338  0.432674  0.847944  0.492256  0.997388   \n",
       "499  0.750043  0.656345  0.395120  0.501938  0.972571  0.298997  0.738612   \n",
       "\n",
       "            7  \n",
       "495  0.006889  \n",
       "496  0.812206  \n",
       "497  0.913291  \n",
       "498  0.666557  \n",
       "499  0.699188  "
      ]
     },
     "execution_count": 13,
     "metadata": {},
     "output_type": "execute_result"
    }
   ],
   "source": [
    "# LAST 5 rows in Dataframe \n",
    "df.tail(5)"
   ]
  },
  {
   "cell_type": "code",
   "execution_count": 14,
   "id": "637919a0-6040-466b-8a6d-23dbe344d1d2",
   "metadata": {},
   "outputs": [
    {
     "data": {
      "text/plain": [
       "array([[0.18638768, 0.07254192, 0.50839531, ..., 0.97281127, 0.58728155,\n",
       "        0.79518794],\n",
       "       [0.75775899, 0.18967594, 0.75526358, ..., 0.17606209, 0.35973423,\n",
       "        0.17494422],\n",
       "       [0.80026626, 0.53754938, 0.53597381, ..., 0.92378664, 0.16252611,\n",
       "        0.22683151],\n",
       "       ...,\n",
       "       [0.65009914, 0.50364   , 0.83841914, ..., 0.39271074, 0.833177  ,\n",
       "        0.91329148],\n",
       "       [0.95495479, 0.08113156, 0.82333802, ..., 0.49225619, 0.99738804,\n",
       "        0.66655666],\n",
       "       [0.75004256, 0.65634452, 0.39511976, ..., 0.29899683, 0.73861171,\n",
       "        0.69918839]])"
      ]
     },
     "execution_count": 14,
     "metadata": {},
     "output_type": "execute_result"
    }
   ],
   "source": [
    "# converting this dataframe values into ARRAY\n",
    "df.to_numpy()"
   ]
  },
  {
   "cell_type": "code",
   "execution_count": null,
   "id": "db316d42-bda3-4302-9103-dc79a8f1e45a",
   "metadata": {},
   "outputs": [],
   "source": []
  },
  {
   "cell_type": "code",
   "execution_count": null,
   "id": "494ea79f-0a63-4ac9-8a6a-9d1ae22ecae8",
   "metadata": {},
   "outputs": [],
   "source": [
    "####################  CSV fILES OPRATIONS   ####################################################"
   ]
  },
  {
   "cell_type": "code",
   "execution_count": 15,
   "id": "195b0d63-a0bf-4a04-b19a-e1500b1fc0f9",
   "metadata": {},
   "outputs": [],
   "source": [
    "# Storing this data into CSV ( COMMA-SEPERATED-VALUES )\n",
    "df.to_csv(\"DATA.csv\")"
   ]
  },
  {
   "cell_type": "code",
   "execution_count": 16,
   "id": "439412e5-849e-424b-a69b-b767923bd045",
   "metadata": {},
   "outputs": [
    {
     "data": {
      "text/html": [
       "<div>\n",
       "<style scoped>\n",
       "    .dataframe tbody tr th:only-of-type {\n",
       "        vertical-align: middle;\n",
       "    }\n",
       "\n",
       "    .dataframe tbody tr th {\n",
       "        vertical-align: top;\n",
       "    }\n",
       "\n",
       "    .dataframe thead th {\n",
       "        text-align: right;\n",
       "    }\n",
       "</style>\n",
       "<table border=\"1\" class=\"dataframe\">\n",
       "  <thead>\n",
       "    <tr style=\"text-align: right;\">\n",
       "      <th></th>\n",
       "      <th>Unnamed: 0</th>\n",
       "      <th>0</th>\n",
       "      <th>1</th>\n",
       "      <th>2</th>\n",
       "      <th>3</th>\n",
       "      <th>4</th>\n",
       "      <th>5</th>\n",
       "      <th>6</th>\n",
       "      <th>7</th>\n",
       "    </tr>\n",
       "  </thead>\n",
       "  <tbody>\n",
       "    <tr>\n",
       "      <th>0</th>\n",
       "      <td>0</td>\n",
       "      <td>0.186388</td>\n",
       "      <td>0.072542</td>\n",
       "      <td>0.508395</td>\n",
       "      <td>0.248751</td>\n",
       "      <td>0.453066</td>\n",
       "      <td>0.972811</td>\n",
       "      <td>0.587282</td>\n",
       "      <td>0.795188</td>\n",
       "    </tr>\n",
       "    <tr>\n",
       "      <th>1</th>\n",
       "      <td>1</td>\n",
       "      <td>0.757759</td>\n",
       "      <td>0.189676</td>\n",
       "      <td>0.755264</td>\n",
       "      <td>0.913767</td>\n",
       "      <td>0.843432</td>\n",
       "      <td>0.176062</td>\n",
       "      <td>0.359734</td>\n",
       "      <td>0.174944</td>\n",
       "    </tr>\n",
       "    <tr>\n",
       "      <th>2</th>\n",
       "      <td>2</td>\n",
       "      <td>0.800266</td>\n",
       "      <td>0.537549</td>\n",
       "      <td>0.535974</td>\n",
       "      <td>0.412281</td>\n",
       "      <td>0.701729</td>\n",
       "      <td>0.923787</td>\n",
       "      <td>0.162526</td>\n",
       "      <td>0.226832</td>\n",
       "    </tr>\n",
       "    <tr>\n",
       "      <th>3</th>\n",
       "      <td>3</td>\n",
       "      <td>0.953312</td>\n",
       "      <td>0.520340</td>\n",
       "      <td>0.996949</td>\n",
       "      <td>0.753651</td>\n",
       "      <td>0.105032</td>\n",
       "      <td>0.930880</td>\n",
       "      <td>0.126200</td>\n",
       "      <td>0.569155</td>\n",
       "    </tr>\n",
       "    <tr>\n",
       "      <th>4</th>\n",
       "      <td>4</td>\n",
       "      <td>0.535535</td>\n",
       "      <td>0.505252</td>\n",
       "      <td>0.481864</td>\n",
       "      <td>0.356323</td>\n",
       "      <td>0.619453</td>\n",
       "      <td>0.157490</td>\n",
       "      <td>0.013272</td>\n",
       "      <td>0.508839</td>\n",
       "    </tr>\n",
       "    <tr>\n",
       "      <th>...</th>\n",
       "      <td>...</td>\n",
       "      <td>...</td>\n",
       "      <td>...</td>\n",
       "      <td>...</td>\n",
       "      <td>...</td>\n",
       "      <td>...</td>\n",
       "      <td>...</td>\n",
       "      <td>...</td>\n",
       "      <td>...</td>\n",
       "    </tr>\n",
       "    <tr>\n",
       "      <th>495</th>\n",
       "      <td>495</td>\n",
       "      <td>0.942872</td>\n",
       "      <td>0.980669</td>\n",
       "      <td>0.804930</td>\n",
       "      <td>0.573362</td>\n",
       "      <td>0.338152</td>\n",
       "      <td>0.394541</td>\n",
       "      <td>0.101196</td>\n",
       "      <td>0.006889</td>\n",
       "    </tr>\n",
       "    <tr>\n",
       "      <th>496</th>\n",
       "      <td>496</td>\n",
       "      <td>0.471898</td>\n",
       "      <td>0.988865</td>\n",
       "      <td>0.514593</td>\n",
       "      <td>0.876103</td>\n",
       "      <td>0.599964</td>\n",
       "      <td>0.806398</td>\n",
       "      <td>0.211088</td>\n",
       "      <td>0.812206</td>\n",
       "    </tr>\n",
       "    <tr>\n",
       "      <th>497</th>\n",
       "      <td>497</td>\n",
       "      <td>0.650099</td>\n",
       "      <td>0.503640</td>\n",
       "      <td>0.838419</td>\n",
       "      <td>0.648366</td>\n",
       "      <td>0.514813</td>\n",
       "      <td>0.392711</td>\n",
       "      <td>0.833177</td>\n",
       "      <td>0.913291</td>\n",
       "    </tr>\n",
       "    <tr>\n",
       "      <th>498</th>\n",
       "      <td>498</td>\n",
       "      <td>0.954955</td>\n",
       "      <td>0.081132</td>\n",
       "      <td>0.823338</td>\n",
       "      <td>0.432674</td>\n",
       "      <td>0.847944</td>\n",
       "      <td>0.492256</td>\n",
       "      <td>0.997388</td>\n",
       "      <td>0.666557</td>\n",
       "    </tr>\n",
       "    <tr>\n",
       "      <th>499</th>\n",
       "      <td>499</td>\n",
       "      <td>0.750043</td>\n",
       "      <td>0.656345</td>\n",
       "      <td>0.395120</td>\n",
       "      <td>0.501938</td>\n",
       "      <td>0.972571</td>\n",
       "      <td>0.298997</td>\n",
       "      <td>0.738612</td>\n",
       "      <td>0.699188</td>\n",
       "    </tr>\n",
       "  </tbody>\n",
       "</table>\n",
       "<p>500 rows × 9 columns</p>\n",
       "</div>"
      ],
      "text/plain": [
       "     Unnamed: 0         0         1         2         3         4         5  \\\n",
       "0             0  0.186388  0.072542  0.508395  0.248751  0.453066  0.972811   \n",
       "1             1  0.757759  0.189676  0.755264  0.913767  0.843432  0.176062   \n",
       "2             2  0.800266  0.537549  0.535974  0.412281  0.701729  0.923787   \n",
       "3             3  0.953312  0.520340  0.996949  0.753651  0.105032  0.930880   \n",
       "4             4  0.535535  0.505252  0.481864  0.356323  0.619453  0.157490   \n",
       "..          ...       ...       ...       ...       ...       ...       ...   \n",
       "495         495  0.942872  0.980669  0.804930  0.573362  0.338152  0.394541   \n",
       "496         496  0.471898  0.988865  0.514593  0.876103  0.599964  0.806398   \n",
       "497         497  0.650099  0.503640  0.838419  0.648366  0.514813  0.392711   \n",
       "498         498  0.954955  0.081132  0.823338  0.432674  0.847944  0.492256   \n",
       "499         499  0.750043  0.656345  0.395120  0.501938  0.972571  0.298997   \n",
       "\n",
       "            6         7  \n",
       "0    0.587282  0.795188  \n",
       "1    0.359734  0.174944  \n",
       "2    0.162526  0.226832  \n",
       "3    0.126200  0.569155  \n",
       "4    0.013272  0.508839  \n",
       "..        ...       ...  \n",
       "495  0.101196  0.006889  \n",
       "496  0.211088  0.812206  \n",
       "497  0.833177  0.913291  \n",
       "498  0.997388  0.666557  \n",
       "499  0.738612  0.699188  \n",
       "\n",
       "[500 rows x 9 columns]"
      ]
     },
     "execution_count": 16,
     "metadata": {},
     "output_type": "execute_result"
    }
   ],
   "source": [
    "# Reading CSV file\n",
    "read_df = pd.read_csv(\"DATA.csv\")\n",
    "read_df"
   ]
  },
  {
   "cell_type": "code",
   "execution_count": 17,
   "id": "8219793b-e499-425b-8b8f-f2bd08ee91ef",
   "metadata": {},
   "outputs": [],
   "source": [
    "# for removing the index of csv file\n",
    "df.to_csv('index_false.csv', index= False)"
   ]
  },
  {
   "cell_type": "code",
   "execution_count": 18,
   "id": "cf1813ff-0072-45e4-b677-eea8519059b6",
   "metadata": {},
   "outputs": [
    {
     "data": {
      "text/html": [
       "<div>\n",
       "<style scoped>\n",
       "    .dataframe tbody tr th:only-of-type {\n",
       "        vertical-align: middle;\n",
       "    }\n",
       "\n",
       "    .dataframe tbody tr th {\n",
       "        vertical-align: top;\n",
       "    }\n",
       "\n",
       "    .dataframe thead th {\n",
       "        text-align: right;\n",
       "    }\n",
       "</style>\n",
       "<table border=\"1\" class=\"dataframe\">\n",
       "  <thead>\n",
       "    <tr style=\"text-align: right;\">\n",
       "      <th></th>\n",
       "      <th>0</th>\n",
       "      <th>1</th>\n",
       "      <th>2</th>\n",
       "      <th>3</th>\n",
       "      <th>4</th>\n",
       "      <th>5</th>\n",
       "      <th>6</th>\n",
       "      <th>7</th>\n",
       "    </tr>\n",
       "  </thead>\n",
       "  <tbody>\n",
       "    <tr>\n",
       "      <th>0</th>\n",
       "      <td>0.186388</td>\n",
       "      <td>0.072542</td>\n",
       "      <td>0.508395</td>\n",
       "      <td>0.248751</td>\n",
       "      <td>0.453066</td>\n",
       "      <td>0.972811</td>\n",
       "      <td>0.587282</td>\n",
       "      <td>0.795188</td>\n",
       "    </tr>\n",
       "    <tr>\n",
       "      <th>1</th>\n",
       "      <td>0.757759</td>\n",
       "      <td>0.189676</td>\n",
       "      <td>0.755264</td>\n",
       "      <td>0.913767</td>\n",
       "      <td>0.843432</td>\n",
       "      <td>0.176062</td>\n",
       "      <td>0.359734</td>\n",
       "      <td>0.174944</td>\n",
       "    </tr>\n",
       "    <tr>\n",
       "      <th>2</th>\n",
       "      <td>0.800266</td>\n",
       "      <td>0.537549</td>\n",
       "      <td>0.535974</td>\n",
       "      <td>0.412281</td>\n",
       "      <td>0.701729</td>\n",
       "      <td>0.923787</td>\n",
       "      <td>0.162526</td>\n",
       "      <td>0.226832</td>\n",
       "    </tr>\n",
       "    <tr>\n",
       "      <th>3</th>\n",
       "      <td>0.953312</td>\n",
       "      <td>0.520340</td>\n",
       "      <td>0.996949</td>\n",
       "      <td>0.753651</td>\n",
       "      <td>0.105032</td>\n",
       "      <td>0.930880</td>\n",
       "      <td>0.126200</td>\n",
       "      <td>0.569155</td>\n",
       "    </tr>\n",
       "    <tr>\n",
       "      <th>4</th>\n",
       "      <td>0.535535</td>\n",
       "      <td>0.505252</td>\n",
       "      <td>0.481864</td>\n",
       "      <td>0.356323</td>\n",
       "      <td>0.619453</td>\n",
       "      <td>0.157490</td>\n",
       "      <td>0.013272</td>\n",
       "      <td>0.508839</td>\n",
       "    </tr>\n",
       "    <tr>\n",
       "      <th>...</th>\n",
       "      <td>...</td>\n",
       "      <td>...</td>\n",
       "      <td>...</td>\n",
       "      <td>...</td>\n",
       "      <td>...</td>\n",
       "      <td>...</td>\n",
       "      <td>...</td>\n",
       "      <td>...</td>\n",
       "    </tr>\n",
       "    <tr>\n",
       "      <th>495</th>\n",
       "      <td>0.942872</td>\n",
       "      <td>0.980669</td>\n",
       "      <td>0.804930</td>\n",
       "      <td>0.573362</td>\n",
       "      <td>0.338152</td>\n",
       "      <td>0.394541</td>\n",
       "      <td>0.101196</td>\n",
       "      <td>0.006889</td>\n",
       "    </tr>\n",
       "    <tr>\n",
       "      <th>496</th>\n",
       "      <td>0.471898</td>\n",
       "      <td>0.988865</td>\n",
       "      <td>0.514593</td>\n",
       "      <td>0.876103</td>\n",
       "      <td>0.599964</td>\n",
       "      <td>0.806398</td>\n",
       "      <td>0.211088</td>\n",
       "      <td>0.812206</td>\n",
       "    </tr>\n",
       "    <tr>\n",
       "      <th>497</th>\n",
       "      <td>0.650099</td>\n",
       "      <td>0.503640</td>\n",
       "      <td>0.838419</td>\n",
       "      <td>0.648366</td>\n",
       "      <td>0.514813</td>\n",
       "      <td>0.392711</td>\n",
       "      <td>0.833177</td>\n",
       "      <td>0.913291</td>\n",
       "    </tr>\n",
       "    <tr>\n",
       "      <th>498</th>\n",
       "      <td>0.954955</td>\n",
       "      <td>0.081132</td>\n",
       "      <td>0.823338</td>\n",
       "      <td>0.432674</td>\n",
       "      <td>0.847944</td>\n",
       "      <td>0.492256</td>\n",
       "      <td>0.997388</td>\n",
       "      <td>0.666557</td>\n",
       "    </tr>\n",
       "    <tr>\n",
       "      <th>499</th>\n",
       "      <td>0.750043</td>\n",
       "      <td>0.656345</td>\n",
       "      <td>0.395120</td>\n",
       "      <td>0.501938</td>\n",
       "      <td>0.972571</td>\n",
       "      <td>0.298997</td>\n",
       "      <td>0.738612</td>\n",
       "      <td>0.699188</td>\n",
       "    </tr>\n",
       "  </tbody>\n",
       "</table>\n",
       "<p>500 rows × 8 columns</p>\n",
       "</div>"
      ],
      "text/plain": [
       "            0         1         2         3         4         5         6  \\\n",
       "0    0.186388  0.072542  0.508395  0.248751  0.453066  0.972811  0.587282   \n",
       "1    0.757759  0.189676  0.755264  0.913767  0.843432  0.176062  0.359734   \n",
       "2    0.800266  0.537549  0.535974  0.412281  0.701729  0.923787  0.162526   \n",
       "3    0.953312  0.520340  0.996949  0.753651  0.105032  0.930880  0.126200   \n",
       "4    0.535535  0.505252  0.481864  0.356323  0.619453  0.157490  0.013272   \n",
       "..        ...       ...       ...       ...       ...       ...       ...   \n",
       "495  0.942872  0.980669  0.804930  0.573362  0.338152  0.394541  0.101196   \n",
       "496  0.471898  0.988865  0.514593  0.876103  0.599964  0.806398  0.211088   \n",
       "497  0.650099  0.503640  0.838419  0.648366  0.514813  0.392711  0.833177   \n",
       "498  0.954955  0.081132  0.823338  0.432674  0.847944  0.492256  0.997388   \n",
       "499  0.750043  0.656345  0.395120  0.501938  0.972571  0.298997  0.738612   \n",
       "\n",
       "            7  \n",
       "0    0.795188  \n",
       "1    0.174944  \n",
       "2    0.226832  \n",
       "3    0.569155  \n",
       "4    0.508839  \n",
       "..        ...  \n",
       "495  0.006889  \n",
       "496  0.812206  \n",
       "497  0.913291  \n",
       "498  0.666557  \n",
       "499  0.699188  \n",
       "\n",
       "[500 rows x 8 columns]"
      ]
     },
     "execution_count": 18,
     "metadata": {},
     "output_type": "execute_result"
    }
   ],
   "source": [
    "newdf = pd.read_csv(\"index_false.csv\")\n",
    "newdf"
   ]
  },
  {
   "cell_type": "code",
   "execution_count": 19,
   "id": "840462a1-0625-4a0b-be3d-c9a5f9eedab6",
   "metadata": {},
   "outputs": [
    {
     "data": {
      "text/plain": [
       "['Unnamed: 0', '0', '1', '2', '3', '4', '5', '6', '7']"
      ]
     },
     "execution_count": 19,
     "metadata": {},
     "output_type": "execute_result"
    }
   ],
   "source": [
    "read_df.columns.to_list()"
   ]
  },
  {
   "cell_type": "code",
   "execution_count": null,
   "id": "b09865ec-172e-4300-81bf-46f0e1784691",
   "metadata": {},
   "outputs": [],
   "source": []
  },
  {
   "cell_type": "code",
   "execution_count": null,
   "id": "6dccd244-545a-4ba5-ae22-1a23b87c7708",
   "metadata": {},
   "outputs": [],
   "source": [
    "#################################################################################"
   ]
  },
  {
   "cell_type": "code",
   "execution_count": null,
   "id": "affba11b-0b4d-4743-914e-cc38b89265b2",
   "metadata": {},
   "outputs": [],
   "source": [
    "#################################################################################"
   ]
  },
  {
   "cell_type": "code",
   "execution_count": null,
   "id": "2a128366-9c0a-4d66-ab6c-bad6924f9e77",
   "metadata": {},
   "outputs": [],
   "source": [
    "#################################################################################"
   ]
  },
  {
   "cell_type": "code",
   "execution_count": null,
   "id": "e01ae50c-1f0d-4163-b8d8-a9ab8dcac20c",
   "metadata": {},
   "outputs": [],
   "source": [
    "# Statistical Function with DataFrame"
   ]
  },
  {
   "cell_type": "code",
   "execution_count": 20,
   "id": "babe5940-cf8a-421b-bf91-c7be640e640f",
   "metadata": {},
   "outputs": [
    {
     "data": {
      "text/html": [
       "<div>\n",
       "<style scoped>\n",
       "    .dataframe tbody tr th:only-of-type {\n",
       "        vertical-align: middle;\n",
       "    }\n",
       "\n",
       "    .dataframe tbody tr th {\n",
       "        vertical-align: top;\n",
       "    }\n",
       "\n",
       "    .dataframe thead th {\n",
       "        text-align: right;\n",
       "    }\n",
       "</style>\n",
       "<table border=\"1\" class=\"dataframe\">\n",
       "  <thead>\n",
       "    <tr style=\"text-align: right;\">\n",
       "      <th></th>\n",
       "      <th>0</th>\n",
       "      <th>1</th>\n",
       "      <th>2</th>\n",
       "      <th>3</th>\n",
       "      <th>4</th>\n",
       "      <th>5</th>\n",
       "      <th>6</th>\n",
       "      <th>7</th>\n",
       "    </tr>\n",
       "  </thead>\n",
       "  <tbody>\n",
       "    <tr>\n",
       "      <th>0</th>\n",
       "      <td>0.186388</td>\n",
       "      <td>0.072542</td>\n",
       "      <td>0.508395</td>\n",
       "      <td>0.248751</td>\n",
       "      <td>0.453066</td>\n",
       "      <td>0.972811</td>\n",
       "      <td>0.587282</td>\n",
       "      <td>0.795188</td>\n",
       "    </tr>\n",
       "    <tr>\n",
       "      <th>1</th>\n",
       "      <td>0.757759</td>\n",
       "      <td>0.189676</td>\n",
       "      <td>0.755264</td>\n",
       "      <td>0.913767</td>\n",
       "      <td>0.843432</td>\n",
       "      <td>0.176062</td>\n",
       "      <td>0.359734</td>\n",
       "      <td>0.174944</td>\n",
       "    </tr>\n",
       "    <tr>\n",
       "      <th>2</th>\n",
       "      <td>0.800266</td>\n",
       "      <td>0.537549</td>\n",
       "      <td>0.535974</td>\n",
       "      <td>0.412281</td>\n",
       "      <td>0.701729</td>\n",
       "      <td>0.923787</td>\n",
       "      <td>0.162526</td>\n",
       "      <td>0.226832</td>\n",
       "    </tr>\n",
       "    <tr>\n",
       "      <th>3</th>\n",
       "      <td>0.953312</td>\n",
       "      <td>0.520340</td>\n",
       "      <td>0.996949</td>\n",
       "      <td>0.753651</td>\n",
       "      <td>0.105032</td>\n",
       "      <td>0.930880</td>\n",
       "      <td>0.126200</td>\n",
       "      <td>0.569155</td>\n",
       "    </tr>\n",
       "    <tr>\n",
       "      <th>4</th>\n",
       "      <td>0.535535</td>\n",
       "      <td>0.505252</td>\n",
       "      <td>0.481864</td>\n",
       "      <td>0.356323</td>\n",
       "      <td>0.619453</td>\n",
       "      <td>0.157490</td>\n",
       "      <td>0.013272</td>\n",
       "      <td>0.508839</td>\n",
       "    </tr>\n",
       "  </tbody>\n",
       "</table>\n",
       "</div>"
      ],
      "text/plain": [
       "          0         1         2         3         4         5         6  \\\n",
       "0  0.186388  0.072542  0.508395  0.248751  0.453066  0.972811  0.587282   \n",
       "1  0.757759  0.189676  0.755264  0.913767  0.843432  0.176062  0.359734   \n",
       "2  0.800266  0.537549  0.535974  0.412281  0.701729  0.923787  0.162526   \n",
       "3  0.953312  0.520340  0.996949  0.753651  0.105032  0.930880  0.126200   \n",
       "4  0.535535  0.505252  0.481864  0.356323  0.619453  0.157490  0.013272   \n",
       "\n",
       "          7  \n",
       "0  0.795188  \n",
       "1  0.174944  \n",
       "2  0.226832  \n",
       "3  0.569155  \n",
       "4  0.508839  "
      ]
     },
     "execution_count": 20,
     "metadata": {},
     "output_type": "execute_result"
    }
   ],
   "source": [
    "df.head()"
   ]
  },
  {
   "cell_type": "code",
   "execution_count": 21,
   "id": "3abda6a3-f9ae-4cd9-8b45-c596f1740aa2",
   "metadata": {},
   "outputs": [
    {
     "data": {
      "text/html": [
       "<div>\n",
       "<style scoped>\n",
       "    .dataframe tbody tr th:only-of-type {\n",
       "        vertical-align: middle;\n",
       "    }\n",
       "\n",
       "    .dataframe tbody tr th {\n",
       "        vertical-align: top;\n",
       "    }\n",
       "\n",
       "    .dataframe thead th {\n",
       "        text-align: right;\n",
       "    }\n",
       "</style>\n",
       "<table border=\"1\" class=\"dataframe\">\n",
       "  <thead>\n",
       "    <tr style=\"text-align: right;\">\n",
       "      <th></th>\n",
       "      <th>0</th>\n",
       "      <th>1</th>\n",
       "      <th>2</th>\n",
       "      <th>3</th>\n",
       "      <th>4</th>\n",
       "      <th>5</th>\n",
       "      <th>6</th>\n",
       "      <th>7</th>\n",
       "    </tr>\n",
       "  </thead>\n",
       "  <tbody>\n",
       "    <tr>\n",
       "      <th>count</th>\n",
       "      <td>500.000000</td>\n",
       "      <td>500.000000</td>\n",
       "      <td>500.000000</td>\n",
       "      <td>500.000000</td>\n",
       "      <td>500.000000</td>\n",
       "      <td>500.000000</td>\n",
       "      <td>500.000000</td>\n",
       "      <td>500.000000</td>\n",
       "    </tr>\n",
       "    <tr>\n",
       "      <th>mean</th>\n",
       "      <td>0.507611</td>\n",
       "      <td>0.514315</td>\n",
       "      <td>0.469329</td>\n",
       "      <td>0.506712</td>\n",
       "      <td>0.510980</td>\n",
       "      <td>0.503048</td>\n",
       "      <td>0.505644</td>\n",
       "      <td>0.509838</td>\n",
       "    </tr>\n",
       "    <tr>\n",
       "      <th>std</th>\n",
       "      <td>0.285310</td>\n",
       "      <td>0.289111</td>\n",
       "      <td>0.273759</td>\n",
       "      <td>0.289915</td>\n",
       "      <td>0.298297</td>\n",
       "      <td>0.301404</td>\n",
       "      <td>0.278906</td>\n",
       "      <td>0.289740</td>\n",
       "    </tr>\n",
       "    <tr>\n",
       "      <th>min</th>\n",
       "      <td>0.004421</td>\n",
       "      <td>0.003939</td>\n",
       "      <td>0.002052</td>\n",
       "      <td>0.003543</td>\n",
       "      <td>0.001843</td>\n",
       "      <td>0.003132</td>\n",
       "      <td>0.001878</td>\n",
       "      <td>0.001657</td>\n",
       "    </tr>\n",
       "    <tr>\n",
       "      <th>25%</th>\n",
       "      <td>0.264634</td>\n",
       "      <td>0.278772</td>\n",
       "      <td>0.229602</td>\n",
       "      <td>0.253526</td>\n",
       "      <td>0.256617</td>\n",
       "      <td>0.228156</td>\n",
       "      <td>0.270571</td>\n",
       "      <td>0.252468</td>\n",
       "    </tr>\n",
       "    <tr>\n",
       "      <th>50%</th>\n",
       "      <td>0.518372</td>\n",
       "      <td>0.504446</td>\n",
       "      <td>0.455933</td>\n",
       "      <td>0.503770</td>\n",
       "      <td>0.510449</td>\n",
       "      <td>0.510721</td>\n",
       "      <td>0.498633</td>\n",
       "      <td>0.515872</td>\n",
       "    </tr>\n",
       "    <tr>\n",
       "      <th>75%</th>\n",
       "      <td>0.757565</td>\n",
       "      <td>0.768338</td>\n",
       "      <td>0.708860</td>\n",
       "      <td>0.756573</td>\n",
       "      <td>0.776416</td>\n",
       "      <td>0.769184</td>\n",
       "      <td>0.743432</td>\n",
       "      <td>0.771075</td>\n",
       "    </tr>\n",
       "    <tr>\n",
       "      <th>max</th>\n",
       "      <td>0.997180</td>\n",
       "      <td>0.997259</td>\n",
       "      <td>0.999485</td>\n",
       "      <td>0.997993</td>\n",
       "      <td>0.999330</td>\n",
       "      <td>0.995535</td>\n",
       "      <td>0.998173</td>\n",
       "      <td>0.999647</td>\n",
       "    </tr>\n",
       "  </tbody>\n",
       "</table>\n",
       "</div>"
      ],
      "text/plain": [
       "                0           1           2           3           4           5  \\\n",
       "count  500.000000  500.000000  500.000000  500.000000  500.000000  500.000000   \n",
       "mean     0.507611    0.514315    0.469329    0.506712    0.510980    0.503048   \n",
       "std      0.285310    0.289111    0.273759    0.289915    0.298297    0.301404   \n",
       "min      0.004421    0.003939    0.002052    0.003543    0.001843    0.003132   \n",
       "25%      0.264634    0.278772    0.229602    0.253526    0.256617    0.228156   \n",
       "50%      0.518372    0.504446    0.455933    0.503770    0.510449    0.510721   \n",
       "75%      0.757565    0.768338    0.708860    0.756573    0.776416    0.769184   \n",
       "max      0.997180    0.997259    0.999485    0.997993    0.999330    0.995535   \n",
       "\n",
       "                6           7  \n",
       "count  500.000000  500.000000  \n",
       "mean     0.505644    0.509838  \n",
       "std      0.278906    0.289740  \n",
       "min      0.001878    0.001657  \n",
       "25%      0.270571    0.252468  \n",
       "50%      0.498633    0.515872  \n",
       "75%      0.743432    0.771075  \n",
       "max      0.998173    0.999647  "
      ]
     },
     "execution_count": 21,
     "metadata": {},
     "output_type": "execute_result"
    }
   ],
   "source": [
    "df.describe()"
   ]
  },
  {
   "cell_type": "code",
   "execution_count": 22,
   "id": "c156945d-4f03-4626-9130-d83df4ac9c7e",
   "metadata": {},
   "outputs": [
    {
     "data": {
      "text/plain": [
       "0    500\n",
       "1    500\n",
       "2    500\n",
       "3    500\n",
       "4    500\n",
       "5    500\n",
       "6    500\n",
       "7    500\n",
       "dtype: int64"
      ]
     },
     "execution_count": 22,
     "metadata": {},
     "output_type": "execute_result"
    }
   ],
   "source": [
    "df.count()"
   ]
  },
  {
   "cell_type": "code",
   "execution_count": 22,
   "id": "9591202f-f431-4bbe-ad84-6bf927f15bac",
   "metadata": {},
   "outputs": [
    {
     "data": {
      "text/plain": [
       "0    0.004421\n",
       "1    0.003939\n",
       "2    0.002052\n",
       "3    0.003543\n",
       "4    0.001843\n",
       "5    0.003132\n",
       "6    0.001878\n",
       "7    0.001657\n",
       "dtype: float64"
      ]
     },
     "execution_count": 22,
     "metadata": {},
     "output_type": "execute_result"
    }
   ],
   "source": [
    "df.min()"
   ]
  },
  {
   "cell_type": "code",
   "execution_count": 23,
   "id": "921d4f1f-c514-4f28-b38d-51340255a41b",
   "metadata": {},
   "outputs": [
    {
     "data": {
      "text/plain": [
       "0    0.997180\n",
       "1    0.997259\n",
       "2    0.999485\n",
       "3    0.997993\n",
       "4    0.999330\n",
       "5    0.995535\n",
       "6    0.998173\n",
       "7    0.999647\n",
       "dtype: float64"
      ]
     },
     "execution_count": 23,
     "metadata": {},
     "output_type": "execute_result"
    }
   ],
   "source": [
    "df.max()"
   ]
  },
  {
   "cell_type": "code",
   "execution_count": 89,
   "id": "acf13438-2202-4c88-903a-14965066e859",
   "metadata": {},
   "outputs": [
    {
     "data": {
      "text/plain": [
       "0    0.530456\n",
       "1    0.489537\n",
       "2    0.501981\n",
       "3    0.484713\n",
       "4    0.504664\n",
       "5    0.495665\n",
       "6    0.484458\n",
       "7    0.492477\n",
       "dtype: float64"
      ]
     },
     "execution_count": 89,
     "metadata": {},
     "output_type": "execute_result"
    }
   ],
   "source": [
    "df.mean()"
   ]
  },
  {
   "cell_type": "code",
   "execution_count": null,
   "id": "a6d78d55-e792-4afc-bb77-dbfd061fc120",
   "metadata": {},
   "outputs": [],
   "source": []
  },
  {
   "cell_type": "code",
   "execution_count": 24,
   "id": "85c553ba-e362-48c2-b54a-2291d7e854b2",
   "metadata": {},
   "outputs": [
    {
     "data": {
      "text/html": [
       "<div>\n",
       "<style scoped>\n",
       "    .dataframe tbody tr th:only-of-type {\n",
       "        vertical-align: middle;\n",
       "    }\n",
       "\n",
       "    .dataframe tbody tr th {\n",
       "        vertical-align: top;\n",
       "    }\n",
       "\n",
       "    .dataframe thead th {\n",
       "        text-align: right;\n",
       "    }\n",
       "</style>\n",
       "<table border=\"1\" class=\"dataframe\">\n",
       "  <thead>\n",
       "    <tr style=\"text-align: right;\">\n",
       "      <th></th>\n",
       "      <th>0</th>\n",
       "      <th>1</th>\n",
       "      <th>2</th>\n",
       "      <th>3</th>\n",
       "      <th>4</th>\n",
       "      <th>5</th>\n",
       "      <th>6</th>\n",
       "      <th>7</th>\n",
       "    </tr>\n",
       "  </thead>\n",
       "  <tbody>\n",
       "    <tr>\n",
       "      <th>0</th>\n",
       "      <td>0.186388</td>\n",
       "      <td>0.072542</td>\n",
       "      <td>0.508395</td>\n",
       "      <td>0.248751</td>\n",
       "      <td>0.453066</td>\n",
       "      <td>0.972811</td>\n",
       "      <td>0.587282</td>\n",
       "      <td>0.795188</td>\n",
       "    </tr>\n",
       "    <tr>\n",
       "      <th>1</th>\n",
       "      <td>0.757759</td>\n",
       "      <td>NaN</td>\n",
       "      <td>0.755264</td>\n",
       "      <td>0.913767</td>\n",
       "      <td>0.843432</td>\n",
       "      <td>0.176062</td>\n",
       "      <td>0.359734</td>\n",
       "      <td>0.174944</td>\n",
       "    </tr>\n",
       "    <tr>\n",
       "      <th>2</th>\n",
       "      <td>0.800266</td>\n",
       "      <td>0.537549</td>\n",
       "      <td>0.535974</td>\n",
       "      <td>0.412281</td>\n",
       "      <td>0.701729</td>\n",
       "      <td>0.923787</td>\n",
       "      <td>0.162526</td>\n",
       "      <td>0.226832</td>\n",
       "    </tr>\n",
       "    <tr>\n",
       "      <th>3</th>\n",
       "      <td>0.953312</td>\n",
       "      <td>0.52034</td>\n",
       "      <td>0.996949</td>\n",
       "      <td>0.753651</td>\n",
       "      <td>0.105032</td>\n",
       "      <td>0.930880</td>\n",
       "      <td>0.126200</td>\n",
       "      <td>0.569155</td>\n",
       "    </tr>\n",
       "    <tr>\n",
       "      <th>4</th>\n",
       "      <td>0.535535</td>\n",
       "      <td>0.505252</td>\n",
       "      <td>0.481864</td>\n",
       "      <td>0.356323</td>\n",
       "      <td>0.619453</td>\n",
       "      <td>0.157490</td>\n",
       "      <td>0.013272</td>\n",
       "      <td>0.508839</td>\n",
       "    </tr>\n",
       "    <tr>\n",
       "      <th>...</th>\n",
       "      <td>...</td>\n",
       "      <td>...</td>\n",
       "      <td>...</td>\n",
       "      <td>...</td>\n",
       "      <td>...</td>\n",
       "      <td>...</td>\n",
       "      <td>...</td>\n",
       "      <td>...</td>\n",
       "    </tr>\n",
       "    <tr>\n",
       "      <th>495</th>\n",
       "      <td>0.942872</td>\n",
       "      <td>0.980669</td>\n",
       "      <td>0.804930</td>\n",
       "      <td>0.573362</td>\n",
       "      <td>0.338152</td>\n",
       "      <td>0.394541</td>\n",
       "      <td>0.101196</td>\n",
       "      <td>0.006889</td>\n",
       "    </tr>\n",
       "    <tr>\n",
       "      <th>496</th>\n",
       "      <td>0.471898</td>\n",
       "      <td>0.988865</td>\n",
       "      <td>0.514593</td>\n",
       "      <td>0.876103</td>\n",
       "      <td>0.599964</td>\n",
       "      <td>0.806398</td>\n",
       "      <td>0.211088</td>\n",
       "      <td>0.812206</td>\n",
       "    </tr>\n",
       "    <tr>\n",
       "      <th>497</th>\n",
       "      <td>0.650099</td>\n",
       "      <td>0.50364</td>\n",
       "      <td>0.838419</td>\n",
       "      <td>0.648366</td>\n",
       "      <td>0.514813</td>\n",
       "      <td>0.392711</td>\n",
       "      <td>0.833177</td>\n",
       "      <td>0.913291</td>\n",
       "    </tr>\n",
       "    <tr>\n",
       "      <th>498</th>\n",
       "      <td>0.954955</td>\n",
       "      <td>0.081132</td>\n",
       "      <td>0.823338</td>\n",
       "      <td>0.432674</td>\n",
       "      <td>0.847944</td>\n",
       "      <td>0.492256</td>\n",
       "      <td>0.997388</td>\n",
       "      <td>0.666557</td>\n",
       "    </tr>\n",
       "    <tr>\n",
       "      <th>499</th>\n",
       "      <td>0.750043</td>\n",
       "      <td>0.656345</td>\n",
       "      <td>0.395120</td>\n",
       "      <td>0.501938</td>\n",
       "      <td>0.972571</td>\n",
       "      <td>0.298997</td>\n",
       "      <td>0.738612</td>\n",
       "      <td>0.699188</td>\n",
       "    </tr>\n",
       "  </tbody>\n",
       "</table>\n",
       "<p>500 rows × 8 columns</p>\n",
       "</div>"
      ],
      "text/plain": [
       "            0         1         2         3         4         5         6  \\\n",
       "0    0.186388  0.072542  0.508395  0.248751  0.453066  0.972811  0.587282   \n",
       "1    0.757759       NaN  0.755264  0.913767  0.843432  0.176062  0.359734   \n",
       "2    0.800266  0.537549  0.535974  0.412281  0.701729  0.923787  0.162526   \n",
       "3    0.953312   0.52034  0.996949  0.753651  0.105032  0.930880  0.126200   \n",
       "4    0.535535  0.505252  0.481864  0.356323  0.619453  0.157490  0.013272   \n",
       "..        ...       ...       ...       ...       ...       ...       ...   \n",
       "495  0.942872  0.980669  0.804930  0.573362  0.338152  0.394541  0.101196   \n",
       "496  0.471898  0.988865  0.514593  0.876103  0.599964  0.806398  0.211088   \n",
       "497  0.650099   0.50364  0.838419  0.648366  0.514813  0.392711  0.833177   \n",
       "498  0.954955  0.081132  0.823338  0.432674  0.847944  0.492256  0.997388   \n",
       "499  0.750043  0.656345  0.395120  0.501938  0.972571  0.298997  0.738612   \n",
       "\n",
       "            7  \n",
       "0    0.795188  \n",
       "1    0.174944  \n",
       "2    0.226832  \n",
       "3    0.569155  \n",
       "4    0.508839  \n",
       "..        ...  \n",
       "495  0.006889  \n",
       "496  0.812206  \n",
       "497  0.913291  \n",
       "498  0.666557  \n",
       "499  0.699188  \n",
       "\n",
       "[500 rows x 8 columns]"
      ]
     },
     "execution_count": 24,
     "metadata": {},
     "output_type": "execute_result"
    }
   ],
   "source": [
    "df[1][1]=\"NaN\"\n",
    "df"
   ]
  },
  {
   "cell_type": "code",
   "execution_count": 26,
   "id": "ae7d78e3-3bc7-453e-8c19-534157b5aea4",
   "metadata": {},
   "outputs": [
    {
     "name": "stdout",
     "output_type": "stream",
     "text": [
      "1st Row - 2nd column:   0.07254191676350552\n",
      "2nd Row - 1st column:   0.7577589938271417\n"
     ]
    }
   ],
   "source": [
    "#  for specific value at that position\n",
    "print(\"1st Row - 2nd column:  \",df.loc[0,1])\n",
    "print(\"2nd Row - 1st column:  \",df.loc[1,0])"
   ]
  },
  {
   "cell_type": "code",
   "execution_count": 27,
   "id": "9c6cbabe-4636-4c33-bac6-3ba73085a38e",
   "metadata": {},
   "outputs": [
    {
     "data": {
      "text/html": [
       "<div>\n",
       "<style scoped>\n",
       "    .dataframe tbody tr th:only-of-type {\n",
       "        vertical-align: middle;\n",
       "    }\n",
       "\n",
       "    .dataframe tbody tr th {\n",
       "        vertical-align: top;\n",
       "    }\n",
       "\n",
       "    .dataframe thead th {\n",
       "        text-align: right;\n",
       "    }\n",
       "</style>\n",
       "<table border=\"1\" class=\"dataframe\">\n",
       "  <thead>\n",
       "    <tr style=\"text-align: right;\">\n",
       "      <th></th>\n",
       "      <th>a</th>\n",
       "      <th>b</th>\n",
       "      <th>c</th>\n",
       "      <th>d</th>\n",
       "      <th>e</th>\n",
       "      <th>f</th>\n",
       "      <th>g</th>\n",
       "      <th>h</th>\n",
       "    </tr>\n",
       "  </thead>\n",
       "  <tbody>\n",
       "    <tr>\n",
       "      <th>0</th>\n",
       "      <td>0.186388</td>\n",
       "      <td>0.072542</td>\n",
       "      <td>0.508395</td>\n",
       "      <td>0.248751</td>\n",
       "      <td>0.453066</td>\n",
       "      <td>0.972811</td>\n",
       "      <td>0.587282</td>\n",
       "      <td>0.795188</td>\n",
       "    </tr>\n",
       "    <tr>\n",
       "      <th>1</th>\n",
       "      <td>0.757759</td>\n",
       "      <td>NaN</td>\n",
       "      <td>0.755264</td>\n",
       "      <td>0.913767</td>\n",
       "      <td>0.843432</td>\n",
       "      <td>0.176062</td>\n",
       "      <td>0.359734</td>\n",
       "      <td>0.174944</td>\n",
       "    </tr>\n",
       "    <tr>\n",
       "      <th>2</th>\n",
       "      <td>0.800266</td>\n",
       "      <td>0.537549</td>\n",
       "      <td>0.535974</td>\n",
       "      <td>0.412281</td>\n",
       "      <td>0.701729</td>\n",
       "      <td>0.923787</td>\n",
       "      <td>0.162526</td>\n",
       "      <td>0.226832</td>\n",
       "    </tr>\n",
       "    <tr>\n",
       "      <th>3</th>\n",
       "      <td>0.953312</td>\n",
       "      <td>0.52034</td>\n",
       "      <td>0.996949</td>\n",
       "      <td>0.753651</td>\n",
       "      <td>0.105032</td>\n",
       "      <td>0.930880</td>\n",
       "      <td>0.126200</td>\n",
       "      <td>0.569155</td>\n",
       "    </tr>\n",
       "    <tr>\n",
       "      <th>4</th>\n",
       "      <td>0.535535</td>\n",
       "      <td>0.505252</td>\n",
       "      <td>0.481864</td>\n",
       "      <td>0.356323</td>\n",
       "      <td>0.619453</td>\n",
       "      <td>0.157490</td>\n",
       "      <td>0.013272</td>\n",
       "      <td>0.508839</td>\n",
       "    </tr>\n",
       "    <tr>\n",
       "      <th>...</th>\n",
       "      <td>...</td>\n",
       "      <td>...</td>\n",
       "      <td>...</td>\n",
       "      <td>...</td>\n",
       "      <td>...</td>\n",
       "      <td>...</td>\n",
       "      <td>...</td>\n",
       "      <td>...</td>\n",
       "    </tr>\n",
       "    <tr>\n",
       "      <th>495</th>\n",
       "      <td>0.942872</td>\n",
       "      <td>0.980669</td>\n",
       "      <td>0.804930</td>\n",
       "      <td>0.573362</td>\n",
       "      <td>0.338152</td>\n",
       "      <td>0.394541</td>\n",
       "      <td>0.101196</td>\n",
       "      <td>0.006889</td>\n",
       "    </tr>\n",
       "    <tr>\n",
       "      <th>496</th>\n",
       "      <td>0.471898</td>\n",
       "      <td>0.988865</td>\n",
       "      <td>0.514593</td>\n",
       "      <td>0.876103</td>\n",
       "      <td>0.599964</td>\n",
       "      <td>0.806398</td>\n",
       "      <td>0.211088</td>\n",
       "      <td>0.812206</td>\n",
       "    </tr>\n",
       "    <tr>\n",
       "      <th>497</th>\n",
       "      <td>0.650099</td>\n",
       "      <td>0.50364</td>\n",
       "      <td>0.838419</td>\n",
       "      <td>0.648366</td>\n",
       "      <td>0.514813</td>\n",
       "      <td>0.392711</td>\n",
       "      <td>0.833177</td>\n",
       "      <td>0.913291</td>\n",
       "    </tr>\n",
       "    <tr>\n",
       "      <th>498</th>\n",
       "      <td>0.954955</td>\n",
       "      <td>0.081132</td>\n",
       "      <td>0.823338</td>\n",
       "      <td>0.432674</td>\n",
       "      <td>0.847944</td>\n",
       "      <td>0.492256</td>\n",
       "      <td>0.997388</td>\n",
       "      <td>0.666557</td>\n",
       "    </tr>\n",
       "    <tr>\n",
       "      <th>499</th>\n",
       "      <td>0.750043</td>\n",
       "      <td>0.656345</td>\n",
       "      <td>0.395120</td>\n",
       "      <td>0.501938</td>\n",
       "      <td>0.972571</td>\n",
       "      <td>0.298997</td>\n",
       "      <td>0.738612</td>\n",
       "      <td>0.699188</td>\n",
       "    </tr>\n",
       "  </tbody>\n",
       "</table>\n",
       "<p>500 rows × 8 columns</p>\n",
       "</div>"
      ],
      "text/plain": [
       "            a         b         c         d         e         f         g  \\\n",
       "0    0.186388  0.072542  0.508395  0.248751  0.453066  0.972811  0.587282   \n",
       "1    0.757759       NaN  0.755264  0.913767  0.843432  0.176062  0.359734   \n",
       "2    0.800266  0.537549  0.535974  0.412281  0.701729  0.923787  0.162526   \n",
       "3    0.953312   0.52034  0.996949  0.753651  0.105032  0.930880  0.126200   \n",
       "4    0.535535  0.505252  0.481864  0.356323  0.619453  0.157490  0.013272   \n",
       "..        ...       ...       ...       ...       ...       ...       ...   \n",
       "495  0.942872  0.980669  0.804930  0.573362  0.338152  0.394541  0.101196   \n",
       "496  0.471898  0.988865  0.514593  0.876103  0.599964  0.806398  0.211088   \n",
       "497  0.650099   0.50364  0.838419  0.648366  0.514813  0.392711  0.833177   \n",
       "498  0.954955  0.081132  0.823338  0.432674  0.847944  0.492256  0.997388   \n",
       "499  0.750043  0.656345  0.395120  0.501938  0.972571  0.298997  0.738612   \n",
       "\n",
       "            h  \n",
       "0    0.795188  \n",
       "1    0.174944  \n",
       "2    0.226832  \n",
       "3    0.569155  \n",
       "4    0.508839  \n",
       "..        ...  \n",
       "495  0.006889  \n",
       "496  0.812206  \n",
       "497  0.913291  \n",
       "498  0.666557  \n",
       "499  0.699188  \n",
       "\n",
       "[500 rows x 8 columns]"
      ]
     },
     "execution_count": 27,
     "metadata": {},
     "output_type": "execute_result"
    }
   ],
   "source": [
    "# Changing column names\n",
    "df.columns = list('abcdefgh')\n",
    "df"
   ]
  },
  {
   "cell_type": "code",
   "execution_count": null,
   "id": "837b97b3-f83b-445d-9e1f-84ccf131a63a",
   "metadata": {},
   "outputs": [],
   "source": []
  },
  {
   "cell_type": "code",
   "execution_count": null,
   "id": "3f06d4c8-edba-49c7-804a-2cb36b38135d",
   "metadata": {},
   "outputs": [],
   "source": [
    "#################################################################################"
   ]
  },
  {
   "cell_type": "code",
   "execution_count": null,
   "id": "d620cdac-329d-4c19-a07d-582d8d40e373",
   "metadata": {},
   "outputs": [],
   "source": [
    "#################################################################################"
   ]
  },
  {
   "cell_type": "code",
   "execution_count": null,
   "id": "f6f0a14e-35f3-489c-aef9-187e4cafed70",
   "metadata": {},
   "outputs": [],
   "source": [
    "# Loc (location works  on columns)"
   ]
  },
  {
   "cell_type": "code",
   "execution_count": 99,
   "id": "08ba4b9c-7c82-4935-ac26-9d669bf5e7d8",
   "metadata": {},
   "outputs": [
    {
     "name": "stdout",
     "output_type": "stream",
     "text": [
      "1st Row - 2nd column:   0.06596257186832744\n",
      "2nd Row - 1st column:   0.690363818853426\n"
     ]
    }
   ],
   "source": [
    "#  for specific value at that position\n",
    "print(\"1st Row - 2nd column:  \",df.loc[0,'c'])\n",
    "print(\"2nd Row - 1st column:  \",df.loc[1,'a'])"
   ]
  },
  {
   "cell_type": "code",
   "execution_count": 28,
   "id": "00d4ae84-e740-48c0-aded-7343974d0a13",
   "metadata": {},
   "outputs": [],
   "source": [
    "#Deleting column from df\n",
    "\n",
    "# Axis = 0 means ROWS\n",
    "# Axis = 1 means COlUMNS\n",
    "\n",
    "df = df.drop('b',  axis = 1)  # 1 means column"
   ]
  },
  {
   "cell_type": "code",
   "execution_count": 29,
   "id": "302a1129-5518-4cf5-9d0f-a76e33637520",
   "metadata": {},
   "outputs": [
    {
     "data": {
      "text/html": [
       "<div>\n",
       "<style scoped>\n",
       "    .dataframe tbody tr th:only-of-type {\n",
       "        vertical-align: middle;\n",
       "    }\n",
       "\n",
       "    .dataframe tbody tr th {\n",
       "        vertical-align: top;\n",
       "    }\n",
       "\n",
       "    .dataframe thead th {\n",
       "        text-align: right;\n",
       "    }\n",
       "</style>\n",
       "<table border=\"1\" class=\"dataframe\">\n",
       "  <thead>\n",
       "    <tr style=\"text-align: right;\">\n",
       "      <th></th>\n",
       "      <th>a</th>\n",
       "      <th>c</th>\n",
       "      <th>d</th>\n",
       "      <th>e</th>\n",
       "      <th>f</th>\n",
       "      <th>g</th>\n",
       "      <th>h</th>\n",
       "    </tr>\n",
       "  </thead>\n",
       "  <tbody>\n",
       "    <tr>\n",
       "      <th>0</th>\n",
       "      <td>0.186388</td>\n",
       "      <td>0.508395</td>\n",
       "      <td>0.248751</td>\n",
       "      <td>0.453066</td>\n",
       "      <td>0.972811</td>\n",
       "      <td>0.587282</td>\n",
       "      <td>0.795188</td>\n",
       "    </tr>\n",
       "    <tr>\n",
       "      <th>1</th>\n",
       "      <td>0.757759</td>\n",
       "      <td>0.755264</td>\n",
       "      <td>0.913767</td>\n",
       "      <td>0.843432</td>\n",
       "      <td>0.176062</td>\n",
       "      <td>0.359734</td>\n",
       "      <td>0.174944</td>\n",
       "    </tr>\n",
       "    <tr>\n",
       "      <th>2</th>\n",
       "      <td>0.800266</td>\n",
       "      <td>0.535974</td>\n",
       "      <td>0.412281</td>\n",
       "      <td>0.701729</td>\n",
       "      <td>0.923787</td>\n",
       "      <td>0.162526</td>\n",
       "      <td>0.226832</td>\n",
       "    </tr>\n",
       "    <tr>\n",
       "      <th>3</th>\n",
       "      <td>0.953312</td>\n",
       "      <td>0.996949</td>\n",
       "      <td>0.753651</td>\n",
       "      <td>0.105032</td>\n",
       "      <td>0.930880</td>\n",
       "      <td>0.126200</td>\n",
       "      <td>0.569155</td>\n",
       "    </tr>\n",
       "    <tr>\n",
       "      <th>4</th>\n",
       "      <td>0.535535</td>\n",
       "      <td>0.481864</td>\n",
       "      <td>0.356323</td>\n",
       "      <td>0.619453</td>\n",
       "      <td>0.157490</td>\n",
       "      <td>0.013272</td>\n",
       "      <td>0.508839</td>\n",
       "    </tr>\n",
       "    <tr>\n",
       "      <th>...</th>\n",
       "      <td>...</td>\n",
       "      <td>...</td>\n",
       "      <td>...</td>\n",
       "      <td>...</td>\n",
       "      <td>...</td>\n",
       "      <td>...</td>\n",
       "      <td>...</td>\n",
       "    </tr>\n",
       "    <tr>\n",
       "      <th>495</th>\n",
       "      <td>0.942872</td>\n",
       "      <td>0.804930</td>\n",
       "      <td>0.573362</td>\n",
       "      <td>0.338152</td>\n",
       "      <td>0.394541</td>\n",
       "      <td>0.101196</td>\n",
       "      <td>0.006889</td>\n",
       "    </tr>\n",
       "    <tr>\n",
       "      <th>496</th>\n",
       "      <td>0.471898</td>\n",
       "      <td>0.514593</td>\n",
       "      <td>0.876103</td>\n",
       "      <td>0.599964</td>\n",
       "      <td>0.806398</td>\n",
       "      <td>0.211088</td>\n",
       "      <td>0.812206</td>\n",
       "    </tr>\n",
       "    <tr>\n",
       "      <th>497</th>\n",
       "      <td>0.650099</td>\n",
       "      <td>0.838419</td>\n",
       "      <td>0.648366</td>\n",
       "      <td>0.514813</td>\n",
       "      <td>0.392711</td>\n",
       "      <td>0.833177</td>\n",
       "      <td>0.913291</td>\n",
       "    </tr>\n",
       "    <tr>\n",
       "      <th>498</th>\n",
       "      <td>0.954955</td>\n",
       "      <td>0.823338</td>\n",
       "      <td>0.432674</td>\n",
       "      <td>0.847944</td>\n",
       "      <td>0.492256</td>\n",
       "      <td>0.997388</td>\n",
       "      <td>0.666557</td>\n",
       "    </tr>\n",
       "    <tr>\n",
       "      <th>499</th>\n",
       "      <td>0.750043</td>\n",
       "      <td>0.395120</td>\n",
       "      <td>0.501938</td>\n",
       "      <td>0.972571</td>\n",
       "      <td>0.298997</td>\n",
       "      <td>0.738612</td>\n",
       "      <td>0.699188</td>\n",
       "    </tr>\n",
       "  </tbody>\n",
       "</table>\n",
       "<p>500 rows × 7 columns</p>\n",
       "</div>"
      ],
      "text/plain": [
       "            a         c         d         e         f         g         h\n",
       "0    0.186388  0.508395  0.248751  0.453066  0.972811  0.587282  0.795188\n",
       "1    0.757759  0.755264  0.913767  0.843432  0.176062  0.359734  0.174944\n",
       "2    0.800266  0.535974  0.412281  0.701729  0.923787  0.162526  0.226832\n",
       "3    0.953312  0.996949  0.753651  0.105032  0.930880  0.126200  0.569155\n",
       "4    0.535535  0.481864  0.356323  0.619453  0.157490  0.013272  0.508839\n",
       "..        ...       ...       ...       ...       ...       ...       ...\n",
       "495  0.942872  0.804930  0.573362  0.338152  0.394541  0.101196  0.006889\n",
       "496  0.471898  0.514593  0.876103  0.599964  0.806398  0.211088  0.812206\n",
       "497  0.650099  0.838419  0.648366  0.514813  0.392711  0.833177  0.913291\n",
       "498  0.954955  0.823338  0.432674  0.847944  0.492256  0.997388  0.666557\n",
       "499  0.750043  0.395120  0.501938  0.972571  0.298997  0.738612  0.699188\n",
       "\n",
       "[500 rows x 7 columns]"
      ]
     },
     "execution_count": 29,
     "metadata": {},
     "output_type": "execute_result"
    }
   ],
   "source": [
    "df"
   ]
  },
  {
   "cell_type": "code",
   "execution_count": 30,
   "id": "5c9e092a-0cb1-499d-a7b7-29220bd96b0c",
   "metadata": {},
   "outputs": [
    {
     "data": {
      "text/html": [
       "<div>\n",
       "<style scoped>\n",
       "    .dataframe tbody tr th:only-of-type {\n",
       "        vertical-align: middle;\n",
       "    }\n",
       "\n",
       "    .dataframe tbody tr th {\n",
       "        vertical-align: top;\n",
       "    }\n",
       "\n",
       "    .dataframe thead th {\n",
       "        text-align: right;\n",
       "    }\n",
       "</style>\n",
       "<table border=\"1\" class=\"dataframe\">\n",
       "  <thead>\n",
       "    <tr style=\"text-align: right;\">\n",
       "      <th></th>\n",
       "      <th>a</th>\n",
       "      <th>c</th>\n",
       "      <th>d</th>\n",
       "      <th>e</th>\n",
       "      <th>f</th>\n",
       "      <th>g</th>\n",
       "      <th>h</th>\n",
       "    </tr>\n",
       "  </thead>\n",
       "  <tbody>\n",
       "    <tr>\n",
       "      <th>0</th>\n",
       "      <td>0.186388</td>\n",
       "      <td>0.508395</td>\n",
       "      <td>0.248751</td>\n",
       "      <td>0.453066</td>\n",
       "      <td>0.972811</td>\n",
       "      <td>0.587282</td>\n",
       "      <td>0.795188</td>\n",
       "    </tr>\n",
       "    <tr>\n",
       "      <th>2</th>\n",
       "      <td>0.800266</td>\n",
       "      <td>0.535974</td>\n",
       "      <td>0.412281</td>\n",
       "      <td>0.701729</td>\n",
       "      <td>0.923787</td>\n",
       "      <td>0.162526</td>\n",
       "      <td>0.226832</td>\n",
       "    </tr>\n",
       "    <tr>\n",
       "      <th>3</th>\n",
       "      <td>0.953312</td>\n",
       "      <td>0.996949</td>\n",
       "      <td>0.753651</td>\n",
       "      <td>0.105032</td>\n",
       "      <td>0.930880</td>\n",
       "      <td>0.126200</td>\n",
       "      <td>0.569155</td>\n",
       "    </tr>\n",
       "    <tr>\n",
       "      <th>4</th>\n",
       "      <td>0.535535</td>\n",
       "      <td>0.481864</td>\n",
       "      <td>0.356323</td>\n",
       "      <td>0.619453</td>\n",
       "      <td>0.157490</td>\n",
       "      <td>0.013272</td>\n",
       "      <td>0.508839</td>\n",
       "    </tr>\n",
       "    <tr>\n",
       "      <th>5</th>\n",
       "      <td>0.205842</td>\n",
       "      <td>0.408334</td>\n",
       "      <td>0.194406</td>\n",
       "      <td>0.496769</td>\n",
       "      <td>0.291715</td>\n",
       "      <td>0.384363</td>\n",
       "      <td>0.979180</td>\n",
       "    </tr>\n",
       "    <tr>\n",
       "      <th>...</th>\n",
       "      <td>...</td>\n",
       "      <td>...</td>\n",
       "      <td>...</td>\n",
       "      <td>...</td>\n",
       "      <td>...</td>\n",
       "      <td>...</td>\n",
       "      <td>...</td>\n",
       "    </tr>\n",
       "    <tr>\n",
       "      <th>495</th>\n",
       "      <td>0.942872</td>\n",
       "      <td>0.804930</td>\n",
       "      <td>0.573362</td>\n",
       "      <td>0.338152</td>\n",
       "      <td>0.394541</td>\n",
       "      <td>0.101196</td>\n",
       "      <td>0.006889</td>\n",
       "    </tr>\n",
       "    <tr>\n",
       "      <th>496</th>\n",
       "      <td>0.471898</td>\n",
       "      <td>0.514593</td>\n",
       "      <td>0.876103</td>\n",
       "      <td>0.599964</td>\n",
       "      <td>0.806398</td>\n",
       "      <td>0.211088</td>\n",
       "      <td>0.812206</td>\n",
       "    </tr>\n",
       "    <tr>\n",
       "      <th>497</th>\n",
       "      <td>0.650099</td>\n",
       "      <td>0.838419</td>\n",
       "      <td>0.648366</td>\n",
       "      <td>0.514813</td>\n",
       "      <td>0.392711</td>\n",
       "      <td>0.833177</td>\n",
       "      <td>0.913291</td>\n",
       "    </tr>\n",
       "    <tr>\n",
       "      <th>498</th>\n",
       "      <td>0.954955</td>\n",
       "      <td>0.823338</td>\n",
       "      <td>0.432674</td>\n",
       "      <td>0.847944</td>\n",
       "      <td>0.492256</td>\n",
       "      <td>0.997388</td>\n",
       "      <td>0.666557</td>\n",
       "    </tr>\n",
       "    <tr>\n",
       "      <th>499</th>\n",
       "      <td>0.750043</td>\n",
       "      <td>0.395120</td>\n",
       "      <td>0.501938</td>\n",
       "      <td>0.972571</td>\n",
       "      <td>0.298997</td>\n",
       "      <td>0.738612</td>\n",
       "      <td>0.699188</td>\n",
       "    </tr>\n",
       "  </tbody>\n",
       "</table>\n",
       "<p>499 rows × 7 columns</p>\n",
       "</div>"
      ],
      "text/plain": [
       "            a         c         d         e         f         g         h\n",
       "0    0.186388  0.508395  0.248751  0.453066  0.972811  0.587282  0.795188\n",
       "2    0.800266  0.535974  0.412281  0.701729  0.923787  0.162526  0.226832\n",
       "3    0.953312  0.996949  0.753651  0.105032  0.930880  0.126200  0.569155\n",
       "4    0.535535  0.481864  0.356323  0.619453  0.157490  0.013272  0.508839\n",
       "5    0.205842  0.408334  0.194406  0.496769  0.291715  0.384363  0.979180\n",
       "..        ...       ...       ...       ...       ...       ...       ...\n",
       "495  0.942872  0.804930  0.573362  0.338152  0.394541  0.101196  0.006889\n",
       "496  0.471898  0.514593  0.876103  0.599964  0.806398  0.211088  0.812206\n",
       "497  0.650099  0.838419  0.648366  0.514813  0.392711  0.833177  0.913291\n",
       "498  0.954955  0.823338  0.432674  0.847944  0.492256  0.997388  0.666557\n",
       "499  0.750043  0.395120  0.501938  0.972571  0.298997  0.738612  0.699188\n",
       "\n",
       "[499 rows x 7 columns]"
      ]
     },
     "execution_count": 30,
     "metadata": {},
     "output_type": "execute_result"
    }
   ],
   "source": [
    "#  deleting Row \n",
    "#  Axis = 0\n",
    "df = df.drop(1, axis=0)\n",
    "df"
   ]
  },
  {
   "cell_type": "code",
   "execution_count": null,
   "id": "764d84ab-4ab9-4c24-b6ad-9e756732230e",
   "metadata": {},
   "outputs": [],
   "source": [
    "#################################################################################################################################################"
   ]
  },
  {
   "cell_type": "code",
   "execution_count": null,
   "id": "47a94942-f135-4866-86be-25e25d456d1d",
   "metadata": {},
   "outputs": [],
   "source": [
    "#################################################################################"
   ]
  },
  {
   "cell_type": "code",
   "execution_count": null,
   "id": "cd71f1ec-534d-47e9-893e-f774d59c5369",
   "metadata": {},
   "outputs": [],
   "source": [
    "# iloc (Index location) Works on index location "
   ]
  },
  {
   "cell_type": "code",
   "execution_count": 111,
   "id": "477e3dda-7082-41bc-8878-81f69098c522",
   "metadata": {},
   "outputs": [
    {
     "data": {
      "text/plain": [
       "0.1192356286205638"
      ]
     },
     "execution_count": 111,
     "metadata": {},
     "output_type": "execute_result"
    }
   ],
   "source": [
    "# index loaction to know specific values\n",
    "df.iloc[0,2]"
   ]
  },
  {
   "cell_type": "code",
   "execution_count": 31,
   "id": "fbc88205-94c5-4ee0-9daf-ddcda2e89533",
   "metadata": {},
   "outputs": [
    {
     "data": {
      "text/html": [
       "<div>\n",
       "<style scoped>\n",
       "    .dataframe tbody tr th:only-of-type {\n",
       "        vertical-align: middle;\n",
       "    }\n",
       "\n",
       "    .dataframe tbody tr th {\n",
       "        vertical-align: top;\n",
       "    }\n",
       "\n",
       "    .dataframe thead th {\n",
       "        text-align: right;\n",
       "    }\n",
       "</style>\n",
       "<table border=\"1\" class=\"dataframe\">\n",
       "  <thead>\n",
       "    <tr style=\"text-align: right;\">\n",
       "      <th></th>\n",
       "      <th>a</th>\n",
       "      <th>c</th>\n",
       "      <th>d</th>\n",
       "      <th>e</th>\n",
       "      <th>f</th>\n",
       "      <th>g</th>\n",
       "      <th>h</th>\n",
       "    </tr>\n",
       "  </thead>\n",
       "  <tbody>\n",
       "    <tr>\n",
       "      <th>0</th>\n",
       "      <td>0.186388</td>\n",
       "      <td>0.508395</td>\n",
       "      <td>0.248751</td>\n",
       "      <td>0.453066</td>\n",
       "      <td>0.972811</td>\n",
       "      <td>0.587282</td>\n",
       "      <td>0.795188</td>\n",
       "    </tr>\n",
       "    <tr>\n",
       "      <th>2</th>\n",
       "      <td>0.800266</td>\n",
       "      <td>YASHA</td>\n",
       "      <td>0.412281</td>\n",
       "      <td>0.701729</td>\n",
       "      <td>0.923787</td>\n",
       "      <td>0.162526</td>\n",
       "      <td>0.226832</td>\n",
       "    </tr>\n",
       "    <tr>\n",
       "      <th>3</th>\n",
       "      <td>0.953312</td>\n",
       "      <td>0.996949</td>\n",
       "      <td>0.753651</td>\n",
       "      <td>0.105032</td>\n",
       "      <td>0.930880</td>\n",
       "      <td>0.126200</td>\n",
       "      <td>0.569155</td>\n",
       "    </tr>\n",
       "    <tr>\n",
       "      <th>4</th>\n",
       "      <td>0.535535</td>\n",
       "      <td>0.481864</td>\n",
       "      <td>0.356323</td>\n",
       "      <td>0.619453</td>\n",
       "      <td>0.157490</td>\n",
       "      <td>0.013272</td>\n",
       "      <td>0.508839</td>\n",
       "    </tr>\n",
       "    <tr>\n",
       "      <th>5</th>\n",
       "      <td>0.205842</td>\n",
       "      <td>0.408334</td>\n",
       "      <td>0.194406</td>\n",
       "      <td>0.496769</td>\n",
       "      <td>0.291715</td>\n",
       "      <td>0.384363</td>\n",
       "      <td>0.979180</td>\n",
       "    </tr>\n",
       "    <tr>\n",
       "      <th>...</th>\n",
       "      <td>...</td>\n",
       "      <td>...</td>\n",
       "      <td>...</td>\n",
       "      <td>...</td>\n",
       "      <td>...</td>\n",
       "      <td>...</td>\n",
       "      <td>...</td>\n",
       "    </tr>\n",
       "    <tr>\n",
       "      <th>495</th>\n",
       "      <td>0.942872</td>\n",
       "      <td>0.80493</td>\n",
       "      <td>0.573362</td>\n",
       "      <td>0.338152</td>\n",
       "      <td>0.394541</td>\n",
       "      <td>0.101196</td>\n",
       "      <td>0.006889</td>\n",
       "    </tr>\n",
       "    <tr>\n",
       "      <th>496</th>\n",
       "      <td>0.471898</td>\n",
       "      <td>0.514593</td>\n",
       "      <td>0.876103</td>\n",
       "      <td>0.599964</td>\n",
       "      <td>0.806398</td>\n",
       "      <td>0.211088</td>\n",
       "      <td>0.812206</td>\n",
       "    </tr>\n",
       "    <tr>\n",
       "      <th>497</th>\n",
       "      <td>0.650099</td>\n",
       "      <td>0.838419</td>\n",
       "      <td>0.648366</td>\n",
       "      <td>0.514813</td>\n",
       "      <td>0.392711</td>\n",
       "      <td>0.833177</td>\n",
       "      <td>0.913291</td>\n",
       "    </tr>\n",
       "    <tr>\n",
       "      <th>498</th>\n",
       "      <td>0.954955</td>\n",
       "      <td>0.823338</td>\n",
       "      <td>0.432674</td>\n",
       "      <td>0.847944</td>\n",
       "      <td>0.492256</td>\n",
       "      <td>0.997388</td>\n",
       "      <td>0.666557</td>\n",
       "    </tr>\n",
       "    <tr>\n",
       "      <th>499</th>\n",
       "      <td>0.750043</td>\n",
       "      <td>0.39512</td>\n",
       "      <td>0.501938</td>\n",
       "      <td>0.972571</td>\n",
       "      <td>0.298997</td>\n",
       "      <td>0.738612</td>\n",
       "      <td>0.699188</td>\n",
       "    </tr>\n",
       "  </tbody>\n",
       "</table>\n",
       "<p>499 rows × 7 columns</p>\n",
       "</div>"
      ],
      "text/plain": [
       "            a         c         d         e         f         g         h\n",
       "0    0.186388  0.508395  0.248751  0.453066  0.972811  0.587282  0.795188\n",
       "2    0.800266     YASHA  0.412281  0.701729  0.923787  0.162526  0.226832\n",
       "3    0.953312  0.996949  0.753651  0.105032  0.930880  0.126200  0.569155\n",
       "4    0.535535  0.481864  0.356323  0.619453  0.157490  0.013272  0.508839\n",
       "5    0.205842  0.408334  0.194406  0.496769  0.291715  0.384363  0.979180\n",
       "..        ...       ...       ...       ...       ...       ...       ...\n",
       "495  0.942872   0.80493  0.573362  0.338152  0.394541  0.101196  0.006889\n",
       "496  0.471898  0.514593  0.876103  0.599964  0.806398  0.211088  0.812206\n",
       "497  0.650099  0.838419  0.648366  0.514813  0.392711  0.833177  0.913291\n",
       "498  0.954955  0.823338  0.432674  0.847944  0.492256  0.997388  0.666557\n",
       "499  0.750043   0.39512  0.501938  0.972571  0.298997  0.738612  0.699188\n",
       "\n",
       "[499 rows x 7 columns]"
      ]
     },
     "execution_count": 31,
     "metadata": {},
     "output_type": "execute_result"
    }
   ],
   "source": [
    "# changing values at specific index\n",
    "df[\"c\"][2] = \"YASHA\"\n",
    "df"
   ]
  },
  {
   "cell_type": "code",
   "execution_count": 32,
   "id": "f3c463bf-237a-41e3-bfff-1f356c6a806d",
   "metadata": {},
   "outputs": [
    {
     "data": {
      "text/html": [
       "<div>\n",
       "<style scoped>\n",
       "    .dataframe tbody tr th:only-of-type {\n",
       "        vertical-align: middle;\n",
       "    }\n",
       "\n",
       "    .dataframe tbody tr th {\n",
       "        vertical-align: top;\n",
       "    }\n",
       "\n",
       "    .dataframe thead th {\n",
       "        text-align: right;\n",
       "    }\n",
       "</style>\n",
       "<table border=\"1\" class=\"dataframe\">\n",
       "  <thead>\n",
       "    <tr style=\"text-align: right;\">\n",
       "      <th></th>\n",
       "      <th>a</th>\n",
       "      <th>e</th>\n",
       "      <th>f</th>\n",
       "      <th>g</th>\n",
       "      <th>h</th>\n",
       "    </tr>\n",
       "  </thead>\n",
       "  <tbody>\n",
       "    <tr>\n",
       "      <th>0</th>\n",
       "      <td>0.186388</td>\n",
       "      <td>0.453066</td>\n",
       "      <td>0.972811</td>\n",
       "      <td>0.587282</td>\n",
       "      <td>0.795188</td>\n",
       "    </tr>\n",
       "    <tr>\n",
       "      <th>2</th>\n",
       "      <td>0.800266</td>\n",
       "      <td>0.701729</td>\n",
       "      <td>0.923787</td>\n",
       "      <td>0.162526</td>\n",
       "      <td>0.226832</td>\n",
       "    </tr>\n",
       "    <tr>\n",
       "      <th>3</th>\n",
       "      <td>0.953312</td>\n",
       "      <td>0.105032</td>\n",
       "      <td>0.930880</td>\n",
       "      <td>0.126200</td>\n",
       "      <td>0.569155</td>\n",
       "    </tr>\n",
       "    <tr>\n",
       "      <th>4</th>\n",
       "      <td>0.535535</td>\n",
       "      <td>0.619453</td>\n",
       "      <td>0.157490</td>\n",
       "      <td>0.013272</td>\n",
       "      <td>0.508839</td>\n",
       "    </tr>\n",
       "    <tr>\n",
       "      <th>5</th>\n",
       "      <td>0.205842</td>\n",
       "      <td>0.496769</td>\n",
       "      <td>0.291715</td>\n",
       "      <td>0.384363</td>\n",
       "      <td>0.979180</td>\n",
       "    </tr>\n",
       "    <tr>\n",
       "      <th>...</th>\n",
       "      <td>...</td>\n",
       "      <td>...</td>\n",
       "      <td>...</td>\n",
       "      <td>...</td>\n",
       "      <td>...</td>\n",
       "    </tr>\n",
       "    <tr>\n",
       "      <th>495</th>\n",
       "      <td>0.942872</td>\n",
       "      <td>0.338152</td>\n",
       "      <td>0.394541</td>\n",
       "      <td>0.101196</td>\n",
       "      <td>0.006889</td>\n",
       "    </tr>\n",
       "    <tr>\n",
       "      <th>496</th>\n",
       "      <td>0.471898</td>\n",
       "      <td>0.599964</td>\n",
       "      <td>0.806398</td>\n",
       "      <td>0.211088</td>\n",
       "      <td>0.812206</td>\n",
       "    </tr>\n",
       "    <tr>\n",
       "      <th>497</th>\n",
       "      <td>0.650099</td>\n",
       "      <td>0.514813</td>\n",
       "      <td>0.392711</td>\n",
       "      <td>0.833177</td>\n",
       "      <td>0.913291</td>\n",
       "    </tr>\n",
       "    <tr>\n",
       "      <th>498</th>\n",
       "      <td>0.954955</td>\n",
       "      <td>0.847944</td>\n",
       "      <td>0.492256</td>\n",
       "      <td>0.997388</td>\n",
       "      <td>0.666557</td>\n",
       "    </tr>\n",
       "    <tr>\n",
       "      <th>499</th>\n",
       "      <td>0.750043</td>\n",
       "      <td>0.972571</td>\n",
       "      <td>0.298997</td>\n",
       "      <td>0.738612</td>\n",
       "      <td>0.699188</td>\n",
       "    </tr>\n",
       "  </tbody>\n",
       "</table>\n",
       "<p>499 rows × 5 columns</p>\n",
       "</div>"
      ],
      "text/plain": [
       "            a         e         f         g         h\n",
       "0    0.186388  0.453066  0.972811  0.587282  0.795188\n",
       "2    0.800266  0.701729  0.923787  0.162526  0.226832\n",
       "3    0.953312  0.105032  0.930880  0.126200  0.569155\n",
       "4    0.535535  0.619453  0.157490  0.013272  0.508839\n",
       "5    0.205842  0.496769  0.291715  0.384363  0.979180\n",
       "..        ...       ...       ...       ...       ...\n",
       "495  0.942872  0.338152  0.394541  0.101196  0.006889\n",
       "496  0.471898  0.599964  0.806398  0.211088  0.812206\n",
       "497  0.650099  0.514813  0.392711  0.833177  0.913291\n",
       "498  0.954955  0.847944  0.492256  0.997388  0.666557\n",
       "499  0.750043  0.972571  0.298997  0.738612  0.699188\n",
       "\n",
       "[499 rows x 5 columns]"
      ]
     },
     "execution_count": 32,
     "metadata": {},
     "output_type": "execute_result"
    }
   ],
   "source": [
    "# droop (DELETE)  column axis =1\n",
    "df.drop(['c','d'],  axis=1, inplace=True)\n",
    "df"
   ]
  },
  {
   "cell_type": "code",
   "execution_count": 33,
   "id": "94bf2580-021b-4e2e-831b-be28a6be4402",
   "metadata": {},
   "outputs": [
    {
     "data": {
      "text/plain": [
       "['a', 'e', 'f', 'g', 'h']"
      ]
     },
     "execution_count": 33,
     "metadata": {},
     "output_type": "execute_result"
    }
   ],
   "source": [
    "y=df.columns.to_list()\n",
    "y"
   ]
  },
  {
   "cell_type": "code",
   "execution_count": 116,
   "id": "d739c864-1a02-4d1f-9084-efe208b6a76e",
   "metadata": {},
   "outputs": [
    {
     "data": {
      "text/plain": [
       "2      False\n",
       "3      False\n",
       "4      False\n",
       "5      False\n",
       "6      False\n",
       "       ...  \n",
       "495    False\n",
       "496    False\n",
       "497    False\n",
       "498    False\n",
       "499    False\n",
       "Name: f, Length: 498, dtype: bool"
      ]
     },
     "execution_count": 116,
     "metadata": {},
     "output_type": "execute_result"
    }
   ],
   "source": [
    "df['f'].isnull()"
   ]
  },
  {
   "cell_type": "code",
   "execution_count": null,
   "id": "52c2700d-d159-40d2-a37e-297a63807103",
   "metadata": {},
   "outputs": [],
   "source": [
    "#################################################################################"
   ]
  },
  {
   "cell_type": "code",
   "execution_count": null,
   "id": "74c6f090-f15a-4618-937f-7abac0cd8ffe",
   "metadata": {},
   "outputs": [],
   "source": [
    "#################################################################################"
   ]
  },
  {
   "cell_type": "code",
   "execution_count": null,
   "id": "71f10147-12e6-4462-ab0c-8505fd13f78d",
   "metadata": {},
   "outputs": [],
   "source": [
    "# Dictionary"
   ]
  },
  {
   "cell_type": "code",
   "execution_count": null,
   "id": "e1ff2404-abf4-42fb-ba52-7eb78e65ee5f",
   "metadata": {},
   "outputs": [],
   "source": [
    "#################################################################################"
   ]
  },
  {
   "cell_type": "code",
   "execution_count": null,
   "id": "c7bb925e-dc6c-480f-9731-a6594a637513",
   "metadata": {},
   "outputs": [],
   "source": [
    "#################################################################################"
   ]
  },
  {
   "cell_type": "code",
   "execution_count": 117,
   "id": "1ce49ba3-d02d-4661-9988-0bd3e8b106ce",
   "metadata": {},
   "outputs": [],
   "source": [
    "dict = {\n",
    "    \"Name\":[\"AA\",\"BB\",\"CC\"],\n",
    "    \"Age\": [20,21,22],\n",
    "    \"Sports\":[\"Cricket\",\"Football\",\"Basketball\"]\n",
    "}"
   ]
  },
  {
   "cell_type": "code",
   "execution_count": 118,
   "id": "7be6b8bb-deaf-4118-856e-621c8001a9d7",
   "metadata": {},
   "outputs": [
    {
     "data": {
      "text/plain": [
       "{'Name': ['AA', 'BB', 'CC'],\n",
       " 'Age': [20, 21, 22],\n",
       " 'Sports': ['Cricket', 'Football', 'Basketball']}"
      ]
     },
     "execution_count": 118,
     "metadata": {},
     "output_type": "execute_result"
    }
   ],
   "source": [
    "dict"
   ]
  },
  {
   "cell_type": "code",
   "execution_count": 120,
   "id": "d12be22a-9fda-4f2c-88be-44c1f1887307",
   "metadata": {},
   "outputs": [
    {
     "data": {
      "text/html": [
       "<div>\n",
       "<style scoped>\n",
       "    .dataframe tbody tr th:only-of-type {\n",
       "        vertical-align: middle;\n",
       "    }\n",
       "\n",
       "    .dataframe tbody tr th {\n",
       "        vertical-align: top;\n",
       "    }\n",
       "\n",
       "    .dataframe thead th {\n",
       "        text-align: right;\n",
       "    }\n",
       "</style>\n",
       "<table border=\"1\" class=\"dataframe\">\n",
       "  <thead>\n",
       "    <tr style=\"text-align: right;\">\n",
       "      <th></th>\n",
       "      <th>Name</th>\n",
       "      <th>Age</th>\n",
       "      <th>Sports</th>\n",
       "    </tr>\n",
       "  </thead>\n",
       "  <tbody>\n",
       "    <tr>\n",
       "      <th>0</th>\n",
       "      <td>AA</td>\n",
       "      <td>20</td>\n",
       "      <td>Cricket</td>\n",
       "    </tr>\n",
       "    <tr>\n",
       "      <th>1</th>\n",
       "      <td>BB</td>\n",
       "      <td>21</td>\n",
       "      <td>Football</td>\n",
       "    </tr>\n",
       "    <tr>\n",
       "      <th>2</th>\n",
       "      <td>CC</td>\n",
       "      <td>22</td>\n",
       "      <td>Basketball</td>\n",
       "    </tr>\n",
       "  </tbody>\n",
       "</table>\n",
       "</div>"
      ],
      "text/plain": [
       "  Name  Age      Sports\n",
       "0   AA   20     Cricket\n",
       "1   BB   21    Football\n",
       "2   CC   22  Basketball"
      ]
     },
     "execution_count": 120,
     "metadata": {},
     "output_type": "execute_result"
    }
   ],
   "source": [
    "school = pd.DataFrame(dict)\n",
    "school"
   ]
  },
  {
   "cell_type": "code",
   "execution_count": 121,
   "id": "14d671af-85a3-414e-a68c-fbde6794d2f9",
   "metadata": {},
   "outputs": [
    {
     "name": "stdout",
     "output_type": "stream",
     "text": [
      "Done\n"
     ]
    }
   ],
   "source": [
    "school.to_csv(\"School.csv\")\n",
    "print(\"Done\")"
   ]
  },
  {
   "cell_type": "code",
   "execution_count": 125,
   "id": "b86c5141-7da4-4a0d-b533-9fd745b35d07",
   "metadata": {},
   "outputs": [
    {
     "name": "stdout",
     "output_type": "stream",
     "text": [
      "DOne\n"
     ]
    }
   ],
   "source": [
    "school.to_csv(\"school_index_false.csv\", index=False)\n",
    "print(\"DOne\")"
   ]
  },
  {
   "cell_type": "code",
   "execution_count": null,
   "id": "4bbc9fe7-36fe-4e98-b8d4-2ef2788bba63",
   "metadata": {},
   "outputs": [],
   "source": []
  },
  {
   "cell_type": "code",
   "execution_count": 3,
   "id": "77d8dfb5-d83f-4b17-a9f1-044228a8af0c",
   "metadata": {},
   "outputs": [
    {
     "name": "stdout",
     "output_type": "stream",
     "text": [
      "List of all columns:\n",
      "['Unnamed: 0', 'a', 'b', 'c', 'd', 'e', 'f', 'g', 'h']\n",
      "\n",
      "Last three rows and first three columns of the DataFrame:\n",
      "     Unnamed: 0         a         b\n",
      "497         497  0.739372  0.819813\n",
      "498         498  0.053763  0.181004\n",
      "499         499  0.006770  0.137433\n"
     ]
    }
   ],
   "source": [
    "import pandas as pd\n",
    "\n",
    "# Step 1: Read data from CSV file and create a DataFrame\n",
    "df = pd.read_csv('timepass.csv')\n",
    "\n",
    "# Step 2: Display list of all columns\n",
    "print(\"List of all columns:\")\n",
    "print(df.columns.tolist())\n",
    "\n",
    "# Step 3: Display data with last three rows and first three columns\n",
    "print(\"\\nLast three rows and first three columns of the DataFrame:\")\n",
    "print(df.iloc[-3:, :3])\n"
   ]
  },
  {
   "cell_type": "code",
   "execution_count": null,
   "id": "b5c435aa-36db-49b5-b394-c728c0a9f83d",
   "metadata": {},
   "outputs": [],
   "source": []
  }
 ],
 "metadata": {
  "kernelspec": {
   "display_name": "Python 3 (ipykernel)",
   "language": "python",
   "name": "python3"
  },
  "language_info": {
   "codemirror_mode": {
    "name": "ipython",
    "version": 3
   },
   "file_extension": ".py",
   "mimetype": "text/x-python",
   "name": "python",
   "nbconvert_exporter": "python",
   "pygments_lexer": "ipython3",
   "version": "3.11.2"
  }
 },
 "nbformat": 4,
 "nbformat_minor": 5
}
