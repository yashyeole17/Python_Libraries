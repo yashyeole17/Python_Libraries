{
 "cells": [
  {
   "cell_type": "code",
   "execution_count": 2,
   "id": "44aa0779-c9b0-45de-a6b1-68204fd7b7db",
   "metadata": {},
   "outputs": [
    {
     "name": "stdout",
     "output_type": "stream",
     "text": [
      "[10, 10, 10]\n",
      "[10, 10, 10]\n",
      "[10, 10, 10]\n"
     ]
    }
   ],
   "source": [
    "#addtion of two matrices \n",
    "a = [ [1,2,3],[4,5,6],[7,8,9] ]\n",
    "b = [ [9,8,7],[6,5,4],[3,2,1] ]\n",
    "ans = [ [0,0,0],[0,0,0],[0,0,0] ]\n",
    "\n",
    "for i in range(len(a)):\n",
    "    for j  in range(len(a[0])):\n",
    "        ans[i][j] = a[i][j] + b[i][j]\n",
    "\n",
    "for i in ans:\n",
    "    print(i)"
   ]
  },
  {
   "cell_type": "code",
   "execution_count": null,
   "id": "f5ff39b9-2e4f-49a7-992b-6fd392599feb",
   "metadata": {},
   "outputs": [],
   "source": [
    "##############################################################################################"
   ]
  },
  {
   "cell_type": "code",
   "execution_count": 12,
   "id": "c8f932ff-950a-4ca5-8c2b-e51b1b0a3a75",
   "metadata": {},
   "outputs": [
    {
     "name": "stdout",
     "output_type": "stream",
     "text": [
      "{'Name': 'yash', 'Age': 21}\n",
      "\n",
      "dict_keys(['Name', 'Age'])\n",
      "\n",
      "dict_values(['yash', 21])\n"
     ]
    }
   ],
   "source": [
    "dict = {\"Name\": \"yash\", \"Age\":21}\n",
    "print(dict)\n",
    "print()\n",
    "print(dict.keys())\n",
    "print()\n",
    "print(dict.values())"
   ]
  },
  {
   "cell_type": "code",
   "execution_count": null,
   "id": "01aa2e47-6b83-4e01-ae6a-38982840e76a",
   "metadata": {},
   "outputs": [],
   "source": [
    "##############################################################################################"
   ]
  },
  {
   "cell_type": "code",
   "execution_count": 13,
   "id": "f03dff64-2210-48fb-b221-821490c9dc22",
   "metadata": {},
   "outputs": [
    {
     "name": "stdout",
     "output_type": "stream",
     "text": [
      "30\n"
     ]
    }
   ],
   "source": [
    "#Defualt Aurgument passing\n",
    "def function(a, b=10, c=15):\n",
    "    return a+b+c\n",
    "print(function(5))"
   ]
  },
  {
   "cell_type": "code",
   "execution_count": 14,
   "id": "5a8253b6-1218-4ced-9b71-e57478bb50c1",
   "metadata": {},
   "outputs": [
    {
     "name": "stdout",
     "output_type": "stream",
     "text": [
      "30\n"
     ]
    }
   ],
   "source": [
    "# Keyword Aurgument (mentioned names)\n",
    "def function(a,b,c=15):\n",
    "    return a+b+c\n",
    "ans = function(a=5, b=10)\n",
    "print(ans)"
   ]
  },
  {
   "cell_type": "code",
   "execution_count": 17,
   "id": "4ac16076-5114-4c65-b8db-0756a7b03676",
   "metadata": {},
   "outputs": [
    {
     "name": "stdout",
     "output_type": "stream",
     "text": [
      "Answer1: 10\n",
      "Answer2: -10\n"
     ]
    }
   ],
   "source": [
    "#positional aurguments\n",
    "def sub(a,b):\n",
    "    return a-b\n",
    "ans1 = sub(50,40)\n",
    "ans2 = sub(40,50)\n",
    "print(f\"Answer1: {ans1}\")\n",
    "print(f\"Answer2: {ans2}\")"
   ]
  },
  {
   "cell_type": "code",
   "execution_count": null,
   "id": "55adf2b5-062f-4e1c-91cd-c1ac6f9e441e",
   "metadata": {},
   "outputs": [],
   "source": [
    "\"\"\"\n",
    "Types of Arbitrary Arguments:\n",
    "\n",
    "    [I]   Arbitrary positional arguments (*args)\n",
    "    [II]  Arbitrary keyword arguments (**kwargs)\n",
    "\n",
    "The  !!!!!     *args and **kwargs    !!!! allow you to pass multiple\n",
    "positional arguments or keyword arguments to a function.\n",
    "\"\"\""
   ]
  },
  {
   "cell_type": "code",
   "execution_count": 22,
   "id": "30930315-419e-4e06-a0ec-967a3aa6931c",
   "metadata": {},
   "outputs": [
    {
     "name": "stdout",
     "output_type": "stream",
     "text": [
      "60\n"
     ]
    }
   ],
   "source": [
    "# Arbitrary positional arguments (*args)\n",
    "def function(*args):\n",
    "    add = 0\n",
    "    for i in args:\n",
    "        add = add + i\n",
    "    return add\n",
    "ans = function(10,20,30)\n",
    "print(ans)"
   ]
  },
  {
   "cell_type": "code",
   "execution_count": 26,
   "id": "7f00e47a-6a5f-4c7f-ba56-5e9e59154caa",
   "metadata": {},
   "outputs": [
    {
     "name": "stdout",
     "output_type": "stream",
     "text": [
      "Maths  =  50\n",
      "English  =  45\n",
      "Python  =  60\n",
      "Sum:  155\n"
     ]
    }
   ],
   "source": [
    "#The **kwargs allow you to pass multiple keyword arguments to a function.\n",
    "#Use the **kwargs if you want to handle named arguments in a function.\n",
    "\n",
    "def function(**kwargs):\n",
    "    sum = 0\n",
    "    for sub in kwargs:\n",
    "        sub_name = sub          #get name\n",
    "        sub_marks = kwargs[sub]    #get value\n",
    "        sum = sum + sub_marks\n",
    "        print(sub_name ,\" = \",sub_marks)\n",
    "    print(\"Sum: \",sum)\n",
    "function(Maths= 50,  English=45, Python=60)"
   ]
  },
  {
   "cell_type": "code",
   "execution_count": null,
   "id": "da4f6d32-9660-4bcf-848a-fc439867fc43",
   "metadata": {},
   "outputs": [],
   "source": [
    "##############################################################################################"
   ]
  },
  {
   "cell_type": "code",
   "execution_count": 34,
   "id": "a69ab9eb-82da-4ce1-aa0a-6f8b6ab18fa4",
   "metadata": {},
   "outputs": [
    {
     "name": "stdout",
     "output_type": "stream",
     "text": [
      "0 1 1 2 3 5 8 13 21 34 "
     ]
    }
   ],
   "source": [
    "#fibonacci Series\n",
    "def fibo(n):\n",
    "    a = 0\n",
    "    b = 1\n",
    "    if n == 0:\n",
    "        return 0\n",
    "    elif(n==1):\n",
    "        return 1\n",
    "    else:\n",
    "        for i in range(n):\n",
    "            print(a, end=\" \")\n",
    "            a,b = b, a+b\n",
    "n = 10\n",
    "fibo(n)"
   ]
  },
  {
   "cell_type": "code",
   "execution_count": null,
   "id": "1cd55c0a-ebf8-457e-bc91-af59b8a0b598",
   "metadata": {},
   "outputs": [],
   "source": [
    "##############################################################################################"
   ]
  },
  {
   "cell_type": "code",
   "execution_count": 43,
   "id": "9105248d-acf4-41e8-a49c-8f2a27fc5736",
   "metadata": {},
   "outputs": [
    {
     "name": "stdout",
     "output_type": "stream",
     "text": [
      "Factorial:  24\n"
     ]
    }
   ],
   "source": [
    "# factorial of a number using RECURSION\n",
    "def fact(n):\n",
    "    ans = 1\n",
    "    if n == 0:\n",
    "        return 1\n",
    "    else:\n",
    "        ans = n * fact(n-1)\n",
    "    return ans\n",
    "n = 4\n",
    "ans1 = fact(n)\n",
    "print(\"Factorial: \",ans1)"
   ]
  },
  {
   "cell_type": "code",
   "execution_count": null,
   "id": "bb7e54ba-748f-4799-9fad-327964b4d9d7",
   "metadata": {},
   "outputs": [],
   "source": [
    "##############################################################################################"
   ]
  },
  {
   "cell_type": "code",
   "execution_count": 44,
   "id": "b49591f5-534b-4d01-8533-a48c97a61f9d",
   "metadata": {},
   "outputs": [
    {
     "name": "stdout",
     "output_type": "stream",
     "text": [
      "25\n"
     ]
    }
   ],
   "source": [
    "#Anonympus Function OR Lambda Function (A functin without Name)\n",
    "f = lambda a: a**2\n",
    "print(f(5))"
   ]
  },
  {
   "cell_type": "code",
   "execution_count": 55,
   "id": "cd32809b-9c07-427a-88cd-6f3fee8185bf",
   "metadata": {},
   "outputs": [
    {
     "name": "stdout",
     "output_type": "stream",
     "text": [
      "With Lambda:  [2, 4, 6, 8]\n",
      "Without Lambda:  [2, 4, 6, 8]\n"
     ]
    }
   ],
   "source": [
    "# filter with using lambda funcion\n",
    "list1 =[1,2,3,4,5,6,7,8]\n",
    "even = list(filter(lambda n: n%2==0, list1))\n",
    "print(\"With Lambda: \",even)\n",
    "\n",
    "\n",
    "#filter without using lambda\n",
    "def function(n):\n",
    "    return n % 2 == 0\n",
    "list1 =[1,2,3,4,5,6,7,8]\n",
    "even = list(filter(function, list1))\n",
    "print(\"Without Lambda: \",even)"
   ]
  },
  {
   "cell_type": "code",
   "execution_count": 52,
   "id": "d9b032ff-9768-4ffc-934b-99b66c228aaf",
   "metadata": {},
   "outputs": [
    {
     "name": "stdout",
     "output_type": "stream",
     "text": [
      "[False, True, False, True, False, True, False, True]\n"
     ]
    }
   ],
   "source": [
    "# Map using lambda function     ( MAP function showo the given values is even or not the TRUE FALSE )\n",
    "list1 =[1,2,3,4,5,6,7,8]\n",
    "even = list(map(lambda n: n%2==0, list1))\n",
    "print(even)"
   ]
  },
  {
   "cell_type": "code",
   "execution_count": null,
   "id": "1ea02479-2783-4fdc-97c6-0b2a1003d39c",
   "metadata": {},
   "outputs": [],
   "source": [
    "##############################################################################################"
   ]
  },
  {
   "cell_type": "code",
   "execution_count": 66,
   "id": "08c77da4-76e4-4714-a965-476232136da7",
   "metadata": {},
   "outputs": [
    {
     "name": "stdout",
     "output_type": "stream",
     "text": [
      "4\n"
     ]
    }
   ],
   "source": [
    "\"\"\" Decorator is used when we change functionality without changing the existing code \"\"\"\n",
    "def smart_div(func):\n",
    "    def inner(a, b):\n",
    "        if a < b:\n",
    "            a,b = b,a\n",
    "        return func(a,b)\n",
    "    return inner\n",
    "    \n",
    "@smart_div     \n",
    "def divide(a,b):\n",
    "    return a // b\n",
    "    \n",
    "div = divide(2,8)\n",
    "print(div)"
   ]
  },
  {
   "cell_type": "code",
   "execution_count": null,
   "id": "447501c0-9f69-4721-8201-194377c2e2d1",
   "metadata": {},
   "outputs": [],
   "source": [
    "##############################################################################################"
   ]
  },
  {
   "cell_type": "code",
   "execution_count": 79,
   "id": "c99f190d-b15a-4ca0-8a30-86f54c370acc",
   "metadata": {},
   "outputs": [
    {
     "name": "stdout",
     "output_type": "stream",
     "text": [
      "Additon:  15\n",
      "Subtraction:  5\n",
      "Multiplication:  50\n",
      "Division:  2\n",
      "Power:  100000\n"
     ]
    }
   ],
   "source": [
    "#MODULE in python     Importing another own file and use function define in them\n",
    "from CALCULATOR import *\n",
    "a = 10\n",
    "b = 5\n",
    "\n",
    "c = add(a,b)\n",
    "d = sub(a,b)\n",
    "e = mul(a,b)\n",
    "f = div(a,b)\n",
    "g = pow(a,b)\n",
    "\n",
    "print('Additon: ',c)\n",
    "print('Subtraction: ',d)\n",
    "print('Multiplication: ',e)\n",
    "print('Division: ',f)\n",
    "print('Power: ',g)"
   ]
  },
  {
   "cell_type": "code",
   "execution_count": null,
   "id": "de1b432f-6f64-488c-bc55-98675f5d83e6",
   "metadata": {},
   "outputs": [],
   "source": [
    "##############################################################################################"
   ]
  },
  {
   "cell_type": "code",
   "execution_count": 93,
   "id": "1f90f9ac-eac0-441d-9473-51135e799deb",
   "metadata": {},
   "outputs": [
    {
     "name": "stdout",
     "output_type": "stream",
     "text": [
      "Yash  =  30\n",
      "Yash\n",
      "30\n"
     ]
    }
   ],
   "source": [
    "# creating class,  init block and constructor\n",
    "class Computer:\n",
    "    def __init__(self,name, age):      # __init__ act as a constructor\n",
    "        self.name = name\n",
    "        self.age = age\n",
    "        \n",
    "    def printing(self):\n",
    "        print(self.name ,\" = \", self.age)\n",
    "\n",
    "c1 = Computer(\"Yash\", 30)            # instances of class computer\n",
    "c1.printing()\n",
    "print(c1.name)                       # instance variables\n",
    "print(c1.age)\n"
   ]
  },
  {
   "cell_type": "code",
   "execution_count": null,
   "id": "fce10ef4-6d3c-4fc1-96ba-653d6f155bf7",
   "metadata": {},
   "outputs": [],
   "source": [
    "##############################################################################################"
   ]
  },
  {
   "cell_type": "code",
   "execution_count": null,
   "id": "3aef6103-19ce-4b98-9575-a8c888a682a0",
   "metadata": {},
   "outputs": [],
   "source": [
    "\"\"\"\n",
    "TYPES OF METHODS\n",
    "    I.    Instance Method \n",
    "    II.   Class Method\n",
    "    III.  Static Method \n",
    "\"\"\""
   ]
  },
  {
   "cell_type": "code",
   "execution_count": 116,
   "id": "79dfb6d7-2d84-463d-b32b-245fcbad452c",
   "metadata": {},
   "outputs": [
    {
     "name": "stdout",
     "output_type": "stream",
     "text": [
      "Average: 20.0\n",
      "\n",
      "Accessor: 10\n",
      "\n",
      "Accessor: 999\n"
     ]
    }
   ],
   "source": [
    "# I.    Instance Method\n",
    "'''\n",
    "TWO types 1. Accessor \n",
    "          2. Mutator    \n",
    "'''\n",
    "class Student:\n",
    "    def __init__(self, m1, m2, m3):\n",
    "        self.m1 = m1\n",
    "        self.m2 = m2\n",
    "        self.m3 = m3\n",
    "\n",
    "    def average(self):\n",
    "        return (self.m1 + self.m2 + self.m3) / 3\n",
    "\n",
    "    def get(self):\n",
    "        return self.m1\n",
    "\n",
    "    def set(self, value):\n",
    "        self.m1 = value\n",
    "\n",
    "s1 = Student(10, 20, 30)\n",
    "s2 = Student(100, 200, 300)\n",
    "\n",
    "print(\"Average:\", s1.average())\n",
    "print()\n",
    "print(\"Accessor:\", s1.m1)\n",
    "print()\n",
    "s1.set(999)\n",
    "print(\"Accessor:\", s1.m1)\n"
   ]
  },
  {
   "cell_type": "code",
   "execution_count": 125,
   "id": "cbe2454a-fec9-4adf-9fda-c039fd89c981",
   "metadata": {},
   "outputs": [
    {
     "name": "stdout",
     "output_type": "stream",
     "text": [
      "Average:  20.0\n",
      "Class Method:  IICMR\n"
     ]
    }
   ],
   "source": [
    "# II.   Class Method\n",
    "class Student:\n",
    "    school = \"IICMR\"\n",
    "    def __init__(self, m1, m2, m3):\n",
    "        self.m1 = m1\n",
    "        self.m2 = m2\n",
    "        self.m3 = m3\n",
    "\n",
    "    def average(self):\n",
    "        return ( self.m1 + self.m2 + self.m3 ) /3\n",
    "\n",
    "    @classmethod              # class method\n",
    "    def info(cls):\n",
    "        return cls.school\n",
    "\n",
    "s1 = Student(10, 20, 30)\n",
    "print(\"Average: \",s1.average())\n",
    "print(\"Class Method: \",Student.info())"
   ]
  },
  {
   "cell_type": "code",
   "execution_count": 129,
   "id": "aac4d621-df90-4946-99ae-8d8a952153d6",
   "metadata": {},
   "outputs": [
    {
     "name": "stdout",
     "output_type": "stream",
     "text": [
      "Additon:  30\n"
     ]
    }
   ],
   "source": [
    "#  III.  Static Method\n",
    "class Numbers:\n",
    "    @staticmethod\n",
    "    def addition(a, b):\n",
    "        return a+b\n",
    "        \n",
    "print(\"Additon: \",Numbers.addition(10,20))"
   ]
  },
  {
   "cell_type": "code",
   "execution_count": null,
   "id": "343572d4-1ce9-4c42-944c-61cd051bc0c8",
   "metadata": {},
   "outputs": [],
   "source": [
    "##############################################################################################"
   ]
  },
  {
   "cell_type": "code",
   "execution_count": 138,
   "id": "c3468fbd-4cf0-4454-8845-a27a1a975431",
   "metadata": {},
   "outputs": [
    {
     "name": "stdout",
     "output_type": "stream",
     "text": [
      "Outer Class Object\n",
      "Outer Class Method\n",
      "\n",
      "Inner class Object\n",
      "Inner class Method\n"
     ]
    }
   ],
   "source": [
    "# nested class\n",
    "'''\n",
    "In Python, a nested class is a class defined inside another class. \n",
    "It allows you to encapsulate related classes within a parent class, creating a hierarchy of classes. \n",
    "The nested class, also known as an inner class, is defined within the scope of the outer class.\n",
    "'''\n",
    "class Outer:                                 # outer class\n",
    "    def __init__(self, o_attr):\n",
    "        self.o_attr = o_attr\n",
    "\n",
    "    def outer_method(self):\n",
    "        print(\"Outer Class Method\")\n",
    "\n",
    "    class Inner:                             # inner class\n",
    "        def __init__(self, i_attr):\n",
    "            self.i_attr = i_attr\n",
    "\n",
    "        def inner_method(self):\n",
    "            print(\"Inner class Method\")\n",
    "\n",
    "o1 = Outer(\"Outer Class Object\")\n",
    "print(o1.o_attr)\n",
    "o1.outer_method()\n",
    "print()\n",
    "\n",
    "i1 = o1.Inner(\"Inner class Object\")\n",
    "print(i1.i_attr)\n",
    "i1.inner_method()\n",
    "    \n"
   ]
  },
  {
   "cell_type": "code",
   "execution_count": null,
   "id": "dbbcd15f-a987-4e91-8f89-b44d5c1b4366",
   "metadata": {},
   "outputs": [],
   "source": [
    "##############################################################################################"
   ]
  },
  {
   "cell_type": "code",
   "execution_count": null,
   "id": "acba8580-f92f-4e24-bd0b-64c39e9155ca",
   "metadata": {},
   "outputs": [],
   "source": [
    "'''\n",
    "INHERITANCE\n",
    "I     Single Inheritance.\n",
    "II    Multiple Inheritance.\n",
    "III   Multilevel Inheritance.\n",
    "IV    Hierarchical Inheritance.\n",
    "V     Hybrid Inheritance.\n",
    "'''"
   ]
  },
  {
   "cell_type": "code",
   "execution_count": 140,
   "id": "aa27a5c9-8400-464d-af83-836e77aa746e",
   "metadata": {},
   "outputs": [
    {
     "name": "stdout",
     "output_type": "stream",
     "text": [
      "Parent\n",
      "Child\n"
     ]
    }
   ],
   "source": [
    "#I     Single Inheritance.\n",
    "class Parent:\n",
    "    def outer(self):\n",
    "        print(\"Parent\")\n",
    "        \n",
    "class Clild(Parent):\n",
    "    def inner(self):\n",
    "        print(\"Child\")\n",
    "        \n",
    "c1 = Clild()\n",
    "c1.outer()\n",
    "c1.inner()\n",
    "        "
   ]
  },
  {
   "cell_type": "code",
   "execution_count": 147,
   "id": "5fe6e9be-ad6c-4c8e-b4d2-c227f263a6fd",
   "metadata": {},
   "outputs": [
    {
     "name": "stdout",
     "output_type": "stream",
     "text": [
      "Father\n",
      "Mother\n",
      "Child\n"
     ]
    }
   ],
   "source": [
    "#II    Multiple Inheritance.\n",
    "class Father:\n",
    "    def m_father(self):\n",
    "        print(\"Father\")\n",
    "        \n",
    "class Mother:\n",
    "    def m_mother(self):\n",
    "        print(\"Mother\")\n",
    "        \n",
    "class Child(Father, Mother):\n",
    "    def m_child(self):\n",
    "        print(\"Child\")\n",
    "        \n",
    "    \n",
    "c1 = Child()\n",
    "c1.m_father()\n",
    "c1.m_mother()\n",
    "c1.m_child()\n",
    "        "
   ]
  },
  {
   "cell_type": "code",
   "execution_count": 148,
   "id": "edeaf317-309a-4b6b-9680-25a14694bfbd",
   "metadata": {},
   "outputs": [
    {
     "name": "stdout",
     "output_type": "stream",
     "text": [
      "Grand Father\n",
      "Father\n",
      "Child\n"
     ]
    }
   ],
   "source": [
    "#III   Multilevel Inheritance.\n",
    "class GrandFather:\n",
    "    def GFather(self):\n",
    "        print(\"Grand Father\")\n",
    "        \n",
    "class Father(GrandFather):\n",
    "    def m_father(self):\n",
    "        print(\"Father\")\n",
    "        \n",
    "class Child(Father):\n",
    "    def m_child(self):\n",
    "        print(\"Child\")    \n",
    "    \n",
    "c1 = Child()\n",
    "c1.GFather()\n",
    "c1.m_father()\n",
    "c1.m_child()\n",
    "        "
   ]
  },
  {
   "cell_type": "code",
   "execution_count": 153,
   "id": "91b4ce15-7ebb-43b4-ad15-0274e490c239",
   "metadata": {},
   "outputs": [
    {
     "name": "stdout",
     "output_type": "stream",
     "text": [
      "Parent\n",
      "Child1\n",
      "\n",
      "Parent\n",
      "Child2\n"
     ]
    }
   ],
   "source": [
    "#IV    Hierarchical Inheritance.\n",
    "#I     Single Inheritance.\n",
    "class Parent:\n",
    "    def outer(self):\n",
    "        print(\"Parent\")\n",
    "        \n",
    "class Clild1(Parent):\n",
    "    def inner1(self):\n",
    "        print(\"Child1\")\n",
    "\n",
    "class Child2(Parent):\n",
    "    def inner2(self):\n",
    "        print(\"Child2\")\n",
    "        \n",
    "c1 = Clild1()\n",
    "c1.outer()\n",
    "c1.inner1()\n",
    "print()\n",
    "\n",
    "c2 = Child2()\n",
    "c2.outer()\n",
    "c2.inner2()\n"
   ]
  },
  {
   "cell_type": "code",
   "execution_count": 158,
   "id": "e268d8ac-1db4-49c3-9346-bbe1a46a7d8f",
   "metadata": {},
   "outputs": [
    {
     "name": "stdout",
     "output_type": "stream",
     "text": [
      "Schhol\n",
      "Teacher1\n",
      "Teacher2\n",
      "Student\n"
     ]
    }
   ],
   "source": [
    "#V     Hybrid Inheritance.\n",
    "#  MRO --- Method Resolution Order\n",
    "\n",
    "class School:\n",
    "    def s_funtion(self):\n",
    "        print(\"Schhol\")\n",
    "\n",
    "class Teacher1(School):\n",
    "    def t_function1(self):\n",
    "        print(\"Teacher1\")\n",
    "\n",
    "class Teacher2(School):\n",
    "    def t_function2(self):\n",
    "        print(\"Teacher2\")\n",
    "\n",
    "class Student(Teacher1, Teacher2):\n",
    "    def s_function(self):\n",
    "        print(\"Student\")\n",
    "\n",
    "s1 = Student()\n",
    "s1.s_funtion()\n",
    "s1.t_function1()\n",
    "s1.t_function2()\n",
    "s1.s_function()"
   ]
  },
  {
   "cell_type": "code",
   "execution_count": null,
   "id": "cda0edf1-93af-4c92-9370-8bd86f8bba17",
   "metadata": {},
   "outputs": [],
   "source": [
    "##############################################################################################"
   ]
  },
  {
   "cell_type": "code",
   "execution_count": 160,
   "id": "71bf7d97-8f25-4a1f-bdee-02d13237ad4b",
   "metadata": {},
   "outputs": [
    {
     "name": "stdout",
     "output_type": "stream",
     "text": [
      "Super class\n",
      "Sub class\n"
     ]
    }
   ],
   "source": [
    "#Super class in python (Simply known as Simple Inheritance)\n",
    "\n",
    "class SuperClass:\n",
    "    def super_method(self):\n",
    "        print(\"Super class\")\n",
    "\n",
    "class SubClass(SuperClass):\n",
    "    def sub_method(self):\n",
    "        print(\"Sub class\")\n",
    "\n",
    "s1 = SubClass()\n",
    "s1.super_method()\n",
    "s1.sub_method()"
   ]
  },
  {
   "cell_type": "code",
   "execution_count": null,
   "id": "ba0937cd-e420-4d0b-a149-3e251bd9e83f",
   "metadata": {},
   "outputs": [],
   "source": [
    "##############################################################################################"
   ]
  },
  {
   "cell_type": "code",
   "execution_count": 166,
   "id": "ed4304a9-b0d2-41e4-9833-d41b934d3707",
   "metadata": {},
   "outputs": [
    {
     "name": "stdout",
     "output_type": "stream",
     "text": [
      "15\n"
     ]
    }
   ],
   "source": [
    "'''\n",
    "MAGIC or Dunder FUNCTIONS IN PYTHON\n",
    "\n",
    "    I    Arithmatic Oprators\n",
    "\n",
    "        +   __add__        /    __div__          >>   __rshift__     |    __or__\n",
    "        -   __sub__        //   __floordiv__     <<   __lshift__     ^    __xor__\n",
    "        *   __mul__        **   __pow__          &    __and__        %    __mod__\n",
    "\n",
    "    II   Comparisn Oprators\n",
    "    \n",
    "     <   __lt__        <=    __le__       ==   __eq__    \n",
    "     >   __gt__        >=    __ge__       !=   __ne__     \n",
    "    \n",
    "    \n",
    "    III  Assignment Oprators\n",
    "\n",
    "        +=   __iadd__        /=    __idiv__          >>=   __irshift__     |=    __ior__\n",
    "        -=   __isub__        //=   __ifloordiv__     <<=   __ilshift__     ^=    __ixor__\n",
    "        *=   __imul__        **=   __ipow__          &=    __iand__        %=    __imod__\n",
    "    \n",
    "    IV   Unery Oprators\n",
    "\n",
    "    -    __neg__\n",
    "    +    __pos__\n",
    "    ~    __invert__\n",
    "'''\n",
    "num=10\n",
    "res = num.__add__(5) \n",
    "print(res)"
   ]
  },
  {
   "cell_type": "code",
   "execution_count": 170,
   "id": "cd124189-4bc8-4a21-a631-f075b4f677c1",
   "metadata": {},
   "outputs": [
    {
     "name": "stdout",
     "output_type": "stream",
     "text": [
      "40\n"
     ]
    }
   ],
   "source": [
    "class example:\n",
    "    def __init__(self, x, y):\n",
    "        self.x = x\n",
    "        self.y = y\n",
    "\n",
    "    def __add__(self, u):\n",
    "        return self.x + self.y + u.x + u.y\n",
    "        \n",
    "e1 = example(10, 10)\n",
    "e2 = example(5, 15)\n",
    "ans = e1 + e2\n",
    "print(ans) "
   ]
  },
  {
   "cell_type": "code",
   "execution_count": null,
   "id": "b94cc5de-9e25-4a8c-af02-11abecb84b23",
   "metadata": {},
   "outputs": [],
   "source": [
    "##############################################################################################"
   ]
  },
  {
   "cell_type": "code",
   "execution_count": 174,
   "id": "bec52e22-e3a0-42b7-8b1d-78b3728bff52",
   "metadata": {},
   "outputs": [
    {
     "name": "stdout",
     "output_type": "stream",
     "text": [
      "60\n",
      "30\n",
      "10\n"
     ]
    }
   ],
   "source": [
    "# method overloading\n",
    "def sum (self, a= None, b= None, c=None):\n",
    "    s = 0\n",
    "    if a != None and b != None and c != None:\n",
    "        s = a+b+c  \n",
    "            \n",
    "    elif a != None and b != None:\n",
    "        s = a+b\n",
    "    else:\n",
    "        s = a\n",
    "    return s\n",
    "print(s1.sum(10,20,30))\n",
    "print(s1.sum(10,20))\n",
    "print(s1.sum(10))  "
   ]
  },
  {
   "cell_type": "code",
   "execution_count": null,
   "id": "fde98150-8899-43b3-abaa-50d6ce32436d",
   "metadata": {},
   "outputs": [],
   "source": [
    "##############################################################################################"
   ]
  },
  {
   "cell_type": "code",
   "execution_count": 176,
   "id": "39697d5b-1c03-402b-b5e1-0f1cc4400114",
   "metadata": {},
   "outputs": [
    {
     "name": "stdout",
     "output_type": "stream",
     "text": [
      "Implementation of the abstract method.\n",
      "This is a concrete method.\n"
     ]
    }
   ],
   "source": [
    "# A class having defination but not definaton k/a Abstrat class\n",
    "from abc import ABC, abstractmethod\n",
    "\n",
    "class AbstractClass(ABC):\n",
    "    @abstractmethod\n",
    "    def abstract_method(self):\n",
    "        pass\n",
    "\n",
    "    def concrete_method(self):\n",
    "        print(\"This is a concrete method.\")\n",
    "\n",
    "class SubClass(AbstractClass):\n",
    "    def abstract_method(self):\n",
    "        print(\"Implementation of the abstract method.\")\n",
    "\n",
    "s1 = SubClass()\n",
    "s1.abstract_method()\n",
    "s1.concrete_method()"
   ]
  },
  {
   "cell_type": "code",
   "execution_count": null,
   "id": "07f97c4a-1296-4268-beda-29c6b59a3804",
   "metadata": {},
   "outputs": [],
   "source": [
    "##############################################################################################"
   ]
  },
  {
   "cell_type": "code",
   "execution_count": 190,
   "id": "db24b39a-0265-4422-a46a-2b8643c241e1",
   "metadata": {},
   "outputs": [
    {
     "name": "stdout",
     "output_type": "stream",
     "text": [
      "1 2 3 4 5 6 7 8 9 10 "
     ]
    }
   ],
   "source": [
    "# Iterator method \n",
    "'''\n",
    "In Python, an iterator is an object that implements the iterator protocol, \n",
    "which consists of the __iter__() and __next__() methods. \n",
    "Iterators are used to iterate over elements or values in a collection, \n",
    "such as a list, tuple, or custom data structure, one at a time.\n",
    "'''\n",
    "\n",
    "class TopTen:\n",
    "    def __init__(self, n):\n",
    "        self.n = n\n",
    "        self.num = 1\n",
    "\n",
    "    def __iter__(self):\n",
    "        return self\n",
    "\n",
    "    def __next__(self):\n",
    "        if self.num <= self.n:\n",
    "            value = self.num\n",
    "            self.num += 1\n",
    "            return value\n",
    "        else:\n",
    "            raise StopIteration\n",
    "t1 = TopTen(10)\n",
    "'''\n",
    "print(next(t1))\n",
    "print(next(t1))\n",
    "print(next(t1))\n",
    "'''\n",
    "for i in t1:\n",
    "    print(i, end=\" \")\n",
    "        "
   ]
  },
  {
   "cell_type": "code",
   "execution_count": 191,
   "id": "19c3bf6f-3cab-4521-8d6c-88414092e318",
   "metadata": {},
   "outputs": [],
   "source": [
    "##############################################################################################"
   ]
  },
  {
   "cell_type": "code",
   "execution_count": 195,
   "id": "97d6a87a-2bb9-43b5-8319-85c4b00c47c9",
   "metadata": {},
   "outputs": [
    {
     "name": "stdout",
     "output_type": "stream",
     "text": [
      "1\n",
      "27\n",
      "125\n",
      "343\n",
      "729\n"
     ]
    }
   ],
   "source": [
    "# GENERATOR\n",
    "\"\"\"\n",
    "In Python, a generator is a special type of iterator that generates values on the fly.\n",
    "It allows you to create iterators in a more concise and elegant way. \n",
    "Generators are defined using a special function syntax and utilize the [ yield ] keyword to produce values one at a time\n",
    "\"\"\"\n",
    "def topTen(n):\n",
    "    value = 1\n",
    "    while value <= n:\n",
    "        cube = value ** 3\n",
    "        yield cube              #   yield word is necessary\n",
    "        value += 2\n",
    "        \n",
    "ans = topTen(10)\n",
    "for i in ans:\n",
    "    print(i)"
   ]
  },
  {
   "cell_type": "code",
   "execution_count": null,
   "id": "2a58d064-f951-4c13-a2d2-8032e0515091",
   "metadata": {},
   "outputs": [],
   "source": [
    "##############################################################################################"
   ]
  },
  {
   "cell_type": "code",
   "execution_count": 197,
   "id": "5d0a92f4-498b-4c73-b644-72ef82eaa4ff",
   "metadata": {},
   "outputs": [
    {
     "name": "stdin",
     "output_type": "stream",
     "text": [
      "Enter Numerator:  10\n",
      "Enter Denominator:  10\n"
     ]
    },
    {
     "name": "stdout",
     "output_type": "stream",
     "text": [
      "Answer:  1\n",
      "Division is DONE\n"
     ]
    }
   ],
   "source": [
    "# Exception Handling \n",
    "n1 = int(input(\"Enter Numerator: \"))\n",
    "n2 = int(input(\"Enter Denominator: \"))\n",
    "try:\n",
    "    ans = n1 // n2\n",
    "except ZeroDivisionError:\n",
    "    print(\"Zero division Error\")\n",
    "else:\n",
    "    print(\"Answer: \",ans)\n",
    "finally:\n",
    "    print(\"Division is DONE\")"
   ]
  },
  {
   "cell_type": "code",
   "execution_count": 205,
   "id": "a98fff1b-5a51-45ec-a32a-8d4a2216bd98",
   "metadata": {},
   "outputs": [
    {
     "name": "stdin",
     "output_type": "stream",
     "text": [
      "Enter Age:  16\n"
     ]
    },
    {
     "name": "stdout",
     "output_type": "stream",
     "text": [
      "Age is less for licence\n"
     ]
    },
    {
     "name": "stdin",
     "output_type": "stream",
     "text": [
      "Enter Age:  19\n"
     ]
    },
    {
     "name": "stdout",
     "output_type": "stream",
     "text": [
      "Valid\n"
     ]
    }
   ],
   "source": [
    "# raise exception when age is less than 18 for licence\n",
    "while True:\n",
    "    try:\n",
    "        age = int(input(\"Enter Age: \"))\n",
    "        if age < 18:\n",
    "            raise Exception(\"Age is less for licence\")\n",
    "        else:\n",
    "            print(\"Valid\")\n",
    "            break\n",
    "            \n",
    "    except Exception as e:\n",
    "        print(e)"
   ]
  },
  {
   "cell_type": "code",
   "execution_count": null,
   "id": "d247ffec-f875-4212-9118-a18263ff4a28",
   "metadata": {},
   "outputs": [],
   "source": [
    "##############################################################################################"
   ]
  },
  {
   "cell_type": "code",
   "execution_count": 215,
   "id": "bd592726-26c2-483f-9b5a-b8fe1d588389",
   "metadata": {},
   "outputs": [
    {
     "name": "stdout",
     "output_type": "stream",
     "text": [
      "Item Added\n",
      "Item Added\n",
      "Item Added\n",
      "Item Added\n",
      "Removed: 40\n",
      "Stack:  [10, 20, 30]\n"
     ]
    }
   ],
   "source": [
    "# Stack\n",
    "class Stack:\n",
    "    def __init__(self):\n",
    "        self.stack = []\n",
    "\n",
    "    def is_empty(self):\n",
    "        return len(self.stack) == 0\n",
    "\n",
    "    def push(self, item):\n",
    "        self.stack.append(item)\n",
    "        print(\"Item Added\")\n",
    "\n",
    "    def pop(self):\n",
    "        if self.is_empty():\n",
    "            print(\"Stack is empty\")\n",
    "            return None\n",
    "        else:\n",
    "            item = self.stack.pop()\n",
    "            print(\"Removed:\", item)\n",
    "            return item\n",
    "    def display(self):\n",
    "        if self.is_empty():\n",
    "            print(\"Stack is empty\")\n",
    "        else:\n",
    "             print(\"Stack: \",self.stack)\n",
    "\n",
    "s1 = Stack()\n",
    "s1.push(10)\n",
    "s1.push(20)\n",
    "s1.push(30)\n",
    "s1.push(40)\n",
    "s1.pop()\n",
    "s1.display()"
   ]
  },
  {
   "cell_type": "code",
   "execution_count": null,
   "id": "e06317e8-8b28-49c4-9ae1-ea85142c4b1f",
   "metadata": {},
   "outputs": [],
   "source": [
    "##############################################################################################"
   ]
  },
  {
   "cell_type": "code",
   "execution_count": 218,
   "id": "e1f2a712-2fc1-4f60-a93a-7cb29ac643ad",
   "metadata": {},
   "outputs": [
    {
     "name": "stdout",
     "output_type": "stream",
     "text": [
      "Added:  10\n",
      "Added:  20\n",
      "Added:  30\n",
      "Remove:  30\n",
      "Queue:  [10, 20]\n"
     ]
    }
   ],
   "source": [
    "#queue\n",
    "class Queue:\n",
    "    def __init__(self):\n",
    "        self.queue = []\n",
    "\n",
    "    def is_empty(self):\n",
    "        return len(self.queue) == 0\n",
    "\n",
    "    def enqueue(self,item):\n",
    "        self.queue.append(item)\n",
    "        print(\"Added: \",item)\n",
    "\n",
    "    def dequeue(self):\n",
    "        if self.is_empty():\n",
    "            print(\"Queue is empty\")\n",
    "        else:\n",
    "            item = self.queue.pop()\n",
    "            print(\"Remove: \",item)\n",
    "\n",
    "    def display(self):\n",
    "        if self.is_empty():\n",
    "            print(\"Queue is empty\")\n",
    "        else:\n",
    "            print(\"Queue: \",self.queue)\n",
    "q1 = Queue()\n",
    "q1.enqueue(10)\n",
    "q1.enqueue(20)\n",
    "q1.enqueue(30)\n",
    "q1.dequeue()\n",
    "q1.display()\n",
    "        "
   ]
  },
  {
   "cell_type": "code",
   "execution_count": null,
   "id": "83c0a945-37ec-4cf6-9385-27d869c81924",
   "metadata": {},
   "outputs": [],
   "source": [
    "##############################################################################################"
   ]
  },
  {
   "cell_type": "code",
   "execution_count": null,
   "id": "cae8ea8a-8963-4d56-af17-62737715b6fd",
   "metadata": {},
   "outputs": [],
   "source": [
    "# MULTITHREADING\n",
    "#Write A program to demonstrate:\n",
    "#A. Creating a Thread without using any class\n",
    "# B. Creating a Thread by extending Thread class\n",
    "# C. Creating a Thread without extending Thread class\n",
    "# D. Use of getname(), setname(),isalive(), Join(),enumerate() etc.\n",
    "# E. Deamon Thread."
   ]
  },
  {
   "cell_type": "code",
   "execution_count": 241,
   "id": "c6cbf473-86db-4077-a173-0eb922d674d5",
   "metadata": {},
   "outputs": [
    {
     "name": "stdout",
     "output_type": "stream",
     "text": [
      "Child Class\n",
      "Child Class\n",
      "Child Class\n",
      "Child Class\n",
      "Child Class\n",
      "Parent\n",
      "Parent\n",
      "Parent\n",
      "Parent\n",
      "Parent\n"
     ]
    }
   ],
   "source": [
    "#A. Creating a Thread without using any class\n",
    "\n",
    "from threading import *\n",
    "from time import sleep\n",
    "\n",
    "def display():\n",
    "    for i in range(0, 5):\n",
    "        print(\"Child Class\")\n",
    "        sleep(2)\n",
    "        \n",
    "t1 = Thread(target=display)\n",
    "t1.start()\n",
    "t1.join()\n",
    "for j in range(0,5):\n",
    "    print(\"Parent\")"
   ]
  },
  {
   "cell_type": "code",
   "execution_count": 242,
   "id": "978db53c-2665-4d23-95ca-2a9c3474fe35",
   "metadata": {},
   "outputs": [
    {
     "name": "stdout",
     "output_type": "stream",
     "text": [
      "Child\n",
      "Child\n",
      "Child\n",
      "Child\n",
      "Child\n",
      "Parent\n",
      "Parent\n",
      "Parent\n",
      "Parent\n",
      "Parent\n"
     ]
    }
   ],
   "source": [
    "# B. Creating a Thread by extending Thread class\n",
    "from threading import Thread\n",
    "from time import sleep\n",
    "                                                    # when we extend Thread we use run() method\n",
    "class Function(Thread):                            # simple thread program\n",
    "    def run(self):\n",
    "        for i in range(0,5):\n",
    "            print(\"Child\")\n",
    "            sleep(1)\n",
    "t1 = Function()\n",
    "t1.start()\n",
    "t1.join()\n",
    "for j in range(0,5):\n",
    "    print(\"Parent\")"
   ]
  },
  {
   "cell_type": "code",
   "execution_count": 240,
   "id": "25181176-69dc-4771-88e1-ff477df09611",
   "metadata": {},
   "outputs": [
    {
     "name": "stdout",
     "output_type": "stream",
     "text": [
      "THREAD\n",
      "THREAD\n",
      "THREAD\n",
      "THREAD\n",
      "THREAD\n",
      "Parent\n",
      "Parent\n",
      "Parent\n",
      "Parent\n",
      "Parent\n"
     ]
    }
   ],
   "source": [
    "# C. Creating a Thread without extending Thread class\n",
    "from threading import Thread\n",
    "from time import sleep\n",
    "                                                    # when we extend Thread we use run() method\n",
    "class Function:\n",
    "    def display(self):\n",
    "        for i in range(0,5):\n",
    "            print(\"Child\")\n",
    "            sleep(1)\n",
    "            \n",
    "t1 = Function()\n",
    "t1 = Thread(target = display)\n",
    "t1.start()\n",
    "t1.join()\n",
    "for j in range(0,5):\n",
    "    print(\"Parent\")"
   ]
  },
  {
   "cell_type": "code",
   "execution_count": 239,
   "id": "2de687fb-ea5a-4fa9-b4dd-c8eec4ccb6b9",
   "metadata": {},
   "outputs": [
    {
     "name": "stderr",
     "output_type": "stream",
     "text": [
      "C:\\Users\\Lenovo\\AppData\\Local\\Temp\\ipykernel_4700\\786705945.py:11: DeprecationWarning: setDaemon() is deprecated, set the daemon attribute instead\n",
      "  T.setDaemon(True)\n"
     ]
    },
    {
     "name": "stdout",
     "output_type": "stream",
     "text": [
      "THREAD\n",
      "THREAD\n",
      "THREAD\n",
      "THREAD\n",
      "THREAD\n",
      "Main Thread\n"
     ]
    }
   ],
   "source": [
    "# E. Deamon Thread.\n",
    "import time\n",
    "from threading import Thread\n",
    "\n",
    "def display():\n",
    "    for i in range(5):\n",
    "        print('THREAD')\n",
    "        time.sleep(1)\n",
    "\n",
    "T = Thread(target=display)\n",
    "T.setDaemon(True)\n",
    "T.start()\n",
    "time.sleep(5)\n",
    "print('Main Thread')\n"
   ]
  },
  {
   "cell_type": "code",
   "execution_count": null,
   "id": "e08aeb32-bc2b-4ba4-84d5-703581847ed2",
   "metadata": {},
   "outputs": [],
   "source": [
    "##############################################################################################"
   ]
  },
  {
   "cell_type": "code",
   "execution_count": null,
   "id": "bcab235e-052c-4530-bb9c-3b907ab5ff7f",
   "metadata": {},
   "outputs": [],
   "source": [
    "#Synchronization in threading\n",
    "'''\n",
    "Thread synchronization is defined as a mechanism which ensures that two or more concurrent threads \n",
    "do not simultaneously execute some particular program segment known as critical section.\n",
    "\n",
    "To run thread simulteneously and concurrently we used synchronization by applying\n",
    "lock.acquire()\n",
    "lock.release()\n",
    "\n",
    "Resolve this critical section using 3 types of lock \n",
    "I       Lock()\n",
    "II      RLocK()\n",
    "III     Semaphore()\n",
    "\n",
    "'''\n"
   ]
  },
  {
   "cell_type": "code",
   "execution_count": 249,
   "id": "d565b2fa-6fac-4a77-b2c5-a837639789ef",
   "metadata": {},
   "outputs": [
    {
     "name": "stdout",
     "output_type": "stream",
     "text": [
      "Factorial:  24\n",
      "BYE......\n"
     ]
    }
   ],
   "source": [
    "# I       Lock()\n",
    "# QUESTION: FIND FACTORIAL\n",
    "from threading import Thread, Lock\n",
    "\n",
    "I = Lock()\n",
    "\n",
    "def factorial(n):\n",
    "    I.acquire()\n",
    "    fact = 1\n",
    "    for i in range(1, n + 1):\n",
    "        fact = fact * i\n",
    "    I.release()\n",
    "    print(\"Factorial: \",fact)\n",
    "\n",
    "t1 = Thread(target=factorial, args=(4,))\n",
    "t1.start()\n",
    "t1.join()\n",
    "\n",
    "print(\"BYE......\")\n",
    "\n"
   ]
  },
  {
   "cell_type": "code",
   "execution_count": 256,
   "id": "c27e7258-404a-4c40-9dd0-9fdbf70f7650",
   "metadata": {},
   "outputs": [
    {
     "name": "stdout",
     "output_type": "stream",
     "text": [
      "Factorial:  24\n",
      "Cube:  64\n",
      "BYE......\n"
     ]
    }
   ],
   "source": [
    "# II       Lock()\n",
    "# QUESTION: FIND FACTORIAL AND CUBE OF GIVEN NUMBER\n",
    "\"\"\"\n",
    "from threading import Thread, Lock\n",
    "II = RLock()\n",
    "\n",
    "def factorial(n):\n",
    "    I.acquire()\n",
    "    fact = 1\n",
    "    for i in range(1, n + 1):\n",
    "        fact = fact * i\n",
    "    I.release()\n",
    "    print(\"Factorial: \",fact)\n",
    "\n",
    "def cube(n):\n",
    "    II.acquire()\n",
    "    cube = n ** 3\n",
    "    II.release()\n",
    "    print(\"Cube: \",cube)\n",
    "\n",
    "\n",
    "t1 = Thread(target=factorial, args=(4,))\n",
    "t2 = Thread(target=cube, args=(4,))\n",
    "t1.start()\n",
    "t2.start()\n",
    "t1.join()\n",
    "t2.join()\n",
    "print(\"BYE......\")\n",
    "\"\"\"\n",
    "\n",
    "from threading import Thread, Lock\n",
    "II = RLock()\n",
    "def factorial(n):\n",
    "    I.acquire()\n",
    "    fact = 1\n",
    "    for i in range(1, n + 1):\n",
    "        fact = fact * i\n",
    "    return fact\n",
    "    I.release()\n",
    "    \n",
    "def cube(n):\n",
    "    II.acquire()\n",
    "    cub = n ** 3\n",
    "    return cub\n",
    "    II.release()\n",
    "    \n",
    "def Answer(n):\n",
    "    print(\"Factorial: \",factorial(n))\n",
    "    print(\"Cube: \",cube(n))\n",
    "\n",
    "t1 = Thread(target=Answer, args=(4,))\n",
    "t1.start()\n",
    "t1.join()\n",
    "print(\"BYE......\")"
   ]
  },
  {
   "cell_type": "code",
   "execution_count": 257,
   "id": "55845e1a-2712-4b2e-a864-dc5b3e89e4d0",
   "metadata": {},
   "outputs": [
    {
     "name": "stdout",
     "output_type": "stream",
     "text": [
      "HelloHello\n",
      "Thread-2\n",
      "\n",
      "Thread-1\n",
      "HelloHello\n",
      "Thread-1\n",
      "\n",
      "Thread-2\n",
      "Hello\n",
      "Thread-1\n",
      "Hello\n",
      "Thread-2\n",
      "Hello\n",
      "Thread-1\n",
      "Hello\n",
      "Thread-2\n",
      "Hello\n",
      "Thread-2\n",
      "Hello\n",
      "Thread-1\n",
      "HelloHello\n",
      "Thread-4\n",
      "\n",
      "Thread-3\n",
      "HelloHello\n",
      "Thread-3\n",
      "\n",
      "Thread-4\n",
      "HelloHello\n",
      "Thread-4\n",
      "\n",
      "Thread-3\n",
      "HelloHello\n",
      "Thread-4\n",
      "\n",
      "Thread-3\n",
      "Hello\n",
      "Thread-4\n",
      "Hello\n",
      "Thread-3\n"
     ]
    }
   ],
   "source": [
    "# III     Semaphore()\n",
    "from threading import *   # Thread, Semaphore\n",
    "from time import sleep\n",
    "\n",
    "III = Semaphore(2)\n",
    "\n",
    "def display(name):\n",
    "    III.acquire()\n",
    "    for i in range(5):\n",
    "        print(\"Hello\")\n",
    "        print(name)\n",
    "        sleep(1)\n",
    "    III.release()\n",
    "\n",
    "t1 = Thread(target=display, args=(\"Thread-1\",))\n",
    "t2 = Thread(target=display, args=(\"Thread-2\",))\n",
    "t3 = Thread(target=display, args=(\"Thread-3\",))\n",
    "t4 = Thread(target=display, args=(\"Thread-4\",))\n",
    "\n",
    "t1.start()\n",
    "t2.start()\n",
    "t3.start()\n",
    "t4.start()\n"
   ]
  },
  {
   "cell_type": "code",
   "execution_count": null,
   "id": "68aaf246-176e-448a-9421-791d8e461b0d",
   "metadata": {},
   "outputs": [],
   "source": [
    "##############################################################################################"
   ]
  },
  {
   "cell_type": "code",
   "execution_count": null,
   "id": "04f25d63-211a-4bc7-885d-6c45e1467ebf",
   "metadata": {},
   "outputs": [],
   "source": [
    "#regular Expression\n",
    "[]\tA set of characters\n",
    "\\\tSignals a special sequence\n",
    ".\tAny character\t\n",
    "^\tStarts with\t\n",
    "$\tEnds with\t\n",
    "*\tZero or more occurrences\t\n",
    "+\tOne or more occurrences\n",
    "?\tZero or one occurrences\n",
    "{}\tExactly the specified number of occurrences\t\n",
    "|\tEither or\t\n",
    "()\tCapture and group\n",
    "\n",
    "\n",
    "\\A\tif the specified characters are at the beginning of the string\t\"\\AThe\"\t\n",
    "\\b\tspecified characters are at the beginning or at the end of a word\n",
    "\\B\tspecified characters are present, but NOT at the beginning (or at the end) of a word\t\n",
    "\\d\tdigits (numbers from 0-9)\t                                               \t\n",
    "\\D\tstring DOES NOT contain digits\t               \t\n",
    "\\s\tstring contains a white space character\t       \t\n",
    "\\S\tstring DOES NOT contain a white space character\t\t\n",
    "\\w\tA-Z  a-z 0-9  _                                              \t\n",
    "\\W  DOES NOT contain any word characters\t\n",
    "\\Z\tif the specified characters are at the end of the string"
   ]
  },
  {
   "cell_type": "code",
   "execution_count": 258,
   "id": "a330fd5f-3e7d-45ce-affd-46754288dbb7",
   "metadata": {},
   "outputs": [
    {
     "name": "stdin",
     "output_type": "stream",
     "text": [
      "Enter the password:  Welcome@123\n"
     ]
    },
    {
     "name": "stdout",
     "output_type": "stream",
     "text": [
      "Valid password\n"
     ]
    }
   ],
   "source": [
    "import re\n",
    "def validate_password(password):\n",
    "    if len(password) < 8 or len(password) > 20:\n",
    "        return False\n",
    "\n",
    "    if not re.search(r\"[a-z]\", password):\n",
    "        return False\n",
    "\n",
    "    if not re.search(r\"[A-Z]\", password):\n",
    "        return False\n",
    "\n",
    "    if not re.search(r\"\\d\", password):\n",
    "        return False\n",
    "\n",
    "    if not re.search(r\"[$#@*]\", password):\n",
    "        return False\n",
    "    return True\n",
    "\n",
    "password = input(\"Enter the password: \")\n",
    "if validate_password(password):\n",
    "    print(\"Valid password\")\n",
    "else:\n",
    "    print(\"Invalid password\")"
   ]
  },
  {
   "cell_type": "code",
   "execution_count": 259,
   "id": "15c9f1aa-14fd-4074-809e-1f750a6fefba",
   "metadata": {},
   "outputs": [
    {
     "name": "stdout",
     "output_type": "stream",
     "text": [
      "[('2023', '06', '06')]\n"
     ]
    }
   ],
   "source": [
    "#1(Extract year, month, and date from a string:)\n",
    "import re\n",
    "text = \"Today's date is 2023-06-06\"\n",
    "result = re.findall(r'(\\d{4})-(\\d{2})-(\\d{2})', text)\n",
    "print(result) "
   ]
  },
  {
   "cell_type": "code",
   "execution_count": 6,
   "id": "653edeab-7812-4ddd-9c07-cd829d646763",
   "metadata": {},
   "outputs": [
    {
     "name": "stdout",
     "output_type": "stream",
     "text": [
      "['123']\n"
     ]
    }
   ],
   "source": [
    "#2(Extract only 3-digit numbers from a string:)\n",
    "import re\n",
    "text = \"The numbers are 123, 4567, and 7890\"\n",
    "result = re.findall(r'\\b(\\d{3})\\b', text)\n",
    "print(result)"
   ]
  },
  {
   "cell_type": "code",
   "execution_count": 8,
   "id": "504e7e0d-98e2-4e1a-9835-8e56e73be75b",
   "metadata": {},
   "outputs": [
    {
     "name": "stdout",
     "output_type": "stream",
     "text": [
      "['Hello', '123', 'World']\n"
     ]
    }
   ],
   "source": [
    "#3(Extract all words and numbers from a string:)\n",
    "import re\n",
    "text = \"Hello 123 World!\"\n",
    "result = re.findall(r'\\b(\\w+)\\b', text)\n",
    "print(result)"
   ]
  },
  {
   "cell_type": "code",
   "execution_count": 9,
   "id": "5e8c5d80-c05d-4d68-b8a1-3bffcb6a9af4",
   "metadata": {},
   "outputs": [
    {
     "name": "stdout",
     "output_type": "stream",
     "text": [
      "['Apple', 'Elephant']\n"
     ]
    }
   ],
   "source": [
    "#4(Find all words starting with a vowel:)\n",
    "import re\n",
    "text = \"Apple Banana Cat Elephant\"\n",
    "result = re.findall(r'\\b[aeiouAEIOU]\\w+\\b', text)\n",
    "print(result) "
   ]
  },
  {
   "cell_type": "code",
   "execution_count": 15,
   "id": "4091b18b-894d-46cb-9c40-ffd0b021c48f",
   "metadata": {},
   "outputs": [
    {
     "name": "stdout",
     "output_type": "stream",
     "text": [
      "True\n"
     ]
    }
   ],
   "source": [
    "#1 Validate IP Address in Python\n",
    "import re\n",
    "def validate_ip_address(ip):\n",
    "    pattern = r'^(\\d{1,3}\\.){3}\\d{1,3}$'\n",
    "    return bool(re.match(pattern, ip))\n",
    "ip = \"192.168.0.1\"\n",
    "print(validate_ip_address(ip))"
   ]
  },
  {
   "cell_type": "code",
   "execution_count": null,
   "id": "11d46602-7425-416f-8e39-02e45852272c",
   "metadata": {},
   "outputs": [],
   "source": [
    "#2 Validate email address\n",
    "import re\n",
    "def validate_email(email):\n",
    "pattern = r'^[\\w\\.-]+@[\\w\\.-]+\\.\\w+$'\n",
    "return bool(re.match(pattern, email))\n",
    "email = \"example@example.com\"\n",
    "print(validate_email(email)) "
   ]
  },
  {
   "cell_type": "code",
   "execution_count": null,
   "id": "2f6668ac-8c28-43fc-bea5-f3a5184feacb",
   "metadata": {},
   "outputs": [],
   "source": [
    "#4 Validate PAN Card Number in Python\n",
    "import re\n",
    "def validate_pan_card(pan):\n",
    "pattern = r'^[A-Z]{5}[0-9]{4}[A-Z]$'\n",
    "return bool(re.match(pattern, pan))\n",
    "pan_card = \"ABCDE1234F\"\n",
    "print(validate_pan_card(pan_card)) "
   ]
  },
  {
   "cell_type": "code",
   "execution_count": null,
   "id": "e4ab8266-fa80-4975-a07d-27a01e185171",
   "metadata": {},
   "outputs": [],
   "source": [
    "#3 Validate URL\n",
    "import re\n",
    "def validate_url(url):\n",
    "pattern = r'^(http|https)://[a-zA-Z0-9\\.-]+\\.[a-zA-Z]{2,}$'\n",
    "return bool(re.match(pattern, url))\n",
    "url = \"http://www.example.com\"\n",
    "print(validate_url(url))"
   ]
  },
  {
   "cell_type": "code",
   "execution_count": null,
   "id": "92484f70-3873-4151-8962-e6510ecba1c3",
   "metadata": {},
   "outputs": [],
   "source": [
    "##############################################################################################"
   ]
  },
  {
   "cell_type": "code",
   "execution_count": 26,
   "id": "f7b32676-61da-4a46-bd6c-ca97b9d90c17",
   "metadata": {},
   "outputs": [
    {
     "name": "stdout",
     "output_type": "stream",
     "text": [
      "Current Balance: 1000\n",
      "Deposite: 500\n",
      "Current Balance: 1500\n",
      "Withdrawn: 1000\n",
      "Current Balance: 500\n"
     ]
    }
   ],
   "source": [
    "# q31 Write Python Program to Simulate a Bank Account with Support for \n",
    "# depositMoney, withdrawMoney and showBalance Operations.\n",
    "\n",
    "class BankAccount:\n",
    "    def __init__(self, initial_balance=0):\n",
    "        self.balance = initial_balance\n",
    "\n",
    "    def deposite(self, amount):\n",
    "        if amount > 0:\n",
    "            self.balance += amount\n",
    "            print(f\"Deposite: {amount}\")\n",
    "    \n",
    "    def withdrawn(self, amount):\n",
    "        if amount <= self.balance:\n",
    "            self.balance -= amount\n",
    "            print(f\"Withdrawn: {amount}\")\n",
    "        else:\n",
    "            print(\"Insufficient Balance\")\n",
    "\n",
    "    def display(self):\n",
    "        print(f\"Current Balance: {self.balance}\")\n",
    "\n",
    "ac = BankAccount(1000)\n",
    "ac.display()\n",
    "ac.deposite(500)\n",
    "ac.display()\n",
    "ac.withdrawn(1000)\n",
    "ac.display()\n"
   ]
  },
  {
   "cell_type": "code",
   "execution_count": null,
   "id": "734465fe-9cfb-4643-86e2-9854ca92a369",
   "metadata": {},
   "outputs": [],
   "source": [
    "##############################################################################################"
   ]
  },
  {
   "cell_type": "code",
   "execution_count": null,
   "id": "d6d78c3f-08f6-4c42-9a10-edc9bed443e1",
   "metadata": {},
   "outputs": [],
   "source": []
  },
  {
   "cell_type": "code",
   "execution_count": null,
   "id": "f6e69a86-529c-420b-8122-51b99396ec2e",
   "metadata": {},
   "outputs": [],
   "source": [
    "##############################################################################################"
   ]
  },
  {
   "cell_type": "code",
   "execution_count": null,
   "id": "0e2cba1c-26e9-4357-a2ef-4a412f830a25",
   "metadata": {},
   "outputs": [],
   "source": []
  },
  {
   "cell_type": "code",
   "execution_count": null,
   "id": "1030ec45-5c7c-4942-9e54-c30ad3289682",
   "metadata": {},
   "outputs": [],
   "source": [
    "##############################################################################################"
   ]
  }
 ],
 "metadata": {
  "kernelspec": {
   "display_name": "Python 3 (ipykernel)",
   "language": "python",
   "name": "python3"
  },
  "language_info": {
   "codemirror_mode": {
    "name": "ipython",
    "version": 3
   },
   "file_extension": ".py",
   "mimetype": "text/x-python",
   "name": "python",
   "nbconvert_exporter": "python",
   "pygments_lexer": "ipython3",
   "version": "3.11.2"
  }
 },
 "nbformat": 4,
 "nbformat_minor": 5
}
